{
  "cells": [
    {
      "cell_type": "markdown",
      "metadata": {
        "id": "view-in-github",
        "colab_type": "text"
      },
      "source": [
        "<a href=\"https://colab.research.google.com/github/Rekyb415/Stock-Price-Prediction/blob/main/stock_price_prediction_.ipynb\" target=\"_parent\"><img src=\"https://colab.research.google.com/assets/colab-badge.svg\" alt=\"Open In Colab\"/></a>"
      ]
    },
    {
      "cell_type": "markdown",
      "metadata": {
        "id": "L1DH7yq6331p"
      },
      "source": [
        "MÔ TẢ BÀI TOÁN: Cần dự đoán giá đóng cửa của ngày mai bằng cách sử dụng dữ liệu hôm nay. Nếu mô hình nói rằng giá sẽ tăng, chúng ta sẽ mua cổ phiếu. Nếu mô hình nói rằng giá sẽ giảm, chúng ta sẽ không làm gì cả.\n",
        "\n",
        "Chúng ta muốn tối đa hóa true positives những ngày mà mô hình dự đoán rằng giá sẽ tăng và nó thực sự tăng. Do đó, chúng ta sẽ sử dụng độ Precision làm MAE cho mô hình, đó là true positives / (false positives + true positives). Điều này sẽ đảm bảo rằng chúng ta giảm thiểu số tiền mà chúng ta mất do xác định sai (những ngày chúng ta mua cổ phiếu, nhưng giá thực tế lại giảm).\n",
        "\n",
        "Điều này có nghĩa là chúng ta sẽ phải chấp nhận rất nhiều false negatives (chúng ta dự đoán rằng giá sẽ giảm nhưng thực tế lại tăng). Nhưng không sao vì chúng ta muốn giảm thiểu tổn thất hơn là tối đa hóa lợi ích.\n",
        "\n",
        "Vì vậy, mô hình cần thấp recall, nhưng cao precision. "
      ]
    },
    {
      "cell_type": "markdown",
      "metadata": {
        "id": "Q4ss3_LWNgrL"
      },
      "source": [
        "# KHAI BÁO THƯ VIỆN"
      ]
    },
    {
      "cell_type": "code",
      "execution_count": null,
      "metadata": {
        "colab": {
          "base_uri": "https://localhost:8080/"
        },
        "id": "24z2VcXVLEaL",
        "outputId": "811b1951-d2fc-4ab3-965c-7de75911e48a"
      },
      "outputs": [
        {
          "output_type": "stream",
          "name": "stdout",
          "text": [
            "Looking in indexes: https://pypi.org/simple, https://us-python.pkg.dev/colab-wheels/public/simple/\n",
            "Collecting yfinance\n",
            "  Downloading yfinance-0.2.3-py2.py3-none-any.whl (50 kB)\n",
            "\u001b[K     |████████████████████████████████| 50 kB 8.0 MB/s \n",
            "\u001b[?25hRequirement already satisfied: multitasking>=0.0.7 in /usr/local/lib/python3.8/dist-packages (from yfinance) (0.0.11)\n",
            "Collecting html5lib>=1.1\n",
            "  Downloading html5lib-1.1-py2.py3-none-any.whl (112 kB)\n",
            "\u001b[K     |████████████████████████████████| 112 kB 65.1 MB/s \n",
            "\u001b[?25hRequirement already satisfied: numpy>=1.16.5 in /usr/local/lib/python3.8/dist-packages (from yfinance) (1.21.6)\n",
            "Collecting beautifulsoup4>=4.11.1\n",
            "  Downloading beautifulsoup4-4.11.1-py3-none-any.whl (128 kB)\n",
            "\u001b[K     |████████████████████████████████| 128 kB 80.3 MB/s \n",
            "\u001b[?25hRequirement already satisfied: pandas>=1.3.0 in /usr/local/lib/python3.8/dist-packages (from yfinance) (1.3.5)\n",
            "Collecting requests>=2.26\n",
            "  Downloading requests-2.28.1-py3-none-any.whl (62 kB)\n",
            "\u001b[K     |████████████████████████████████| 62 kB 1.8 MB/s \n",
            "\u001b[?25hRequirement already satisfied: appdirs>=1.4.4 in /usr/local/lib/python3.8/dist-packages (from yfinance) (1.4.4)\n",
            "Requirement already satisfied: pytz>=2022.5 in /usr/local/lib/python3.8/dist-packages (from yfinance) (2022.6)\n",
            "Collecting frozendict>=2.3.4\n",
            "  Downloading frozendict-2.3.4-cp38-cp38-manylinux_2_17_x86_64.manylinux2014_x86_64.whl (110 kB)\n",
            "\u001b[K     |████████████████████████████████| 110 kB 69.4 MB/s \n",
            "\u001b[?25hCollecting cryptography>=3.3.2\n",
            "  Downloading cryptography-38.0.4-cp36-abi3-manylinux_2_24_x86_64.whl (4.0 MB)\n",
            "\u001b[K     |████████████████████████████████| 4.0 MB 59.4 MB/s \n",
            "\u001b[?25hRequirement already satisfied: lxml>=4.9.1 in /usr/local/lib/python3.8/dist-packages (from yfinance) (4.9.2)\n",
            "Collecting soupsieve>1.2\n",
            "  Downloading soupsieve-2.3.2.post1-py3-none-any.whl (37 kB)\n",
            "Requirement already satisfied: cffi>=1.12 in /usr/local/lib/python3.8/dist-packages (from cryptography>=3.3.2->yfinance) (1.15.1)\n",
            "Requirement already satisfied: pycparser in /usr/local/lib/python3.8/dist-packages (from cffi>=1.12->cryptography>=3.3.2->yfinance) (2.21)\n",
            "Requirement already satisfied: six>=1.9 in /usr/local/lib/python3.8/dist-packages (from html5lib>=1.1->yfinance) (1.15.0)\n",
            "Requirement already satisfied: webencodings in /usr/local/lib/python3.8/dist-packages (from html5lib>=1.1->yfinance) (0.5.1)\n",
            "Requirement already satisfied: python-dateutil>=2.7.3 in /usr/local/lib/python3.8/dist-packages (from pandas>=1.3.0->yfinance) (2.8.2)\n",
            "Requirement already satisfied: idna<4,>=2.5 in /usr/local/lib/python3.8/dist-packages (from requests>=2.26->yfinance) (2.10)\n",
            "Requirement already satisfied: certifi>=2017.4.17 in /usr/local/lib/python3.8/dist-packages (from requests>=2.26->yfinance) (2022.12.7)\n",
            "Requirement already satisfied: urllib3<1.27,>=1.21.1 in /usr/local/lib/python3.8/dist-packages (from requests>=2.26->yfinance) (1.24.3)\n",
            "Requirement already satisfied: charset-normalizer<3,>=2 in /usr/local/lib/python3.8/dist-packages (from requests>=2.26->yfinance) (2.1.1)\n",
            "Installing collected packages: soupsieve, requests, html5lib, frozendict, cryptography, beautifulsoup4, yfinance\n",
            "  Attempting uninstall: requests\n",
            "    Found existing installation: requests 2.23.0\n",
            "    Uninstalling requests-2.23.0:\n",
            "      Successfully uninstalled requests-2.23.0\n",
            "  Attempting uninstall: html5lib\n",
            "    Found existing installation: html5lib 1.0.1\n",
            "    Uninstalling html5lib-1.0.1:\n",
            "      Successfully uninstalled html5lib-1.0.1\n",
            "  Attempting uninstall: beautifulsoup4\n",
            "    Found existing installation: beautifulsoup4 4.6.3\n",
            "    Uninstalling beautifulsoup4-4.6.3:\n",
            "      Successfully uninstalled beautifulsoup4-4.6.3\n",
            "Successfully installed beautifulsoup4-4.11.1 cryptography-38.0.4 frozendict-2.3.4 html5lib-1.1 requests-2.28.1 soupsieve-2.3.2.post1 yfinance-0.2.3\n"
          ]
        }
      ],
      "source": [
        "pip install yfinance"
      ]
    },
    {
      "cell_type": "code",
      "execution_count": null,
      "metadata": {
        "id": "JzXfr_MrRsGc"
      },
      "outputs": [],
      "source": [
        "import pandas as pd\n",
        "import numpy as np\n",
        "from sklearn.model_selection import GridSearchCV\n",
        "from matplotlib import pyplot as plt\n",
        "from pandas_datareader import data as pdr\n",
        "import seaborn as sns\n",
        "import yfinance as yf\n",
        "import datetime as dt\n",
        "from sklearn import neighbors, datasets"
      ]
    },
    {
      "cell_type": "markdown",
      "metadata": {
        "id": "pwTDTBTrNqDB"
      },
      "source": [
        "# ĐỌC DỮ LIỆU "
      ]
    },
    {
      "cell_type": "code",
      "execution_count": null,
      "metadata": {
        "id": "v3MrIR5LKzsD"
      },
      "outputs": [],
      "source": [
        "yf.pdr_override()"
      ]
    },
    {
      "cell_type": "markdown",
      "metadata": {
        "id": "dUimfE-gJcwR"
      },
      "source": [
        "Lấy dữ liệu từ datasource"
      ]
    },
    {
      "cell_type": "code",
      "execution_count": null,
      "metadata": {
        "id": "nJgriI6NKBGu"
      },
      "outputs": [],
      "source": [
        "start_date = dt.datetime(2012,11,1)\n",
        "end_date = dt.datetime(2022,11,1)"
      ]
    },
    {
      "cell_type": "markdown",
      "metadata": {
        "id": "AaY7OYNfcs-2"
      },
      "source": [
        "Lấy dữ liệu chứng khoán trong 10 năm của Microsoft từ Yahoo Finance. Có thể lấy dữ liệu từ google, fred, quandl, worldbank"
      ]
    },
    {
      "cell_type": "code",
      "execution_count": null,
      "metadata": {
        "colab": {
          "base_uri": "https://localhost:8080/",
          "height": 472
        },
        "id": "xHg3ewPEK4y3",
        "outputId": "8dd601a8-8fcf-4a80-b256-1e5857b4e548"
      },
      "outputs": [
        {
          "output_type": "stream",
          "name": "stdout",
          "text": [
            "\r[*********************100%***********************]  1 of 1 completed\n"
          ]
        },
        {
          "output_type": "execute_result",
          "data": {
            "text/plain": [
              "                  Open        High         Low       Close   Adj Close  \\\n",
              "Date                                                                     \n",
              "2012-11-01   28.840000   29.559999   28.820000   29.520000   24.142984   \n",
              "2012-11-02   29.590000   29.770000   29.330000   29.500000   24.126627   \n",
              "2012-11-05   29.620001   29.740000   29.330000   29.629999   24.232943   \n",
              "2012-11-06   29.820000   30.200001   29.610001   29.860001   24.421057   \n",
              "2012-11-07   29.530001   29.830000   29.049999   29.080000   23.783127   \n",
              "...                ...         ...         ...         ...         ...   \n",
              "2022-10-25  247.259995  251.039993  245.830002  250.660004  249.955582   \n",
              "2022-10-26  231.169998  238.300003  230.059998  231.320007  230.669937   \n",
              "2022-10-27  231.039993  233.690002  225.779999  226.750000  226.112778   \n",
              "2022-10-28  226.240005  236.600006  226.050003  235.869995  235.207138   \n",
              "2022-10-31  233.759995  234.919998  231.149994  232.130005  231.477661   \n",
              "\n",
              "              Volume  \n",
              "Date                  \n",
              "2012-11-01  72047900  \n",
              "2012-11-02  57131600  \n",
              "2012-11-05  38070800  \n",
              "2012-11-06  43401500  \n",
              "2012-11-07  57871800  \n",
              "...              ...  \n",
              "2022-10-25  34775500  \n",
              "2022-10-26  82543200  \n",
              "2022-10-27  40424600  \n",
              "2022-10-28  40647700  \n",
              "2022-10-31  28357300  \n",
              "\n",
              "[2517 rows x 6 columns]"
            ],
            "text/html": [
              "\n",
              "  <div id=\"df-132c841d-7d61-4ddb-8648-afaf80bc6f96\">\n",
              "    <div class=\"colab-df-container\">\n",
              "      <div>\n",
              "<style scoped>\n",
              "    .dataframe tbody tr th:only-of-type {\n",
              "        vertical-align: middle;\n",
              "    }\n",
              "\n",
              "    .dataframe tbody tr th {\n",
              "        vertical-align: top;\n",
              "    }\n",
              "\n",
              "    .dataframe thead th {\n",
              "        text-align: right;\n",
              "    }\n",
              "</style>\n",
              "<table border=\"1\" class=\"dataframe\">\n",
              "  <thead>\n",
              "    <tr style=\"text-align: right;\">\n",
              "      <th></th>\n",
              "      <th>Open</th>\n",
              "      <th>High</th>\n",
              "      <th>Low</th>\n",
              "      <th>Close</th>\n",
              "      <th>Adj Close</th>\n",
              "      <th>Volume</th>\n",
              "    </tr>\n",
              "    <tr>\n",
              "      <th>Date</th>\n",
              "      <th></th>\n",
              "      <th></th>\n",
              "      <th></th>\n",
              "      <th></th>\n",
              "      <th></th>\n",
              "      <th></th>\n",
              "    </tr>\n",
              "  </thead>\n",
              "  <tbody>\n",
              "    <tr>\n",
              "      <th>2012-11-01</th>\n",
              "      <td>28.840000</td>\n",
              "      <td>29.559999</td>\n",
              "      <td>28.820000</td>\n",
              "      <td>29.520000</td>\n",
              "      <td>24.142984</td>\n",
              "      <td>72047900</td>\n",
              "    </tr>\n",
              "    <tr>\n",
              "      <th>2012-11-02</th>\n",
              "      <td>29.590000</td>\n",
              "      <td>29.770000</td>\n",
              "      <td>29.330000</td>\n",
              "      <td>29.500000</td>\n",
              "      <td>24.126627</td>\n",
              "      <td>57131600</td>\n",
              "    </tr>\n",
              "    <tr>\n",
              "      <th>2012-11-05</th>\n",
              "      <td>29.620001</td>\n",
              "      <td>29.740000</td>\n",
              "      <td>29.330000</td>\n",
              "      <td>29.629999</td>\n",
              "      <td>24.232943</td>\n",
              "      <td>38070800</td>\n",
              "    </tr>\n",
              "    <tr>\n",
              "      <th>2012-11-06</th>\n",
              "      <td>29.820000</td>\n",
              "      <td>30.200001</td>\n",
              "      <td>29.610001</td>\n",
              "      <td>29.860001</td>\n",
              "      <td>24.421057</td>\n",
              "      <td>43401500</td>\n",
              "    </tr>\n",
              "    <tr>\n",
              "      <th>2012-11-07</th>\n",
              "      <td>29.530001</td>\n",
              "      <td>29.830000</td>\n",
              "      <td>29.049999</td>\n",
              "      <td>29.080000</td>\n",
              "      <td>23.783127</td>\n",
              "      <td>57871800</td>\n",
              "    </tr>\n",
              "    <tr>\n",
              "      <th>...</th>\n",
              "      <td>...</td>\n",
              "      <td>...</td>\n",
              "      <td>...</td>\n",
              "      <td>...</td>\n",
              "      <td>...</td>\n",
              "      <td>...</td>\n",
              "    </tr>\n",
              "    <tr>\n",
              "      <th>2022-10-25</th>\n",
              "      <td>247.259995</td>\n",
              "      <td>251.039993</td>\n",
              "      <td>245.830002</td>\n",
              "      <td>250.660004</td>\n",
              "      <td>249.955582</td>\n",
              "      <td>34775500</td>\n",
              "    </tr>\n",
              "    <tr>\n",
              "      <th>2022-10-26</th>\n",
              "      <td>231.169998</td>\n",
              "      <td>238.300003</td>\n",
              "      <td>230.059998</td>\n",
              "      <td>231.320007</td>\n",
              "      <td>230.669937</td>\n",
              "      <td>82543200</td>\n",
              "    </tr>\n",
              "    <tr>\n",
              "      <th>2022-10-27</th>\n",
              "      <td>231.039993</td>\n",
              "      <td>233.690002</td>\n",
              "      <td>225.779999</td>\n",
              "      <td>226.750000</td>\n",
              "      <td>226.112778</td>\n",
              "      <td>40424600</td>\n",
              "    </tr>\n",
              "    <tr>\n",
              "      <th>2022-10-28</th>\n",
              "      <td>226.240005</td>\n",
              "      <td>236.600006</td>\n",
              "      <td>226.050003</td>\n",
              "      <td>235.869995</td>\n",
              "      <td>235.207138</td>\n",
              "      <td>40647700</td>\n",
              "    </tr>\n",
              "    <tr>\n",
              "      <th>2022-10-31</th>\n",
              "      <td>233.759995</td>\n",
              "      <td>234.919998</td>\n",
              "      <td>231.149994</td>\n",
              "      <td>232.130005</td>\n",
              "      <td>231.477661</td>\n",
              "      <td>28357300</td>\n",
              "    </tr>\n",
              "  </tbody>\n",
              "</table>\n",
              "<p>2517 rows × 6 columns</p>\n",
              "</div>\n",
              "      <button class=\"colab-df-convert\" onclick=\"convertToInteractive('df-132c841d-7d61-4ddb-8648-afaf80bc6f96')\"\n",
              "              title=\"Convert this dataframe to an interactive table.\"\n",
              "              style=\"display:none;\">\n",
              "        \n",
              "  <svg xmlns=\"http://www.w3.org/2000/svg\" height=\"24px\"viewBox=\"0 0 24 24\"\n",
              "       width=\"24px\">\n",
              "    <path d=\"M0 0h24v24H0V0z\" fill=\"none\"/>\n",
              "    <path d=\"M18.56 5.44l.94 2.06.94-2.06 2.06-.94-2.06-.94-.94-2.06-.94 2.06-2.06.94zm-11 1L8.5 8.5l.94-2.06 2.06-.94-2.06-.94L8.5 2.5l-.94 2.06-2.06.94zm10 10l.94 2.06.94-2.06 2.06-.94-2.06-.94-.94-2.06-.94 2.06-2.06.94z\"/><path d=\"M17.41 7.96l-1.37-1.37c-.4-.4-.92-.59-1.43-.59-.52 0-1.04.2-1.43.59L10.3 9.45l-7.72 7.72c-.78.78-.78 2.05 0 2.83L4 21.41c.39.39.9.59 1.41.59.51 0 1.02-.2 1.41-.59l7.78-7.78 2.81-2.81c.8-.78.8-2.07 0-2.86zM5.41 20L4 18.59l7.72-7.72 1.47 1.35L5.41 20z\"/>\n",
              "  </svg>\n",
              "      </button>\n",
              "      \n",
              "  <style>\n",
              "    .colab-df-container {\n",
              "      display:flex;\n",
              "      flex-wrap:wrap;\n",
              "      gap: 12px;\n",
              "    }\n",
              "\n",
              "    .colab-df-convert {\n",
              "      background-color: #E8F0FE;\n",
              "      border: none;\n",
              "      border-radius: 50%;\n",
              "      cursor: pointer;\n",
              "      display: none;\n",
              "      fill: #1967D2;\n",
              "      height: 32px;\n",
              "      padding: 0 0 0 0;\n",
              "      width: 32px;\n",
              "    }\n",
              "\n",
              "    .colab-df-convert:hover {\n",
              "      background-color: #E2EBFA;\n",
              "      box-shadow: 0px 1px 2px rgba(60, 64, 67, 0.3), 0px 1px 3px 1px rgba(60, 64, 67, 0.15);\n",
              "      fill: #174EA6;\n",
              "    }\n",
              "\n",
              "    [theme=dark] .colab-df-convert {\n",
              "      background-color: #3B4455;\n",
              "      fill: #D2E3FC;\n",
              "    }\n",
              "\n",
              "    [theme=dark] .colab-df-convert:hover {\n",
              "      background-color: #434B5C;\n",
              "      box-shadow: 0px 1px 3px 1px rgba(0, 0, 0, 0.15);\n",
              "      filter: drop-shadow(0px 1px 2px rgba(0, 0, 0, 0.3));\n",
              "      fill: #FFFFFF;\n",
              "    }\n",
              "  </style>\n",
              "\n",
              "      <script>\n",
              "        const buttonEl =\n",
              "          document.querySelector('#df-132c841d-7d61-4ddb-8648-afaf80bc6f96 button.colab-df-convert');\n",
              "        buttonEl.style.display =\n",
              "          google.colab.kernel.accessAllowed ? 'block' : 'none';\n",
              "\n",
              "        async function convertToInteractive(key) {\n",
              "          const element = document.querySelector('#df-132c841d-7d61-4ddb-8648-afaf80bc6f96');\n",
              "          const dataTable =\n",
              "            await google.colab.kernel.invokeFunction('convertToInteractive',\n",
              "                                                     [key], {});\n",
              "          if (!dataTable) return;\n",
              "\n",
              "          const docLinkHtml = 'Like what you see? Visit the ' +\n",
              "            '<a target=\"_blank\" href=https://colab.research.google.com/notebooks/data_table.ipynb>data table notebook</a>'\n",
              "            + ' to learn more about interactive tables.';\n",
              "          element.innerHTML = '';\n",
              "          dataTable['output_type'] = 'display_data';\n",
              "          await google.colab.output.renderOutput(dataTable, element);\n",
              "          const docLink = document.createElement('div');\n",
              "          docLink.innerHTML = docLinkHtml;\n",
              "          element.appendChild(docLink);\n",
              "        }\n",
              "      </script>\n",
              "    </div>\n",
              "  </div>\n",
              "  "
            ]
          },
          "metadata": {},
          "execution_count": 5
        }
      ],
      "source": [
        "MSFT = pdr.get_data_yahoo('MSFT', start=start_date, end=end_date)\n",
        "MSFT"
      ]
    },
    {
      "cell_type": "markdown",
      "metadata": {
        "id": "K9lUw9uwcn5W"
      },
      "source": [
        "Tương tự với Netflix"
      ]
    },
    {
      "cell_type": "code",
      "execution_count": null,
      "metadata": {
        "colab": {
          "base_uri": "https://localhost:8080/",
          "height": 472
        },
        "id": "QiPwzFl4cfGh",
        "outputId": "fce2206a-e33f-4480-cd12-184a415a9d37"
      },
      "outputs": [
        {
          "output_type": "stream",
          "name": "stdout",
          "text": [
            "\r[*********************100%***********************]  1 of 1 completed\n"
          ]
        },
        {
          "output_type": "execute_result",
          "data": {
            "text/plain": [
              "                  Open        High         Low       Close   Adj Close  \\\n",
              "Date                                                                     \n",
              "2012-11-01   11.121429   11.384286   10.664286   11.098571   11.098571   \n",
              "2012-11-02   11.035714   11.407143   10.852857   10.985714   10.985714   \n",
              "2012-11-05   10.652857   11.277143   10.642857   11.177143   11.177143   \n",
              "2012-11-06   11.008571   11.421429   10.815714   10.910000   10.910000   \n",
              "2012-11-07   10.918571   11.321429   10.918571   11.097143   11.097143   \n",
              "...                ...         ...         ...         ...         ...   \n",
              "2022-10-25  286.950012  297.589996  285.549988  291.019989  291.019989   \n",
              "2022-10-26  290.040009  305.630005  288.040009  298.619995  298.619995   \n",
              "2022-10-27  298.329987  305.209991  294.779999  296.940002  296.940002   \n",
              "2022-10-28  297.700012  301.190002  292.290009  295.720001  295.720001   \n",
              "2022-10-31  295.130005  297.619995  289.500000  291.880005  291.880005   \n",
              "\n",
              "              Volume  \n",
              "Date                  \n",
              "2012-11-01  62669600  \n",
              "2012-11-02  29650600  \n",
              "2012-11-05  29016400  \n",
              "2012-11-06  39102700  \n",
              "2012-11-07  31099600  \n",
              "...              ...  \n",
              "2022-10-25  15100700  \n",
              "2022-10-26  15714100  \n",
              "2022-10-27  14612600  \n",
              "2022-10-28   9960500  \n",
              "2022-10-31   7505100  \n",
              "\n",
              "[2517 rows x 6 columns]"
            ],
            "text/html": [
              "\n",
              "  <div id=\"df-adf1bd39-4827-4134-9a6e-cd40870c6ba8\">\n",
              "    <div class=\"colab-df-container\">\n",
              "      <div>\n",
              "<style scoped>\n",
              "    .dataframe tbody tr th:only-of-type {\n",
              "        vertical-align: middle;\n",
              "    }\n",
              "\n",
              "    .dataframe tbody tr th {\n",
              "        vertical-align: top;\n",
              "    }\n",
              "\n",
              "    .dataframe thead th {\n",
              "        text-align: right;\n",
              "    }\n",
              "</style>\n",
              "<table border=\"1\" class=\"dataframe\">\n",
              "  <thead>\n",
              "    <tr style=\"text-align: right;\">\n",
              "      <th></th>\n",
              "      <th>Open</th>\n",
              "      <th>High</th>\n",
              "      <th>Low</th>\n",
              "      <th>Close</th>\n",
              "      <th>Adj Close</th>\n",
              "      <th>Volume</th>\n",
              "    </tr>\n",
              "    <tr>\n",
              "      <th>Date</th>\n",
              "      <th></th>\n",
              "      <th></th>\n",
              "      <th></th>\n",
              "      <th></th>\n",
              "      <th></th>\n",
              "      <th></th>\n",
              "    </tr>\n",
              "  </thead>\n",
              "  <tbody>\n",
              "    <tr>\n",
              "      <th>2012-11-01</th>\n",
              "      <td>11.121429</td>\n",
              "      <td>11.384286</td>\n",
              "      <td>10.664286</td>\n",
              "      <td>11.098571</td>\n",
              "      <td>11.098571</td>\n",
              "      <td>62669600</td>\n",
              "    </tr>\n",
              "    <tr>\n",
              "      <th>2012-11-02</th>\n",
              "      <td>11.035714</td>\n",
              "      <td>11.407143</td>\n",
              "      <td>10.852857</td>\n",
              "      <td>10.985714</td>\n",
              "      <td>10.985714</td>\n",
              "      <td>29650600</td>\n",
              "    </tr>\n",
              "    <tr>\n",
              "      <th>2012-11-05</th>\n",
              "      <td>10.652857</td>\n",
              "      <td>11.277143</td>\n",
              "      <td>10.642857</td>\n",
              "      <td>11.177143</td>\n",
              "      <td>11.177143</td>\n",
              "      <td>29016400</td>\n",
              "    </tr>\n",
              "    <tr>\n",
              "      <th>2012-11-06</th>\n",
              "      <td>11.008571</td>\n",
              "      <td>11.421429</td>\n",
              "      <td>10.815714</td>\n",
              "      <td>10.910000</td>\n",
              "      <td>10.910000</td>\n",
              "      <td>39102700</td>\n",
              "    </tr>\n",
              "    <tr>\n",
              "      <th>2012-11-07</th>\n",
              "      <td>10.918571</td>\n",
              "      <td>11.321429</td>\n",
              "      <td>10.918571</td>\n",
              "      <td>11.097143</td>\n",
              "      <td>11.097143</td>\n",
              "      <td>31099600</td>\n",
              "    </tr>\n",
              "    <tr>\n",
              "      <th>...</th>\n",
              "      <td>...</td>\n",
              "      <td>...</td>\n",
              "      <td>...</td>\n",
              "      <td>...</td>\n",
              "      <td>...</td>\n",
              "      <td>...</td>\n",
              "    </tr>\n",
              "    <tr>\n",
              "      <th>2022-10-25</th>\n",
              "      <td>286.950012</td>\n",
              "      <td>297.589996</td>\n",
              "      <td>285.549988</td>\n",
              "      <td>291.019989</td>\n",
              "      <td>291.019989</td>\n",
              "      <td>15100700</td>\n",
              "    </tr>\n",
              "    <tr>\n",
              "      <th>2022-10-26</th>\n",
              "      <td>290.040009</td>\n",
              "      <td>305.630005</td>\n",
              "      <td>288.040009</td>\n",
              "      <td>298.619995</td>\n",
              "      <td>298.619995</td>\n",
              "      <td>15714100</td>\n",
              "    </tr>\n",
              "    <tr>\n",
              "      <th>2022-10-27</th>\n",
              "      <td>298.329987</td>\n",
              "      <td>305.209991</td>\n",
              "      <td>294.779999</td>\n",
              "      <td>296.940002</td>\n",
              "      <td>296.940002</td>\n",
              "      <td>14612600</td>\n",
              "    </tr>\n",
              "    <tr>\n",
              "      <th>2022-10-28</th>\n",
              "      <td>297.700012</td>\n",
              "      <td>301.190002</td>\n",
              "      <td>292.290009</td>\n",
              "      <td>295.720001</td>\n",
              "      <td>295.720001</td>\n",
              "      <td>9960500</td>\n",
              "    </tr>\n",
              "    <tr>\n",
              "      <th>2022-10-31</th>\n",
              "      <td>295.130005</td>\n",
              "      <td>297.619995</td>\n",
              "      <td>289.500000</td>\n",
              "      <td>291.880005</td>\n",
              "      <td>291.880005</td>\n",
              "      <td>7505100</td>\n",
              "    </tr>\n",
              "  </tbody>\n",
              "</table>\n",
              "<p>2517 rows × 6 columns</p>\n",
              "</div>\n",
              "      <button class=\"colab-df-convert\" onclick=\"convertToInteractive('df-adf1bd39-4827-4134-9a6e-cd40870c6ba8')\"\n",
              "              title=\"Convert this dataframe to an interactive table.\"\n",
              "              style=\"display:none;\">\n",
              "        \n",
              "  <svg xmlns=\"http://www.w3.org/2000/svg\" height=\"24px\"viewBox=\"0 0 24 24\"\n",
              "       width=\"24px\">\n",
              "    <path d=\"M0 0h24v24H0V0z\" fill=\"none\"/>\n",
              "    <path d=\"M18.56 5.44l.94 2.06.94-2.06 2.06-.94-2.06-.94-.94-2.06-.94 2.06-2.06.94zm-11 1L8.5 8.5l.94-2.06 2.06-.94-2.06-.94L8.5 2.5l-.94 2.06-2.06.94zm10 10l.94 2.06.94-2.06 2.06-.94-2.06-.94-.94-2.06-.94 2.06-2.06.94z\"/><path d=\"M17.41 7.96l-1.37-1.37c-.4-.4-.92-.59-1.43-.59-.52 0-1.04.2-1.43.59L10.3 9.45l-7.72 7.72c-.78.78-.78 2.05 0 2.83L4 21.41c.39.39.9.59 1.41.59.51 0 1.02-.2 1.41-.59l7.78-7.78 2.81-2.81c.8-.78.8-2.07 0-2.86zM5.41 20L4 18.59l7.72-7.72 1.47 1.35L5.41 20z\"/>\n",
              "  </svg>\n",
              "      </button>\n",
              "      \n",
              "  <style>\n",
              "    .colab-df-container {\n",
              "      display:flex;\n",
              "      flex-wrap:wrap;\n",
              "      gap: 12px;\n",
              "    }\n",
              "\n",
              "    .colab-df-convert {\n",
              "      background-color: #E8F0FE;\n",
              "      border: none;\n",
              "      border-radius: 50%;\n",
              "      cursor: pointer;\n",
              "      display: none;\n",
              "      fill: #1967D2;\n",
              "      height: 32px;\n",
              "      padding: 0 0 0 0;\n",
              "      width: 32px;\n",
              "    }\n",
              "\n",
              "    .colab-df-convert:hover {\n",
              "      background-color: #E2EBFA;\n",
              "      box-shadow: 0px 1px 2px rgba(60, 64, 67, 0.3), 0px 1px 3px 1px rgba(60, 64, 67, 0.15);\n",
              "      fill: #174EA6;\n",
              "    }\n",
              "\n",
              "    [theme=dark] .colab-df-convert {\n",
              "      background-color: #3B4455;\n",
              "      fill: #D2E3FC;\n",
              "    }\n",
              "\n",
              "    [theme=dark] .colab-df-convert:hover {\n",
              "      background-color: #434B5C;\n",
              "      box-shadow: 0px 1px 3px 1px rgba(0, 0, 0, 0.15);\n",
              "      filter: drop-shadow(0px 1px 2px rgba(0, 0, 0, 0.3));\n",
              "      fill: #FFFFFF;\n",
              "    }\n",
              "  </style>\n",
              "\n",
              "      <script>\n",
              "        const buttonEl =\n",
              "          document.querySelector('#df-adf1bd39-4827-4134-9a6e-cd40870c6ba8 button.colab-df-convert');\n",
              "        buttonEl.style.display =\n",
              "          google.colab.kernel.accessAllowed ? 'block' : 'none';\n",
              "\n",
              "        async function convertToInteractive(key) {\n",
              "          const element = document.querySelector('#df-adf1bd39-4827-4134-9a6e-cd40870c6ba8');\n",
              "          const dataTable =\n",
              "            await google.colab.kernel.invokeFunction('convertToInteractive',\n",
              "                                                     [key], {});\n",
              "          if (!dataTable) return;\n",
              "\n",
              "          const docLinkHtml = 'Like what you see? Visit the ' +\n",
              "            '<a target=\"_blank\" href=https://colab.research.google.com/notebooks/data_table.ipynb>data table notebook</a>'\n",
              "            + ' to learn more about interactive tables.';\n",
              "          element.innerHTML = '';\n",
              "          dataTable['output_type'] = 'display_data';\n",
              "          await google.colab.output.renderOutput(dataTable, element);\n",
              "          const docLink = document.createElement('div');\n",
              "          docLink.innerHTML = docLinkHtml;\n",
              "          element.appendChild(docLink);\n",
              "        }\n",
              "      </script>\n",
              "    </div>\n",
              "  </div>\n",
              "  "
            ]
          },
          "metadata": {},
          "execution_count": 6
        }
      ],
      "source": [
        "NFLX = pdr.get_data_yahoo('NFLX', start=start_date, end= end_date)\n",
        "NFLX"
      ]
    },
    {
      "cell_type": "markdown",
      "metadata": {
        "id": "NDoIR0atd66I"
      },
      "source": [
        "Tương tự với Apple"
      ]
    },
    {
      "cell_type": "code",
      "execution_count": null,
      "metadata": {
        "colab": {
          "base_uri": "https://localhost:8080/",
          "height": 472
        },
        "id": "2LdACG3rcmJ1",
        "outputId": "b07ede2b-246a-400c-8b8e-71d5ee429725"
      },
      "outputs": [
        {
          "output_type": "stream",
          "name": "stdout",
          "text": [
            "\r[*********************100%***********************]  1 of 1 completed\n"
          ]
        },
        {
          "output_type": "execute_result",
          "data": {
            "text/plain": [
              "                  Open        High         Low       Close   Adj Close  \\\n",
              "Date                                                                     \n",
              "2012-11-01   21.365000   21.535713   21.220358   21.305000   18.238733   \n",
              "2012-11-02   21.281786   21.319643   20.526787   20.600000   17.635204   \n",
              "2012-11-05   20.840000   20.991785   20.628571   20.879286   17.874289   \n",
              "2012-11-06   21.079643   21.097857   20.717501   20.816071   17.820169   \n",
              "2012-11-07   20.494286   20.519285   19.848213   19.928572   17.138323   \n",
              "...                ...         ...         ...         ...         ...   \n",
              "2022-10-25  150.089996  152.490005  149.360001  152.339996  152.087708   \n",
              "2022-10-26  150.960007  151.990005  148.039993  149.350006  149.102661   \n",
              "2022-10-27  148.070007  149.050003  144.130005  144.800003  144.560196   \n",
              "2022-10-28  148.199997  157.500000  147.820007  155.740005  155.482086   \n",
              "2022-10-31  153.160004  154.240005  151.919998  153.339996  153.086044   \n",
              "\n",
              "               Volume  \n",
              "Date                   \n",
              "2012-11-01  361298000  \n",
              "2012-11-02  599373600  \n",
              "2012-11-05  529135600  \n",
              "2012-11-06  374917200  \n",
              "2012-11-07  793648800  \n",
              "...               ...  \n",
              "2022-10-25   74732300  \n",
              "2022-10-26   88194300  \n",
              "2022-10-27  109180200  \n",
              "2022-10-28  164762400  \n",
              "2022-10-31   97943200  \n",
              "\n",
              "[2517 rows x 6 columns]"
            ],
            "text/html": [
              "\n",
              "  <div id=\"df-4eace1d9-d6f7-4f6b-9727-8a2700a52924\">\n",
              "    <div class=\"colab-df-container\">\n",
              "      <div>\n",
              "<style scoped>\n",
              "    .dataframe tbody tr th:only-of-type {\n",
              "        vertical-align: middle;\n",
              "    }\n",
              "\n",
              "    .dataframe tbody tr th {\n",
              "        vertical-align: top;\n",
              "    }\n",
              "\n",
              "    .dataframe thead th {\n",
              "        text-align: right;\n",
              "    }\n",
              "</style>\n",
              "<table border=\"1\" class=\"dataframe\">\n",
              "  <thead>\n",
              "    <tr style=\"text-align: right;\">\n",
              "      <th></th>\n",
              "      <th>Open</th>\n",
              "      <th>High</th>\n",
              "      <th>Low</th>\n",
              "      <th>Close</th>\n",
              "      <th>Adj Close</th>\n",
              "      <th>Volume</th>\n",
              "    </tr>\n",
              "    <tr>\n",
              "      <th>Date</th>\n",
              "      <th></th>\n",
              "      <th></th>\n",
              "      <th></th>\n",
              "      <th></th>\n",
              "      <th></th>\n",
              "      <th></th>\n",
              "    </tr>\n",
              "  </thead>\n",
              "  <tbody>\n",
              "    <tr>\n",
              "      <th>2012-11-01</th>\n",
              "      <td>21.365000</td>\n",
              "      <td>21.535713</td>\n",
              "      <td>21.220358</td>\n",
              "      <td>21.305000</td>\n",
              "      <td>18.238733</td>\n",
              "      <td>361298000</td>\n",
              "    </tr>\n",
              "    <tr>\n",
              "      <th>2012-11-02</th>\n",
              "      <td>21.281786</td>\n",
              "      <td>21.319643</td>\n",
              "      <td>20.526787</td>\n",
              "      <td>20.600000</td>\n",
              "      <td>17.635204</td>\n",
              "      <td>599373600</td>\n",
              "    </tr>\n",
              "    <tr>\n",
              "      <th>2012-11-05</th>\n",
              "      <td>20.840000</td>\n",
              "      <td>20.991785</td>\n",
              "      <td>20.628571</td>\n",
              "      <td>20.879286</td>\n",
              "      <td>17.874289</td>\n",
              "      <td>529135600</td>\n",
              "    </tr>\n",
              "    <tr>\n",
              "      <th>2012-11-06</th>\n",
              "      <td>21.079643</td>\n",
              "      <td>21.097857</td>\n",
              "      <td>20.717501</td>\n",
              "      <td>20.816071</td>\n",
              "      <td>17.820169</td>\n",
              "      <td>374917200</td>\n",
              "    </tr>\n",
              "    <tr>\n",
              "      <th>2012-11-07</th>\n",
              "      <td>20.494286</td>\n",
              "      <td>20.519285</td>\n",
              "      <td>19.848213</td>\n",
              "      <td>19.928572</td>\n",
              "      <td>17.138323</td>\n",
              "      <td>793648800</td>\n",
              "    </tr>\n",
              "    <tr>\n",
              "      <th>...</th>\n",
              "      <td>...</td>\n",
              "      <td>...</td>\n",
              "      <td>...</td>\n",
              "      <td>...</td>\n",
              "      <td>...</td>\n",
              "      <td>...</td>\n",
              "    </tr>\n",
              "    <tr>\n",
              "      <th>2022-10-25</th>\n",
              "      <td>150.089996</td>\n",
              "      <td>152.490005</td>\n",
              "      <td>149.360001</td>\n",
              "      <td>152.339996</td>\n",
              "      <td>152.087708</td>\n",
              "      <td>74732300</td>\n",
              "    </tr>\n",
              "    <tr>\n",
              "      <th>2022-10-26</th>\n",
              "      <td>150.960007</td>\n",
              "      <td>151.990005</td>\n",
              "      <td>148.039993</td>\n",
              "      <td>149.350006</td>\n",
              "      <td>149.102661</td>\n",
              "      <td>88194300</td>\n",
              "    </tr>\n",
              "    <tr>\n",
              "      <th>2022-10-27</th>\n",
              "      <td>148.070007</td>\n",
              "      <td>149.050003</td>\n",
              "      <td>144.130005</td>\n",
              "      <td>144.800003</td>\n",
              "      <td>144.560196</td>\n",
              "      <td>109180200</td>\n",
              "    </tr>\n",
              "    <tr>\n",
              "      <th>2022-10-28</th>\n",
              "      <td>148.199997</td>\n",
              "      <td>157.500000</td>\n",
              "      <td>147.820007</td>\n",
              "      <td>155.740005</td>\n",
              "      <td>155.482086</td>\n",
              "      <td>164762400</td>\n",
              "    </tr>\n",
              "    <tr>\n",
              "      <th>2022-10-31</th>\n",
              "      <td>153.160004</td>\n",
              "      <td>154.240005</td>\n",
              "      <td>151.919998</td>\n",
              "      <td>153.339996</td>\n",
              "      <td>153.086044</td>\n",
              "      <td>97943200</td>\n",
              "    </tr>\n",
              "  </tbody>\n",
              "</table>\n",
              "<p>2517 rows × 6 columns</p>\n",
              "</div>\n",
              "      <button class=\"colab-df-convert\" onclick=\"convertToInteractive('df-4eace1d9-d6f7-4f6b-9727-8a2700a52924')\"\n",
              "              title=\"Convert this dataframe to an interactive table.\"\n",
              "              style=\"display:none;\">\n",
              "        \n",
              "  <svg xmlns=\"http://www.w3.org/2000/svg\" height=\"24px\"viewBox=\"0 0 24 24\"\n",
              "       width=\"24px\">\n",
              "    <path d=\"M0 0h24v24H0V0z\" fill=\"none\"/>\n",
              "    <path d=\"M18.56 5.44l.94 2.06.94-2.06 2.06-.94-2.06-.94-.94-2.06-.94 2.06-2.06.94zm-11 1L8.5 8.5l.94-2.06 2.06-.94-2.06-.94L8.5 2.5l-.94 2.06-2.06.94zm10 10l.94 2.06.94-2.06 2.06-.94-2.06-.94-.94-2.06-.94 2.06-2.06.94z\"/><path d=\"M17.41 7.96l-1.37-1.37c-.4-.4-.92-.59-1.43-.59-.52 0-1.04.2-1.43.59L10.3 9.45l-7.72 7.72c-.78.78-.78 2.05 0 2.83L4 21.41c.39.39.9.59 1.41.59.51 0 1.02-.2 1.41-.59l7.78-7.78 2.81-2.81c.8-.78.8-2.07 0-2.86zM5.41 20L4 18.59l7.72-7.72 1.47 1.35L5.41 20z\"/>\n",
              "  </svg>\n",
              "      </button>\n",
              "      \n",
              "  <style>\n",
              "    .colab-df-container {\n",
              "      display:flex;\n",
              "      flex-wrap:wrap;\n",
              "      gap: 12px;\n",
              "    }\n",
              "\n",
              "    .colab-df-convert {\n",
              "      background-color: #E8F0FE;\n",
              "      border: none;\n",
              "      border-radius: 50%;\n",
              "      cursor: pointer;\n",
              "      display: none;\n",
              "      fill: #1967D2;\n",
              "      height: 32px;\n",
              "      padding: 0 0 0 0;\n",
              "      width: 32px;\n",
              "    }\n",
              "\n",
              "    .colab-df-convert:hover {\n",
              "      background-color: #E2EBFA;\n",
              "      box-shadow: 0px 1px 2px rgba(60, 64, 67, 0.3), 0px 1px 3px 1px rgba(60, 64, 67, 0.15);\n",
              "      fill: #174EA6;\n",
              "    }\n",
              "\n",
              "    [theme=dark] .colab-df-convert {\n",
              "      background-color: #3B4455;\n",
              "      fill: #D2E3FC;\n",
              "    }\n",
              "\n",
              "    [theme=dark] .colab-df-convert:hover {\n",
              "      background-color: #434B5C;\n",
              "      box-shadow: 0px 1px 3px 1px rgba(0, 0, 0, 0.15);\n",
              "      filter: drop-shadow(0px 1px 2px rgba(0, 0, 0, 0.3));\n",
              "      fill: #FFFFFF;\n",
              "    }\n",
              "  </style>\n",
              "\n",
              "      <script>\n",
              "        const buttonEl =\n",
              "          document.querySelector('#df-4eace1d9-d6f7-4f6b-9727-8a2700a52924 button.colab-df-convert');\n",
              "        buttonEl.style.display =\n",
              "          google.colab.kernel.accessAllowed ? 'block' : 'none';\n",
              "\n",
              "        async function convertToInteractive(key) {\n",
              "          const element = document.querySelector('#df-4eace1d9-d6f7-4f6b-9727-8a2700a52924');\n",
              "          const dataTable =\n",
              "            await google.colab.kernel.invokeFunction('convertToInteractive',\n",
              "                                                     [key], {});\n",
              "          if (!dataTable) return;\n",
              "\n",
              "          const docLinkHtml = 'Like what you see? Visit the ' +\n",
              "            '<a target=\"_blank\" href=https://colab.research.google.com/notebooks/data_table.ipynb>data table notebook</a>'\n",
              "            + ' to learn more about interactive tables.';\n",
              "          element.innerHTML = '';\n",
              "          dataTable['output_type'] = 'display_data';\n",
              "          await google.colab.output.renderOutput(dataTable, element);\n",
              "          const docLink = document.createElement('div');\n",
              "          docLink.innerHTML = docLinkHtml;\n",
              "          element.appendChild(docLink);\n",
              "        }\n",
              "      </script>\n",
              "    </div>\n",
              "  </div>\n",
              "  "
            ]
          },
          "metadata": {},
          "execution_count": 7
        }
      ],
      "source": [
        "AAPL = pdr.get_data_yahoo('AAPL', start=start_date, end= end_date)\n",
        "AAPL"
      ]
    },
    {
      "cell_type": "markdown",
      "metadata": {
        "id": "gTVRBTPRN6f8"
      },
      "source": [
        "Tạo 1 list_banks là tên các mã cổ phiếu trên để dễ kiểm tra dữ liệu"
      ]
    },
    {
      "cell_type": "code",
      "execution_count": null,
      "metadata": {
        "id": "HG2fz13DN54l"
      },
      "outputs": [],
      "source": [
        "list_companies = ['MSFT', 'AAPL', 'NFLX']"
      ]
    },
    {
      "cell_type": "code",
      "execution_count": null,
      "metadata": {
        "id": "irVN_rD7Og9K"
      },
      "outputs": [],
      "source": [
        "# Tham số axis = 1 là nối theo cột\n",
        "comp_stocks = pd.concat([MSFT,AAPL,NFLX],axis=1, keys = list_companies)"
      ]
    },
    {
      "cell_type": "code",
      "execution_count": null,
      "metadata": {
        "colab": {
          "base_uri": "https://localhost:8080/",
          "height": 724
        },
        "id": "RW8UEJTTMHCQ",
        "outputId": "d1da67b8-aaea-40b6-ad40-a2ebd7987f62"
      },
      "outputs": [
        {
          "output_type": "execute_result",
          "data": {
            "text/plain": [
              "                  MSFT                                                  \\\n",
              "                  Open        High         Low       Close   Adj Close   \n",
              "Date                                                                     \n",
              "2012-11-01   28.840000   29.559999   28.820000   29.520000   24.142984   \n",
              "2012-11-02   29.590000   29.770000   29.330000   29.500000   24.126627   \n",
              "2012-11-05   29.620001   29.740000   29.330000   29.629999   24.232943   \n",
              "2012-11-06   29.820000   30.200001   29.610001   29.860001   24.421057   \n",
              "2012-11-07   29.530001   29.830000   29.049999   29.080000   23.783127   \n",
              "...                ...         ...         ...         ...         ...   \n",
              "2022-10-25  247.259995  251.039993  245.830002  250.660004  249.955582   \n",
              "2022-10-26  231.169998  238.300003  230.059998  231.320007  230.669937   \n",
              "2022-10-27  231.039993  233.690002  225.779999  226.750000  226.112778   \n",
              "2022-10-28  226.240005  236.600006  226.050003  235.869995  235.207138   \n",
              "2022-10-31  233.759995  234.919998  231.149994  232.130005  231.477661   \n",
              "\n",
              "                            AAPL                                      \\\n",
              "              Volume        Open        High         Low       Close   \n",
              "Date                                                                   \n",
              "2012-11-01  72047900   21.365000   21.535713   21.220358   21.305000   \n",
              "2012-11-02  57131600   21.281786   21.319643   20.526787   20.600000   \n",
              "2012-11-05  38070800   20.840000   20.991785   20.628571   20.879286   \n",
              "2012-11-06  43401500   21.079643   21.097857   20.717501   20.816071   \n",
              "2012-11-07  57871800   20.494286   20.519285   19.848213   19.928572   \n",
              "...              ...         ...         ...         ...         ...   \n",
              "2022-10-25  34775500  150.089996  152.490005  149.360001  152.339996   \n",
              "2022-10-26  82543200  150.960007  151.990005  148.039993  149.350006   \n",
              "2022-10-27  40424600  148.070007  149.050003  144.130005  144.800003   \n",
              "2022-10-28  40647700  148.199997  157.500000  147.820007  155.740005   \n",
              "2022-10-31  28357300  153.160004  154.240005  151.919998  153.339996   \n",
              "\n",
              "                                         NFLX                          \\\n",
              "             Adj Close     Volume        Open        High         Low   \n",
              "Date                                                                    \n",
              "2012-11-01   18.238733  361298000   11.121429   11.384286   10.664286   \n",
              "2012-11-02   17.635204  599373600   11.035714   11.407143   10.852857   \n",
              "2012-11-05   17.874289  529135600   10.652857   11.277143   10.642857   \n",
              "2012-11-06   17.820169  374917200   11.008571   11.421429   10.815714   \n",
              "2012-11-07   17.138323  793648800   10.918571   11.321429   10.918571   \n",
              "...                ...        ...         ...         ...         ...   \n",
              "2022-10-25  152.087708   74732300  286.950012  297.589996  285.549988   \n",
              "2022-10-26  149.102661   88194300  290.040009  305.630005  288.040009   \n",
              "2022-10-27  144.560196  109180200  298.329987  305.209991  294.779999   \n",
              "2022-10-28  155.482086  164762400  297.700012  301.190002  292.290009   \n",
              "2022-10-31  153.086044   97943200  295.130005  297.619995  289.500000   \n",
              "\n",
              "                                              \n",
              "                 Close   Adj Close    Volume  \n",
              "Date                                          \n",
              "2012-11-01   11.098571   11.098571  62669600  \n",
              "2012-11-02   10.985714   10.985714  29650600  \n",
              "2012-11-05   11.177143   11.177143  29016400  \n",
              "2012-11-06   10.910000   10.910000  39102700  \n",
              "2012-11-07   11.097143   11.097143  31099600  \n",
              "...                ...         ...       ...  \n",
              "2022-10-25  291.019989  291.019989  15100700  \n",
              "2022-10-26  298.619995  298.619995  15714100  \n",
              "2022-10-27  296.940002  296.940002  14612600  \n",
              "2022-10-28  295.720001  295.720001   9960500  \n",
              "2022-10-31  291.880005  291.880005   7505100  \n",
              "\n",
              "[2517 rows x 18 columns]"
            ],
            "text/html": [
              "\n",
              "  <div id=\"df-58e7f5b8-6f01-414b-a55a-d2021e439b32\">\n",
              "    <div class=\"colab-df-container\">\n",
              "      <div>\n",
              "<style scoped>\n",
              "    .dataframe tbody tr th:only-of-type {\n",
              "        vertical-align: middle;\n",
              "    }\n",
              "\n",
              "    .dataframe tbody tr th {\n",
              "        vertical-align: top;\n",
              "    }\n",
              "\n",
              "    .dataframe thead tr th {\n",
              "        text-align: left;\n",
              "    }\n",
              "\n",
              "    .dataframe thead tr:last-of-type th {\n",
              "        text-align: right;\n",
              "    }\n",
              "</style>\n",
              "<table border=\"1\" class=\"dataframe\">\n",
              "  <thead>\n",
              "    <tr>\n",
              "      <th></th>\n",
              "      <th colspan=\"6\" halign=\"left\">MSFT</th>\n",
              "      <th colspan=\"6\" halign=\"left\">AAPL</th>\n",
              "      <th colspan=\"6\" halign=\"left\">NFLX</th>\n",
              "    </tr>\n",
              "    <tr>\n",
              "      <th></th>\n",
              "      <th>Open</th>\n",
              "      <th>High</th>\n",
              "      <th>Low</th>\n",
              "      <th>Close</th>\n",
              "      <th>Adj Close</th>\n",
              "      <th>Volume</th>\n",
              "      <th>Open</th>\n",
              "      <th>High</th>\n",
              "      <th>Low</th>\n",
              "      <th>Close</th>\n",
              "      <th>Adj Close</th>\n",
              "      <th>Volume</th>\n",
              "      <th>Open</th>\n",
              "      <th>High</th>\n",
              "      <th>Low</th>\n",
              "      <th>Close</th>\n",
              "      <th>Adj Close</th>\n",
              "      <th>Volume</th>\n",
              "    </tr>\n",
              "    <tr>\n",
              "      <th>Date</th>\n",
              "      <th></th>\n",
              "      <th></th>\n",
              "      <th></th>\n",
              "      <th></th>\n",
              "      <th></th>\n",
              "      <th></th>\n",
              "      <th></th>\n",
              "      <th></th>\n",
              "      <th></th>\n",
              "      <th></th>\n",
              "      <th></th>\n",
              "      <th></th>\n",
              "      <th></th>\n",
              "      <th></th>\n",
              "      <th></th>\n",
              "      <th></th>\n",
              "      <th></th>\n",
              "      <th></th>\n",
              "    </tr>\n",
              "  </thead>\n",
              "  <tbody>\n",
              "    <tr>\n",
              "      <th>2012-11-01</th>\n",
              "      <td>28.840000</td>\n",
              "      <td>29.559999</td>\n",
              "      <td>28.820000</td>\n",
              "      <td>29.520000</td>\n",
              "      <td>24.142984</td>\n",
              "      <td>72047900</td>\n",
              "      <td>21.365000</td>\n",
              "      <td>21.535713</td>\n",
              "      <td>21.220358</td>\n",
              "      <td>21.305000</td>\n",
              "      <td>18.238733</td>\n",
              "      <td>361298000</td>\n",
              "      <td>11.121429</td>\n",
              "      <td>11.384286</td>\n",
              "      <td>10.664286</td>\n",
              "      <td>11.098571</td>\n",
              "      <td>11.098571</td>\n",
              "      <td>62669600</td>\n",
              "    </tr>\n",
              "    <tr>\n",
              "      <th>2012-11-02</th>\n",
              "      <td>29.590000</td>\n",
              "      <td>29.770000</td>\n",
              "      <td>29.330000</td>\n",
              "      <td>29.500000</td>\n",
              "      <td>24.126627</td>\n",
              "      <td>57131600</td>\n",
              "      <td>21.281786</td>\n",
              "      <td>21.319643</td>\n",
              "      <td>20.526787</td>\n",
              "      <td>20.600000</td>\n",
              "      <td>17.635204</td>\n",
              "      <td>599373600</td>\n",
              "      <td>11.035714</td>\n",
              "      <td>11.407143</td>\n",
              "      <td>10.852857</td>\n",
              "      <td>10.985714</td>\n",
              "      <td>10.985714</td>\n",
              "      <td>29650600</td>\n",
              "    </tr>\n",
              "    <tr>\n",
              "      <th>2012-11-05</th>\n",
              "      <td>29.620001</td>\n",
              "      <td>29.740000</td>\n",
              "      <td>29.330000</td>\n",
              "      <td>29.629999</td>\n",
              "      <td>24.232943</td>\n",
              "      <td>38070800</td>\n",
              "      <td>20.840000</td>\n",
              "      <td>20.991785</td>\n",
              "      <td>20.628571</td>\n",
              "      <td>20.879286</td>\n",
              "      <td>17.874289</td>\n",
              "      <td>529135600</td>\n",
              "      <td>10.652857</td>\n",
              "      <td>11.277143</td>\n",
              "      <td>10.642857</td>\n",
              "      <td>11.177143</td>\n",
              "      <td>11.177143</td>\n",
              "      <td>29016400</td>\n",
              "    </tr>\n",
              "    <tr>\n",
              "      <th>2012-11-06</th>\n",
              "      <td>29.820000</td>\n",
              "      <td>30.200001</td>\n",
              "      <td>29.610001</td>\n",
              "      <td>29.860001</td>\n",
              "      <td>24.421057</td>\n",
              "      <td>43401500</td>\n",
              "      <td>21.079643</td>\n",
              "      <td>21.097857</td>\n",
              "      <td>20.717501</td>\n",
              "      <td>20.816071</td>\n",
              "      <td>17.820169</td>\n",
              "      <td>374917200</td>\n",
              "      <td>11.008571</td>\n",
              "      <td>11.421429</td>\n",
              "      <td>10.815714</td>\n",
              "      <td>10.910000</td>\n",
              "      <td>10.910000</td>\n",
              "      <td>39102700</td>\n",
              "    </tr>\n",
              "    <tr>\n",
              "      <th>2012-11-07</th>\n",
              "      <td>29.530001</td>\n",
              "      <td>29.830000</td>\n",
              "      <td>29.049999</td>\n",
              "      <td>29.080000</td>\n",
              "      <td>23.783127</td>\n",
              "      <td>57871800</td>\n",
              "      <td>20.494286</td>\n",
              "      <td>20.519285</td>\n",
              "      <td>19.848213</td>\n",
              "      <td>19.928572</td>\n",
              "      <td>17.138323</td>\n",
              "      <td>793648800</td>\n",
              "      <td>10.918571</td>\n",
              "      <td>11.321429</td>\n",
              "      <td>10.918571</td>\n",
              "      <td>11.097143</td>\n",
              "      <td>11.097143</td>\n",
              "      <td>31099600</td>\n",
              "    </tr>\n",
              "    <tr>\n",
              "      <th>...</th>\n",
              "      <td>...</td>\n",
              "      <td>...</td>\n",
              "      <td>...</td>\n",
              "      <td>...</td>\n",
              "      <td>...</td>\n",
              "      <td>...</td>\n",
              "      <td>...</td>\n",
              "      <td>...</td>\n",
              "      <td>...</td>\n",
              "      <td>...</td>\n",
              "      <td>...</td>\n",
              "      <td>...</td>\n",
              "      <td>...</td>\n",
              "      <td>...</td>\n",
              "      <td>...</td>\n",
              "      <td>...</td>\n",
              "      <td>...</td>\n",
              "      <td>...</td>\n",
              "    </tr>\n",
              "    <tr>\n",
              "      <th>2022-10-25</th>\n",
              "      <td>247.259995</td>\n",
              "      <td>251.039993</td>\n",
              "      <td>245.830002</td>\n",
              "      <td>250.660004</td>\n",
              "      <td>249.955582</td>\n",
              "      <td>34775500</td>\n",
              "      <td>150.089996</td>\n",
              "      <td>152.490005</td>\n",
              "      <td>149.360001</td>\n",
              "      <td>152.339996</td>\n",
              "      <td>152.087708</td>\n",
              "      <td>74732300</td>\n",
              "      <td>286.950012</td>\n",
              "      <td>297.589996</td>\n",
              "      <td>285.549988</td>\n",
              "      <td>291.019989</td>\n",
              "      <td>291.019989</td>\n",
              "      <td>15100700</td>\n",
              "    </tr>\n",
              "    <tr>\n",
              "      <th>2022-10-26</th>\n",
              "      <td>231.169998</td>\n",
              "      <td>238.300003</td>\n",
              "      <td>230.059998</td>\n",
              "      <td>231.320007</td>\n",
              "      <td>230.669937</td>\n",
              "      <td>82543200</td>\n",
              "      <td>150.960007</td>\n",
              "      <td>151.990005</td>\n",
              "      <td>148.039993</td>\n",
              "      <td>149.350006</td>\n",
              "      <td>149.102661</td>\n",
              "      <td>88194300</td>\n",
              "      <td>290.040009</td>\n",
              "      <td>305.630005</td>\n",
              "      <td>288.040009</td>\n",
              "      <td>298.619995</td>\n",
              "      <td>298.619995</td>\n",
              "      <td>15714100</td>\n",
              "    </tr>\n",
              "    <tr>\n",
              "      <th>2022-10-27</th>\n",
              "      <td>231.039993</td>\n",
              "      <td>233.690002</td>\n",
              "      <td>225.779999</td>\n",
              "      <td>226.750000</td>\n",
              "      <td>226.112778</td>\n",
              "      <td>40424600</td>\n",
              "      <td>148.070007</td>\n",
              "      <td>149.050003</td>\n",
              "      <td>144.130005</td>\n",
              "      <td>144.800003</td>\n",
              "      <td>144.560196</td>\n",
              "      <td>109180200</td>\n",
              "      <td>298.329987</td>\n",
              "      <td>305.209991</td>\n",
              "      <td>294.779999</td>\n",
              "      <td>296.940002</td>\n",
              "      <td>296.940002</td>\n",
              "      <td>14612600</td>\n",
              "    </tr>\n",
              "    <tr>\n",
              "      <th>2022-10-28</th>\n",
              "      <td>226.240005</td>\n",
              "      <td>236.600006</td>\n",
              "      <td>226.050003</td>\n",
              "      <td>235.869995</td>\n",
              "      <td>235.207138</td>\n",
              "      <td>40647700</td>\n",
              "      <td>148.199997</td>\n",
              "      <td>157.500000</td>\n",
              "      <td>147.820007</td>\n",
              "      <td>155.740005</td>\n",
              "      <td>155.482086</td>\n",
              "      <td>164762400</td>\n",
              "      <td>297.700012</td>\n",
              "      <td>301.190002</td>\n",
              "      <td>292.290009</td>\n",
              "      <td>295.720001</td>\n",
              "      <td>295.720001</td>\n",
              "      <td>9960500</td>\n",
              "    </tr>\n",
              "    <tr>\n",
              "      <th>2022-10-31</th>\n",
              "      <td>233.759995</td>\n",
              "      <td>234.919998</td>\n",
              "      <td>231.149994</td>\n",
              "      <td>232.130005</td>\n",
              "      <td>231.477661</td>\n",
              "      <td>28357300</td>\n",
              "      <td>153.160004</td>\n",
              "      <td>154.240005</td>\n",
              "      <td>151.919998</td>\n",
              "      <td>153.339996</td>\n",
              "      <td>153.086044</td>\n",
              "      <td>97943200</td>\n",
              "      <td>295.130005</td>\n",
              "      <td>297.619995</td>\n",
              "      <td>289.500000</td>\n",
              "      <td>291.880005</td>\n",
              "      <td>291.880005</td>\n",
              "      <td>7505100</td>\n",
              "    </tr>\n",
              "  </tbody>\n",
              "</table>\n",
              "<p>2517 rows × 18 columns</p>\n",
              "</div>\n",
              "      <button class=\"colab-df-convert\" onclick=\"convertToInteractive('df-58e7f5b8-6f01-414b-a55a-d2021e439b32')\"\n",
              "              title=\"Convert this dataframe to an interactive table.\"\n",
              "              style=\"display:none;\">\n",
              "        \n",
              "  <svg xmlns=\"http://www.w3.org/2000/svg\" height=\"24px\"viewBox=\"0 0 24 24\"\n",
              "       width=\"24px\">\n",
              "    <path d=\"M0 0h24v24H0V0z\" fill=\"none\"/>\n",
              "    <path d=\"M18.56 5.44l.94 2.06.94-2.06 2.06-.94-2.06-.94-.94-2.06-.94 2.06-2.06.94zm-11 1L8.5 8.5l.94-2.06 2.06-.94-2.06-.94L8.5 2.5l-.94 2.06-2.06.94zm10 10l.94 2.06.94-2.06 2.06-.94-2.06-.94-.94-2.06-.94 2.06-2.06.94z\"/><path d=\"M17.41 7.96l-1.37-1.37c-.4-.4-.92-.59-1.43-.59-.52 0-1.04.2-1.43.59L10.3 9.45l-7.72 7.72c-.78.78-.78 2.05 0 2.83L4 21.41c.39.39.9.59 1.41.59.51 0 1.02-.2 1.41-.59l7.78-7.78 2.81-2.81c.8-.78.8-2.07 0-2.86zM5.41 20L4 18.59l7.72-7.72 1.47 1.35L5.41 20z\"/>\n",
              "  </svg>\n",
              "      </button>\n",
              "      \n",
              "  <style>\n",
              "    .colab-df-container {\n",
              "      display:flex;\n",
              "      flex-wrap:wrap;\n",
              "      gap: 12px;\n",
              "    }\n",
              "\n",
              "    .colab-df-convert {\n",
              "      background-color: #E8F0FE;\n",
              "      border: none;\n",
              "      border-radius: 50%;\n",
              "      cursor: pointer;\n",
              "      display: none;\n",
              "      fill: #1967D2;\n",
              "      height: 32px;\n",
              "      padding: 0 0 0 0;\n",
              "      width: 32px;\n",
              "    }\n",
              "\n",
              "    .colab-df-convert:hover {\n",
              "      background-color: #E2EBFA;\n",
              "      box-shadow: 0px 1px 2px rgba(60, 64, 67, 0.3), 0px 1px 3px 1px rgba(60, 64, 67, 0.15);\n",
              "      fill: #174EA6;\n",
              "    }\n",
              "\n",
              "    [theme=dark] .colab-df-convert {\n",
              "      background-color: #3B4455;\n",
              "      fill: #D2E3FC;\n",
              "    }\n",
              "\n",
              "    [theme=dark] .colab-df-convert:hover {\n",
              "      background-color: #434B5C;\n",
              "      box-shadow: 0px 1px 3px 1px rgba(0, 0, 0, 0.15);\n",
              "      filter: drop-shadow(0px 1px 2px rgba(0, 0, 0, 0.3));\n",
              "      fill: #FFFFFF;\n",
              "    }\n",
              "  </style>\n",
              "\n",
              "      <script>\n",
              "        const buttonEl =\n",
              "          document.querySelector('#df-58e7f5b8-6f01-414b-a55a-d2021e439b32 button.colab-df-convert');\n",
              "        buttonEl.style.display =\n",
              "          google.colab.kernel.accessAllowed ? 'block' : 'none';\n",
              "\n",
              "        async function convertToInteractive(key) {\n",
              "          const element = document.querySelector('#df-58e7f5b8-6f01-414b-a55a-d2021e439b32');\n",
              "          const dataTable =\n",
              "            await google.colab.kernel.invokeFunction('convertToInteractive',\n",
              "                                                     [key], {});\n",
              "          if (!dataTable) return;\n",
              "\n",
              "          const docLinkHtml = 'Like what you see? Visit the ' +\n",
              "            '<a target=\"_blank\" href=https://colab.research.google.com/notebooks/data_table.ipynb>data table notebook</a>'\n",
              "            + ' to learn more about interactive tables.';\n",
              "          element.innerHTML = '';\n",
              "          dataTable['output_type'] = 'display_data';\n",
              "          await google.colab.output.renderOutput(dataTable, element);\n",
              "          const docLink = document.createElement('div');\n",
              "          docLink.innerHTML = docLinkHtml;\n",
              "          element.appendChild(docLink);\n",
              "        }\n",
              "      </script>\n",
              "    </div>\n",
              "  </div>\n",
              "  "
            ]
          },
          "metadata": {},
          "execution_count": 10
        }
      ],
      "source": [
        "comp_stocks"
      ]
    },
    {
      "cell_type": "markdown",
      "metadata": {
        "id": "D48H5IF1ywwg"
      },
      "source": [
        "# MÔ TẢ DỮ LIỆU"
      ]
    },
    {
      "cell_type": "code",
      "execution_count": null,
      "metadata": {
        "colab": {
          "base_uri": "https://localhost:8080/"
        },
        "id": "oj_dSHbr1aBe",
        "outputId": "5bee9029-e660-4e20-b835-dfc5a5dea91c"
      },
      "outputs": [
        {
          "output_type": "execute_result",
          "data": {
            "text/plain": [
              "MSFT  Open         False\n",
              "      High         False\n",
              "      Low          False\n",
              "      Close        False\n",
              "      Adj Close    False\n",
              "      Volume       False\n",
              "AAPL  Open         False\n",
              "      High         False\n",
              "      Low          False\n",
              "      Close        False\n",
              "      Adj Close    False\n",
              "      Volume       False\n",
              "NFLX  Open         False\n",
              "      High         False\n",
              "      Low          False\n",
              "      Close        False\n",
              "      Adj Close    False\n",
              "      Volume       False\n",
              "dtype: bool"
            ]
          },
          "metadata": {},
          "execution_count": 11
        }
      ],
      "source": [
        "# Kiểm tra dữ liệu có NULL hay không \n",
        "comp_stocks.isna().any()"
      ]
    },
    {
      "cell_type": "code",
      "execution_count": null,
      "metadata": {
        "colab": {
          "base_uri": "https://localhost:8080/"
        },
        "id": "Z67qIA4zQswT",
        "outputId": "a0fbbb57-958f-4f0e-c52f-056372d38a7c"
      },
      "outputs": [
        {
          "output_type": "execute_result",
          "data": {
            "text/plain": [
              "(2517, 6)"
            ]
          },
          "metadata": {},
          "execution_count": 12
        }
      ],
      "source": [
        "# Kích thước của từng tập dữ liệu\n",
        "NFLX.shape"
      ]
    },
    {
      "cell_type": "code",
      "execution_count": null,
      "metadata": {
        "colab": {
          "base_uri": "https://localhost:8080/"
        },
        "id": "0FbgKNsTQ-5s",
        "outputId": "c4b19354-e715-4bdb-a2f3-4af5d9fe83e0"
      },
      "outputs": [
        {
          "output_type": "execute_result",
          "data": {
            "text/plain": [
              "(2517, 6)"
            ]
          },
          "metadata": {},
          "execution_count": 13
        }
      ],
      "source": [
        "MSFT.shape"
      ]
    },
    {
      "cell_type": "code",
      "execution_count": null,
      "metadata": {
        "colab": {
          "base_uri": "https://localhost:8080/"
        },
        "id": "kQ7rBUERRBUb",
        "outputId": "19e930f2-7e44-4d80-8880-89bddc5d1a3a"
      },
      "outputs": [
        {
          "output_type": "execute_result",
          "data": {
            "text/plain": [
              "(2517, 6)"
            ]
          },
          "metadata": {},
          "execution_count": 14
        }
      ],
      "source": [
        "AAPL.shape"
      ]
    },
    {
      "cell_type": "code",
      "execution_count": null,
      "metadata": {
        "colab": {
          "base_uri": "https://localhost:8080/"
        },
        "id": "rYV1ehBjRJXw",
        "outputId": "49efad92-3eb9-45b6-a8bb-700955676db3"
      },
      "outputs": [
        {
          "output_type": "execute_result",
          "data": {
            "text/plain": [
              "                 Open       High        Low      Close  Adj Close    Volume\n",
              "Date                                                                       \n",
              "2012-11-01  11.121429  11.384286  10.664286  11.098571  11.098571  62669600\n",
              "2012-11-02  11.035714  11.407143  10.852857  10.985714  10.985714  29650600\n",
              "2012-11-05  10.652857  11.277143  10.642857  11.177143  11.177143  29016400\n",
              "2012-11-06  11.008571  11.421429  10.815714  10.910000  10.910000  39102700\n",
              "2012-11-07  10.918571  11.321429  10.918571  11.097143  11.097143  31099600"
            ],
            "text/html": [
              "\n",
              "  <div id=\"df-98e7f68c-0290-4347-9ee7-ce708550ac61\">\n",
              "    <div class=\"colab-df-container\">\n",
              "      <div>\n",
              "<style scoped>\n",
              "    .dataframe tbody tr th:only-of-type {\n",
              "        vertical-align: middle;\n",
              "    }\n",
              "\n",
              "    .dataframe tbody tr th {\n",
              "        vertical-align: top;\n",
              "    }\n",
              "\n",
              "    .dataframe thead th {\n",
              "        text-align: right;\n",
              "    }\n",
              "</style>\n",
              "<table border=\"1\" class=\"dataframe\">\n",
              "  <thead>\n",
              "    <tr style=\"text-align: right;\">\n",
              "      <th></th>\n",
              "      <th>Open</th>\n",
              "      <th>High</th>\n",
              "      <th>Low</th>\n",
              "      <th>Close</th>\n",
              "      <th>Adj Close</th>\n",
              "      <th>Volume</th>\n",
              "    </tr>\n",
              "    <tr>\n",
              "      <th>Date</th>\n",
              "      <th></th>\n",
              "      <th></th>\n",
              "      <th></th>\n",
              "      <th></th>\n",
              "      <th></th>\n",
              "      <th></th>\n",
              "    </tr>\n",
              "  </thead>\n",
              "  <tbody>\n",
              "    <tr>\n",
              "      <th>2012-11-01</th>\n",
              "      <td>11.121429</td>\n",
              "      <td>11.384286</td>\n",
              "      <td>10.664286</td>\n",
              "      <td>11.098571</td>\n",
              "      <td>11.098571</td>\n",
              "      <td>62669600</td>\n",
              "    </tr>\n",
              "    <tr>\n",
              "      <th>2012-11-02</th>\n",
              "      <td>11.035714</td>\n",
              "      <td>11.407143</td>\n",
              "      <td>10.852857</td>\n",
              "      <td>10.985714</td>\n",
              "      <td>10.985714</td>\n",
              "      <td>29650600</td>\n",
              "    </tr>\n",
              "    <tr>\n",
              "      <th>2012-11-05</th>\n",
              "      <td>10.652857</td>\n",
              "      <td>11.277143</td>\n",
              "      <td>10.642857</td>\n",
              "      <td>11.177143</td>\n",
              "      <td>11.177143</td>\n",
              "      <td>29016400</td>\n",
              "    </tr>\n",
              "    <tr>\n",
              "      <th>2012-11-06</th>\n",
              "      <td>11.008571</td>\n",
              "      <td>11.421429</td>\n",
              "      <td>10.815714</td>\n",
              "      <td>10.910000</td>\n",
              "      <td>10.910000</td>\n",
              "      <td>39102700</td>\n",
              "    </tr>\n",
              "    <tr>\n",
              "      <th>2012-11-07</th>\n",
              "      <td>10.918571</td>\n",
              "      <td>11.321429</td>\n",
              "      <td>10.918571</td>\n",
              "      <td>11.097143</td>\n",
              "      <td>11.097143</td>\n",
              "      <td>31099600</td>\n",
              "    </tr>\n",
              "  </tbody>\n",
              "</table>\n",
              "</div>\n",
              "      <button class=\"colab-df-convert\" onclick=\"convertToInteractive('df-98e7f68c-0290-4347-9ee7-ce708550ac61')\"\n",
              "              title=\"Convert this dataframe to an interactive table.\"\n",
              "              style=\"display:none;\">\n",
              "        \n",
              "  <svg xmlns=\"http://www.w3.org/2000/svg\" height=\"24px\"viewBox=\"0 0 24 24\"\n",
              "       width=\"24px\">\n",
              "    <path d=\"M0 0h24v24H0V0z\" fill=\"none\"/>\n",
              "    <path d=\"M18.56 5.44l.94 2.06.94-2.06 2.06-.94-2.06-.94-.94-2.06-.94 2.06-2.06.94zm-11 1L8.5 8.5l.94-2.06 2.06-.94-2.06-.94L8.5 2.5l-.94 2.06-2.06.94zm10 10l.94 2.06.94-2.06 2.06-.94-2.06-.94-.94-2.06-.94 2.06-2.06.94z\"/><path d=\"M17.41 7.96l-1.37-1.37c-.4-.4-.92-.59-1.43-.59-.52 0-1.04.2-1.43.59L10.3 9.45l-7.72 7.72c-.78.78-.78 2.05 0 2.83L4 21.41c.39.39.9.59 1.41.59.51 0 1.02-.2 1.41-.59l7.78-7.78 2.81-2.81c.8-.78.8-2.07 0-2.86zM5.41 20L4 18.59l7.72-7.72 1.47 1.35L5.41 20z\"/>\n",
              "  </svg>\n",
              "      </button>\n",
              "      \n",
              "  <style>\n",
              "    .colab-df-container {\n",
              "      display:flex;\n",
              "      flex-wrap:wrap;\n",
              "      gap: 12px;\n",
              "    }\n",
              "\n",
              "    .colab-df-convert {\n",
              "      background-color: #E8F0FE;\n",
              "      border: none;\n",
              "      border-radius: 50%;\n",
              "      cursor: pointer;\n",
              "      display: none;\n",
              "      fill: #1967D2;\n",
              "      height: 32px;\n",
              "      padding: 0 0 0 0;\n",
              "      width: 32px;\n",
              "    }\n",
              "\n",
              "    .colab-df-convert:hover {\n",
              "      background-color: #E2EBFA;\n",
              "      box-shadow: 0px 1px 2px rgba(60, 64, 67, 0.3), 0px 1px 3px 1px rgba(60, 64, 67, 0.15);\n",
              "      fill: #174EA6;\n",
              "    }\n",
              "\n",
              "    [theme=dark] .colab-df-convert {\n",
              "      background-color: #3B4455;\n",
              "      fill: #D2E3FC;\n",
              "    }\n",
              "\n",
              "    [theme=dark] .colab-df-convert:hover {\n",
              "      background-color: #434B5C;\n",
              "      box-shadow: 0px 1px 3px 1px rgba(0, 0, 0, 0.15);\n",
              "      filter: drop-shadow(0px 1px 2px rgba(0, 0, 0, 0.3));\n",
              "      fill: #FFFFFF;\n",
              "    }\n",
              "  </style>\n",
              "\n",
              "      <script>\n",
              "        const buttonEl =\n",
              "          document.querySelector('#df-98e7f68c-0290-4347-9ee7-ce708550ac61 button.colab-df-convert');\n",
              "        buttonEl.style.display =\n",
              "          google.colab.kernel.accessAllowed ? 'block' : 'none';\n",
              "\n",
              "        async function convertToInteractive(key) {\n",
              "          const element = document.querySelector('#df-98e7f68c-0290-4347-9ee7-ce708550ac61');\n",
              "          const dataTable =\n",
              "            await google.colab.kernel.invokeFunction('convertToInteractive',\n",
              "                                                     [key], {});\n",
              "          if (!dataTable) return;\n",
              "\n",
              "          const docLinkHtml = 'Like what you see? Visit the ' +\n",
              "            '<a target=\"_blank\" href=https://colab.research.google.com/notebooks/data_table.ipynb>data table notebook</a>'\n",
              "            + ' to learn more about interactive tables.';\n",
              "          element.innerHTML = '';\n",
              "          dataTable['output_type'] = 'display_data';\n",
              "          await google.colab.output.renderOutput(dataTable, element);\n",
              "          const docLink = document.createElement('div');\n",
              "          docLink.innerHTML = docLinkHtml;\n",
              "          element.appendChild(docLink);\n",
              "        }\n",
              "      </script>\n",
              "    </div>\n",
              "  </div>\n",
              "  "
            ]
          },
          "metadata": {},
          "execution_count": 15
        }
      ],
      "source": [
        "# Dữ liệu 5 dòng đầu của từng tập dữ liệu\n",
        "NFLX.head()"
      ]
    },
    {
      "cell_type": "code",
      "execution_count": null,
      "metadata": {
        "colab": {
          "base_uri": "https://localhost:8080/"
        },
        "id": "bXnTErlIRSyr",
        "outputId": "c4541084-7428-4074-f677-9d1a9eac5e3d"
      },
      "outputs": [
        {
          "output_type": "execute_result",
          "data": {
            "text/plain": [
              "                 Open       High        Low      Close  Adj Close    Volume\n",
              "Date                                                                       \n",
              "2012-11-01  28.840000  29.559999  28.820000  29.520000  24.142984  72047900\n",
              "2012-11-02  29.590000  29.770000  29.330000  29.500000  24.126627  57131600\n",
              "2012-11-05  29.620001  29.740000  29.330000  29.629999  24.232943  38070800\n",
              "2012-11-06  29.820000  30.200001  29.610001  29.860001  24.421057  43401500\n",
              "2012-11-07  29.530001  29.830000  29.049999  29.080000  23.783127  57871800"
            ],
            "text/html": [
              "\n",
              "  <div id=\"df-fe325191-6413-4781-b02c-332742f046c3\">\n",
              "    <div class=\"colab-df-container\">\n",
              "      <div>\n",
              "<style scoped>\n",
              "    .dataframe tbody tr th:only-of-type {\n",
              "        vertical-align: middle;\n",
              "    }\n",
              "\n",
              "    .dataframe tbody tr th {\n",
              "        vertical-align: top;\n",
              "    }\n",
              "\n",
              "    .dataframe thead th {\n",
              "        text-align: right;\n",
              "    }\n",
              "</style>\n",
              "<table border=\"1\" class=\"dataframe\">\n",
              "  <thead>\n",
              "    <tr style=\"text-align: right;\">\n",
              "      <th></th>\n",
              "      <th>Open</th>\n",
              "      <th>High</th>\n",
              "      <th>Low</th>\n",
              "      <th>Close</th>\n",
              "      <th>Adj Close</th>\n",
              "      <th>Volume</th>\n",
              "    </tr>\n",
              "    <tr>\n",
              "      <th>Date</th>\n",
              "      <th></th>\n",
              "      <th></th>\n",
              "      <th></th>\n",
              "      <th></th>\n",
              "      <th></th>\n",
              "      <th></th>\n",
              "    </tr>\n",
              "  </thead>\n",
              "  <tbody>\n",
              "    <tr>\n",
              "      <th>2012-11-01</th>\n",
              "      <td>28.840000</td>\n",
              "      <td>29.559999</td>\n",
              "      <td>28.820000</td>\n",
              "      <td>29.520000</td>\n",
              "      <td>24.142984</td>\n",
              "      <td>72047900</td>\n",
              "    </tr>\n",
              "    <tr>\n",
              "      <th>2012-11-02</th>\n",
              "      <td>29.590000</td>\n",
              "      <td>29.770000</td>\n",
              "      <td>29.330000</td>\n",
              "      <td>29.500000</td>\n",
              "      <td>24.126627</td>\n",
              "      <td>57131600</td>\n",
              "    </tr>\n",
              "    <tr>\n",
              "      <th>2012-11-05</th>\n",
              "      <td>29.620001</td>\n",
              "      <td>29.740000</td>\n",
              "      <td>29.330000</td>\n",
              "      <td>29.629999</td>\n",
              "      <td>24.232943</td>\n",
              "      <td>38070800</td>\n",
              "    </tr>\n",
              "    <tr>\n",
              "      <th>2012-11-06</th>\n",
              "      <td>29.820000</td>\n",
              "      <td>30.200001</td>\n",
              "      <td>29.610001</td>\n",
              "      <td>29.860001</td>\n",
              "      <td>24.421057</td>\n",
              "      <td>43401500</td>\n",
              "    </tr>\n",
              "    <tr>\n",
              "      <th>2012-11-07</th>\n",
              "      <td>29.530001</td>\n",
              "      <td>29.830000</td>\n",
              "      <td>29.049999</td>\n",
              "      <td>29.080000</td>\n",
              "      <td>23.783127</td>\n",
              "      <td>57871800</td>\n",
              "    </tr>\n",
              "  </tbody>\n",
              "</table>\n",
              "</div>\n",
              "      <button class=\"colab-df-convert\" onclick=\"convertToInteractive('df-fe325191-6413-4781-b02c-332742f046c3')\"\n",
              "              title=\"Convert this dataframe to an interactive table.\"\n",
              "              style=\"display:none;\">\n",
              "        \n",
              "  <svg xmlns=\"http://www.w3.org/2000/svg\" height=\"24px\"viewBox=\"0 0 24 24\"\n",
              "       width=\"24px\">\n",
              "    <path d=\"M0 0h24v24H0V0z\" fill=\"none\"/>\n",
              "    <path d=\"M18.56 5.44l.94 2.06.94-2.06 2.06-.94-2.06-.94-.94-2.06-.94 2.06-2.06.94zm-11 1L8.5 8.5l.94-2.06 2.06-.94-2.06-.94L8.5 2.5l-.94 2.06-2.06.94zm10 10l.94 2.06.94-2.06 2.06-.94-2.06-.94-.94-2.06-.94 2.06-2.06.94z\"/><path d=\"M17.41 7.96l-1.37-1.37c-.4-.4-.92-.59-1.43-.59-.52 0-1.04.2-1.43.59L10.3 9.45l-7.72 7.72c-.78.78-.78 2.05 0 2.83L4 21.41c.39.39.9.59 1.41.59.51 0 1.02-.2 1.41-.59l7.78-7.78 2.81-2.81c.8-.78.8-2.07 0-2.86zM5.41 20L4 18.59l7.72-7.72 1.47 1.35L5.41 20z\"/>\n",
              "  </svg>\n",
              "      </button>\n",
              "      \n",
              "  <style>\n",
              "    .colab-df-container {\n",
              "      display:flex;\n",
              "      flex-wrap:wrap;\n",
              "      gap: 12px;\n",
              "    }\n",
              "\n",
              "    .colab-df-convert {\n",
              "      background-color: #E8F0FE;\n",
              "      border: none;\n",
              "      border-radius: 50%;\n",
              "      cursor: pointer;\n",
              "      display: none;\n",
              "      fill: #1967D2;\n",
              "      height: 32px;\n",
              "      padding: 0 0 0 0;\n",
              "      width: 32px;\n",
              "    }\n",
              "\n",
              "    .colab-df-convert:hover {\n",
              "      background-color: #E2EBFA;\n",
              "      box-shadow: 0px 1px 2px rgba(60, 64, 67, 0.3), 0px 1px 3px 1px rgba(60, 64, 67, 0.15);\n",
              "      fill: #174EA6;\n",
              "    }\n",
              "\n",
              "    [theme=dark] .colab-df-convert {\n",
              "      background-color: #3B4455;\n",
              "      fill: #D2E3FC;\n",
              "    }\n",
              "\n",
              "    [theme=dark] .colab-df-convert:hover {\n",
              "      background-color: #434B5C;\n",
              "      box-shadow: 0px 1px 3px 1px rgba(0, 0, 0, 0.15);\n",
              "      filter: drop-shadow(0px 1px 2px rgba(0, 0, 0, 0.3));\n",
              "      fill: #FFFFFF;\n",
              "    }\n",
              "  </style>\n",
              "\n",
              "      <script>\n",
              "        const buttonEl =\n",
              "          document.querySelector('#df-fe325191-6413-4781-b02c-332742f046c3 button.colab-df-convert');\n",
              "        buttonEl.style.display =\n",
              "          google.colab.kernel.accessAllowed ? 'block' : 'none';\n",
              "\n",
              "        async function convertToInteractive(key) {\n",
              "          const element = document.querySelector('#df-fe325191-6413-4781-b02c-332742f046c3');\n",
              "          const dataTable =\n",
              "            await google.colab.kernel.invokeFunction('convertToInteractive',\n",
              "                                                     [key], {});\n",
              "          if (!dataTable) return;\n",
              "\n",
              "          const docLinkHtml = 'Like what you see? Visit the ' +\n",
              "            '<a target=\"_blank\" href=https://colab.research.google.com/notebooks/data_table.ipynb>data table notebook</a>'\n",
              "            + ' to learn more about interactive tables.';\n",
              "          element.innerHTML = '';\n",
              "          dataTable['output_type'] = 'display_data';\n",
              "          await google.colab.output.renderOutput(dataTable, element);\n",
              "          const docLink = document.createElement('div');\n",
              "          docLink.innerHTML = docLinkHtml;\n",
              "          element.appendChild(docLink);\n",
              "        }\n",
              "      </script>\n",
              "    </div>\n",
              "  </div>\n",
              "  "
            ]
          },
          "metadata": {},
          "execution_count": 16
        }
      ],
      "source": [
        "MSFT.head()"
      ]
    },
    {
      "cell_type": "code",
      "execution_count": null,
      "metadata": {
        "colab": {
          "base_uri": "https://localhost:8080/"
        },
        "id": "_Rkc3ZDFRVSQ",
        "outputId": "188f97c9-740f-46c8-def1-617e66d4db40"
      },
      "outputs": [
        {
          "output_type": "execute_result",
          "data": {
            "text/plain": [
              "                 Open       High        Low      Close  Adj Close     Volume\n",
              "Date                                                                        \n",
              "2012-11-01  21.365000  21.535713  21.220358  21.305000  18.238733  361298000\n",
              "2012-11-02  21.281786  21.319643  20.526787  20.600000  17.635204  599373600\n",
              "2012-11-05  20.840000  20.991785  20.628571  20.879286  17.874289  529135600\n",
              "2012-11-06  21.079643  21.097857  20.717501  20.816071  17.820169  374917200\n",
              "2012-11-07  20.494286  20.519285  19.848213  19.928572  17.138323  793648800"
            ],
            "text/html": [
              "\n",
              "  <div id=\"df-f8f360ee-8d46-4044-8a6b-968dc8ad4f1b\">\n",
              "    <div class=\"colab-df-container\">\n",
              "      <div>\n",
              "<style scoped>\n",
              "    .dataframe tbody tr th:only-of-type {\n",
              "        vertical-align: middle;\n",
              "    }\n",
              "\n",
              "    .dataframe tbody tr th {\n",
              "        vertical-align: top;\n",
              "    }\n",
              "\n",
              "    .dataframe thead th {\n",
              "        text-align: right;\n",
              "    }\n",
              "</style>\n",
              "<table border=\"1\" class=\"dataframe\">\n",
              "  <thead>\n",
              "    <tr style=\"text-align: right;\">\n",
              "      <th></th>\n",
              "      <th>Open</th>\n",
              "      <th>High</th>\n",
              "      <th>Low</th>\n",
              "      <th>Close</th>\n",
              "      <th>Adj Close</th>\n",
              "      <th>Volume</th>\n",
              "    </tr>\n",
              "    <tr>\n",
              "      <th>Date</th>\n",
              "      <th></th>\n",
              "      <th></th>\n",
              "      <th></th>\n",
              "      <th></th>\n",
              "      <th></th>\n",
              "      <th></th>\n",
              "    </tr>\n",
              "  </thead>\n",
              "  <tbody>\n",
              "    <tr>\n",
              "      <th>2012-11-01</th>\n",
              "      <td>21.365000</td>\n",
              "      <td>21.535713</td>\n",
              "      <td>21.220358</td>\n",
              "      <td>21.305000</td>\n",
              "      <td>18.238733</td>\n",
              "      <td>361298000</td>\n",
              "    </tr>\n",
              "    <tr>\n",
              "      <th>2012-11-02</th>\n",
              "      <td>21.281786</td>\n",
              "      <td>21.319643</td>\n",
              "      <td>20.526787</td>\n",
              "      <td>20.600000</td>\n",
              "      <td>17.635204</td>\n",
              "      <td>599373600</td>\n",
              "    </tr>\n",
              "    <tr>\n",
              "      <th>2012-11-05</th>\n",
              "      <td>20.840000</td>\n",
              "      <td>20.991785</td>\n",
              "      <td>20.628571</td>\n",
              "      <td>20.879286</td>\n",
              "      <td>17.874289</td>\n",
              "      <td>529135600</td>\n",
              "    </tr>\n",
              "    <tr>\n",
              "      <th>2012-11-06</th>\n",
              "      <td>21.079643</td>\n",
              "      <td>21.097857</td>\n",
              "      <td>20.717501</td>\n",
              "      <td>20.816071</td>\n",
              "      <td>17.820169</td>\n",
              "      <td>374917200</td>\n",
              "    </tr>\n",
              "    <tr>\n",
              "      <th>2012-11-07</th>\n",
              "      <td>20.494286</td>\n",
              "      <td>20.519285</td>\n",
              "      <td>19.848213</td>\n",
              "      <td>19.928572</td>\n",
              "      <td>17.138323</td>\n",
              "      <td>793648800</td>\n",
              "    </tr>\n",
              "  </tbody>\n",
              "</table>\n",
              "</div>\n",
              "      <button class=\"colab-df-convert\" onclick=\"convertToInteractive('df-f8f360ee-8d46-4044-8a6b-968dc8ad4f1b')\"\n",
              "              title=\"Convert this dataframe to an interactive table.\"\n",
              "              style=\"display:none;\">\n",
              "        \n",
              "  <svg xmlns=\"http://www.w3.org/2000/svg\" height=\"24px\"viewBox=\"0 0 24 24\"\n",
              "       width=\"24px\">\n",
              "    <path d=\"M0 0h24v24H0V0z\" fill=\"none\"/>\n",
              "    <path d=\"M18.56 5.44l.94 2.06.94-2.06 2.06-.94-2.06-.94-.94-2.06-.94 2.06-2.06.94zm-11 1L8.5 8.5l.94-2.06 2.06-.94-2.06-.94L8.5 2.5l-.94 2.06-2.06.94zm10 10l.94 2.06.94-2.06 2.06-.94-2.06-.94-.94-2.06-.94 2.06-2.06.94z\"/><path d=\"M17.41 7.96l-1.37-1.37c-.4-.4-.92-.59-1.43-.59-.52 0-1.04.2-1.43.59L10.3 9.45l-7.72 7.72c-.78.78-.78 2.05 0 2.83L4 21.41c.39.39.9.59 1.41.59.51 0 1.02-.2 1.41-.59l7.78-7.78 2.81-2.81c.8-.78.8-2.07 0-2.86zM5.41 20L4 18.59l7.72-7.72 1.47 1.35L5.41 20z\"/>\n",
              "  </svg>\n",
              "      </button>\n",
              "      \n",
              "  <style>\n",
              "    .colab-df-container {\n",
              "      display:flex;\n",
              "      flex-wrap:wrap;\n",
              "      gap: 12px;\n",
              "    }\n",
              "\n",
              "    .colab-df-convert {\n",
              "      background-color: #E8F0FE;\n",
              "      border: none;\n",
              "      border-radius: 50%;\n",
              "      cursor: pointer;\n",
              "      display: none;\n",
              "      fill: #1967D2;\n",
              "      height: 32px;\n",
              "      padding: 0 0 0 0;\n",
              "      width: 32px;\n",
              "    }\n",
              "\n",
              "    .colab-df-convert:hover {\n",
              "      background-color: #E2EBFA;\n",
              "      box-shadow: 0px 1px 2px rgba(60, 64, 67, 0.3), 0px 1px 3px 1px rgba(60, 64, 67, 0.15);\n",
              "      fill: #174EA6;\n",
              "    }\n",
              "\n",
              "    [theme=dark] .colab-df-convert {\n",
              "      background-color: #3B4455;\n",
              "      fill: #D2E3FC;\n",
              "    }\n",
              "\n",
              "    [theme=dark] .colab-df-convert:hover {\n",
              "      background-color: #434B5C;\n",
              "      box-shadow: 0px 1px 3px 1px rgba(0, 0, 0, 0.15);\n",
              "      filter: drop-shadow(0px 1px 2px rgba(0, 0, 0, 0.3));\n",
              "      fill: #FFFFFF;\n",
              "    }\n",
              "  </style>\n",
              "\n",
              "      <script>\n",
              "        const buttonEl =\n",
              "          document.querySelector('#df-f8f360ee-8d46-4044-8a6b-968dc8ad4f1b button.colab-df-convert');\n",
              "        buttonEl.style.display =\n",
              "          google.colab.kernel.accessAllowed ? 'block' : 'none';\n",
              "\n",
              "        async function convertToInteractive(key) {\n",
              "          const element = document.querySelector('#df-f8f360ee-8d46-4044-8a6b-968dc8ad4f1b');\n",
              "          const dataTable =\n",
              "            await google.colab.kernel.invokeFunction('convertToInteractive',\n",
              "                                                     [key], {});\n",
              "          if (!dataTable) return;\n",
              "\n",
              "          const docLinkHtml = 'Like what you see? Visit the ' +\n",
              "            '<a target=\"_blank\" href=https://colab.research.google.com/notebooks/data_table.ipynb>data table notebook</a>'\n",
              "            + ' to learn more about interactive tables.';\n",
              "          element.innerHTML = '';\n",
              "          dataTable['output_type'] = 'display_data';\n",
              "          await google.colab.output.renderOutput(dataTable, element);\n",
              "          const docLink = document.createElement('div');\n",
              "          docLink.innerHTML = docLinkHtml;\n",
              "          element.appendChild(docLink);\n",
              "        }\n",
              "      </script>\n",
              "    </div>\n",
              "  </div>\n",
              "  "
            ]
          },
          "metadata": {},
          "execution_count": 17
        }
      ],
      "source": [
        "AAPL.head()"
      ]
    },
    {
      "cell_type": "code",
      "execution_count": null,
      "metadata": {
        "colab": {
          "base_uri": "https://localhost:8080/"
        },
        "id": "YwhCHSXJRbcL",
        "outputId": "06086375-6a2a-48d7-bf75-58aa6e02993b"
      },
      "outputs": [
        {
          "output_type": "stream",
          "name": "stdout",
          "text": [
            "<class 'pandas.core.frame.DataFrame'>\n",
            "DatetimeIndex: 2517 entries, 2012-11-01 to 2022-10-31\n",
            "Data columns (total 18 columns):\n",
            " #   Column             Non-Null Count  Dtype  \n",
            "---  ------             --------------  -----  \n",
            " 0   (MSFT, Open)       2517 non-null   float64\n",
            " 1   (MSFT, High)       2517 non-null   float64\n",
            " 2   (MSFT, Low)        2517 non-null   float64\n",
            " 3   (MSFT, Close)      2517 non-null   float64\n",
            " 4   (MSFT, Adj Close)  2517 non-null   float64\n",
            " 5   (MSFT, Volume)     2517 non-null   int64  \n",
            " 6   (AAPL, Open)       2517 non-null   float64\n",
            " 7   (AAPL, High)       2517 non-null   float64\n",
            " 8   (AAPL, Low)        2517 non-null   float64\n",
            " 9   (AAPL, Close)      2517 non-null   float64\n",
            " 10  (AAPL, Adj Close)  2517 non-null   float64\n",
            " 11  (AAPL, Volume)     2517 non-null   int64  \n",
            " 12  (NFLX, Open)       2517 non-null   float64\n",
            " 13  (NFLX, High)       2517 non-null   float64\n",
            " 14  (NFLX, Low)        2517 non-null   float64\n",
            " 15  (NFLX, Close)      2517 non-null   float64\n",
            " 16  (NFLX, Adj Close)  2517 non-null   float64\n",
            " 17  (NFLX, Volume)     2517 non-null   int64  \n",
            "dtypes: float64(15), int64(3)\n",
            "memory usage: 373.6 KB\n"
          ]
        }
      ],
      "source": [
        "# Xác định kiểu dữ liệu\n",
        "comp_stocks.info()"
      ]
    },
    {
      "cell_type": "markdown",
      "metadata": {
        "id": "_5XJ2Et8Ru6k"
      },
      "source": [
        "Dữ liệu có 2517 dòng, không dữ liệu nào rỗng, mỗi công ty với 5 cột là kiểu dữ liệu số thực và 1 cột kiểu số nguyên, tổng cộng 6 cột và index định dạng Datetime\n"
      ]
    },
    {
      "cell_type": "code",
      "execution_count": null,
      "metadata": {
        "colab": {
          "base_uri": "https://localhost:8080/"
        },
        "id": "S6TgdU7RScO7",
        "outputId": "fb723e58-7112-4508-84c0-c8f57eeca746"
      },
      "outputs": [
        {
          "output_type": "execute_result",
          "data": {
            "text/plain": [
              "              MSFT                                                      \\\n",
              "              Open         High          Low        Close    Adj Close   \n",
              "count  2517.000000  2517.000000  2517.000000  2517.000000  2517.000000   \n",
              "mean    118.252571   119.422443   117.026778   118.283810   113.702824   \n",
              "std      89.282554    90.247125    88.234598    89.281542    90.201861   \n",
              "min      26.379999    26.629999    26.260000    26.370001    21.743969   \n",
              "25%      46.380001    46.880001    46.029999    46.520000    40.671776   \n",
              "50%      82.400002    82.800003    81.430000    82.400002    77.597321   \n",
              "75%     182.850006   184.460007   181.100006   182.919998   178.551300   \n",
              "max     344.619995   349.670013   342.200012   343.109985   339.924835   \n",
              "\n",
              "                            AAPL                                         \\\n",
              "             Volume         Open         High          Low        Close   \n",
              "count  2.517000e+03  2517.000000  2517.000000  2517.000000  2517.000000   \n",
              "mean   3.267989e+07    60.352384    61.031946    59.701825    60.393395   \n",
              "std    1.716336e+07    47.842517    48.471034    47.246272    47.887129   \n",
              "min    7.425600e+06    13.856071    14.271429    13.753571    13.947500   \n",
              "25%    2.249860e+07    26.395000    26.625000    26.205000    26.440001   \n",
              "50%    2.861650e+07    39.767502    40.052502    39.412498    39.667500   \n",
              "75%    3.728510e+07    79.457497    80.112503    78.912498    79.577499   \n",
              "max    2.484285e+08   182.630005   182.940002   179.119995   182.009995   \n",
              "\n",
              "                                         NFLX                            \\\n",
              "         Adj Close        Volume         Open         High          Low   \n",
              "count  2517.000000  2.517000e+03  2517.000000  2517.000000  2517.000000   \n",
              "mean     58.568590  1.800284e+08   234.454370   238.065581   230.657952   \n",
              "std      48.398782  1.398459e+08   176.566351   178.993458   173.883632   \n",
              "min      12.064587  4.100000e+07    10.652857    11.268571    10.642857   \n",
              "25%      24.156105  9.398400e+07    81.028572    82.142860    79.949997   \n",
              "50%      37.839714  1.335464e+08   184.259995   187.210007   181.250000   \n",
              "75%      78.185623  2.124976e+08   361.959991   367.329987   356.619995   \n",
              "max     180.959732  1.460852e+09   692.349976   700.989990   686.090027   \n",
              "\n",
              "                                               \n",
              "             Close    Adj Close        Volume  \n",
              "count  2517.000000  2517.000000  2.517000e+03  \n",
              "mean    234.462439   234.462439  1.288495e+07  \n",
              "std     176.450928   176.450928  1.260690e+07  \n",
              "min      10.852857    10.852857  1.144000e+06  \n",
              "25%      80.868568    80.868568  5.460500e+06  \n",
              "50%     184.619995   184.619995  9.306700e+06  \n",
              "75%     361.809998   361.809998  1.630250e+07  \n",
              "max     691.690002   691.690002  1.914458e+08  "
            ],
            "text/html": [
              "\n",
              "  <div id=\"df-f0d92ef3-07a0-4ca8-9e8b-fc68c78ddf6a\">\n",
              "    <div class=\"colab-df-container\">\n",
              "      <div>\n",
              "<style scoped>\n",
              "    .dataframe tbody tr th:only-of-type {\n",
              "        vertical-align: middle;\n",
              "    }\n",
              "\n",
              "    .dataframe tbody tr th {\n",
              "        vertical-align: top;\n",
              "    }\n",
              "\n",
              "    .dataframe thead tr th {\n",
              "        text-align: left;\n",
              "    }\n",
              "</style>\n",
              "<table border=\"1\" class=\"dataframe\">\n",
              "  <thead>\n",
              "    <tr>\n",
              "      <th></th>\n",
              "      <th colspan=\"6\" halign=\"left\">MSFT</th>\n",
              "      <th colspan=\"6\" halign=\"left\">AAPL</th>\n",
              "      <th colspan=\"6\" halign=\"left\">NFLX</th>\n",
              "    </tr>\n",
              "    <tr>\n",
              "      <th></th>\n",
              "      <th>Open</th>\n",
              "      <th>High</th>\n",
              "      <th>Low</th>\n",
              "      <th>Close</th>\n",
              "      <th>Adj Close</th>\n",
              "      <th>Volume</th>\n",
              "      <th>Open</th>\n",
              "      <th>High</th>\n",
              "      <th>Low</th>\n",
              "      <th>Close</th>\n",
              "      <th>Adj Close</th>\n",
              "      <th>Volume</th>\n",
              "      <th>Open</th>\n",
              "      <th>High</th>\n",
              "      <th>Low</th>\n",
              "      <th>Close</th>\n",
              "      <th>Adj Close</th>\n",
              "      <th>Volume</th>\n",
              "    </tr>\n",
              "  </thead>\n",
              "  <tbody>\n",
              "    <tr>\n",
              "      <th>count</th>\n",
              "      <td>2517.000000</td>\n",
              "      <td>2517.000000</td>\n",
              "      <td>2517.000000</td>\n",
              "      <td>2517.000000</td>\n",
              "      <td>2517.000000</td>\n",
              "      <td>2.517000e+03</td>\n",
              "      <td>2517.000000</td>\n",
              "      <td>2517.000000</td>\n",
              "      <td>2517.000000</td>\n",
              "      <td>2517.000000</td>\n",
              "      <td>2517.000000</td>\n",
              "      <td>2.517000e+03</td>\n",
              "      <td>2517.000000</td>\n",
              "      <td>2517.000000</td>\n",
              "      <td>2517.000000</td>\n",
              "      <td>2517.000000</td>\n",
              "      <td>2517.000000</td>\n",
              "      <td>2.517000e+03</td>\n",
              "    </tr>\n",
              "    <tr>\n",
              "      <th>mean</th>\n",
              "      <td>118.252571</td>\n",
              "      <td>119.422443</td>\n",
              "      <td>117.026778</td>\n",
              "      <td>118.283810</td>\n",
              "      <td>113.702824</td>\n",
              "      <td>3.267989e+07</td>\n",
              "      <td>60.352384</td>\n",
              "      <td>61.031946</td>\n",
              "      <td>59.701825</td>\n",
              "      <td>60.393395</td>\n",
              "      <td>58.568590</td>\n",
              "      <td>1.800284e+08</td>\n",
              "      <td>234.454370</td>\n",
              "      <td>238.065581</td>\n",
              "      <td>230.657952</td>\n",
              "      <td>234.462439</td>\n",
              "      <td>234.462439</td>\n",
              "      <td>1.288495e+07</td>\n",
              "    </tr>\n",
              "    <tr>\n",
              "      <th>std</th>\n",
              "      <td>89.282554</td>\n",
              "      <td>90.247125</td>\n",
              "      <td>88.234598</td>\n",
              "      <td>89.281542</td>\n",
              "      <td>90.201861</td>\n",
              "      <td>1.716336e+07</td>\n",
              "      <td>47.842517</td>\n",
              "      <td>48.471034</td>\n",
              "      <td>47.246272</td>\n",
              "      <td>47.887129</td>\n",
              "      <td>48.398782</td>\n",
              "      <td>1.398459e+08</td>\n",
              "      <td>176.566351</td>\n",
              "      <td>178.993458</td>\n",
              "      <td>173.883632</td>\n",
              "      <td>176.450928</td>\n",
              "      <td>176.450928</td>\n",
              "      <td>1.260690e+07</td>\n",
              "    </tr>\n",
              "    <tr>\n",
              "      <th>min</th>\n",
              "      <td>26.379999</td>\n",
              "      <td>26.629999</td>\n",
              "      <td>26.260000</td>\n",
              "      <td>26.370001</td>\n",
              "      <td>21.743969</td>\n",
              "      <td>7.425600e+06</td>\n",
              "      <td>13.856071</td>\n",
              "      <td>14.271429</td>\n",
              "      <td>13.753571</td>\n",
              "      <td>13.947500</td>\n",
              "      <td>12.064587</td>\n",
              "      <td>4.100000e+07</td>\n",
              "      <td>10.652857</td>\n",
              "      <td>11.268571</td>\n",
              "      <td>10.642857</td>\n",
              "      <td>10.852857</td>\n",
              "      <td>10.852857</td>\n",
              "      <td>1.144000e+06</td>\n",
              "    </tr>\n",
              "    <tr>\n",
              "      <th>25%</th>\n",
              "      <td>46.380001</td>\n",
              "      <td>46.880001</td>\n",
              "      <td>46.029999</td>\n",
              "      <td>46.520000</td>\n",
              "      <td>40.671776</td>\n",
              "      <td>2.249860e+07</td>\n",
              "      <td>26.395000</td>\n",
              "      <td>26.625000</td>\n",
              "      <td>26.205000</td>\n",
              "      <td>26.440001</td>\n",
              "      <td>24.156105</td>\n",
              "      <td>9.398400e+07</td>\n",
              "      <td>81.028572</td>\n",
              "      <td>82.142860</td>\n",
              "      <td>79.949997</td>\n",
              "      <td>80.868568</td>\n",
              "      <td>80.868568</td>\n",
              "      <td>5.460500e+06</td>\n",
              "    </tr>\n",
              "    <tr>\n",
              "      <th>50%</th>\n",
              "      <td>82.400002</td>\n",
              "      <td>82.800003</td>\n",
              "      <td>81.430000</td>\n",
              "      <td>82.400002</td>\n",
              "      <td>77.597321</td>\n",
              "      <td>2.861650e+07</td>\n",
              "      <td>39.767502</td>\n",
              "      <td>40.052502</td>\n",
              "      <td>39.412498</td>\n",
              "      <td>39.667500</td>\n",
              "      <td>37.839714</td>\n",
              "      <td>1.335464e+08</td>\n",
              "      <td>184.259995</td>\n",
              "      <td>187.210007</td>\n",
              "      <td>181.250000</td>\n",
              "      <td>184.619995</td>\n",
              "      <td>184.619995</td>\n",
              "      <td>9.306700e+06</td>\n",
              "    </tr>\n",
              "    <tr>\n",
              "      <th>75%</th>\n",
              "      <td>182.850006</td>\n",
              "      <td>184.460007</td>\n",
              "      <td>181.100006</td>\n",
              "      <td>182.919998</td>\n",
              "      <td>178.551300</td>\n",
              "      <td>3.728510e+07</td>\n",
              "      <td>79.457497</td>\n",
              "      <td>80.112503</td>\n",
              "      <td>78.912498</td>\n",
              "      <td>79.577499</td>\n",
              "      <td>78.185623</td>\n",
              "      <td>2.124976e+08</td>\n",
              "      <td>361.959991</td>\n",
              "      <td>367.329987</td>\n",
              "      <td>356.619995</td>\n",
              "      <td>361.809998</td>\n",
              "      <td>361.809998</td>\n",
              "      <td>1.630250e+07</td>\n",
              "    </tr>\n",
              "    <tr>\n",
              "      <th>max</th>\n",
              "      <td>344.619995</td>\n",
              "      <td>349.670013</td>\n",
              "      <td>342.200012</td>\n",
              "      <td>343.109985</td>\n",
              "      <td>339.924835</td>\n",
              "      <td>2.484285e+08</td>\n",
              "      <td>182.630005</td>\n",
              "      <td>182.940002</td>\n",
              "      <td>179.119995</td>\n",
              "      <td>182.009995</td>\n",
              "      <td>180.959732</td>\n",
              "      <td>1.460852e+09</td>\n",
              "      <td>692.349976</td>\n",
              "      <td>700.989990</td>\n",
              "      <td>686.090027</td>\n",
              "      <td>691.690002</td>\n",
              "      <td>691.690002</td>\n",
              "      <td>1.914458e+08</td>\n",
              "    </tr>\n",
              "  </tbody>\n",
              "</table>\n",
              "</div>\n",
              "      <button class=\"colab-df-convert\" onclick=\"convertToInteractive('df-f0d92ef3-07a0-4ca8-9e8b-fc68c78ddf6a')\"\n",
              "              title=\"Convert this dataframe to an interactive table.\"\n",
              "              style=\"display:none;\">\n",
              "        \n",
              "  <svg xmlns=\"http://www.w3.org/2000/svg\" height=\"24px\"viewBox=\"0 0 24 24\"\n",
              "       width=\"24px\">\n",
              "    <path d=\"M0 0h24v24H0V0z\" fill=\"none\"/>\n",
              "    <path d=\"M18.56 5.44l.94 2.06.94-2.06 2.06-.94-2.06-.94-.94-2.06-.94 2.06-2.06.94zm-11 1L8.5 8.5l.94-2.06 2.06-.94-2.06-.94L8.5 2.5l-.94 2.06-2.06.94zm10 10l.94 2.06.94-2.06 2.06-.94-2.06-.94-.94-2.06-.94 2.06-2.06.94z\"/><path d=\"M17.41 7.96l-1.37-1.37c-.4-.4-.92-.59-1.43-.59-.52 0-1.04.2-1.43.59L10.3 9.45l-7.72 7.72c-.78.78-.78 2.05 0 2.83L4 21.41c.39.39.9.59 1.41.59.51 0 1.02-.2 1.41-.59l7.78-7.78 2.81-2.81c.8-.78.8-2.07 0-2.86zM5.41 20L4 18.59l7.72-7.72 1.47 1.35L5.41 20z\"/>\n",
              "  </svg>\n",
              "      </button>\n",
              "      \n",
              "  <style>\n",
              "    .colab-df-container {\n",
              "      display:flex;\n",
              "      flex-wrap:wrap;\n",
              "      gap: 12px;\n",
              "    }\n",
              "\n",
              "    .colab-df-convert {\n",
              "      background-color: #E8F0FE;\n",
              "      border: none;\n",
              "      border-radius: 50%;\n",
              "      cursor: pointer;\n",
              "      display: none;\n",
              "      fill: #1967D2;\n",
              "      height: 32px;\n",
              "      padding: 0 0 0 0;\n",
              "      width: 32px;\n",
              "    }\n",
              "\n",
              "    .colab-df-convert:hover {\n",
              "      background-color: #E2EBFA;\n",
              "      box-shadow: 0px 1px 2px rgba(60, 64, 67, 0.3), 0px 1px 3px 1px rgba(60, 64, 67, 0.15);\n",
              "      fill: #174EA6;\n",
              "    }\n",
              "\n",
              "    [theme=dark] .colab-df-convert {\n",
              "      background-color: #3B4455;\n",
              "      fill: #D2E3FC;\n",
              "    }\n",
              "\n",
              "    [theme=dark] .colab-df-convert:hover {\n",
              "      background-color: #434B5C;\n",
              "      box-shadow: 0px 1px 3px 1px rgba(0, 0, 0, 0.15);\n",
              "      filter: drop-shadow(0px 1px 2px rgba(0, 0, 0, 0.3));\n",
              "      fill: #FFFFFF;\n",
              "    }\n",
              "  </style>\n",
              "\n",
              "      <script>\n",
              "        const buttonEl =\n",
              "          document.querySelector('#df-f0d92ef3-07a0-4ca8-9e8b-fc68c78ddf6a button.colab-df-convert');\n",
              "        buttonEl.style.display =\n",
              "          google.colab.kernel.accessAllowed ? 'block' : 'none';\n",
              "\n",
              "        async function convertToInteractive(key) {\n",
              "          const element = document.querySelector('#df-f0d92ef3-07a0-4ca8-9e8b-fc68c78ddf6a');\n",
              "          const dataTable =\n",
              "            await google.colab.kernel.invokeFunction('convertToInteractive',\n",
              "                                                     [key], {});\n",
              "          if (!dataTable) return;\n",
              "\n",
              "          const docLinkHtml = 'Like what you see? Visit the ' +\n",
              "            '<a target=\"_blank\" href=https://colab.research.google.com/notebooks/data_table.ipynb>data table notebook</a>'\n",
              "            + ' to learn more about interactive tables.';\n",
              "          element.innerHTML = '';\n",
              "          dataTable['output_type'] = 'display_data';\n",
              "          await google.colab.output.renderOutput(dataTable, element);\n",
              "          const docLink = document.createElement('div');\n",
              "          docLink.innerHTML = docLinkHtml;\n",
              "          element.appendChild(docLink);\n",
              "        }\n",
              "      </script>\n",
              "    </div>\n",
              "  </div>\n",
              "  "
            ]
          },
          "metadata": {},
          "execution_count": 19
        }
      ],
      "source": [
        "# Mô tả dữ liệu\n",
        "comp_stocks.describe()"
      ]
    },
    {
      "cell_type": "code",
      "execution_count": null,
      "metadata": {
        "colab": {
          "base_uri": "https://localhost:8080/"
        },
        "id": "WuDKMGAlTT9d",
        "outputId": "6671ffb5-d2bf-4340-83ca-97fbf015da16"
      },
      "outputs": [
        {
          "output_type": "execute_result",
          "data": {
            "text/plain": [
              "<matplotlib.legend.Legend at 0x7f3f6f11d1f0>"
            ]
          },
          "metadata": {},
          "execution_count": 20
        },
        {
          "output_type": "display_data",
          "data": {
            "text/plain": [
              "<Figure size 864x288 with 1 Axes>"
            ],
            "image/png": "[encoded data removed]"
          },
          "metadata": {
            "needs_background": "light"
          }
        }
      ],
      "source": [
        "# Lập biểu đồ giá đóng cửa của 3 công ty\n",
        "for tick in list_companies:\n",
        "    comp_stocks[tick]['Close'].plot(figsize=(12,4),label=tick)\n",
        "plt.legend()"
      ]
    },
    {
      "cell_type": "code",
      "execution_count": null,
      "metadata": {
        "id": "VLCplhBdNcpm"
      },
      "outputs": [],
      "source": [
        "comp_stocks.columns.names = ['Bank Name','Stock Info']"
      ]
    },
    {
      "cell_type": "code",
      "execution_count": null,
      "metadata": {
        "colab": {
          "base_uri": "https://localhost:8080/"
        },
        "id": "3V6GbqskG0oz",
        "outputId": "6ebc76f7-ca77-4b0c-f73d-70fb44fa0df2"
      },
      "outputs": [
        {
          "output_type": "execute_result",
          "data": {
            "text/plain": [
              "<matplotlib.axes._subplots.AxesSubplot at 0x7f3f6f2d3d60>"
            ]
          },
          "metadata": {},
          "execution_count": 22
        },
        {
          "output_type": "display_data",
          "data": {
            "text/plain": [
              "<Figure size 864x360 with 2 Axes>"
            ],
            "image/png": "[encoded data removed]"
          },
          "metadata": {
            "needs_background": "light"
          }
        }
      ],
      "source": [
        "plt.figure(figsize=(12,5))\n",
        "sns.heatmap(comp_stocks.xs(key='Close',axis=1,level='Stock Info').corr(),annot=True)"
      ]
    },
    {
      "cell_type": "markdown",
      "metadata": {
        "id": "viqPLdTmy3L5"
      },
      "source": [
        "# TIỀN XỬ LÍ DỮ LIỆU"
      ]
    },
    {
      "cell_type": "code",
      "execution_count": null,
      "metadata": {
        "colab": {
          "base_uri": "https://localhost:8080/"
        },
        "id": "5bOO5G20y_Ph",
        "outputId": "6a84ab05-3aad-4147-df0c-9edc558f03fb"
      },
      "outputs": [
        {
          "output_type": "execute_result",
          "data": {
            "text/plain": [
              "DatetimeIndex(['2012-11-01', '2012-11-02', '2012-11-05', '2012-11-06',\n",
              "               '2012-11-07', '2012-11-08', '2012-11-09', '2012-11-12',\n",
              "               '2012-11-13', '2012-11-14',\n",
              "               ...\n",
              "               '2022-10-18', '2022-10-19', '2022-10-20', '2022-10-21',\n",
              "               '2022-10-24', '2022-10-25', '2022-10-26', '2022-10-27',\n",
              "               '2022-10-28', '2022-10-31'],\n",
              "              dtype='datetime64[ns]', name='Date', length=2517, freq=None)"
            ]
          },
          "metadata": {},
          "execution_count": 23
        }
      ],
      "source": [
        "NFLX.index"
      ]
    },
    {
      "cell_type": "code",
      "execution_count": null,
      "metadata": {
        "colab": {
          "base_uri": "https://localhost:8080/"
        },
        "id": "9gecsqLLiqQM",
        "outputId": "92c71b22-6fce-469b-a742-18a983627caa"
      },
      "outputs": [
        {
          "output_type": "stream",
          "name": "stderr",
          "text": [
            "<ipython-input-24-93956c773ec1>:6: SettingWithCopyWarning: \n",
            "A value is trying to be set on a copy of a slice from a DataFrame.\n",
            "Try using .loc[row_indexer,col_indexer] = value instead\n",
            "\n",
            "See the caveats in the documentation: https://pandas.pydata.org/pandas-docs/stable/user_guide/indexing.html#returning-a-view-versus-a-copy\n",
            "  MSFT_data[\"Target\"] = MSFT.rolling(2).apply(lambda x: x.iloc[1] > x.iloc[0])[\"Adj Close\"]\n",
            "<ipython-input-24-93956c773ec1>:7: SettingWithCopyWarning: \n",
            "A value is trying to be set on a copy of a slice from a DataFrame.\n",
            "Try using .loc[row_indexer,col_indexer] = value instead\n",
            "\n",
            "See the caveats in the documentation: https://pandas.pydata.org/pandas-docs/stable/user_guide/indexing.html#returning-a-view-versus-a-copy\n",
            "  NFLX_data[\"Target\"] = NFLX.rolling(2).apply(lambda x: x.iloc[1] > x.iloc[0])[\"Adj Close\"]\n",
            "<ipython-input-24-93956c773ec1>:8: SettingWithCopyWarning: \n",
            "A value is trying to be set on a copy of a slice from a DataFrame.\n",
            "Try using .loc[row_indexer,col_indexer] = value instead\n",
            "\n",
            "See the caveats in the documentation: https://pandas.pydata.org/pandas-docs/stable/user_guide/indexing.html#returning-a-view-versus-a-copy\n",
            "  AAPL_data[\"Target\"] = AAPL.rolling(2).apply(lambda x: x.iloc[1] > x.iloc[0])[\"Adj Close\"]\n"
          ]
        }
      ],
      "source": [
        "MSFT_data = MSFT[[\"Adj Close\"]]\n",
        "NFLX_data = NFLX[[\"Adj Close\"]]\n",
        "AAPL_data = AAPL[[\"Adj Close\"]]\n",
        "\n",
        "# Thiết lập Target của chúng ta.  Điều này xác định khi giá tăng hoặc giảm\n",
        "MSFT_data[\"Target\"] = MSFT.rolling(2).apply(lambda x: x.iloc[1] > x.iloc[0])[\"Adj Close\"]\n",
        "NFLX_data[\"Target\"] = NFLX.rolling(2).apply(lambda x: x.iloc[1] > x.iloc[0])[\"Adj Close\"]\n",
        "AAPL_data[\"Target\"] = AAPL.rolling(2).apply(lambda x: x.iloc[1] > x.iloc[0])[\"Adj Close\"]"
      ]
    },
    {
      "cell_type": "code",
      "execution_count": null,
      "metadata": {
        "id": "R0q4URuusvno"
      },
      "outputs": [],
      "source": [
        "MSFT_prev = MSFT.copy()\n",
        "MSFT_prev = MSFT_prev.shift(1)"
      ]
    },
    {
      "cell_type": "code",
      "execution_count": null,
      "metadata": {
        "id": "zOwA0nkO8jZz"
      },
      "outputs": [],
      "source": [
        "NFLX_prev = NFLX.copy()\n",
        "NFLX_prev = NFLX_prev.shift(1)"
      ]
    },
    {
      "cell_type": "code",
      "execution_count": null,
      "metadata": {
        "id": "sA7kYlw0HV6l"
      },
      "outputs": [],
      "source": [
        "AAPL_prev = AAPL.copy()\n",
        "AAPL_prev = AAPL_prev.shift(1)"
      ]
    },
    {
      "cell_type": "code",
      "execution_count": null,
      "metadata": {
        "colab": {
          "base_uri": "https://localhost:8080/",
          "height": 238
        },
        "id": "3X3tZxlKtnPz",
        "outputId": "6e0c539e-17ce-41f9-a0c3-035031f73808"
      },
      "outputs": [
        {
          "output_type": "execute_result",
          "data": {
            "text/plain": [
              "                 Open       High        Low      Close  Adj Close      Volume\n",
              "Date                                                                         \n",
              "2012-11-01        NaN        NaN        NaN        NaN        NaN         NaN\n",
              "2012-11-02  28.840000  29.559999  28.820000  29.520000  24.142984  72047900.0\n",
              "2012-11-05  29.590000  29.770000  29.330000  29.500000  24.126627  57131600.0\n",
              "2012-11-06  29.620001  29.740000  29.330000  29.629999  24.232943  38070800.0\n",
              "2012-11-07  29.820000  30.200001  29.610001  29.860001  24.421057  43401500.0"
            ],
            "text/html": [
              "\n",
              "  <div id=\"df-88c69655-a6ee-43fa-881f-42c15afd96a7\">\n",
              "    <div class=\"colab-df-container\">\n",
              "      <div>\n",
              "<style scoped>\n",
              "    .dataframe tbody tr th:only-of-type {\n",
              "        vertical-align: middle;\n",
              "    }\n",
              "\n",
              "    .dataframe tbody tr th {\n",
              "        vertical-align: top;\n",
              "    }\n",
              "\n",
              "    .dataframe thead th {\n",
              "        text-align: right;\n",
              "    }\n",
              "</style>\n",
              "<table border=\"1\" class=\"dataframe\">\n",
              "  <thead>\n",
              "    <tr style=\"text-align: right;\">\n",
              "      <th></th>\n",
              "      <th>Open</th>\n",
              "      <th>High</th>\n",
              "      <th>Low</th>\n",
              "      <th>Close</th>\n",
              "      <th>Adj Close</th>\n",
              "      <th>Volume</th>\n",
              "    </tr>\n",
              "    <tr>\n",
              "      <th>Date</th>\n",
              "      <th></th>\n",
              "      <th></th>\n",
              "      <th></th>\n",
              "      <th></th>\n",
              "      <th></th>\n",
              "      <th></th>\n",
              "    </tr>\n",
              "  </thead>\n",
              "  <tbody>\n",
              "    <tr>\n",
              "      <th>2012-11-01</th>\n",
              "      <td>NaN</td>\n",
              "      <td>NaN</td>\n",
              "      <td>NaN</td>\n",
              "      <td>NaN</td>\n",
              "      <td>NaN</td>\n",
              "      <td>NaN</td>\n",
              "    </tr>\n",
              "    <tr>\n",
              "      <th>2012-11-02</th>\n",
              "      <td>28.840000</td>\n",
              "      <td>29.559999</td>\n",
              "      <td>28.820000</td>\n",
              "      <td>29.520000</td>\n",
              "      <td>24.142984</td>\n",
              "      <td>72047900.0</td>\n",
              "    </tr>\n",
              "    <tr>\n",
              "      <th>2012-11-05</th>\n",
              "      <td>29.590000</td>\n",
              "      <td>29.770000</td>\n",
              "      <td>29.330000</td>\n",
              "      <td>29.500000</td>\n",
              "      <td>24.126627</td>\n",
              "      <td>57131600.0</td>\n",
              "    </tr>\n",
              "    <tr>\n",
              "      <th>2012-11-06</th>\n",
              "      <td>29.620001</td>\n",
              "      <td>29.740000</td>\n",
              "      <td>29.330000</td>\n",
              "      <td>29.629999</td>\n",
              "      <td>24.232943</td>\n",
              "      <td>38070800.0</td>\n",
              "    </tr>\n",
              "    <tr>\n",
              "      <th>2012-11-07</th>\n",
              "      <td>29.820000</td>\n",
              "      <td>30.200001</td>\n",
              "      <td>29.610001</td>\n",
              "      <td>29.860001</td>\n",
              "      <td>24.421057</td>\n",
              "      <td>43401500.0</td>\n",
              "    </tr>\n",
              "  </tbody>\n",
              "</table>\n",
              "</div>\n",
              "      <button class=\"colab-df-convert\" onclick=\"convertToInteractive('df-88c69655-a6ee-43fa-881f-42c15afd96a7')\"\n",
              "              title=\"Convert this dataframe to an interactive table.\"\n",
              "              style=\"display:none;\">\n",
              "        \n",
              "  <svg xmlns=\"http://www.w3.org/2000/svg\" height=\"24px\"viewBox=\"0 0 24 24\"\n",
              "       width=\"24px\">\n",
              "    <path d=\"M0 0h24v24H0V0z\" fill=\"none\"/>\n",
              "    <path d=\"M18.56 5.44l.94 2.06.94-2.06 2.06-.94-2.06-.94-.94-2.06-.94 2.06-2.06.94zm-11 1L8.5 8.5l.94-2.06 2.06-.94-2.06-.94L8.5 2.5l-.94 2.06-2.06.94zm10 10l.94 2.06.94-2.06 2.06-.94-2.06-.94-.94-2.06-.94 2.06-2.06.94z\"/><path d=\"M17.41 7.96l-1.37-1.37c-.4-.4-.92-.59-1.43-.59-.52 0-1.04.2-1.43.59L10.3 9.45l-7.72 7.72c-.78.78-.78 2.05 0 2.83L4 21.41c.39.39.9.59 1.41.59.51 0 1.02-.2 1.41-.59l7.78-7.78 2.81-2.81c.8-.78.8-2.07 0-2.86zM5.41 20L4 18.59l7.72-7.72 1.47 1.35L5.41 20z\"/>\n",
              "  </svg>\n",
              "      </button>\n",
              "      \n",
              "  <style>\n",
              "    .colab-df-container {\n",
              "      display:flex;\n",
              "      flex-wrap:wrap;\n",
              "      gap: 12px;\n",
              "    }\n",
              "\n",
              "    .colab-df-convert {\n",
              "      background-color: #E8F0FE;\n",
              "      border: none;\n",
              "      border-radius: 50%;\n",
              "      cursor: pointer;\n",
              "      display: none;\n",
              "      fill: #1967D2;\n",
              "      height: 32px;\n",
              "      padding: 0 0 0 0;\n",
              "      width: 32px;\n",
              "    }\n",
              "\n",
              "    .colab-df-convert:hover {\n",
              "      background-color: #E2EBFA;\n",
              "      box-shadow: 0px 1px 2px rgba(60, 64, 67, 0.3), 0px 1px 3px 1px rgba(60, 64, 67, 0.15);\n",
              "      fill: #174EA6;\n",
              "    }\n",
              "\n",
              "    [theme=dark] .colab-df-convert {\n",
              "      background-color: #3B4455;\n",
              "      fill: #D2E3FC;\n",
              "    }\n",
              "\n",
              "    [theme=dark] .colab-df-convert:hover {\n",
              "      background-color: #434B5C;\n",
              "      box-shadow: 0px 1px 3px 1px rgba(0, 0, 0, 0.15);\n",
              "      filter: drop-shadow(0px 1px 2px rgba(0, 0, 0, 0.3));\n",
              "      fill: #FFFFFF;\n",
              "    }\n",
              "  </style>\n",
              "\n",
              "      <script>\n",
              "        const buttonEl =\n",
              "          document.querySelector('#df-88c69655-a6ee-43fa-881f-42c15afd96a7 button.colab-df-convert');\n",
              "        buttonEl.style.display =\n",
              "          google.colab.kernel.accessAllowed ? 'block' : 'none';\n",
              "\n",
              "        async function convertToInteractive(key) {\n",
              "          const element = document.querySelector('#df-88c69655-a6ee-43fa-881f-42c15afd96a7');\n",
              "          const dataTable =\n",
              "            await google.colab.kernel.invokeFunction('convertToInteractive',\n",
              "                                                     [key], {});\n",
              "          if (!dataTable) return;\n",
              "\n",
              "          const docLinkHtml = 'Like what you see? Visit the ' +\n",
              "            '<a target=\"_blank\" href=https://colab.research.google.com/notebooks/data_table.ipynb>data table notebook</a>'\n",
              "            + ' to learn more about interactive tables.';\n",
              "          element.innerHTML = '';\n",
              "          dataTable['output_type'] = 'display_data';\n",
              "          await google.colab.output.renderOutput(dataTable, element);\n",
              "          const docLink = document.createElement('div');\n",
              "          docLink.innerHTML = docLinkHtml;\n",
              "          element.appendChild(docLink);\n",
              "        }\n",
              "      </script>\n",
              "    </div>\n",
              "  </div>\n",
              "  "
            ]
          },
          "metadata": {},
          "execution_count": 28
        }
      ],
      "source": [
        "MSFT_prev.head()"
      ]
    },
    {
      "cell_type": "code",
      "execution_count": null,
      "metadata": {
        "colab": {
          "base_uri": "https://localhost:8080/",
          "height": 238
        },
        "id": "0txEwLrB8yk4",
        "outputId": "9615c073-04b4-42a2-ac6b-e60f6d7d5409"
      },
      "outputs": [
        {
          "output_type": "execute_result",
          "data": {
            "text/plain": [
              "                 Open       High        Low      Close  Adj Close      Volume\n",
              "Date                                                                         \n",
              "2012-11-01        NaN        NaN        NaN        NaN        NaN         NaN\n",
              "2012-11-02  11.121429  11.384286  10.664286  11.098571  11.098571  62669600.0\n",
              "2012-11-05  11.035714  11.407143  10.852857  10.985714  10.985714  29650600.0\n",
              "2012-11-06  10.652857  11.277143  10.642857  11.177143  11.177143  29016400.0\n",
              "2012-11-07  11.008571  11.421429  10.815714  10.910000  10.910000  39102700.0"
            ],
            "text/html": [
              "\n",
              "  <div id=\"df-9009f598-531c-4221-a7fa-be3245e1746f\">\n",
              "    <div class=\"colab-df-container\">\n",
              "      <div>\n",
              "<style scoped>\n",
              "    .dataframe tbody tr th:only-of-type {\n",
              "        vertical-align: middle;\n",
              "    }\n",
              "\n",
              "    .dataframe tbody tr th {\n",
              "        vertical-align: top;\n",
              "    }\n",
              "\n",
              "    .dataframe thead th {\n",
              "        text-align: right;\n",
              "    }\n",
              "</style>\n",
              "<table border=\"1\" class=\"dataframe\">\n",
              "  <thead>\n",
              "    <tr style=\"text-align: right;\">\n",
              "      <th></th>\n",
              "      <th>Open</th>\n",
              "      <th>High</th>\n",
              "      <th>Low</th>\n",
              "      <th>Close</th>\n",
              "      <th>Adj Close</th>\n",
              "      <th>Volume</th>\n",
              "    </tr>\n",
              "    <tr>\n",
              "      <th>Date</th>\n",
              "      <th></th>\n",
              "      <th></th>\n",
              "      <th></th>\n",
              "      <th></th>\n",
              "      <th></th>\n",
              "      <th></th>\n",
              "    </tr>\n",
              "  </thead>\n",
              "  <tbody>\n",
              "    <tr>\n",
              "      <th>2012-11-01</th>\n",
              "      <td>NaN</td>\n",
              "      <td>NaN</td>\n",
              "      <td>NaN</td>\n",
              "      <td>NaN</td>\n",
              "      <td>NaN</td>\n",
              "      <td>NaN</td>\n",
              "    </tr>\n",
              "    <tr>\n",
              "      <th>2012-11-02</th>\n",
              "      <td>11.121429</td>\n",
              "      <td>11.384286</td>\n",
              "      <td>10.664286</td>\n",
              "      <td>11.098571</td>\n",
              "      <td>11.098571</td>\n",
              "      <td>62669600.0</td>\n",
              "    </tr>\n",
              "    <tr>\n",
              "      <th>2012-11-05</th>\n",
              "      <td>11.035714</td>\n",
              "      <td>11.407143</td>\n",
              "      <td>10.852857</td>\n",
              "      <td>10.985714</td>\n",
              "      <td>10.985714</td>\n",
              "      <td>29650600.0</td>\n",
              "    </tr>\n",
              "    <tr>\n",
              "      <th>2012-11-06</th>\n",
              "      <td>10.652857</td>\n",
              "      <td>11.277143</td>\n",
              "      <td>10.642857</td>\n",
              "      <td>11.177143</td>\n",
              "      <td>11.177143</td>\n",
              "      <td>29016400.0</td>\n",
              "    </tr>\n",
              "    <tr>\n",
              "      <th>2012-11-07</th>\n",
              "      <td>11.008571</td>\n",
              "      <td>11.421429</td>\n",
              "      <td>10.815714</td>\n",
              "      <td>10.910000</td>\n",
              "      <td>10.910000</td>\n",
              "      <td>39102700.0</td>\n",
              "    </tr>\n",
              "  </tbody>\n",
              "</table>\n",
              "</div>\n",
              "      <button class=\"colab-df-convert\" onclick=\"convertToInteractive('df-9009f598-531c-4221-a7fa-be3245e1746f')\"\n",
              "              title=\"Convert this dataframe to an interactive table.\"\n",
              "              style=\"display:none;\">\n",
              "        \n",
              "  <svg xmlns=\"http://www.w3.org/2000/svg\" height=\"24px\"viewBox=\"0 0 24 24\"\n",
              "       width=\"24px\">\n",
              "    <path d=\"M0 0h24v24H0V0z\" fill=\"none\"/>\n",
              "    <path d=\"M18.56 5.44l.94 2.06.94-2.06 2.06-.94-2.06-.94-.94-2.06-.94 2.06-2.06.94zm-11 1L8.5 8.5l.94-2.06 2.06-.94-2.06-.94L8.5 2.5l-.94 2.06-2.06.94zm10 10l.94 2.06.94-2.06 2.06-.94-2.06-.94-.94-2.06-.94 2.06-2.06.94z\"/><path d=\"M17.41 7.96l-1.37-1.37c-.4-.4-.92-.59-1.43-.59-.52 0-1.04.2-1.43.59L10.3 9.45l-7.72 7.72c-.78.78-.78 2.05 0 2.83L4 21.41c.39.39.9.59 1.41.59.51 0 1.02-.2 1.41-.59l7.78-7.78 2.81-2.81c.8-.78.8-2.07 0-2.86zM5.41 20L4 18.59l7.72-7.72 1.47 1.35L5.41 20z\"/>\n",
              "  </svg>\n",
              "      </button>\n",
              "      \n",
              "  <style>\n",
              "    .colab-df-container {\n",
              "      display:flex;\n",
              "      flex-wrap:wrap;\n",
              "      gap: 12px;\n",
              "    }\n",
              "\n",
              "    .colab-df-convert {\n",
              "      background-color: #E8F0FE;\n",
              "      border: none;\n",
              "      border-radius: 50%;\n",
              "      cursor: pointer;\n",
              "      display: none;\n",
              "      fill: #1967D2;\n",
              "      height: 32px;\n",
              "      padding: 0 0 0 0;\n",
              "      width: 32px;\n",
              "    }\n",
              "\n",
              "    .colab-df-convert:hover {\n",
              "      background-color: #E2EBFA;\n",
              "      box-shadow: 0px 1px 2px rgba(60, 64, 67, 0.3), 0px 1px 3px 1px rgba(60, 64, 67, 0.15);\n",
              "      fill: #174EA6;\n",
              "    }\n",
              "\n",
              "    [theme=dark] .colab-df-convert {\n",
              "      background-color: #3B4455;\n",
              "      fill: #D2E3FC;\n",
              "    }\n",
              "\n",
              "    [theme=dark] .colab-df-convert:hover {\n",
              "      background-color: #434B5C;\n",
              "      box-shadow: 0px 1px 3px 1px rgba(0, 0, 0, 0.15);\n",
              "      filter: drop-shadow(0px 1px 2px rgba(0, 0, 0, 0.3));\n",
              "      fill: #FFFFFF;\n",
              "    }\n",
              "  </style>\n",
              "\n",
              "      <script>\n",
              "        const buttonEl =\n",
              "          document.querySelector('#df-9009f598-531c-4221-a7fa-be3245e1746f button.colab-df-convert');\n",
              "        buttonEl.style.display =\n",
              "          google.colab.kernel.accessAllowed ? 'block' : 'none';\n",
              "\n",
              "        async function convertToInteractive(key) {\n",
              "          const element = document.querySelector('#df-9009f598-531c-4221-a7fa-be3245e1746f');\n",
              "          const dataTable =\n",
              "            await google.colab.kernel.invokeFunction('convertToInteractive',\n",
              "                                                     [key], {});\n",
              "          if (!dataTable) return;\n",
              "\n",
              "          const docLinkHtml = 'Like what you see? Visit the ' +\n",
              "            '<a target=\"_blank\" href=https://colab.research.google.com/notebooks/data_table.ipynb>data table notebook</a>'\n",
              "            + ' to learn more about interactive tables.';\n",
              "          element.innerHTML = '';\n",
              "          dataTable['output_type'] = 'display_data';\n",
              "          await google.colab.output.renderOutput(dataTable, element);\n",
              "          const docLink = document.createElement('div');\n",
              "          docLink.innerHTML = docLinkHtml;\n",
              "          element.appendChild(docLink);\n",
              "        }\n",
              "      </script>\n",
              "    </div>\n",
              "  </div>\n",
              "  "
            ]
          },
          "metadata": {},
          "execution_count": 29
        }
      ],
      "source": [
        "NFLX_prev.head()"
      ]
    },
    {
      "cell_type": "markdown",
      "metadata": {
        "id": "dAoA0P2ttwiS"
      },
      "source": [
        "Đoạn phía trên, chúng ta sẽ sử dụng phương pháp dịch chuyển DataFrame để di chuyển tất cả các hàng “về phía trước” trong một ngày giao dịch.\n",
        "Ở đây có thể thấy, giá của ngày 1 tháng 8 đang nằm trong ngày 2 tháng 8, và mọi giá khác được chuyển lên trên một hàng. Điều này nhằm đảm bảo rằng chúng ta đang dự đoán giá trong tương lai bằng cách sử dụng dữ liệu trong quá khứ.\n",
        "\n",
        "Nếu không làm điều này, chúng ta sẽ sử dụng dữ liệu từ 2 tháng 8 để dự đoán giá trên 2 tháng 8. Thay vào đó, chúng ta cần sử dụng dữ liệu từ 1 tháng 8 để dự đoán giá trên 2 tháng 8. Nếu không làm điều đó, trong thử nghiệm mô hình vẫn tuyệt vời nhưng hoàn toàn không thể làm được trong thế giới thực. Trong thế giới thực, chúng ta không thực sự biết giá của ngày mai, vì vậy chúng ta không thể sử dụng nó để đưa ra dự đoán của mình."
      ]
    },
    {
      "cell_type": "code",
      "execution_count": null,
      "metadata": {
        "id": "iv_CPaYQmJRe"
      },
      "outputs": [],
      "source": [
        "# Tạo bảng có x đúng với ngày hôm đó và nối với giá đóng cửa của ngày hôm trước\n",
        "x = [\"Close\", \"Volume\", \"Open\", \"High\", \"Low\"]\n",
        "MSFT_data = MSFT_data.join(MSFT_prev[x]).iloc[1:]\n",
        "NFLX_data = NFLX_data.join(NFLX_prev[x]).iloc[1:]\n",
        "AAPL_data = AAPL_data.join(AAPL_prev[x]).iloc[1:]"
      ]
    },
    {
      "cell_type": "code",
      "execution_count": null,
      "metadata": {
        "id": "xcByf3LBmgoZ"
      },
      "outputs": [],
      "source": [
        "MSFT_data = MSFT_data.reset_index()"
      ]
    },
    {
      "cell_type": "code",
      "source": [
        "NFLX_data = NFLX_data.reset_index()"
      ],
      "metadata": {
        "id": "UBpYQUwHpfvf"
      },
      "execution_count": null,
      "outputs": []
    },
    {
      "cell_type": "code",
      "source": [
        "AAPL_data = AAPL_data.reset_index()"
      ],
      "metadata": {
        "id": "rB8T7V-xpjNq"
      },
      "execution_count": null,
      "outputs": []
    },
    {
      "cell_type": "code",
      "execution_count": null,
      "metadata": {
        "colab": {
          "base_uri": "https://localhost:8080/",
          "height": 424
        },
        "id": "dMF8jF7b4iZO",
        "outputId": "5d1af7bf-e515-4962-b78a-cd91b3a21dbc"
      },
      "outputs": [
        {
          "output_type": "execute_result",
          "data": {
            "text/plain": [
              "           Date   Adj Close  Target       Close      Volume        Open  \\\n",
              "0    2012-11-02   24.126627     0.0   29.520000  72047900.0   28.840000   \n",
              "1    2012-11-05   24.232943     1.0   29.500000  57131600.0   29.590000   \n",
              "2    2012-11-06   24.421057     1.0   29.629999  38070800.0   29.620001   \n",
              "3    2012-11-07   23.783127     0.0   29.860001  43401500.0   29.820000   \n",
              "4    2012-11-08   23.562311     0.0   29.080000  57871800.0   29.530001   \n",
              "...         ...         ...     ...         ...         ...         ...   \n",
              "2511 2022-10-25  249.955582     1.0  247.250000  24911200.0  243.759995   \n",
              "2512 2022-10-26  230.669937     0.0  250.660004  34775500.0  247.259995   \n",
              "2513 2022-10-27  226.112778     0.0  231.320007  82543200.0  231.169998   \n",
              "2514 2022-10-28  235.207138     1.0  226.750000  40424600.0  231.039993   \n",
              "2515 2022-10-31  231.477661     0.0  235.869995  40647700.0  226.240005   \n",
              "\n",
              "            High         Low  \n",
              "0      29.559999   28.820000  \n",
              "1      29.770000   29.330000  \n",
              "2      29.740000   29.330000  \n",
              "3      30.200001   29.610001  \n",
              "4      29.830000   29.049999  \n",
              "...          ...         ...  \n",
              "2511  247.839996  241.300003  \n",
              "2512  251.039993  245.830002  \n",
              "2513  238.300003  230.059998  \n",
              "2514  233.690002  225.779999  \n",
              "2515  236.600006  226.050003  \n",
              "\n",
              "[2516 rows x 8 columns]"
            ],
            "text/html": [
              "\n",
              "  <div id=\"df-b2448ec0-5e57-475b-92d3-4025a0f39ec3\">\n",
              "    <div class=\"colab-df-container\">\n",
              "      <div>\n",
              "<style scoped>\n",
              "    .dataframe tbody tr th:only-of-type {\n",
              "        vertical-align: middle;\n",
              "    }\n",
              "\n",
              "    .dataframe tbody tr th {\n",
              "        vertical-align: top;\n",
              "    }\n",
              "\n",
              "    .dataframe thead th {\n",
              "        text-align: right;\n",
              "    }\n",
              "</style>\n",
              "<table border=\"1\" class=\"dataframe\">\n",
              "  <thead>\n",
              "    <tr style=\"text-align: right;\">\n",
              "      <th></th>\n",
              "      <th>Date</th>\n",
              "      <th>Adj Close</th>\n",
              "      <th>Target</th>\n",
              "      <th>Close</th>\n",
              "      <th>Volume</th>\n",
              "      <th>Open</th>\n",
              "      <th>High</th>\n",
              "      <th>Low</th>\n",
              "    </tr>\n",
              "  </thead>\n",
              "  <tbody>\n",
              "    <tr>\n",
              "      <th>0</th>\n",
              "      <td>2012-11-02</td>\n",
              "      <td>24.126627</td>\n",
              "      <td>0.0</td>\n",
              "      <td>29.520000</td>\n",
              "      <td>72047900.0</td>\n",
              "      <td>28.840000</td>\n",
              "      <td>29.559999</td>\n",
              "      <td>28.820000</td>\n",
              "    </tr>\n",
              "    <tr>\n",
              "      <th>1</th>\n",
              "      <td>2012-11-05</td>\n",
              "      <td>24.232943</td>\n",
              "      <td>1.0</td>\n",
              "      <td>29.500000</td>\n",
              "      <td>57131600.0</td>\n",
              "      <td>29.590000</td>\n",
              "      <td>29.770000</td>\n",
              "      <td>29.330000</td>\n",
              "    </tr>\n",
              "    <tr>\n",
              "      <th>2</th>\n",
              "      <td>2012-11-06</td>\n",
              "      <td>24.421057</td>\n",
              "      <td>1.0</td>\n",
              "      <td>29.629999</td>\n",
              "      <td>38070800.0</td>\n",
              "      <td>29.620001</td>\n",
              "      <td>29.740000</td>\n",
              "      <td>29.330000</td>\n",
              "    </tr>\n",
              "    <tr>\n",
              "      <th>3</th>\n",
              "      <td>2012-11-07</td>\n",
              "      <td>23.783127</td>\n",
              "      <td>0.0</td>\n",
              "      <td>29.860001</td>\n",
              "      <td>43401500.0</td>\n",
              "      <td>29.820000</td>\n",
              "      <td>30.200001</td>\n",
              "      <td>29.610001</td>\n",
              "    </tr>\n",
              "    <tr>\n",
              "      <th>4</th>\n",
              "      <td>2012-11-08</td>\n",
              "      <td>23.562311</td>\n",
              "      <td>0.0</td>\n",
              "      <td>29.080000</td>\n",
              "      <td>57871800.0</td>\n",
              "      <td>29.530001</td>\n",
              "      <td>29.830000</td>\n",
              "      <td>29.049999</td>\n",
              "    </tr>\n",
              "    <tr>\n",
              "      <th>...</th>\n",
              "      <td>...</td>\n",
              "      <td>...</td>\n",
              "      <td>...</td>\n",
              "      <td>...</td>\n",
              "      <td>...</td>\n",
              "      <td>...</td>\n",
              "      <td>...</td>\n",
              "      <td>...</td>\n",
              "    </tr>\n",
              "    <tr>\n",
              "      <th>2511</th>\n",
              "      <td>2022-10-25</td>\n",
              "      <td>249.955582</td>\n",
              "      <td>1.0</td>\n",
              "      <td>247.250000</td>\n",
              "      <td>24911200.0</td>\n",
              "      <td>243.759995</td>\n",
              "      <td>247.839996</td>\n",
              "      <td>241.300003</td>\n",
              "    </tr>\n",
              "    <tr>\n",
              "      <th>2512</th>\n",
              "      <td>2022-10-26</td>\n",
              "      <td>230.669937</td>\n",
              "      <td>0.0</td>\n",
              "      <td>250.660004</td>\n",
              "      <td>34775500.0</td>\n",
              "      <td>247.259995</td>\n",
              "      <td>251.039993</td>\n",
              "      <td>245.830002</td>\n",
              "    </tr>\n",
              "    <tr>\n",
              "      <th>2513</th>\n",
              "      <td>2022-10-27</td>\n",
              "      <td>226.112778</td>\n",
              "      <td>0.0</td>\n",
              "      <td>231.320007</td>\n",
              "      <td>82543200.0</td>\n",
              "      <td>231.169998</td>\n",
              "      <td>238.300003</td>\n",
              "      <td>230.059998</td>\n",
              "    </tr>\n",
              "    <tr>\n",
              "      <th>2514</th>\n",
              "      <td>2022-10-28</td>\n",
              "      <td>235.207138</td>\n",
              "      <td>1.0</td>\n",
              "      <td>226.750000</td>\n",
              "      <td>40424600.0</td>\n",
              "      <td>231.039993</td>\n",
              "      <td>233.690002</td>\n",
              "      <td>225.779999</td>\n",
              "    </tr>\n",
              "    <tr>\n",
              "      <th>2515</th>\n",
              "      <td>2022-10-31</td>\n",
              "      <td>231.477661</td>\n",
              "      <td>0.0</td>\n",
              "      <td>235.869995</td>\n",
              "      <td>40647700.0</td>\n",
              "      <td>226.240005</td>\n",
              "      <td>236.600006</td>\n",
              "      <td>226.050003</td>\n",
              "    </tr>\n",
              "  </tbody>\n",
              "</table>\n",
              "<p>2516 rows × 8 columns</p>\n",
              "</div>\n",
              "      <button class=\"colab-df-convert\" onclick=\"convertToInteractive('df-b2448ec0-5e57-475b-92d3-4025a0f39ec3')\"\n",
              "              title=\"Convert this dataframe to an interactive table.\"\n",
              "              style=\"display:none;\">\n",
              "        \n",
              "  <svg xmlns=\"http://www.w3.org/2000/svg\" height=\"24px\"viewBox=\"0 0 24 24\"\n",
              "       width=\"24px\">\n",
              "    <path d=\"M0 0h24v24H0V0z\" fill=\"none\"/>\n",
              "    <path d=\"M18.56 5.44l.94 2.06.94-2.06 2.06-.94-2.06-.94-.94-2.06-.94 2.06-2.06.94zm-11 1L8.5 8.5l.94-2.06 2.06-.94-2.06-.94L8.5 2.5l-.94 2.06-2.06.94zm10 10l.94 2.06.94-2.06 2.06-.94-2.06-.94-.94-2.06-.94 2.06-2.06.94z\"/><path d=\"M17.41 7.96l-1.37-1.37c-.4-.4-.92-.59-1.43-.59-.52 0-1.04.2-1.43.59L10.3 9.45l-7.72 7.72c-.78.78-.78 2.05 0 2.83L4 21.41c.39.39.9.59 1.41.59.51 0 1.02-.2 1.41-.59l7.78-7.78 2.81-2.81c.8-.78.8-2.07 0-2.86zM5.41 20L4 18.59l7.72-7.72 1.47 1.35L5.41 20z\"/>\n",
              "  </svg>\n",
              "      </button>\n",
              "      \n",
              "  <style>\n",
              "    .colab-df-container {\n",
              "      display:flex;\n",
              "      flex-wrap:wrap;\n",
              "      gap: 12px;\n",
              "    }\n",
              "\n",
              "    .colab-df-convert {\n",
              "      background-color: #E8F0FE;\n",
              "      border: none;\n",
              "      border-radius: 50%;\n",
              "      cursor: pointer;\n",
              "      display: none;\n",
              "      fill: #1967D2;\n",
              "      height: 32px;\n",
              "      padding: 0 0 0 0;\n",
              "      width: 32px;\n",
              "    }\n",
              "\n",
              "    .colab-df-convert:hover {\n",
              "      background-color: #E2EBFA;\n",
              "      box-shadow: 0px 1px 2px rgba(60, 64, 67, 0.3), 0px 1px 3px 1px rgba(60, 64, 67, 0.15);\n",
              "      fill: #174EA6;\n",
              "    }\n",
              "\n",
              "    [theme=dark] .colab-df-convert {\n",
              "      background-color: #3B4455;\n",
              "      fill: #D2E3FC;\n",
              "    }\n",
              "\n",
              "    [theme=dark] .colab-df-convert:hover {\n",
              "      background-color: #434B5C;\n",
              "      box-shadow: 0px 1px 3px 1px rgba(0, 0, 0, 0.15);\n",
              "      filter: drop-shadow(0px 1px 2px rgba(0, 0, 0, 0.3));\n",
              "      fill: #FFFFFF;\n",
              "    }\n",
              "  </style>\n",
              "\n",
              "      <script>\n",
              "        const buttonEl =\n",
              "          document.querySelector('#df-b2448ec0-5e57-475b-92d3-4025a0f39ec3 button.colab-df-convert');\n",
              "        buttonEl.style.display =\n",
              "          google.colab.kernel.accessAllowed ? 'block' : 'none';\n",
              "\n",
              "        async function convertToInteractive(key) {\n",
              "          const element = document.querySelector('#df-b2448ec0-5e57-475b-92d3-4025a0f39ec3');\n",
              "          const dataTable =\n",
              "            await google.colab.kernel.invokeFunction('convertToInteractive',\n",
              "                                                     [key], {});\n",
              "          if (!dataTable) return;\n",
              "\n",
              "          const docLinkHtml = 'Like what you see? Visit the ' +\n",
              "            '<a target=\"_blank\" href=https://colab.research.google.com/notebooks/data_table.ipynb>data table notebook</a>'\n",
              "            + ' to learn more about interactive tables.';\n",
              "          element.innerHTML = '';\n",
              "          dataTable['output_type'] = 'display_data';\n",
              "          await google.colab.output.renderOutput(dataTable, element);\n",
              "          const docLink = document.createElement('div');\n",
              "          docLink.innerHTML = docLinkHtml;\n",
              "          element.appendChild(docLink);\n",
              "        }\n",
              "      </script>\n",
              "    </div>\n",
              "  </div>\n",
              "  "
            ]
          },
          "metadata": {},
          "execution_count": 34
        }
      ],
      "source": [
        "MSFT_data"
      ]
    },
    {
      "cell_type": "markdown",
      "metadata": {
        "id": "IuBuNZyuzUb7"
      },
      "source": [
        "Sử dụng thuật toán phân loại vì mục tiêu của chúng ta là nhị phân (0/1). A 1 nghĩa là giá tăng, a 0 nghĩa là nó giảm. Nếu chúng tôi có một loại mục tiêu khác (chẳng hạn như giá thực tế), chúng tôi có thể sử dụng thuật toán hồi quy."
      ]
    },
    {
      "cell_type": "markdown",
      "metadata": {
        "id": "_rIiucXUvIgd"
      },
      "source": [
        "#RANDOM FOREST REGRESSION"
      ]
    },
    {
      "cell_type": "code",
      "execution_count": null,
      "metadata": {
        "id": "wMOZsdnz9Dyz"
      },
      "outputs": [],
      "source": [
        "from sklearn.ensemble import RandomForestClassifier\n",
        "import numpy as np\n",
        "# Lập mô hình random forest classification.  Thiết lập min_samples_split cao để tránh tình trạng overfit.\n",
        "model = RandomForestClassifier(n_estimators=100, min_samples_split=200, random_state=1)"
      ]
    },
    {
      "cell_type": "markdown",
      "metadata": {
        "id": "_42aRGtSLkKw"
      },
      "source": [
        "##MICROSOFT"
      ]
    },
    {
      "cell_type": "code",
      "execution_count": null,
      "metadata": {
        "id": "oXrp-G9RDBVX"
      },
      "outputs": [],
      "source": [
        "# Chia tập dữ liệu của Microsoft\n",
        "X_train = MSFT_data[MSFT_data.Date.dt.year < 2022][x] \n",
        "y_train = MSFT_data[MSFT_data.Date.dt.year < 2022]['Target']\n",
        "X_test = MSFT_data[MSFT_data.Date.dt.year == 2022][x]\n",
        "y_test = MSFT_data[MSFT_data.Date.dt.year == 2022]['Target']"
      ]
    },
    {
      "cell_type": "code",
      "execution_count": null,
      "metadata": {
        "colab": {
          "base_uri": "https://localhost:8080/"
        },
        "id": "YjAEtVErY95i",
        "outputId": "4b04dd16-351d-4567-de52-4d6e217ebd96"
      },
      "outputs": [
        {
          "output_type": "execute_result",
          "data": {
            "text/plain": [
              "(2307, 5)"
            ]
          },
          "metadata": {},
          "execution_count": 37
        }
      ],
      "source": [
        "X_train.shape"
      ]
    },
    {
      "cell_type": "code",
      "execution_count": null,
      "metadata": {
        "colab": {
          "base_uri": "https://localhost:8080/"
        },
        "id": "5t_FNv2_ZG86",
        "outputId": "696c8ea5-6199-4342-f6c2-5a2de7e532bd"
      },
      "outputs": [
        {
          "output_type": "execute_result",
          "data": {
            "text/plain": [
              "(209, 5)"
            ]
          },
          "metadata": {},
          "execution_count": 38
        }
      ],
      "source": [
        "X_test.shape"
      ]
    },
    {
      "cell_type": "code",
      "execution_count": null,
      "metadata": {
        "colab": {
          "base_uri": "https://localhost:8080/"
        },
        "id": "q9wLcPyGotUF",
        "outputId": "4854d298-5a84-4060-8805-50f244f04d73"
      },
      "outputs": [
        {
          "output_type": "execute_result",
          "data": {
            "text/plain": [
              "RandomForestClassifier(min_samples_split=200, random_state=1)"
            ]
          },
          "metadata": {},
          "execution_count": 78
        }
      ],
      "source": [
        "model.fit(X_train, y_train)"
      ]
    },
    {
      "cell_type": "code",
      "execution_count": null,
      "metadata": {
        "colab": {
          "base_uri": "https://localhost:8080/"
        },
        "id": "HhQaIpVMq5io",
        "outputId": "6cad10dc-845b-4502-ebde-f5f23599f6ba"
      },
      "outputs": [
        {
          "output_type": "execute_result",
          "data": {
            "text/plain": [
              "0.4624277456647399"
            ]
          },
          "metadata": {},
          "execution_count": 79
        }
      ],
      "source": [
        "from sklearn.metrics import precision_score\n",
        "\n",
        "# Sử dụng precision_score\n",
        "y_pred = model.predict(X_test)\n",
        "precision_score(y_test, y_pred)"
      ]
    },
    {
      "cell_type": "markdown",
      "metadata": {
        "id": "WV2-sSaO5EVW"
      },
      "source": [
        "### TINH CHỈNH MÔ HÌNH RANDOM FOREST"
      ]
    },
    {
      "cell_type": "markdown",
      "metadata": {
        "id": "Tiy07C9Cqf3G"
      },
      "source": [
        "##### Random Forest sử dụng GridSearchCV"
      ]
    },
    {
      "cell_type": "code",
      "execution_count": null,
      "metadata": {
        "id": "E6Z4ghfK39ZC"
      },
      "outputs": [],
      "source": [
        "param_grid = { \n",
        "    'n_estimators': [200, 500],\n",
        "    'max_features': ['auto', 'sqrt', 'log2'],\n",
        "    'max_depth' : [4,5,6,7,8,9],\n",
        "    'criterion' :['gini', 'entropy']\n",
        "}"
      ]
    },
    {
      "cell_type": "code",
      "execution_count": null,
      "metadata": {
        "colab": {
          "base_uri": "https://localhost:8080/"
        },
        "id": "kyJbPk2i4Aze",
        "outputId": "97960941-afab-41b7-bda8-7f9ccaa7c8dc"
      },
      "outputs": [
        {
          "output_type": "execute_result",
          "data": {
            "text/plain": [
              "GridSearchCV(cv=5,\n",
              "             estimator=RandomForestClassifier(min_samples_split=200,\n",
              "                                              random_state=1),\n",
              "             param_grid={'criterion': ['gini', 'entropy'],\n",
              "                         'max_depth': [4, 5, 6, 7, 8, 9],\n",
              "                         'max_features': ['auto', 'sqrt', 'log2'],\n",
              "                         'n_estimators': [200, 500]})"
            ]
          },
          "metadata": {},
          "execution_count": 42
        }
      ],
      "source": [
        "CV_model = GridSearchCV(estimator=model, param_grid=param_grid, cv= 5)\n",
        "CV_model.fit(X_train, y_train)"
      ]
    },
    {
      "cell_type": "code",
      "execution_count": null,
      "metadata": {
        "colab": {
          "base_uri": "https://localhost:8080/"
        },
        "id": "wEefkzb45uMi",
        "outputId": "48d94414-6646-4f1a-b2c4-066db27731e4"
      },
      "outputs": [
        {
          "output_type": "execute_result",
          "data": {
            "text/plain": [
              "{'criterion': 'entropy',\n",
              " 'max_depth': 4,\n",
              " 'max_features': 'auto',\n",
              " 'n_estimators': 200}"
            ]
          },
          "metadata": {},
          "execution_count": 43
        }
      ],
      "source": [
        "CV_model.best_params_"
      ]
    },
    {
      "cell_type": "code",
      "execution_count": null,
      "metadata": {
        "id": "2Ra0UPF6591e"
      },
      "outputs": [],
      "source": [
        "model1 = RandomForestClassifier(random_state=1, max_features='auto', n_estimators=200, max_depth=9, criterion='gini', min_samples_split=200)"
      ]
    },
    {
      "cell_type": "code",
      "execution_count": null,
      "metadata": {
        "colab": {
          "base_uri": "https://localhost:8080/"
        },
        "id": "0EA3Oo9n6XWq",
        "outputId": "b4a058e9-37a2-4941-a4b6-c2df632efcd7"
      },
      "outputs": [
        {
          "output_type": "execute_result",
          "data": {
            "text/plain": [
              "RandomForestClassifier(max_depth=9, min_samples_split=200, n_estimators=200,\n",
              "                       random_state=1)"
            ]
          },
          "metadata": {},
          "execution_count": 45
        }
      ],
      "source": [
        "model1.fit(X_train, y_train)"
      ]
    },
    {
      "cell_type": "code",
      "execution_count": null,
      "metadata": {
        "colab": {
          "base_uri": "https://localhost:8080/"
        },
        "id": "qHb-iKDuExUd",
        "outputId": "e2d1fd44-d049-41b1-e149-b6ccc13f8274"
      },
      "outputs": [
        {
          "output_type": "execute_result",
          "data": {
            "text/plain": [
              "0.4577114427860697"
            ]
          },
          "metadata": {},
          "execution_count": 46
        }
      ],
      "source": [
        "from sklearn.metrics import precision_score\n",
        "\n",
        "# Sử dụng precision_score\n",
        "y_pred = model1.predict(X_test)\n",
        "precision_score(y_test, y_pred)"
      ]
    },
    {
      "cell_type": "markdown",
      "metadata": {
        "id": "jCKxAdrm5WXL"
      },
      "source": [
        "##### Tạo thêm đặc trưng"
      ]
    },
    {
      "cell_type": "markdown",
      "metadata": {
        "id": "nSfdEc16L1QP"
      },
      "source": [
        "Có thể tạo thêm các đặc trưng giá trị trung bình, tổng trong khoảng thời gian 1 tuần, 3 tháng, 1 năm để tăng độ chính xác của mô hình bởi vì chúng ta đang làm việc với bộ dữ liệu chuỗi thời gian\n",
        "VD: Nếu giá bây giờ cao hơn giá hàng năm, điều đó có thể có nghĩa là cổ phiếu đang có xu hướng tăng"
      ]
    },
    {
      "cell_type": "code",
      "execution_count": null,
      "metadata": {
        "id": "pdKS4BbGZLnc"
      },
      "outputs": [],
      "source": [
        "#Tính trung bình của giá đóng trên tập dữ liệu Microsoft trong 1 tuần, 1 quý và 1 năm.\n",
        "weekly_mean = MSFT_data.rolling(7).mean()[\"Close\"]\n",
        "quarterly_mean = MSFT_data.rolling(90).mean()[\"Close\"]\n",
        "annual_mean = MSFT_data.rolling(365).mean()[\"Close\"]"
      ]
    },
    {
      "cell_type": "code",
      "execution_count": null,
      "metadata": {
        "id": "Qi3XEmQHZYNM"
      },
      "outputs": [],
      "source": [
        "#Tính xu hướng hàng tuần bằng cách cộng Target trong tuần \n",
        "#Chuyển dữ liệu về phía trước, để không kết hợp thông tin từ ngày hiện tại vào công cụ dự đoán. Nếu chúng ta không sử dụng shift, thì thuật toán sẽ biết về mục tiêu thực tế.\n",
        "#Tìm tổng số tiền trong 7 ngày của mục tiêu. Nếu giá tăng trong cả 7 ngày, thì đây sẽ là 7. Nếu nó tăng lên 0 ngày, đây sẽ là 0.\n",
        "weekly_trend = MSFT_data.shift(1).rolling(7).sum()[\"Target\"]\n",
        "#thêm xu hướng hàng tuần vào dữ liệu dự đoán \n",
        "MSFT_data[\"weekly_trend\"] = weekly_trend"
      ]
    },
    {
      "cell_type": "code",
      "execution_count": null,
      "metadata": {
        "id": "CfPMGZQOZlxA"
      },
      "outputs": [],
      "source": [
        "#tỷ lệ giữa giá đóng với hàng tuần, hàng quý và hàng năm\n",
        "MSFT_data[\"weekly_mean\"] = weekly_mean / MSFT_data[\"Close\"]\n",
        "MSFT_data[\"quarterly_mean\"] = quarterly_mean / MSFT_data[\"Close\"]\n",
        "MSFT_data[\"annual_mean\"] = annual_mean / MSFT_data[\"Close\"]"
      ]
    },
    {
      "cell_type": "code",
      "execution_count": null,
      "metadata": {
        "id": "Pjo761IGZuDi"
      },
      "outputs": [],
      "source": [
        "#thêm vào các tỷ lệ giữa các trung bình khác nhau. Điều này giúp thuật toán hiểu xu hướng hàng tuần có liên quan gì đến xu hướng hàng năm\n",
        "MSFT_data[\"annual_weekly_mean\"] = MSFT_data[\"annual_mean\"] / MSFT_data[\"weekly_mean\"]\n",
        "MSFT_data[\"annual_quarterly_mean\"] = MSFT_data[\"annual_mean\"] / MSFT_data[\"quarterly_mean\"]"
      ]
    },
    {
      "cell_type": "code",
      "execution_count": null,
      "metadata": {
        "id": "Sg22zR72Z20i"
      },
      "outputs": [],
      "source": [
        "#thêm một số tỷ lệ giữa giá mở cửa, thấp và cao trong ngày và giá đóng cửa. Điều này giúp thuật toán hiểu xu hướng giá trong ngày vừa qua. \n",
        "#Ví dụ: nếu mức cao cao hơn nhiều so với giá đóng cửa, điều đó có thể có nghĩa là cổ phiếu đang có xu hướng giảm vào cuối ngày.\n",
        "MSFT_data[\"open_close_ratio\"] = MSFT_data[\"Open\"] / MSFT_data[\"Close\"]\n",
        "MSFT_data[\"high_close_ratio\"] = MSFT_data[\"High\"] / MSFT_data[\"Close\"]\n",
        "MSFT_data[\"low_close_ratio\"] = MSFT_data[\"Low\"] / MSFT_data[\"Close\"]"
      ]
    },
    {
      "cell_type": "code",
      "execution_count": null,
      "metadata": {
        "id": "jkylOfADaCA3"
      },
      "outputs": [],
      "source": [
        "MSFT_x = x + [\"weekly_mean\", \"quarterly_mean\", \"annual_mean\", \"annual_weekly_mean\", \"annual_quarterly_mean\", \"open_close_ratio\", \"high_close_ratio\", \"low_close_ratio\"]"
      ]
    },
    {
      "cell_type": "code",
      "source": [
        "MSFT_x"
      ],
      "metadata": {
        "colab": {
          "base_uri": "https://localhost:8080/"
        },
        "id": "CaYEUFnA_uzu",
        "outputId": "a352ba2f-bf5c-4b8c-b004-df333ff13092"
      },
      "execution_count": null,
      "outputs": [
        {
          "output_type": "execute_result",
          "data": {
            "text/plain": [
              "['Close',\n",
              " 'Volume',\n",
              " 'Open',\n",
              " 'High',\n",
              " 'Low',\n",
              " 'weekly_mean',\n",
              " 'quarterly_mean',\n",
              " 'annual_mean',\n",
              " 'annual_weekly_mean',\n",
              " 'annual_quarterly_mean',\n",
              " 'open_close_ratio',\n",
              " 'high_close_ratio',\n",
              " 'low_close_ratio']"
            ]
          },
          "metadata": {},
          "execution_count": 53
        }
      ]
    },
    {
      "cell_type": "markdown",
      "metadata": {
        "id": "icMY7Mwq0rVD"
      },
      "source": [
        "Tạo một hàm để dễ sử dụng cho những lần sử dụng sau, có thể tránh viết lại mã nếu muốn kiểm tra lại lần nữa\n"
      ]
    },
    {
      "cell_type": "code",
      "execution_count": null,
      "metadata": {
        "id": "FJXPVNHdtP5z"
      },
      "outputs": [],
      "source": [
        "def backtest(data, model, predictors, start=1000, step=750):\n",
        "    predictions = []\n",
        "    # Loop over the dataset in increments\n",
        "    for i in range(start, data.shape[0], step):\n",
        "        # Split into train and test sets\n",
        "        train = data.iloc[0:i].copy()\n",
        "        test = data.iloc[i:(i+step)].copy()\n",
        "\n",
        "        # Fit the random forest model\n",
        "        model.fit(train[predictors], train[\"Target\"])\n",
        "\n",
        "        # Make predictions\n",
        "        preds = model.predict_proba(test[predictors])[:,1] #sử dụng phương thức predict_proba . Phương pháp này cho phép chúng ta có được xác suất thô, không chỉ 0/1\n",
        "        preds = pd.Series(preds, index=test.index)  #chuyển đổi kết quả từ một mảng numby thành một Series pandas để làm việc dễ dàng hơn\n",
        "        preds[preds > .6] = 1 #sử dụng .6 như một ngưỡng cho dù giá có tăng hay không. Nếu sử dụng ngưỡng thấp hơn, sẽ tăng recall, nhưng precision thấp hơn. Vì chúng ta muốn giảm thiểu rủi ro nên cần tối đa hóa độ chính xác. Vì vậy, sẽ không sao nếu thuật toán chỉ dự đoán giá sẽ tăng trong vài ngày.\n",
        "        preds[preds<=.6] = 0\n",
        "\n",
        "        # Kết hợp giá trị dự đoán và giá trị thực\n",
        "        combined = pd.concat({\"Target\": test[\"Target\"],\"Predictions\": preds}, axis=1)\n",
        "\n",
        "        predictions.append(combined)\n",
        "\n",
        "    return pd.concat(predictions)"
      ]
    },
    {
      "cell_type": "markdown",
      "metadata": {
        "id": "Xc-0XicavpT8"
      },
      "source": [
        "### KẾT QUẢ"
      ]
    },
    {
      "cell_type": "code",
      "execution_count": null,
      "metadata": {
        "id": "MaVEbed2emX0"
      },
      "outputs": [],
      "source": [
        "predictions = backtest(MSFT_data[365:], model1, MSFT_x)"
      ]
    },
    {
      "cell_type": "code",
      "execution_count": null,
      "metadata": {
        "colab": {
          "base_uri": "https://localhost:8080/"
        },
        "id": "QJ4GVQ4JawHq",
        "outputId": "4515fd0e-b874-4738-aea4-3381b7c976f2"
      },
      "outputs": [
        {
          "output_type": "execute_result",
          "data": {
            "text/plain": [
              "0.5483870967741935"
            ]
          },
          "metadata": {},
          "execution_count": 56
        }
      ],
      "source": [
        "precision_score(predictions[\"Target\"], predictions[\"Predictions\"])"
      ]
    },
    {
      "cell_type": "code",
      "execution_count": null,
      "metadata": {
        "colab": {
          "base_uri": "https://localhost:8080/"
        },
        "id": "KxKz4S1SS7zW",
        "outputId": "6fd336a7-5482-4278-e3e2-4c0afddbf7b9"
      },
      "outputs": [
        {
          "output_type": "execute_result",
          "data": {
            "text/plain": [
              "0.05466237942122187"
            ]
          },
          "metadata": {},
          "execution_count": 57
        }
      ],
      "source": [
        "from sklearn.metrics import recall_score\n",
        "recall_score(predictions[\"Target\"], predictions[\"Predictions\"])"
      ]
    },
    {
      "cell_type": "markdown",
      "metadata": {
        "id": "VGxxsrIb4qS9"
      },
      "source": [
        "Mô hình đã tinh chỉnh: 0.46 -> 0.46 -> 0.54"
      ]
    },
    {
      "cell_type": "markdown",
      "metadata": {
        "id": "7xaGrwFh6J9z"
      },
      "source": [
        "##NETFLIX"
      ]
    },
    {
      "cell_type": "code",
      "source": [
        "X1_train = NFLX_data[NFLX_data.Date.dt.year < 2022][x] \n",
        "y1_train = NFLX_data[NFLX_data.Date.dt.year < 2022]['Target']\n",
        "X1_test = NFLX_data[NFLX_data.Date.dt.year == 2022][x]\n",
        "y1_test = NFLX_data[NFLX_data.Date.dt.year == 2022]['Target']"
      ],
      "metadata": {
        "id": "IgSX5gyfpVGD"
      },
      "execution_count": null,
      "outputs": []
    },
    {
      "cell_type": "code",
      "source": [
        "model.fit(X1_train, y1_train)"
      ],
      "metadata": {
        "colab": {
          "base_uri": "https://localhost:8080/"
        },
        "id": "Qr0b1t1WpqTZ",
        "outputId": "fed16b15-2b55-4df3-e02f-02af0690e3b4"
      },
      "execution_count": null,
      "outputs": [
        {
          "output_type": "execute_result",
          "data": {
            "text/plain": [
              "RandomForestClassifier(min_samples_split=200, random_state=1)"
            ]
          },
          "metadata": {},
          "execution_count": 59
        }
      ]
    },
    {
      "cell_type": "code",
      "source": [
        "y1_pred = model.predict(X1_test)\n",
        "precision_score(y1_test, y1_pred)"
      ],
      "metadata": {
        "colab": {
          "base_uri": "https://localhost:8080/"
        },
        "id": "wvKuc8Yop8dj",
        "outputId": "9594dee7-3db0-4412-919a-c1fc8b249ac1"
      },
      "execution_count": null,
      "outputs": [
        {
          "output_type": "execute_result",
          "data": {
            "text/plain": [
              "0.44755244755244755"
            ]
          },
          "metadata": {},
          "execution_count": 60
        }
      ]
    },
    {
      "cell_type": "code",
      "source": [
        "model1.fit(X1_train, y1_train)"
      ],
      "metadata": {
        "colab": {
          "base_uri": "https://localhost:8080/"
        },
        "id": "ENlcv_mqqa31",
        "outputId": "d498ab8c-c5b3-49cc-852c-91f748d63d59"
      },
      "execution_count": null,
      "outputs": [
        {
          "output_type": "execute_result",
          "data": {
            "text/plain": [
              "RandomForestClassifier(max_depth=9, min_samples_split=200, n_estimators=200,\n",
              "                       random_state=1)"
            ]
          },
          "metadata": {},
          "execution_count": 61
        }
      ]
    },
    {
      "cell_type": "code",
      "source": [
        "y1_pred = model1.predict(X1_test)\n",
        "precision_score(y1_test, y1_pred)"
      ],
      "metadata": {
        "colab": {
          "base_uri": "https://localhost:8080/"
        },
        "id": "VtkPBt5lqpAi",
        "outputId": "4f6f76f5-7c97-481f-8497-f14c040f3c3f"
      },
      "execution_count": null,
      "outputs": [
        {
          "output_type": "execute_result",
          "data": {
            "text/plain": [
              "0.46099290780141844"
            ]
          },
          "metadata": {},
          "execution_count": 62
        }
      ]
    },
    {
      "cell_type": "markdown",
      "metadata": {
        "id": "RRHeoP4u6g_S"
      },
      "source": [
        "Làm tương tự với Microsoft. Lần này chúng ta sẽ sử dung thẳng mô hình huấn luyện cuối cùng"
      ]
    },
    {
      "cell_type": "markdown",
      "metadata": {
        "id": "cNOUDfx19cmw"
      },
      "source": [
        "### Tạo thêm đặc trưng"
      ]
    },
    {
      "cell_type": "code",
      "execution_count": null,
      "metadata": {
        "id": "nAFc5G_S9yk6"
      },
      "outputs": [],
      "source": [
        "weekly_mean = NFLX_data.rolling(7).mean()[\"Close\"]\n",
        "quarterly_mean = NFLX_data.rolling(90).mean()[\"Close\"]\n",
        "annual_mean = NFLX_data.rolling(365).mean()[\"Close\"]\n",
        "\n",
        "weekly_trend = NFLX_data.shift(1).rolling(7).sum()[\"Target\"]\n",
        "NFLX_data[\"weekly_trend\"] = weekly_trend\n",
        "\n",
        "NFLX_data[\"weekly_mean\"] = weekly_mean / NFLX_data[\"Close\"]\n",
        "NFLX_data[\"quarterly_mean\"] = quarterly_mean / NFLX_data[\"Close\"]\n",
        "NFLX_data[\"annual_mean\"] = annual_mean / NFLX_data[\"Close\"]\n",
        "\n",
        "NFLX_data[\"annual_weekly_mean\"] = NFLX_data[\"annual_mean\"] / NFLX_data[\"weekly_mean\"]\n",
        "NFLX_data[\"annual_quarterly_mean\"] = NFLX_data[\"annual_mean\"] / NFLX_data[\"quarterly_mean\"]\n",
        "\n",
        "NFLX_data[\"open_close_ratio\"] = NFLX_data[\"Open\"] / NFLX_data[\"Close\"]\n",
        "NFLX_data[\"high_close_ratio\"] = NFLX_data[\"High\"] / NFLX_data[\"Close\"]\n",
        "NFLX_data[\"low_close_ratio\"] = NFLX_data[\"Low\"] / NFLX_data[\"Close\"]"
      ]
    },
    {
      "cell_type": "code",
      "execution_count": null,
      "metadata": {
        "id": "h2pScLP3C-YP"
      },
      "outputs": [],
      "source": [
        "NFLX_x = x + [\"weekly_mean\", \"quarterly_mean\", \"annual_mean\", \"annual_weekly_mean\", \"annual_quarterly_mean\", \"open_close_ratio\", \"high_close_ratio\", \"low_close_ratio\"]"
      ]
    },
    {
      "cell_type": "markdown",
      "metadata": {
        "id": "Krp7l5cvEZgV"
      },
      "source": [
        "###KẾT QUẢ"
      ]
    },
    {
      "cell_type": "code",
      "execution_count": null,
      "metadata": {
        "id": "a8ssL9LYEgSE"
      },
      "outputs": [],
      "source": [
        "predictions = backtest(NFLX_data.iloc[365:], model1, NFLX_x)"
      ]
    },
    {
      "cell_type": "code",
      "execution_count": null,
      "metadata": {
        "colab": {
          "base_uri": "https://localhost:8080/"
        },
        "id": "HfuJitQKEp5Q",
        "outputId": "103bd413-ca70-4650-eb35-b25299ed1987"
      },
      "outputs": [
        {
          "output_type": "execute_result",
          "data": {
            "text/plain": [
              "0.5835777126099707"
            ]
          },
          "metadata": {},
          "execution_count": 66
        }
      ],
      "source": [
        "precision_score(predictions[\"Target\"], predictions[\"Predictions\"])"
      ]
    },
    {
      "cell_type": "markdown",
      "metadata": {
        "id": "qUpDoxgAE3i4"
      },
      "source": [
        "precision của NFLX cao hơn MSFT"
      ]
    },
    {
      "cell_type": "markdown",
      "metadata": {
        "id": "Gg12BIF4GPdG"
      },
      "source": [
        "## APPLE"
      ]
    },
    {
      "cell_type": "code",
      "source": [
        "X2_train = AAPL_data[AAPL_data.Date.dt.year < 2022][x] \n",
        "y2_train = AAPL_data[AAPL_data.Date.dt.year < 2022]['Target']\n",
        "X2_test = AAPL_data[AAPL_data.Date.dt.year == 2022][x]\n",
        "y2_test = AAPL_data[AAPL_data.Date.dt.year == 2022]['Target']"
      ],
      "metadata": {
        "id": "b3J9O6GXqC3x"
      },
      "execution_count": null,
      "outputs": []
    },
    {
      "cell_type": "code",
      "source": [
        "model.fit(X2_train, y2_train)"
      ],
      "metadata": {
        "colab": {
          "base_uri": "https://localhost:8080/"
        },
        "id": "oUfMM3C9qQq1",
        "outputId": "851ef821-dbad-47df-bcb7-1cb54fcd8b58"
      },
      "execution_count": null,
      "outputs": [
        {
          "output_type": "execute_result",
          "data": {
            "text/plain": [
              "RandomForestClassifier(min_samples_split=200, random_state=1)"
            ]
          },
          "metadata": {},
          "execution_count": 68
        }
      ]
    },
    {
      "cell_type": "code",
      "source": [
        "y2_pred = model.predict(X2_test)\n",
        "precision_score(y2_test, y2_pred)"
      ],
      "metadata": {
        "colab": {
          "base_uri": "https://localhost:8080/"
        },
        "id": "e3b5FUZTqUWg",
        "outputId": "e54c64b3-3f08-4a7d-9f99-e72cb8aba9d8"
      },
      "execution_count": null,
      "outputs": [
        {
          "output_type": "execute_result",
          "data": {
            "text/plain": [
              "0.48044692737430167"
            ]
          },
          "metadata": {},
          "execution_count": 69
        }
      ]
    },
    {
      "cell_type": "code",
      "source": [
        "model1.fit(X2_train, y2_train)"
      ],
      "metadata": {
        "colab": {
          "base_uri": "https://localhost:8080/"
        },
        "id": "pP8AiHtdrPgZ",
        "outputId": "82170d70-ca0f-4051-f1e0-30d7a2302368"
      },
      "execution_count": null,
      "outputs": [
        {
          "output_type": "execute_result",
          "data": {
            "text/plain": [
              "RandomForestClassifier(max_depth=9, min_samples_split=200, n_estimators=200,\n",
              "                       random_state=1)"
            ]
          },
          "metadata": {},
          "execution_count": 70
        }
      ]
    },
    {
      "cell_type": "code",
      "source": [
        "y2_pred = model1.predict(X2_test)\n",
        "precision_score(y2_test, y2_pred)"
      ],
      "metadata": {
        "colab": {
          "base_uri": "https://localhost:8080/"
        },
        "id": "QRQkKGfSrVPL",
        "outputId": "85db1d25-810b-4598-bfab-752681018d54"
      },
      "execution_count": null,
      "outputs": [
        {
          "output_type": "execute_result",
          "data": {
            "text/plain": [
              "0.49740932642487046"
            ]
          },
          "metadata": {},
          "execution_count": 71
        }
      ]
    },
    {
      "cell_type": "markdown",
      "metadata": {
        "id": "VGrnJzjPGgYX"
      },
      "source": [
        "### Tạo thêm đặc trưng"
      ]
    },
    {
      "cell_type": "code",
      "execution_count": null,
      "metadata": {
        "id": "8nY4jmP8G06l"
      },
      "outputs": [],
      "source": [
        "weekly_mean = AAPL_data.rolling(7).mean()[\"Close\"]\n",
        "quarterly_mean = AAPL_data.rolling(90).mean()[\"Close\"]\n",
        "annual_mean = AAPL_data.rolling(365).mean()[\"Close\"]\n",
        "\n",
        "weekly_trend = AAPL_data.shift(1).rolling(7).sum()[\"Target\"]\n",
        "AAPL_data[\"weekly_trend\"] = weekly_trend\n",
        "\n",
        "AAPL_data[\"weekly_mean\"] = weekly_mean / AAPL_data[\"Close\"]\n",
        "AAPL_data[\"quarterly_mean\"] = quarterly_mean / AAPL_data[\"Close\"]\n",
        "AAPL_data[\"annual_mean\"] = annual_mean / AAPL_data[\"Close\"]\n",
        "\n",
        "AAPL_data[\"annual_weekly_mean\"] = AAPL_data[\"annual_mean\"] / AAPL_data[\"weekly_mean\"]\n",
        "AAPL_data[\"annual_quarterly_mean\"] = AAPL_data[\"annual_mean\"] / AAPL_data[\"quarterly_mean\"]\n",
        "\n",
        "AAPL_data[\"open_close_ratio\"] = AAPL_data[\"Open\"] / AAPL_data[\"Close\"]\n",
        "AAPL_data[\"high_close_ratio\"] = AAPL_data[\"High\"] / AAPL_data[\"Close\"]\n",
        "AAPL_data[\"low_close_ratio\"] = AAPL_data[\"Low\"] / AAPL_data[\"Close\"]"
      ]
    },
    {
      "cell_type": "code",
      "execution_count": null,
      "metadata": {
        "id": "E2aZPQD8NgQ9"
      },
      "outputs": [],
      "source": [
        "AAPL_x = x + [\"weekly_mean\", \"quarterly_mean\", \"annual_mean\", \"annual_weekly_mean\", \"annual_quarterly_mean\", \"open_close_ratio\", \"high_close_ratio\", \"low_close_ratio\"]"
      ]
    },
    {
      "cell_type": "markdown",
      "metadata": {
        "id": "WAnxxC4ZHmlR"
      },
      "source": [
        "### KẾT QUẢ"
      ]
    },
    {
      "cell_type": "code",
      "execution_count": null,
      "metadata": {
        "id": "_8A7MbcUHr3T"
      },
      "outputs": [],
      "source": [
        "predictions = backtest(AAPL_data.iloc[365:], model1, AAPL_x)"
      ]
    },
    {
      "cell_type": "code",
      "execution_count": null,
      "metadata": {
        "colab": {
          "base_uri": "https://localhost:8080/"
        },
        "id": "ZexFGw9rNlLV",
        "outputId": "5723ddf9-15a9-4334-d8d4-22e8c338f3f6"
      },
      "outputs": [
        {
          "output_type": "execute_result",
          "data": {
            "text/plain": [
              "0.6428571428571429"
            ]
          },
          "metadata": {},
          "execution_count": 75
        }
      ],
      "source": [
        "precision_score(predictions[\"Target\"], predictions[\"Predictions\"])"
      ]
    },
    {
      "cell_type": "markdown",
      "metadata": {
        "id": "N1ab49hEOE3a"
      },
      "source": [
        "Cao hơn nhiều so với NFLX và MSFT"
      ]
    }
  ],
  "metadata": {
    "colab": {
      "collapsed_sections": [
        "D48H5IF1ywwg"
      ],
      "toc_visible": true,
      "provenance": [],
      "include_colab_link": true
    },
    "kernelspec": {
      "display_name": "Python 3",
      "name": "python3"
    },
    "language_info": {
      "name": "python"
    }
  },
  "nbformat": 4,
  "nbformat_minor": 0
}