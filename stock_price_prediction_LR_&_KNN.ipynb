{
  "cells": [
    {
      "cell_type": "markdown",
      "metadata": {
        "id": "view-in-github",
        "colab_type": "text"
      },
      "source": [
        "<a href=\"https://colab.research.google.com/github/Rekyb415/Stock-Price-Prediction/blob/main/stock_price_prediction_LR_%26_KNN.ipynb\" target=\"_parent\"><img src=\"https://colab.research.google.com/assets/colab-badge.svg\" alt=\"Open In Colab\"/></a>"
      ]
    },
    {
      "cell_type": "markdown",
      "source": [
        "# Dùng Logistics Regression để dự đoán giá cổ phiếu lên hay xuống cho ngày kế tiếp"
      ],
      "metadata": {
        "id": "oTg8NgdTC16K"
      }
    },
    {
      "cell_type": "markdown",
      "source": [
        "- Mô hình này là một thuật toán máy học cho các vấn đề về phân loại\n",
        "- Dự đoán đầu ra là nhị phân\n"
      ],
      "metadata": {
        "id": "OFFVzs_lGU_e"
      }
    },
    {
      "cell_type": "markdown",
      "source": [
        "# KHAI BÁO THƯ VIỆN"
      ],
      "metadata": {
        "id": "Q4ss3_LWNgrL"
      }
    },
    {
      "cell_type": "code",
      "source": [
        "pip install yfinance"
      ],
      "metadata": {
        "colab": {
          "base_uri": "https://localhost:8080/"
        },
        "id": "uisQoePZPjaW",
        "outputId": "52479ef2-2a90-4aa6-fb5b-2546b10ec583"
      },
      "execution_count": null,
      "outputs": [
        {
          "output_type": "stream",
          "name": "stdout",
          "text": [
            "Looking in indexes: https://pypi.org/simple, https://us-python.pkg.dev/colab-wheels/public/simple/\n",
            "Collecting yfinance\n",
            "  Downloading yfinance-0.1.94-py2.py3-none-any.whl (31 kB)\n",
            "Requirement already satisfied: appdirs>=1.4.4 in /usr/local/lib/python3.8/dist-packages (from yfinance) (1.4.4)\n",
            "Collecting cryptography>=3.3.2\n",
            "  Downloading cryptography-38.0.4-cp36-abi3-manylinux_2_24_x86_64.whl (4.0 MB)\n",
            "\u001b[K     |████████████████████████████████| 4.0 MB 7.2 MB/s \n",
            "\u001b[?25hRequirement already satisfied: pandas>=1.3.0 in /usr/local/lib/python3.8/dist-packages (from yfinance) (1.3.5)\n",
            "Requirement already satisfied: multitasking>=0.0.7 in /usr/local/lib/python3.8/dist-packages (from yfinance) (0.0.11)\n",
            "Requirement already satisfied: lxml>=4.9.1 in /usr/local/lib/python3.8/dist-packages (from yfinance) (4.9.2)\n",
            "Requirement already satisfied: numpy>=1.16.5 in /usr/local/lib/python3.8/dist-packages (from yfinance) (1.21.6)\n",
            "Collecting requests>=2.26\n",
            "  Downloading requests-2.28.1-py3-none-any.whl (62 kB)\n",
            "\u001b[K     |████████████████████████████████| 62 kB 1.5 MB/s \n",
            "\u001b[?25hRequirement already satisfied: cffi>=1.12 in /usr/local/lib/python3.8/dist-packages (from cryptography>=3.3.2->yfinance) (1.15.1)\n",
            "Requirement already satisfied: pycparser in /usr/local/lib/python3.8/dist-packages (from cffi>=1.12->cryptography>=3.3.2->yfinance) (2.21)\n",
            "Requirement already satisfied: pytz>=2017.3 in /usr/local/lib/python3.8/dist-packages (from pandas>=1.3.0->yfinance) (2022.6)\n",
            "Requirement already satisfied: python-dateutil>=2.7.3 in /usr/local/lib/python3.8/dist-packages (from pandas>=1.3.0->yfinance) (2.8.2)\n",
            "Requirement already satisfied: six>=1.5 in /usr/local/lib/python3.8/dist-packages (from python-dateutil>=2.7.3->pandas>=1.3.0->yfinance) (1.15.0)\n",
            "Requirement already satisfied: idna<4,>=2.5 in /usr/local/lib/python3.8/dist-packages (from requests>=2.26->yfinance) (2.10)\n",
            "Requirement already satisfied: charset-normalizer<3,>=2 in /usr/local/lib/python3.8/dist-packages (from requests>=2.26->yfinance) (2.1.1)\n",
            "Requirement already satisfied: certifi>=2017.4.17 in /usr/local/lib/python3.8/dist-packages (from requests>=2.26->yfinance) (2022.12.7)\n",
            "Requirement already satisfied: urllib3<1.27,>=1.21.1 in /usr/local/lib/python3.8/dist-packages (from requests>=2.26->yfinance) (1.24.3)\n",
            "Installing collected packages: requests, cryptography, yfinance\n",
            "  Attempting uninstall: requests\n",
            "    Found existing installation: requests 2.23.0\n",
            "    Uninstalling requests-2.23.0:\n",
            "      Successfully uninstalled requests-2.23.0\n",
            "Successfully installed cryptography-38.0.4 requests-2.28.1 yfinance-0.1.94\n"
          ]
        }
      ]
    },
    {
      "cell_type": "code",
      "execution_count": null,
      "metadata": {
        "id": "8hdKH2ZNHrcv"
      },
      "outputs": [],
      "source": [
        "import pandas as pd\n",
        "import numpy as np\n",
        "import pandas as pd\n",
        "import statsmodels.api as sm # phân tích thống kê\n",
        "import matplotlib.pyplot as plt\n",
        "from pandas_datareader import data as pdr\n",
        "import yfinance as yf\n",
        "from sklearn.metrics import precision_score\n",
        "\n",
        "import datetime"
      ]
    },
    {
      "cell_type": "markdown",
      "metadata": {
        "id": "sGK0gC_dIbFi"
      },
      "source": [
        "# Load dữ liệu trực tiếp"
      ]
    },
    {
      "cell_type": "code",
      "source": [
        "yf.pdr_override()"
      ],
      "metadata": {
        "id": "ImDee5EtP3gO"
      },
      "execution_count": null,
      "outputs": []
    },
    {
      "cell_type": "markdown",
      "metadata": {
        "id": "dUimfE-gJcwR"
      },
      "source": [
        "#Lấy dữ liệu từ datasource"
      ]
    },
    {
      "cell_type": "code",
      "execution_count": null,
      "metadata": {
        "id": "KlE304cfI045"
      },
      "outputs": [],
      "source": [
        "from pandas_datareader import data"
      ]
    },
    {
      "cell_type": "code",
      "execution_count": null,
      "metadata": {
        "id": "nJgriI6NKBGu"
      },
      "outputs": [],
      "source": [
        "start_date = datetime.datetime(2012,11,2)\n",
        "end_date = datetime.datetime(2022,11,2)"
      ]
    },
    {
      "cell_type": "markdown",
      "metadata": {
        "id": "AaY7OYNfcs-2"
      },
      "source": [
        "Lấy dữ liệu chứng khoán trong 3 năm của Microsoft từ Yahoo Finance. Có thể lấy dữ liệu từ google, fred, quandl, worldbank"
      ]
    },
    {
      "cell_type": "markdown",
      "source": [
        "#LR"
      ],
      "metadata": {
        "id": "rtM-OGhymfLI"
      }
    },
    {
      "cell_type": "markdown",
      "source": [
        "#Microsoft"
      ],
      "metadata": {
        "id": "a77kFxBwzo0W"
      }
    },
    {
      "cell_type": "markdown",
      "source": [
        "## Chuẩn bị dữ liệu"
      ],
      "metadata": {
        "id": "9emLErXS-tW0"
      }
    },
    {
      "cell_type": "code",
      "execution_count": null,
      "metadata": {
        "id": "xHg3ewPEK4y3",
        "colab": {
          "base_uri": "https://localhost:8080/",
          "height": 472
        },
        "outputId": "225858fa-5795-46c0-d167-06d54be499a2"
      },
      "outputs": [
        {
          "output_type": "stream",
          "name": "stdout",
          "text": [
            "\r[*********************100%***********************]  1 of 1 completed\n"
          ]
        },
        {
          "output_type": "execute_result",
          "data": {
            "text/plain": [
              "                  Open        High         Low       Close   Adj Close  \\\n",
              "Date                                                                     \n",
              "2012-11-02   29.590000   29.770000   29.330000   29.500000   24.126631   \n",
              "2012-11-05   29.620001   29.740000   29.330000   29.629999   24.232946   \n",
              "2012-11-06   29.820000   30.200001   29.610001   29.860001   24.421057   \n",
              "2012-11-07   29.530001   29.830000   29.049999   29.080000   23.783127   \n",
              "2012-11-08   29.120001   29.370001   28.799999   28.809999   23.562307   \n",
              "...                ...         ...         ...         ...         ...   \n",
              "2022-10-26  231.169998  238.300003  230.059998  231.320007  230.669937   \n",
              "2022-10-27  231.039993  233.690002  225.779999  226.750000  226.112778   \n",
              "2022-10-28  226.240005  236.600006  226.050003  235.869995  235.207138   \n",
              "2022-10-31  233.759995  234.919998  231.149994  232.130005  231.477661   \n",
              "2022-11-01  234.600006  235.740005  227.330002  228.169998  227.528793   \n",
              "\n",
              "              Volume  \n",
              "Date                  \n",
              "2012-11-02  57131600  \n",
              "2012-11-05  38070800  \n",
              "2012-11-06  43401500  \n",
              "2012-11-07  57871800  \n",
              "2012-11-08  49841800  \n",
              "...              ...  \n",
              "2022-10-26  82543200  \n",
              "2022-10-27  40424600  \n",
              "2022-10-28  40647700  \n",
              "2022-10-31  28357300  \n",
              "2022-11-01  30592300  \n",
              "\n",
              "[2517 rows x 6 columns]"
            ],
            "text/html": [
              "\n",
              "  <div id=\"df-d8e3aab0-c61d-4368-a1a9-be6195925d66\">\n",
              "    <div class=\"colab-df-container\">\n",
              "      <div>\n",
              "<style scoped>\n",
              "    .dataframe tbody tr th:only-of-type {\n",
              "        vertical-align: middle;\n",
              "    }\n",
              "\n",
              "    .dataframe tbody tr th {\n",
              "        vertical-align: top;\n",
              "    }\n",
              "\n",
              "    .dataframe thead th {\n",
              "        text-align: right;\n",
              "    }\n",
              "</style>\n",
              "<table border=\"1\" class=\"dataframe\">\n",
              "  <thead>\n",
              "    <tr style=\"text-align: right;\">\n",
              "      <th></th>\n",
              "      <th>Open</th>\n",
              "      <th>High</th>\n",
              "      <th>Low</th>\n",
              "      <th>Close</th>\n",
              "      <th>Adj Close</th>\n",
              "      <th>Volume</th>\n",
              "    </tr>\n",
              "    <tr>\n",
              "      <th>Date</th>\n",
              "      <th></th>\n",
              "      <th></th>\n",
              "      <th></th>\n",
              "      <th></th>\n",
              "      <th></th>\n",
              "      <th></th>\n",
              "    </tr>\n",
              "  </thead>\n",
              "  <tbody>\n",
              "    <tr>\n",
              "      <th>2012-11-02</th>\n",
              "      <td>29.590000</td>\n",
              "      <td>29.770000</td>\n",
              "      <td>29.330000</td>\n",
              "      <td>29.500000</td>\n",
              "      <td>24.126631</td>\n",
              "      <td>57131600</td>\n",
              "    </tr>\n",
              "    <tr>\n",
              "      <th>2012-11-05</th>\n",
              "      <td>29.620001</td>\n",
              "      <td>29.740000</td>\n",
              "      <td>29.330000</td>\n",
              "      <td>29.629999</td>\n",
              "      <td>24.232946</td>\n",
              "      <td>38070800</td>\n",
              "    </tr>\n",
              "    <tr>\n",
              "      <th>2012-11-06</th>\n",
              "      <td>29.820000</td>\n",
              "      <td>30.200001</td>\n",
              "      <td>29.610001</td>\n",
              "      <td>29.860001</td>\n",
              "      <td>24.421057</td>\n",
              "      <td>43401500</td>\n",
              "    </tr>\n",
              "    <tr>\n",
              "      <th>2012-11-07</th>\n",
              "      <td>29.530001</td>\n",
              "      <td>29.830000</td>\n",
              "      <td>29.049999</td>\n",
              "      <td>29.080000</td>\n",
              "      <td>23.783127</td>\n",
              "      <td>57871800</td>\n",
              "    </tr>\n",
              "    <tr>\n",
              "      <th>2012-11-08</th>\n",
              "      <td>29.120001</td>\n",
              "      <td>29.370001</td>\n",
              "      <td>28.799999</td>\n",
              "      <td>28.809999</td>\n",
              "      <td>23.562307</td>\n",
              "      <td>49841800</td>\n",
              "    </tr>\n",
              "    <tr>\n",
              "      <th>...</th>\n",
              "      <td>...</td>\n",
              "      <td>...</td>\n",
              "      <td>...</td>\n",
              "      <td>...</td>\n",
              "      <td>...</td>\n",
              "      <td>...</td>\n",
              "    </tr>\n",
              "    <tr>\n",
              "      <th>2022-10-26</th>\n",
              "      <td>231.169998</td>\n",
              "      <td>238.300003</td>\n",
              "      <td>230.059998</td>\n",
              "      <td>231.320007</td>\n",
              "      <td>230.669937</td>\n",
              "      <td>82543200</td>\n",
              "    </tr>\n",
              "    <tr>\n",
              "      <th>2022-10-27</th>\n",
              "      <td>231.039993</td>\n",
              "      <td>233.690002</td>\n",
              "      <td>225.779999</td>\n",
              "      <td>226.750000</td>\n",
              "      <td>226.112778</td>\n",
              "      <td>40424600</td>\n",
              "    </tr>\n",
              "    <tr>\n",
              "      <th>2022-10-28</th>\n",
              "      <td>226.240005</td>\n",
              "      <td>236.600006</td>\n",
              "      <td>226.050003</td>\n",
              "      <td>235.869995</td>\n",
              "      <td>235.207138</td>\n",
              "      <td>40647700</td>\n",
              "    </tr>\n",
              "    <tr>\n",
              "      <th>2022-10-31</th>\n",
              "      <td>233.759995</td>\n",
              "      <td>234.919998</td>\n",
              "      <td>231.149994</td>\n",
              "      <td>232.130005</td>\n",
              "      <td>231.477661</td>\n",
              "      <td>28357300</td>\n",
              "    </tr>\n",
              "    <tr>\n",
              "      <th>2022-11-01</th>\n",
              "      <td>234.600006</td>\n",
              "      <td>235.740005</td>\n",
              "      <td>227.330002</td>\n",
              "      <td>228.169998</td>\n",
              "      <td>227.528793</td>\n",
              "      <td>30592300</td>\n",
              "    </tr>\n",
              "  </tbody>\n",
              "</table>\n",
              "<p>2517 rows × 6 columns</p>\n",
              "</div>\n",
              "      <button class=\"colab-df-convert\" onclick=\"convertToInteractive('df-d8e3aab0-c61d-4368-a1a9-be6195925d66')\"\n",
              "              title=\"Convert this dataframe to an interactive table.\"\n",
              "              style=\"display:none;\">\n",
              "        \n",
              "  <svg xmlns=\"http://www.w3.org/2000/svg\" height=\"24px\"viewBox=\"0 0 24 24\"\n",
              "       width=\"24px\">\n",
              "    <path d=\"M0 0h24v24H0V0z\" fill=\"none\"/>\n",
              "    <path d=\"M18.56 5.44l.94 2.06.94-2.06 2.06-.94-2.06-.94-.94-2.06-.94 2.06-2.06.94zm-11 1L8.5 8.5l.94-2.06 2.06-.94-2.06-.94L8.5 2.5l-.94 2.06-2.06.94zm10 10l.94 2.06.94-2.06 2.06-.94-2.06-.94-.94-2.06-.94 2.06-2.06.94z\"/><path d=\"M17.41 7.96l-1.37-1.37c-.4-.4-.92-.59-1.43-.59-.52 0-1.04.2-1.43.59L10.3 9.45l-7.72 7.72c-.78.78-.78 2.05 0 2.83L4 21.41c.39.39.9.59 1.41.59.51 0 1.02-.2 1.41-.59l7.78-7.78 2.81-2.81c.8-.78.8-2.07 0-2.86zM5.41 20L4 18.59l7.72-7.72 1.47 1.35L5.41 20z\"/>\n",
              "  </svg>\n",
              "      </button>\n",
              "      \n",
              "  <style>\n",
              "    .colab-df-container {\n",
              "      display:flex;\n",
              "      flex-wrap:wrap;\n",
              "      gap: 12px;\n",
              "    }\n",
              "\n",
              "    .colab-df-convert {\n",
              "      background-color: #E8F0FE;\n",
              "      border: none;\n",
              "      border-radius: 50%;\n",
              "      cursor: pointer;\n",
              "      display: none;\n",
              "      fill: #1967D2;\n",
              "      height: 32px;\n",
              "      padding: 0 0 0 0;\n",
              "      width: 32px;\n",
              "    }\n",
              "\n",
              "    .colab-df-convert:hover {\n",
              "      background-color: #E2EBFA;\n",
              "      box-shadow: 0px 1px 2px rgba(60, 64, 67, 0.3), 0px 1px 3px 1px rgba(60, 64, 67, 0.15);\n",
              "      fill: #174EA6;\n",
              "    }\n",
              "\n",
              "    [theme=dark] .colab-df-convert {\n",
              "      background-color: #3B4455;\n",
              "      fill: #D2E3FC;\n",
              "    }\n",
              "\n",
              "    [theme=dark] .colab-df-convert:hover {\n",
              "      background-color: #434B5C;\n",
              "      box-shadow: 0px 1px 3px 1px rgba(0, 0, 0, 0.15);\n",
              "      filter: drop-shadow(0px 1px 2px rgba(0, 0, 0, 0.3));\n",
              "      fill: #FFFFFF;\n",
              "    }\n",
              "  </style>\n",
              "\n",
              "      <script>\n",
              "        const buttonEl =\n",
              "          document.querySelector('#df-d8e3aab0-c61d-4368-a1a9-be6195925d66 button.colab-df-convert');\n",
              "        buttonEl.style.display =\n",
              "          google.colab.kernel.accessAllowed ? 'block' : 'none';\n",
              "\n",
              "        async function convertToInteractive(key) {\n",
              "          const element = document.querySelector('#df-d8e3aab0-c61d-4368-a1a9-be6195925d66');\n",
              "          const dataTable =\n",
              "            await google.colab.kernel.invokeFunction('convertToInteractive',\n",
              "                                                     [key], {});\n",
              "          if (!dataTable) return;\n",
              "\n",
              "          const docLinkHtml = 'Like what you see? Visit the ' +\n",
              "            '<a target=\"_blank\" href=https://colab.research.google.com/notebooks/data_table.ipynb>data table notebook</a>'\n",
              "            + ' to learn more about interactive tables.';\n",
              "          element.innerHTML = '';\n",
              "          dataTable['output_type'] = 'display_data';\n",
              "          await google.colab.output.renderOutput(dataTable, element);\n",
              "          const docLink = document.createElement('div');\n",
              "          docLink.innerHTML = docLinkHtml;\n",
              "          element.appendChild(docLink);\n",
              "        }\n",
              "      </script>\n",
              "    </div>\n",
              "  </div>\n",
              "  "
            ]
          },
          "metadata": {},
          "execution_count": 6
        }
      ],
      "source": [
        "MSFT_data = pdr.get_data_yahoo('MSFT', start=start_date, end=end_date)\n",
        "MSFT_data"
      ]
    },
    {
      "cell_type": "markdown",
      "source": [
        "Nếu giá tăng, phần trăm thay đổi được tính bằng công thức: [(Giá mới - Giá cũ) / Giá cũ] rồi nhân số đó với 100. Nếu giá giảm, phần trăm thay đổi được tính bằng công thức [(Giá cũ - Giá mới) / Giá cũ] và nhân số đó với 100.\n",
        "\n",
        "Công thức này được sử dụng để theo dõi giá của chứng khoán riêng lẻ và các chỉ số thị trường lớn"
      ],
      "metadata": {
        "id": "5AsVmmOgvRJw"
      }
    },
    {
      "cell_type": "code",
      "source": [
        "MSFT = MSFT_data[\"Adj Close\"].pct_change() * 100 #Lấy cột Adj Close và\n",
        "                                                # Hàm pct: để lấy tiền lãi hằng ngày dựa trên Adj Close\n",
        "                                                 # Và nhân với 100 vì lấy các giá trị theo tỷ lệ phần trăm\n"
      ],
      "metadata": {
        "id": "IXib475-2g7-"
      },
      "execution_count": null,
      "outputs": []
    },
    {
      "cell_type": "code",
      "source": [
        "MSFT"
      ],
      "metadata": {
        "id": "hYmbINv53uKs",
        "colab": {
          "base_uri": "https://localhost:8080/"
        },
        "outputId": "9e64d144-c20c-48ee-c44d-0519a77dc6b2"
      },
      "execution_count": null,
      "outputs": [
        {
          "output_type": "execute_result",
          "data": {
            "text/plain": [
              "Date\n",
              "2012-11-02         NaN\n",
              "2012-11-05    0.440657\n",
              "2012-11-06    0.776259\n",
              "2012-11-07   -2.612213\n",
              "2012-11-08   -0.928471\n",
              "                ...   \n",
              "2022-10-26   -7.715629\n",
              "2022-10-27   -1.975619\n",
              "2022-10-28    4.022046\n",
              "2022-10-31   -1.585614\n",
              "2022-11-01   -1.705939\n",
              "Name: Adj Close, Length: 2517, dtype: float64"
            ]
          },
          "metadata": {},
          "execution_count": 8
        }
      ]
    },
    {
      "cell_type": "code",
      "source": [
        "MSFT = MSFT.rename(\"Today\") # Cột Today chứa thay đổi giá tương đối trong ngày"
      ],
      "metadata": {
        "id": "njz7Cn2_5rJX"
      },
      "execution_count": null,
      "outputs": []
    },
    {
      "cell_type": "code",
      "source": [
        "MSFT"
      ],
      "metadata": {
        "id": "_Td5fJYr8OnE",
        "colab": {
          "base_uri": "https://localhost:8080/"
        },
        "outputId": "26f37700-2a8b-4ff0-b28f-25f0d790f11b"
      },
      "execution_count": null,
      "outputs": [
        {
          "output_type": "execute_result",
          "data": {
            "text/plain": [
              "Date\n",
              "2012-11-02         NaN\n",
              "2012-11-05    0.440657\n",
              "2012-11-06    0.776259\n",
              "2012-11-07   -2.612213\n",
              "2012-11-08   -0.928471\n",
              "                ...   \n",
              "2022-10-26   -7.715629\n",
              "2022-10-27   -1.975619\n",
              "2022-10-28    4.022046\n",
              "2022-10-31   -1.585614\n",
              "2022-11-01   -1.705939\n",
              "Name: Today, Length: 2517, dtype: float64"
            ]
          },
          "metadata": {},
          "execution_count": 10
        }
      ]
    },
    {
      "cell_type": "code",
      "source": [
        "MSFT = MSFT.reset_index()"
      ],
      "metadata": {
        "id": "cEsPcu_o8mj5"
      },
      "execution_count": null,
      "outputs": []
    },
    {
      "cell_type": "code",
      "source": [
        "MSFT"
      ],
      "metadata": {
        "id": "rKiVmDaa8z-8",
        "colab": {
          "base_uri": "https://localhost:8080/",
          "height": 424
        },
        "outputId": "dfc624ed-2446-4529-e126-1dc4b5565461"
      },
      "execution_count": null,
      "outputs": [
        {
          "output_type": "execute_result",
          "data": {
            "text/plain": [
              "           Date     Today\n",
              "0    2012-11-02       NaN\n",
              "1    2012-11-05  0.440657\n",
              "2    2012-11-06  0.776259\n",
              "3    2012-11-07 -2.612213\n",
              "4    2012-11-08 -0.928471\n",
              "...         ...       ...\n",
              "2512 2022-10-26 -7.715629\n",
              "2513 2022-10-27 -1.975619\n",
              "2514 2022-10-28  4.022046\n",
              "2515 2022-10-31 -1.585614\n",
              "2516 2022-11-01 -1.705939\n",
              "\n",
              "[2517 rows x 2 columns]"
            ],
            "text/html": [
              "\n",
              "  <div id=\"df-9317ee54-9ad2-464f-b381-35d74ac8719c\">\n",
              "    <div class=\"colab-df-container\">\n",
              "      <div>\n",
              "<style scoped>\n",
              "    .dataframe tbody tr th:only-of-type {\n",
              "        vertical-align: middle;\n",
              "    }\n",
              "\n",
              "    .dataframe tbody tr th {\n",
              "        vertical-align: top;\n",
              "    }\n",
              "\n",
              "    .dataframe thead th {\n",
              "        text-align: right;\n",
              "    }\n",
              "</style>\n",
              "<table border=\"1\" class=\"dataframe\">\n",
              "  <thead>\n",
              "    <tr style=\"text-align: right;\">\n",
              "      <th></th>\n",
              "      <th>Date</th>\n",
              "      <th>Today</th>\n",
              "    </tr>\n",
              "  </thead>\n",
              "  <tbody>\n",
              "    <tr>\n",
              "      <th>0</th>\n",
              "      <td>2012-11-02</td>\n",
              "      <td>NaN</td>\n",
              "    </tr>\n",
              "    <tr>\n",
              "      <th>1</th>\n",
              "      <td>2012-11-05</td>\n",
              "      <td>0.440657</td>\n",
              "    </tr>\n",
              "    <tr>\n",
              "      <th>2</th>\n",
              "      <td>2012-11-06</td>\n",
              "      <td>0.776259</td>\n",
              "    </tr>\n",
              "    <tr>\n",
              "      <th>3</th>\n",
              "      <td>2012-11-07</td>\n",
              "      <td>-2.612213</td>\n",
              "    </tr>\n",
              "    <tr>\n",
              "      <th>4</th>\n",
              "      <td>2012-11-08</td>\n",
              "      <td>-0.928471</td>\n",
              "    </tr>\n",
              "    <tr>\n",
              "      <th>...</th>\n",
              "      <td>...</td>\n",
              "      <td>...</td>\n",
              "    </tr>\n",
              "    <tr>\n",
              "      <th>2512</th>\n",
              "      <td>2022-10-26</td>\n",
              "      <td>-7.715629</td>\n",
              "    </tr>\n",
              "    <tr>\n",
              "      <th>2513</th>\n",
              "      <td>2022-10-27</td>\n",
              "      <td>-1.975619</td>\n",
              "    </tr>\n",
              "    <tr>\n",
              "      <th>2514</th>\n",
              "      <td>2022-10-28</td>\n",
              "      <td>4.022046</td>\n",
              "    </tr>\n",
              "    <tr>\n",
              "      <th>2515</th>\n",
              "      <td>2022-10-31</td>\n",
              "      <td>-1.585614</td>\n",
              "    </tr>\n",
              "    <tr>\n",
              "      <th>2516</th>\n",
              "      <td>2022-11-01</td>\n",
              "      <td>-1.705939</td>\n",
              "    </tr>\n",
              "  </tbody>\n",
              "</table>\n",
              "<p>2517 rows × 2 columns</p>\n",
              "</div>\n",
              "      <button class=\"colab-df-convert\" onclick=\"convertToInteractive('df-9317ee54-9ad2-464f-b381-35d74ac8719c')\"\n",
              "              title=\"Convert this dataframe to an interactive table.\"\n",
              "              style=\"display:none;\">\n",
              "        \n",
              "  <svg xmlns=\"http://www.w3.org/2000/svg\" height=\"24px\"viewBox=\"0 0 24 24\"\n",
              "       width=\"24px\">\n",
              "    <path d=\"M0 0h24v24H0V0z\" fill=\"none\"/>\n",
              "    <path d=\"M18.56 5.44l.94 2.06.94-2.06 2.06-.94-2.06-.94-.94-2.06-.94 2.06-2.06.94zm-11 1L8.5 8.5l.94-2.06 2.06-.94-2.06-.94L8.5 2.5l-.94 2.06-2.06.94zm10 10l.94 2.06.94-2.06 2.06-.94-2.06-.94-.94-2.06-.94 2.06-2.06.94z\"/><path d=\"M17.41 7.96l-1.37-1.37c-.4-.4-.92-.59-1.43-.59-.52 0-1.04.2-1.43.59L10.3 9.45l-7.72 7.72c-.78.78-.78 2.05 0 2.83L4 21.41c.39.39.9.59 1.41.59.51 0 1.02-.2 1.41-.59l7.78-7.78 2.81-2.81c.8-.78.8-2.07 0-2.86zM5.41 20L4 18.59l7.72-7.72 1.47 1.35L5.41 20z\"/>\n",
              "  </svg>\n",
              "      </button>\n",
              "      \n",
              "  <style>\n",
              "    .colab-df-container {\n",
              "      display:flex;\n",
              "      flex-wrap:wrap;\n",
              "      gap: 12px;\n",
              "    }\n",
              "\n",
              "    .colab-df-convert {\n",
              "      background-color: #E8F0FE;\n",
              "      border: none;\n",
              "      border-radius: 50%;\n",
              "      cursor: pointer;\n",
              "      display: none;\n",
              "      fill: #1967D2;\n",
              "      height: 32px;\n",
              "      padding: 0 0 0 0;\n",
              "      width: 32px;\n",
              "    }\n",
              "\n",
              "    .colab-df-convert:hover {\n",
              "      background-color: #E2EBFA;\n",
              "      box-shadow: 0px 1px 2px rgba(60, 64, 67, 0.3), 0px 1px 3px 1px rgba(60, 64, 67, 0.15);\n",
              "      fill: #174EA6;\n",
              "    }\n",
              "\n",
              "    [theme=dark] .colab-df-convert {\n",
              "      background-color: #3B4455;\n",
              "      fill: #D2E3FC;\n",
              "    }\n",
              "\n",
              "    [theme=dark] .colab-df-convert:hover {\n",
              "      background-color: #434B5C;\n",
              "      box-shadow: 0px 1px 3px 1px rgba(0, 0, 0, 0.15);\n",
              "      filter: drop-shadow(0px 1px 2px rgba(0, 0, 0, 0.3));\n",
              "      fill: #FFFFFF;\n",
              "    }\n",
              "  </style>\n",
              "\n",
              "      <script>\n",
              "        const buttonEl =\n",
              "          document.querySelector('#df-9317ee54-9ad2-464f-b381-35d74ac8719c button.colab-df-convert');\n",
              "        buttonEl.style.display =\n",
              "          google.colab.kernel.accessAllowed ? 'block' : 'none';\n",
              "\n",
              "        async function convertToInteractive(key) {\n",
              "          const element = document.querySelector('#df-9317ee54-9ad2-464f-b381-35d74ac8719c');\n",
              "          const dataTable =\n",
              "            await google.colab.kernel.invokeFunction('convertToInteractive',\n",
              "                                                     [key], {});\n",
              "          if (!dataTable) return;\n",
              "\n",
              "          const docLinkHtml = 'Like what you see? Visit the ' +\n",
              "            '<a target=\"_blank\" href=https://colab.research.google.com/notebooks/data_table.ipynb>data table notebook</a>'\n",
              "            + ' to learn more about interactive tables.';\n",
              "          element.innerHTML = '';\n",
              "          dataTable['output_type'] = 'display_data';\n",
              "          await google.colab.output.renderOutput(dataTable, element);\n",
              "          const docLink = document.createElement('div');\n",
              "          docLink.innerHTML = docLinkHtml;\n",
              "          element.appendChild(docLink);\n",
              "        }\n",
              "      </script>\n",
              "    </div>\n",
              "  </div>\n",
              "  "
            ]
          },
          "metadata": {},
          "execution_count": 12
        }
      ]
    },
    {
      "cell_type": "code",
      "source": [
        "# Lags chỉ là phần trăm thay đổi của ngày hôm trước (chứa dữ liệu của những ngày trc đó)=> Lag 1 là phần trăm thay đổi của ngày trước đó\n",
        "for i in range(1,8):\n",
        "  MSFT['Lag '+str(i)] = MSFT['Today'].shift(i)"
      ],
      "metadata": {
        "id": "k1tlnQ3c83d9"
      },
      "execution_count": null,
      "outputs": []
    },
    {
      "cell_type": "code",
      "source": [
        "MSFT"
      ],
      "metadata": {
        "id": "Poqff6GF-wFe",
        "colab": {
          "base_uri": "https://localhost:8080/",
          "height": 424
        },
        "outputId": "38f53e52-a527-4671-c320-bb69519b803a"
      },
      "execution_count": null,
      "outputs": [
        {
          "output_type": "execute_result",
          "data": {
            "text/plain": [
              "           Date     Today     Lag 1     Lag 2     Lag 3     Lag 4     Lag 5  \\\n",
              "0    2012-11-02       NaN       NaN       NaN       NaN       NaN       NaN   \n",
              "1    2012-11-05  0.440657       NaN       NaN       NaN       NaN       NaN   \n",
              "2    2012-11-06  0.776259  0.440657       NaN       NaN       NaN       NaN   \n",
              "3    2012-11-07 -2.612213  0.776259  0.440657       NaN       NaN       NaN   \n",
              "4    2012-11-08 -0.928471 -2.612213  0.776259  0.440657       NaN       NaN   \n",
              "...         ...       ...       ...       ...       ...       ...       ...   \n",
              "2512 2022-10-26 -7.715629  1.379166  2.118791  2.528052 -0.139546 -0.846962   \n",
              "2513 2022-10-27 -1.975619 -7.715629  1.379166  2.118791  2.528052 -0.139546   \n",
              "2514 2022-10-28  4.022046 -1.975619 -7.715629  1.379166  2.118791  2.528052   \n",
              "2515 2022-10-31 -1.585614  4.022046 -1.975619 -7.715629  1.379166  2.118791   \n",
              "2516 2022-11-01 -1.705939 -1.585614  4.022046 -1.975619 -7.715629  1.379166   \n",
              "\n",
              "         Lag 6     Lag 7  \n",
              "0          NaN       NaN  \n",
              "1          NaN       NaN  \n",
              "2          NaN       NaN  \n",
              "3          NaN       NaN  \n",
              "4          NaN       NaN  \n",
              "...        ...       ...  \n",
              "2512  0.408368  3.924572  \n",
              "2513 -0.846962  0.408368  \n",
              "2514 -0.139546 -0.846962  \n",
              "2515  2.528052 -0.139546  \n",
              "2516  2.118791  2.528052  \n",
              "\n",
              "[2517 rows x 9 columns]"
            ],
            "text/html": [
              "\n",
              "  <div id=\"df-3db83fcc-149d-4e2e-b633-be42fa0d5202\">\n",
              "    <div class=\"colab-df-container\">\n",
              "      <div>\n",
              "<style scoped>\n",
              "    .dataframe tbody tr th:only-of-type {\n",
              "        vertical-align: middle;\n",
              "    }\n",
              "\n",
              "    .dataframe tbody tr th {\n",
              "        vertical-align: top;\n",
              "    }\n",
              "\n",
              "    .dataframe thead th {\n",
              "        text-align: right;\n",
              "    }\n",
              "</style>\n",
              "<table border=\"1\" class=\"dataframe\">\n",
              "  <thead>\n",
              "    <tr style=\"text-align: right;\">\n",
              "      <th></th>\n",
              "      <th>Date</th>\n",
              "      <th>Today</th>\n",
              "      <th>Lag 1</th>\n",
              "      <th>Lag 2</th>\n",
              "      <th>Lag 3</th>\n",
              "      <th>Lag 4</th>\n",
              "      <th>Lag 5</th>\n",
              "      <th>Lag 6</th>\n",
              "      <th>Lag 7</th>\n",
              "    </tr>\n",
              "  </thead>\n",
              "  <tbody>\n",
              "    <tr>\n",
              "      <th>0</th>\n",
              "      <td>2012-11-02</td>\n",
              "      <td>NaN</td>\n",
              "      <td>NaN</td>\n",
              "      <td>NaN</td>\n",
              "      <td>NaN</td>\n",
              "      <td>NaN</td>\n",
              "      <td>NaN</td>\n",
              "      <td>NaN</td>\n",
              "      <td>NaN</td>\n",
              "    </tr>\n",
              "    <tr>\n",
              "      <th>1</th>\n",
              "      <td>2012-11-05</td>\n",
              "      <td>0.440657</td>\n",
              "      <td>NaN</td>\n",
              "      <td>NaN</td>\n",
              "      <td>NaN</td>\n",
              "      <td>NaN</td>\n",
              "      <td>NaN</td>\n",
              "      <td>NaN</td>\n",
              "      <td>NaN</td>\n",
              "    </tr>\n",
              "    <tr>\n",
              "      <th>2</th>\n",
              "      <td>2012-11-06</td>\n",
              "      <td>0.776259</td>\n",
              "      <td>0.440657</td>\n",
              "      <td>NaN</td>\n",
              "      <td>NaN</td>\n",
              "      <td>NaN</td>\n",
              "      <td>NaN</td>\n",
              "      <td>NaN</td>\n",
              "      <td>NaN</td>\n",
              "    </tr>\n",
              "    <tr>\n",
              "      <th>3</th>\n",
              "      <td>2012-11-07</td>\n",
              "      <td>-2.612213</td>\n",
              "      <td>0.776259</td>\n",
              "      <td>0.440657</td>\n",
              "      <td>NaN</td>\n",
              "      <td>NaN</td>\n",
              "      <td>NaN</td>\n",
              "      <td>NaN</td>\n",
              "      <td>NaN</td>\n",
              "    </tr>\n",
              "    <tr>\n",
              "      <th>4</th>\n",
              "      <td>2012-11-08</td>\n",
              "      <td>-0.928471</td>\n",
              "      <td>-2.612213</td>\n",
              "      <td>0.776259</td>\n",
              "      <td>0.440657</td>\n",
              "      <td>NaN</td>\n",
              "      <td>NaN</td>\n",
              "      <td>NaN</td>\n",
              "      <td>NaN</td>\n",
              "    </tr>\n",
              "    <tr>\n",
              "      <th>...</th>\n",
              "      <td>...</td>\n",
              "      <td>...</td>\n",
              "      <td>...</td>\n",
              "      <td>...</td>\n",
              "      <td>...</td>\n",
              "      <td>...</td>\n",
              "      <td>...</td>\n",
              "      <td>...</td>\n",
              "      <td>...</td>\n",
              "    </tr>\n",
              "    <tr>\n",
              "      <th>2512</th>\n",
              "      <td>2022-10-26</td>\n",
              "      <td>-7.715629</td>\n",
              "      <td>1.379166</td>\n",
              "      <td>2.118791</td>\n",
              "      <td>2.528052</td>\n",
              "      <td>-0.139546</td>\n",
              "      <td>-0.846962</td>\n",
              "      <td>0.408368</td>\n",
              "      <td>3.924572</td>\n",
              "    </tr>\n",
              "    <tr>\n",
              "      <th>2513</th>\n",
              "      <td>2022-10-27</td>\n",
              "      <td>-1.975619</td>\n",
              "      <td>-7.715629</td>\n",
              "      <td>1.379166</td>\n",
              "      <td>2.118791</td>\n",
              "      <td>2.528052</td>\n",
              "      <td>-0.139546</td>\n",
              "      <td>-0.846962</td>\n",
              "      <td>0.408368</td>\n",
              "    </tr>\n",
              "    <tr>\n",
              "      <th>2514</th>\n",
              "      <td>2022-10-28</td>\n",
              "      <td>4.022046</td>\n",
              "      <td>-1.975619</td>\n",
              "      <td>-7.715629</td>\n",
              "      <td>1.379166</td>\n",
              "      <td>2.118791</td>\n",
              "      <td>2.528052</td>\n",
              "      <td>-0.139546</td>\n",
              "      <td>-0.846962</td>\n",
              "    </tr>\n",
              "    <tr>\n",
              "      <th>2515</th>\n",
              "      <td>2022-10-31</td>\n",
              "      <td>-1.585614</td>\n",
              "      <td>4.022046</td>\n",
              "      <td>-1.975619</td>\n",
              "      <td>-7.715629</td>\n",
              "      <td>1.379166</td>\n",
              "      <td>2.118791</td>\n",
              "      <td>2.528052</td>\n",
              "      <td>-0.139546</td>\n",
              "    </tr>\n",
              "    <tr>\n",
              "      <th>2516</th>\n",
              "      <td>2022-11-01</td>\n",
              "      <td>-1.705939</td>\n",
              "      <td>-1.585614</td>\n",
              "      <td>4.022046</td>\n",
              "      <td>-1.975619</td>\n",
              "      <td>-7.715629</td>\n",
              "      <td>1.379166</td>\n",
              "      <td>2.118791</td>\n",
              "      <td>2.528052</td>\n",
              "    </tr>\n",
              "  </tbody>\n",
              "</table>\n",
              "<p>2517 rows × 9 columns</p>\n",
              "</div>\n",
              "      <button class=\"colab-df-convert\" onclick=\"convertToInteractive('df-3db83fcc-149d-4e2e-b633-be42fa0d5202')\"\n",
              "              title=\"Convert this dataframe to an interactive table.\"\n",
              "              style=\"display:none;\">\n",
              "        \n",
              "  <svg xmlns=\"http://www.w3.org/2000/svg\" height=\"24px\"viewBox=\"0 0 24 24\"\n",
              "       width=\"24px\">\n",
              "    <path d=\"M0 0h24v24H0V0z\" fill=\"none\"/>\n",
              "    <path d=\"M18.56 5.44l.94 2.06.94-2.06 2.06-.94-2.06-.94-.94-2.06-.94 2.06-2.06.94zm-11 1L8.5 8.5l.94-2.06 2.06-.94-2.06-.94L8.5 2.5l-.94 2.06-2.06.94zm10 10l.94 2.06.94-2.06 2.06-.94-2.06-.94-.94-2.06-.94 2.06-2.06.94z\"/><path d=\"M17.41 7.96l-1.37-1.37c-.4-.4-.92-.59-1.43-.59-.52 0-1.04.2-1.43.59L10.3 9.45l-7.72 7.72c-.78.78-.78 2.05 0 2.83L4 21.41c.39.39.9.59 1.41.59.51 0 1.02-.2 1.41-.59l7.78-7.78 2.81-2.81c.8-.78.8-2.07 0-2.86zM5.41 20L4 18.59l7.72-7.72 1.47 1.35L5.41 20z\"/>\n",
              "  </svg>\n",
              "      </button>\n",
              "      \n",
              "  <style>\n",
              "    .colab-df-container {\n",
              "      display:flex;\n",
              "      flex-wrap:wrap;\n",
              "      gap: 12px;\n",
              "    }\n",
              "\n",
              "    .colab-df-convert {\n",
              "      background-color: #E8F0FE;\n",
              "      border: none;\n",
              "      border-radius: 50%;\n",
              "      cursor: pointer;\n",
              "      display: none;\n",
              "      fill: #1967D2;\n",
              "      height: 32px;\n",
              "      padding: 0 0 0 0;\n",
              "      width: 32px;\n",
              "    }\n",
              "\n",
              "    .colab-df-convert:hover {\n",
              "      background-color: #E2EBFA;\n",
              "      box-shadow: 0px 1px 2px rgba(60, 64, 67, 0.3), 0px 1px 3px 1px rgba(60, 64, 67, 0.15);\n",
              "      fill: #174EA6;\n",
              "    }\n",
              "\n",
              "    [theme=dark] .colab-df-convert {\n",
              "      background-color: #3B4455;\n",
              "      fill: #D2E3FC;\n",
              "    }\n",
              "\n",
              "    [theme=dark] .colab-df-convert:hover {\n",
              "      background-color: #434B5C;\n",
              "      box-shadow: 0px 1px 3px 1px rgba(0, 0, 0, 0.15);\n",
              "      filter: drop-shadow(0px 1px 2px rgba(0, 0, 0, 0.3));\n",
              "      fill: #FFFFFF;\n",
              "    }\n",
              "  </style>\n",
              "\n",
              "      <script>\n",
              "        const buttonEl =\n",
              "          document.querySelector('#df-3db83fcc-149d-4e2e-b633-be42fa0d5202 button.colab-df-convert');\n",
              "        buttonEl.style.display =\n",
              "          google.colab.kernel.accessAllowed ? 'block' : 'none';\n",
              "\n",
              "        async function convertToInteractive(key) {\n",
              "          const element = document.querySelector('#df-3db83fcc-149d-4e2e-b633-be42fa0d5202');\n",
              "          const dataTable =\n",
              "            await google.colab.kernel.invokeFunction('convertToInteractive',\n",
              "                                                     [key], {});\n",
              "          if (!dataTable) return;\n",
              "\n",
              "          const docLinkHtml = 'Like what you see? Visit the ' +\n",
              "            '<a target=\"_blank\" href=https://colab.research.google.com/notebooks/data_table.ipynb>data table notebook</a>'\n",
              "            + ' to learn more about interactive tables.';\n",
              "          element.innerHTML = '';\n",
              "          dataTable['output_type'] = 'display_data';\n",
              "          await google.colab.output.renderOutput(dataTable, element);\n",
              "          const docLink = document.createElement('div');\n",
              "          docLink.innerHTML = docLinkHtml;\n",
              "          element.appendChild(docLink);\n",
              "        }\n",
              "      </script>\n",
              "    </div>\n",
              "  </div>\n",
              "  "
            ]
          },
          "metadata": {},
          "execution_count": 14
        }
      ]
    },
    {
      "cell_type": "code",
      "source": [
        "MSFT['Volume'] = MSFT_data.Volume.shift(1).values/1000_000_000 #tương đồng với các Lag"
      ],
      "metadata": {
        "id": "T0lhUjlbxV68"
      },
      "execution_count": null,
      "outputs": []
    },
    {
      "cell_type": "code",
      "source": [
        "MSFT = MSFT.dropna() #để dữ liệu dễ sử dụng"
      ],
      "metadata": {
        "id": "POx-GNoP_dLe"
      },
      "execution_count": null,
      "outputs": []
    },
    {
      "cell_type": "code",
      "source": [
        "MSFT"
      ],
      "metadata": {
        "id": "Xl5HxScr_uhq",
        "colab": {
          "base_uri": "https://localhost:8080/",
          "height": 424
        },
        "outputId": "98da48c1-2738-4cbd-d867-2d9e04852474"
      },
      "execution_count": null,
      "outputs": [
        {
          "output_type": "execute_result",
          "data": {
            "text/plain": [
              "           Date     Today     Lag 1     Lag 2     Lag 3     Lag 4     Lag 5  \\\n",
              "8    2012-11-14 -0.922881 -3.215418 -2.115861  0.069430 -0.928471 -2.612213   \n",
              "9    2012-11-15 -0.670620 -0.922881 -3.215418 -2.115861  0.069430 -0.928471   \n",
              "10   2012-11-16 -0.525132 -0.670620 -0.922881 -3.215418 -2.115861  0.069430   \n",
              "11   2012-11-19  0.791857 -0.525132 -0.670620 -0.922881 -3.215418 -2.115861   \n",
              "12   2012-11-20 -0.074820  0.791857 -0.525132 -0.670620 -0.922881 -3.215418   \n",
              "...         ...       ...       ...       ...       ...       ...       ...   \n",
              "2512 2022-10-26 -7.715629  1.379166  2.118791  2.528052 -0.139546 -0.846962   \n",
              "2513 2022-10-27 -1.975619 -7.715629  1.379166  2.118791  2.528052 -0.139546   \n",
              "2514 2022-10-28  4.022046 -1.975619 -7.715629  1.379166  2.118791  2.528052   \n",
              "2515 2022-10-31 -1.585614  4.022046 -1.975619 -7.715629  1.379166  2.118791   \n",
              "2516 2022-11-01 -1.705939 -1.585614  4.022046 -1.975619 -7.715629  1.379166   \n",
              "\n",
              "         Lag 6     Lag 7    Volume  \n",
              "8     0.776259  0.440657  0.131689  \n",
              "9    -2.612213  0.776259  0.076086  \n",
              "10   -0.928471 -2.612213  0.050956  \n",
              "11    0.069430 -0.928471  0.064083  \n",
              "12   -2.115861  0.069430  0.057179  \n",
              "...        ...       ...       ...  \n",
              "2512  0.408368  3.924572  0.034776  \n",
              "2513 -0.846962  0.408368  0.082543  \n",
              "2514 -0.139546 -0.846962  0.040425  \n",
              "2515  2.528052 -0.139546  0.040648  \n",
              "2516  2.118791  2.528052  0.028357  \n",
              "\n",
              "[2509 rows x 10 columns]"
            ],
            "text/html": [
              "\n",
              "  <div id=\"df-200f0daa-6920-4389-8ae6-92e51f7456e3\">\n",
              "    <div class=\"colab-df-container\">\n",
              "      <div>\n",
              "<style scoped>\n",
              "    .dataframe tbody tr th:only-of-type {\n",
              "        vertical-align: middle;\n",
              "    }\n",
              "\n",
              "    .dataframe tbody tr th {\n",
              "        vertical-align: top;\n",
              "    }\n",
              "\n",
              "    .dataframe thead th {\n",
              "        text-align: right;\n",
              "    }\n",
              "</style>\n",
              "<table border=\"1\" class=\"dataframe\">\n",
              "  <thead>\n",
              "    <tr style=\"text-align: right;\">\n",
              "      <th></th>\n",
              "      <th>Date</th>\n",
              "      <th>Today</th>\n",
              "      <th>Lag 1</th>\n",
              "      <th>Lag 2</th>\n",
              "      <th>Lag 3</th>\n",
              "      <th>Lag 4</th>\n",
              "      <th>Lag 5</th>\n",
              "      <th>Lag 6</th>\n",
              "      <th>Lag 7</th>\n",
              "      <th>Volume</th>\n",
              "    </tr>\n",
              "  </thead>\n",
              "  <tbody>\n",
              "    <tr>\n",
              "      <th>8</th>\n",
              "      <td>2012-11-14</td>\n",
              "      <td>-0.922881</td>\n",
              "      <td>-3.215418</td>\n",
              "      <td>-2.115861</td>\n",
              "      <td>0.069430</td>\n",
              "      <td>-0.928471</td>\n",
              "      <td>-2.612213</td>\n",
              "      <td>0.776259</td>\n",
              "      <td>0.440657</td>\n",
              "      <td>0.131689</td>\n",
              "    </tr>\n",
              "    <tr>\n",
              "      <th>9</th>\n",
              "      <td>2012-11-15</td>\n",
              "      <td>-0.670620</td>\n",
              "      <td>-0.922881</td>\n",
              "      <td>-3.215418</td>\n",
              "      <td>-2.115861</td>\n",
              "      <td>0.069430</td>\n",
              "      <td>-0.928471</td>\n",
              "      <td>-2.612213</td>\n",
              "      <td>0.776259</td>\n",
              "      <td>0.076086</td>\n",
              "    </tr>\n",
              "    <tr>\n",
              "      <th>10</th>\n",
              "      <td>2012-11-16</td>\n",
              "      <td>-0.525132</td>\n",
              "      <td>-0.670620</td>\n",
              "      <td>-0.922881</td>\n",
              "      <td>-3.215418</td>\n",
              "      <td>-2.115861</td>\n",
              "      <td>0.069430</td>\n",
              "      <td>-0.928471</td>\n",
              "      <td>-2.612213</td>\n",
              "      <td>0.050956</td>\n",
              "    </tr>\n",
              "    <tr>\n",
              "      <th>11</th>\n",
              "      <td>2012-11-19</td>\n",
              "      <td>0.791857</td>\n",
              "      <td>-0.525132</td>\n",
              "      <td>-0.670620</td>\n",
              "      <td>-0.922881</td>\n",
              "      <td>-3.215418</td>\n",
              "      <td>-2.115861</td>\n",
              "      <td>0.069430</td>\n",
              "      <td>-0.928471</td>\n",
              "      <td>0.064083</td>\n",
              "    </tr>\n",
              "    <tr>\n",
              "      <th>12</th>\n",
              "      <td>2012-11-20</td>\n",
              "      <td>-0.074820</td>\n",
              "      <td>0.791857</td>\n",
              "      <td>-0.525132</td>\n",
              "      <td>-0.670620</td>\n",
              "      <td>-0.922881</td>\n",
              "      <td>-3.215418</td>\n",
              "      <td>-2.115861</td>\n",
              "      <td>0.069430</td>\n",
              "      <td>0.057179</td>\n",
              "    </tr>\n",
              "    <tr>\n",
              "      <th>...</th>\n",
              "      <td>...</td>\n",
              "      <td>...</td>\n",
              "      <td>...</td>\n",
              "      <td>...</td>\n",
              "      <td>...</td>\n",
              "      <td>...</td>\n",
              "      <td>...</td>\n",
              "      <td>...</td>\n",
              "      <td>...</td>\n",
              "      <td>...</td>\n",
              "    </tr>\n",
              "    <tr>\n",
              "      <th>2512</th>\n",
              "      <td>2022-10-26</td>\n",
              "      <td>-7.715629</td>\n",
              "      <td>1.379166</td>\n",
              "      <td>2.118791</td>\n",
              "      <td>2.528052</td>\n",
              "      <td>-0.139546</td>\n",
              "      <td>-0.846962</td>\n",
              "      <td>0.408368</td>\n",
              "      <td>3.924572</td>\n",
              "      <td>0.034776</td>\n",
              "    </tr>\n",
              "    <tr>\n",
              "      <th>2513</th>\n",
              "      <td>2022-10-27</td>\n",
              "      <td>-1.975619</td>\n",
              "      <td>-7.715629</td>\n",
              "      <td>1.379166</td>\n",
              "      <td>2.118791</td>\n",
              "      <td>2.528052</td>\n",
              "      <td>-0.139546</td>\n",
              "      <td>-0.846962</td>\n",
              "      <td>0.408368</td>\n",
              "      <td>0.082543</td>\n",
              "    </tr>\n",
              "    <tr>\n",
              "      <th>2514</th>\n",
              "      <td>2022-10-28</td>\n",
              "      <td>4.022046</td>\n",
              "      <td>-1.975619</td>\n",
              "      <td>-7.715629</td>\n",
              "      <td>1.379166</td>\n",
              "      <td>2.118791</td>\n",
              "      <td>2.528052</td>\n",
              "      <td>-0.139546</td>\n",
              "      <td>-0.846962</td>\n",
              "      <td>0.040425</td>\n",
              "    </tr>\n",
              "    <tr>\n",
              "      <th>2515</th>\n",
              "      <td>2022-10-31</td>\n",
              "      <td>-1.585614</td>\n",
              "      <td>4.022046</td>\n",
              "      <td>-1.975619</td>\n",
              "      <td>-7.715629</td>\n",
              "      <td>1.379166</td>\n",
              "      <td>2.118791</td>\n",
              "      <td>2.528052</td>\n",
              "      <td>-0.139546</td>\n",
              "      <td>0.040648</td>\n",
              "    </tr>\n",
              "    <tr>\n",
              "      <th>2516</th>\n",
              "      <td>2022-11-01</td>\n",
              "      <td>-1.705939</td>\n",
              "      <td>-1.585614</td>\n",
              "      <td>4.022046</td>\n",
              "      <td>-1.975619</td>\n",
              "      <td>-7.715629</td>\n",
              "      <td>1.379166</td>\n",
              "      <td>2.118791</td>\n",
              "      <td>2.528052</td>\n",
              "      <td>0.028357</td>\n",
              "    </tr>\n",
              "  </tbody>\n",
              "</table>\n",
              "<p>2509 rows × 10 columns</p>\n",
              "</div>\n",
              "      <button class=\"colab-df-convert\" onclick=\"convertToInteractive('df-200f0daa-6920-4389-8ae6-92e51f7456e3')\"\n",
              "              title=\"Convert this dataframe to an interactive table.\"\n",
              "              style=\"display:none;\">\n",
              "        \n",
              "  <svg xmlns=\"http://www.w3.org/2000/svg\" height=\"24px\"viewBox=\"0 0 24 24\"\n",
              "       width=\"24px\">\n",
              "    <path d=\"M0 0h24v24H0V0z\" fill=\"none\"/>\n",
              "    <path d=\"M18.56 5.44l.94 2.06.94-2.06 2.06-.94-2.06-.94-.94-2.06-.94 2.06-2.06.94zm-11 1L8.5 8.5l.94-2.06 2.06-.94-2.06-.94L8.5 2.5l-.94 2.06-2.06.94zm10 10l.94 2.06.94-2.06 2.06-.94-2.06-.94-.94-2.06-.94 2.06-2.06.94z\"/><path d=\"M17.41 7.96l-1.37-1.37c-.4-.4-.92-.59-1.43-.59-.52 0-1.04.2-1.43.59L10.3 9.45l-7.72 7.72c-.78.78-.78 2.05 0 2.83L4 21.41c.39.39.9.59 1.41.59.51 0 1.02-.2 1.41-.59l7.78-7.78 2.81-2.81c.8-.78.8-2.07 0-2.86zM5.41 20L4 18.59l7.72-7.72 1.47 1.35L5.41 20z\"/>\n",
              "  </svg>\n",
              "      </button>\n",
              "      \n",
              "  <style>\n",
              "    .colab-df-container {\n",
              "      display:flex;\n",
              "      flex-wrap:wrap;\n",
              "      gap: 12px;\n",
              "    }\n",
              "\n",
              "    .colab-df-convert {\n",
              "      background-color: #E8F0FE;\n",
              "      border: none;\n",
              "      border-radius: 50%;\n",
              "      cursor: pointer;\n",
              "      display: none;\n",
              "      fill: #1967D2;\n",
              "      height: 32px;\n",
              "      padding: 0 0 0 0;\n",
              "      width: 32px;\n",
              "    }\n",
              "\n",
              "    .colab-df-convert:hover {\n",
              "      background-color: #E2EBFA;\n",
              "      box-shadow: 0px 1px 2px rgba(60, 64, 67, 0.3), 0px 1px 3px 1px rgba(60, 64, 67, 0.15);\n",
              "      fill: #174EA6;\n",
              "    }\n",
              "\n",
              "    [theme=dark] .colab-df-convert {\n",
              "      background-color: #3B4455;\n",
              "      fill: #D2E3FC;\n",
              "    }\n",
              "\n",
              "    [theme=dark] .colab-df-convert:hover {\n",
              "      background-color: #434B5C;\n",
              "      box-shadow: 0px 1px 3px 1px rgba(0, 0, 0, 0.15);\n",
              "      filter: drop-shadow(0px 1px 2px rgba(0, 0, 0, 0.3));\n",
              "      fill: #FFFFFF;\n",
              "    }\n",
              "  </style>\n",
              "\n",
              "      <script>\n",
              "        const buttonEl =\n",
              "          document.querySelector('#df-200f0daa-6920-4389-8ae6-92e51f7456e3 button.colab-df-convert');\n",
              "        buttonEl.style.display =\n",
              "          google.colab.kernel.accessAllowed ? 'block' : 'none';\n",
              "\n",
              "        async function convertToInteractive(key) {\n",
              "          const element = document.querySelector('#df-200f0daa-6920-4389-8ae6-92e51f7456e3');\n",
              "          const dataTable =\n",
              "            await google.colab.kernel.invokeFunction('convertToInteractive',\n",
              "                                                     [key], {});\n",
              "          if (!dataTable) return;\n",
              "\n",
              "          const docLinkHtml = 'Like what you see? Visit the ' +\n",
              "            '<a target=\"_blank\" href=https://colab.research.google.com/notebooks/data_table.ipynb>data table notebook</a>'\n",
              "            + ' to learn more about interactive tables.';\n",
              "          element.innerHTML = '';\n",
              "          dataTable['output_type'] = 'display_data';\n",
              "          await google.colab.output.renderOutput(dataTable, element);\n",
              "          const docLink = document.createElement('div');\n",
              "          docLink.innerHTML = docLinkHtml;\n",
              "          element.appendChild(docLink);\n",
              "        }\n",
              "      </script>\n",
              "    </div>\n",
              "  </div>\n",
              "  "
            ]
          },
          "metadata": {},
          "execution_count": 17
        }
      ]
    },
    {
      "cell_type": "code",
      "source": [
        "MSFT['Target'] = [1 if i > 0 else 0 for i in MSFT['Today']] # Cột Target(hướng) biển hiện giá trị tăng hoặc giảm"
      ],
      "metadata": {
        "id": "wdoic3EcC2Si",
        "colab": {
          "base_uri": "https://localhost:8080/"
        },
        "outputId": "b7676395-8d8c-4c6b-9bb5-9d84b4f84428"
      },
      "execution_count": null,
      "outputs": [
        {
          "output_type": "stream",
          "name": "stderr",
          "text": [
            "<ipython-input-18-e08af76eef53>:1: SettingWithCopyWarning: \n",
            "A value is trying to be set on a copy of a slice from a DataFrame.\n",
            "Try using .loc[row_indexer,col_indexer] = value instead\n",
            "\n",
            "See the caveats in the documentation: https://pandas.pydata.org/pandas-docs/stable/user_guide/indexing.html#returning-a-view-versus-a-copy\n",
            "  MSFT['Target'] = [1 if i > 0 else 0 for i in MSFT['Today']] # Cột Target(hướng) biển hiện giá trị tăng hoặc giảm\n"
          ]
        }
      ]
    },
    {
      "cell_type": "code",
      "source": [
        "MSFT # khung dữ liệu này là 1 phần của thư viện ISLR, chứa lợi nhuận hàng ngày của S&P 500 từ 2012 đến 2022   "
      ],
      "metadata": {
        "id": "FlUITmGMEsat",
        "colab": {
          "base_uri": "https://localhost:8080/",
          "height": 424
        },
        "outputId": "f9b04629-d4eb-4ff4-efcc-db18f940b6d8"
      },
      "execution_count": null,
      "outputs": [
        {
          "output_type": "execute_result",
          "data": {
            "text/plain": [
              "           Date     Today     Lag 1     Lag 2     Lag 3     Lag 4     Lag 5  \\\n",
              "8    2012-11-14 -0.922881 -3.215418 -2.115861  0.069430 -0.928471 -2.612213   \n",
              "9    2012-11-15 -0.670620 -0.922881 -3.215418 -2.115861  0.069430 -0.928471   \n",
              "10   2012-11-16 -0.525132 -0.670620 -0.922881 -3.215418 -2.115861  0.069430   \n",
              "11   2012-11-19  0.791857 -0.525132 -0.670620 -0.922881 -3.215418 -2.115861   \n",
              "12   2012-11-20 -0.074820  0.791857 -0.525132 -0.670620 -0.922881 -3.215418   \n",
              "...         ...       ...       ...       ...       ...       ...       ...   \n",
              "2512 2022-10-26 -7.715629  1.379166  2.118791  2.528052 -0.139546 -0.846962   \n",
              "2513 2022-10-27 -1.975619 -7.715629  1.379166  2.118791  2.528052 -0.139546   \n",
              "2514 2022-10-28  4.022046 -1.975619 -7.715629  1.379166  2.118791  2.528052   \n",
              "2515 2022-10-31 -1.585614  4.022046 -1.975619 -7.715629  1.379166  2.118791   \n",
              "2516 2022-11-01 -1.705939 -1.585614  4.022046 -1.975619 -7.715629  1.379166   \n",
              "\n",
              "         Lag 6     Lag 7    Volume  Target  \n",
              "8     0.776259  0.440657  0.131689       0  \n",
              "9    -2.612213  0.776259  0.076086       0  \n",
              "10   -0.928471 -2.612213  0.050956       0  \n",
              "11    0.069430 -0.928471  0.064083       1  \n",
              "12   -2.115861  0.069430  0.057179       0  \n",
              "...        ...       ...       ...     ...  \n",
              "2512  0.408368  3.924572  0.034776       0  \n",
              "2513 -0.846962  0.408368  0.082543       0  \n",
              "2514 -0.139546 -0.846962  0.040425       1  \n",
              "2515  2.528052 -0.139546  0.040648       0  \n",
              "2516  2.118791  2.528052  0.028357       0  \n",
              "\n",
              "[2509 rows x 11 columns]"
            ],
            "text/html": [
              "\n",
              "  <div id=\"df-a2d0b3f7-b2fe-4a4b-aa44-1e78ec92c842\">\n",
              "    <div class=\"colab-df-container\">\n",
              "      <div>\n",
              "<style scoped>\n",
              "    .dataframe tbody tr th:only-of-type {\n",
              "        vertical-align: middle;\n",
              "    }\n",
              "\n",
              "    .dataframe tbody tr th {\n",
              "        vertical-align: top;\n",
              "    }\n",
              "\n",
              "    .dataframe thead th {\n",
              "        text-align: right;\n",
              "    }\n",
              "</style>\n",
              "<table border=\"1\" class=\"dataframe\">\n",
              "  <thead>\n",
              "    <tr style=\"text-align: right;\">\n",
              "      <th></th>\n",
              "      <th>Date</th>\n",
              "      <th>Today</th>\n",
              "      <th>Lag 1</th>\n",
              "      <th>Lag 2</th>\n",
              "      <th>Lag 3</th>\n",
              "      <th>Lag 4</th>\n",
              "      <th>Lag 5</th>\n",
              "      <th>Lag 6</th>\n",
              "      <th>Lag 7</th>\n",
              "      <th>Volume</th>\n",
              "      <th>Target</th>\n",
              "    </tr>\n",
              "  </thead>\n",
              "  <tbody>\n",
              "    <tr>\n",
              "      <th>8</th>\n",
              "      <td>2012-11-14</td>\n",
              "      <td>-0.922881</td>\n",
              "      <td>-3.215418</td>\n",
              "      <td>-2.115861</td>\n",
              "      <td>0.069430</td>\n",
              "      <td>-0.928471</td>\n",
              "      <td>-2.612213</td>\n",
              "      <td>0.776259</td>\n",
              "      <td>0.440657</td>\n",
              "      <td>0.131689</td>\n",
              "      <td>0</td>\n",
              "    </tr>\n",
              "    <tr>\n",
              "      <th>9</th>\n",
              "      <td>2012-11-15</td>\n",
              "      <td>-0.670620</td>\n",
              "      <td>-0.922881</td>\n",
              "      <td>-3.215418</td>\n",
              "      <td>-2.115861</td>\n",
              "      <td>0.069430</td>\n",
              "      <td>-0.928471</td>\n",
              "      <td>-2.612213</td>\n",
              "      <td>0.776259</td>\n",
              "      <td>0.076086</td>\n",
              "      <td>0</td>\n",
              "    </tr>\n",
              "    <tr>\n",
              "      <th>10</th>\n",
              "      <td>2012-11-16</td>\n",
              "      <td>-0.525132</td>\n",
              "      <td>-0.670620</td>\n",
              "      <td>-0.922881</td>\n",
              "      <td>-3.215418</td>\n",
              "      <td>-2.115861</td>\n",
              "      <td>0.069430</td>\n",
              "      <td>-0.928471</td>\n",
              "      <td>-2.612213</td>\n",
              "      <td>0.050956</td>\n",
              "      <td>0</td>\n",
              "    </tr>\n",
              "    <tr>\n",
              "      <th>11</th>\n",
              "      <td>2012-11-19</td>\n",
              "      <td>0.791857</td>\n",
              "      <td>-0.525132</td>\n",
              "      <td>-0.670620</td>\n",
              "      <td>-0.922881</td>\n",
              "      <td>-3.215418</td>\n",
              "      <td>-2.115861</td>\n",
              "      <td>0.069430</td>\n",
              "      <td>-0.928471</td>\n",
              "      <td>0.064083</td>\n",
              "      <td>1</td>\n",
              "    </tr>\n",
              "    <tr>\n",
              "      <th>12</th>\n",
              "      <td>2012-11-20</td>\n",
              "      <td>-0.074820</td>\n",
              "      <td>0.791857</td>\n",
              "      <td>-0.525132</td>\n",
              "      <td>-0.670620</td>\n",
              "      <td>-0.922881</td>\n",
              "      <td>-3.215418</td>\n",
              "      <td>-2.115861</td>\n",
              "      <td>0.069430</td>\n",
              "      <td>0.057179</td>\n",
              "      <td>0</td>\n",
              "    </tr>\n",
              "    <tr>\n",
              "      <th>...</th>\n",
              "      <td>...</td>\n",
              "      <td>...</td>\n",
              "      <td>...</td>\n",
              "      <td>...</td>\n",
              "      <td>...</td>\n",
              "      <td>...</td>\n",
              "      <td>...</td>\n",
              "      <td>...</td>\n",
              "      <td>...</td>\n",
              "      <td>...</td>\n",
              "      <td>...</td>\n",
              "    </tr>\n",
              "    <tr>\n",
              "      <th>2512</th>\n",
              "      <td>2022-10-26</td>\n",
              "      <td>-7.715629</td>\n",
              "      <td>1.379166</td>\n",
              "      <td>2.118791</td>\n",
              "      <td>2.528052</td>\n",
              "      <td>-0.139546</td>\n",
              "      <td>-0.846962</td>\n",
              "      <td>0.408368</td>\n",
              "      <td>3.924572</td>\n",
              "      <td>0.034776</td>\n",
              "      <td>0</td>\n",
              "    </tr>\n",
              "    <tr>\n",
              "      <th>2513</th>\n",
              "      <td>2022-10-27</td>\n",
              "      <td>-1.975619</td>\n",
              "      <td>-7.715629</td>\n",
              "      <td>1.379166</td>\n",
              "      <td>2.118791</td>\n",
              "      <td>2.528052</td>\n",
              "      <td>-0.139546</td>\n",
              "      <td>-0.846962</td>\n",
              "      <td>0.408368</td>\n",
              "      <td>0.082543</td>\n",
              "      <td>0</td>\n",
              "    </tr>\n",
              "    <tr>\n",
              "      <th>2514</th>\n",
              "      <td>2022-10-28</td>\n",
              "      <td>4.022046</td>\n",
              "      <td>-1.975619</td>\n",
              "      <td>-7.715629</td>\n",
              "      <td>1.379166</td>\n",
              "      <td>2.118791</td>\n",
              "      <td>2.528052</td>\n",
              "      <td>-0.139546</td>\n",
              "      <td>-0.846962</td>\n",
              "      <td>0.040425</td>\n",
              "      <td>1</td>\n",
              "    </tr>\n",
              "    <tr>\n",
              "      <th>2515</th>\n",
              "      <td>2022-10-31</td>\n",
              "      <td>-1.585614</td>\n",
              "      <td>4.022046</td>\n",
              "      <td>-1.975619</td>\n",
              "      <td>-7.715629</td>\n",
              "      <td>1.379166</td>\n",
              "      <td>2.118791</td>\n",
              "      <td>2.528052</td>\n",
              "      <td>-0.139546</td>\n",
              "      <td>0.040648</td>\n",
              "      <td>0</td>\n",
              "    </tr>\n",
              "    <tr>\n",
              "      <th>2516</th>\n",
              "      <td>2022-11-01</td>\n",
              "      <td>-1.705939</td>\n",
              "      <td>-1.585614</td>\n",
              "      <td>4.022046</td>\n",
              "      <td>-1.975619</td>\n",
              "      <td>-7.715629</td>\n",
              "      <td>1.379166</td>\n",
              "      <td>2.118791</td>\n",
              "      <td>2.528052</td>\n",
              "      <td>0.028357</td>\n",
              "      <td>0</td>\n",
              "    </tr>\n",
              "  </tbody>\n",
              "</table>\n",
              "<p>2509 rows × 11 columns</p>\n",
              "</div>\n",
              "      <button class=\"colab-df-convert\" onclick=\"convertToInteractive('df-a2d0b3f7-b2fe-4a4b-aa44-1e78ec92c842')\"\n",
              "              title=\"Convert this dataframe to an interactive table.\"\n",
              "              style=\"display:none;\">\n",
              "        \n",
              "  <svg xmlns=\"http://www.w3.org/2000/svg\" height=\"24px\"viewBox=\"0 0 24 24\"\n",
              "       width=\"24px\">\n",
              "    <path d=\"M0 0h24v24H0V0z\" fill=\"none\"/>\n",
              "    <path d=\"M18.56 5.44l.94 2.06.94-2.06 2.06-.94-2.06-.94-.94-2.06-.94 2.06-2.06.94zm-11 1L8.5 8.5l.94-2.06 2.06-.94-2.06-.94L8.5 2.5l-.94 2.06-2.06.94zm10 10l.94 2.06.94-2.06 2.06-.94-2.06-.94-.94-2.06-.94 2.06-2.06.94z\"/><path d=\"M17.41 7.96l-1.37-1.37c-.4-.4-.92-.59-1.43-.59-.52 0-1.04.2-1.43.59L10.3 9.45l-7.72 7.72c-.78.78-.78 2.05 0 2.83L4 21.41c.39.39.9.59 1.41.59.51 0 1.02-.2 1.41-.59l7.78-7.78 2.81-2.81c.8-.78.8-2.07 0-2.86zM5.41 20L4 18.59l7.72-7.72 1.47 1.35L5.41 20z\"/>\n",
              "  </svg>\n",
              "      </button>\n",
              "      \n",
              "  <style>\n",
              "    .colab-df-container {\n",
              "      display:flex;\n",
              "      flex-wrap:wrap;\n",
              "      gap: 12px;\n",
              "    }\n",
              "\n",
              "    .colab-df-convert {\n",
              "      background-color: #E8F0FE;\n",
              "      border: none;\n",
              "      border-radius: 50%;\n",
              "      cursor: pointer;\n",
              "      display: none;\n",
              "      fill: #1967D2;\n",
              "      height: 32px;\n",
              "      padding: 0 0 0 0;\n",
              "      width: 32px;\n",
              "    }\n",
              "\n",
              "    .colab-df-convert:hover {\n",
              "      background-color: #E2EBFA;\n",
              "      box-shadow: 0px 1px 2px rgba(60, 64, 67, 0.3), 0px 1px 3px 1px rgba(60, 64, 67, 0.15);\n",
              "      fill: #174EA6;\n",
              "    }\n",
              "\n",
              "    [theme=dark] .colab-df-convert {\n",
              "      background-color: #3B4455;\n",
              "      fill: #D2E3FC;\n",
              "    }\n",
              "\n",
              "    [theme=dark] .colab-df-convert:hover {\n",
              "      background-color: #434B5C;\n",
              "      box-shadow: 0px 1px 3px 1px rgba(0, 0, 0, 0.15);\n",
              "      filter: drop-shadow(0px 1px 2px rgba(0, 0, 0, 0.3));\n",
              "      fill: #FFFFFF;\n",
              "    }\n",
              "  </style>\n",
              "\n",
              "      <script>\n",
              "        const buttonEl =\n",
              "          document.querySelector('#df-a2d0b3f7-b2fe-4a4b-aa44-1e78ec92c842 button.colab-df-convert');\n",
              "        buttonEl.style.display =\n",
              "          google.colab.kernel.accessAllowed ? 'block' : 'none';\n",
              "\n",
              "        async function convertToInteractive(key) {\n",
              "          const element = document.querySelector('#df-a2d0b3f7-b2fe-4a4b-aa44-1e78ec92c842');\n",
              "          const dataTable =\n",
              "            await google.colab.kernel.invokeFunction('convertToInteractive',\n",
              "                                                     [key], {});\n",
              "          if (!dataTable) return;\n",
              "\n",
              "          const docLinkHtml = 'Like what you see? Visit the ' +\n",
              "            '<a target=\"_blank\" href=https://colab.research.google.com/notebooks/data_table.ipynb>data table notebook</a>'\n",
              "            + ' to learn more about interactive tables.';\n",
              "          element.innerHTML = '';\n",
              "          dataTable['output_type'] = 'display_data';\n",
              "          await google.colab.output.renderOutput(dataTable, element);\n",
              "          const docLink = document.createElement('div');\n",
              "          docLink.innerHTML = docLinkHtml;\n",
              "          element.appendChild(docLink);\n",
              "        }\n",
              "      </script>\n",
              "    </div>\n",
              "  </div>\n",
              "  "
            ]
          },
          "metadata": {},
          "execution_count": 19
        }
      ]
    },
    {
      "cell_type": "code",
      "source": [
        "MSFT = sm.add_constant(MSFT) # Trong mô hình thống kê api cần 1 hằng số(const) vào dataframe vì nếu không thêm hằng số, hồi quy không có hệ số chặn"
      ],
      "metadata": {
        "id": "mCuovw7FFVqo",
        "colab": {
          "base_uri": "https://localhost:8080/"
        },
        "outputId": "ea81918f-09b3-4b5e-ec6f-1337eac0a652"
      },
      "execution_count": null,
      "outputs": [
        {
          "output_type": "stream",
          "name": "stderr",
          "text": [
            "/usr/local/lib/python3.8/dist-packages/statsmodels/tsa/tsatools.py:142: FutureWarning: In a future version of pandas all arguments of concat except for the argument 'objs' will be keyword-only\n",
            "  x = pd.concat(x[::order], 1)\n"
          ]
        }
      ]
    },
    {
      "cell_type": "code",
      "source": [
        "MSFT"
      ],
      "metadata": {
        "id": "4JGykTz2Fhuo",
        "colab": {
          "base_uri": "https://localhost:8080/",
          "height": 468
        },
        "outputId": "0d9e57bd-7e4c-4c5b-f216-23b45ea84e22"
      },
      "execution_count": null,
      "outputs": [
        {
          "output_type": "execute_result",
          "data": {
            "text/plain": [
              "      const       Date     Today     Lag 1     Lag 2     Lag 3     Lag 4  \\\n",
              "8       1.0 2012-11-14 -0.922881 -3.215418 -2.115861  0.069430 -0.928471   \n",
              "9       1.0 2012-11-15 -0.670620 -0.922881 -3.215418 -2.115861  0.069430   \n",
              "10      1.0 2012-11-16 -0.525132 -0.670620 -0.922881 -3.215418 -2.115861   \n",
              "11      1.0 2012-11-19  0.791857 -0.525132 -0.670620 -0.922881 -3.215418   \n",
              "12      1.0 2012-11-20 -0.074820  0.791857 -0.525132 -0.670620 -0.922881   \n",
              "...     ...        ...       ...       ...       ...       ...       ...   \n",
              "2512    1.0 2022-10-26 -7.715629  1.379166  2.118791  2.528052 -0.139546   \n",
              "2513    1.0 2022-10-27 -1.975619 -7.715629  1.379166  2.118791  2.528052   \n",
              "2514    1.0 2022-10-28  4.022046 -1.975619 -7.715629  1.379166  2.118791   \n",
              "2515    1.0 2022-10-31 -1.585614  4.022046 -1.975619 -7.715629  1.379166   \n",
              "2516    1.0 2022-11-01 -1.705939 -1.585614  4.022046 -1.975619 -7.715629   \n",
              "\n",
              "         Lag 5     Lag 6     Lag 7    Volume  Target  \n",
              "8    -2.612213  0.776259  0.440657  0.131689       0  \n",
              "9    -0.928471 -2.612213  0.776259  0.076086       0  \n",
              "10    0.069430 -0.928471 -2.612213  0.050956       0  \n",
              "11   -2.115861  0.069430 -0.928471  0.064083       1  \n",
              "12   -3.215418 -2.115861  0.069430  0.057179       0  \n",
              "...        ...       ...       ...       ...     ...  \n",
              "2512 -0.846962  0.408368  3.924572  0.034776       0  \n",
              "2513 -0.139546 -0.846962  0.408368  0.082543       0  \n",
              "2514  2.528052 -0.139546 -0.846962  0.040425       1  \n",
              "2515  2.118791  2.528052 -0.139546  0.040648       0  \n",
              "2516  1.379166  2.118791  2.528052  0.028357       0  \n",
              "\n",
              "[2509 rows x 12 columns]"
            ],
            "text/html": [
              "\n",
              "  <div id=\"df-885b92d7-74cf-4f41-b7b7-d6655d88cc98\">\n",
              "    <div class=\"colab-df-container\">\n",
              "      <div>\n",
              "<style scoped>\n",
              "    .dataframe tbody tr th:only-of-type {\n",
              "        vertical-align: middle;\n",
              "    }\n",
              "\n",
              "    .dataframe tbody tr th {\n",
              "        vertical-align: top;\n",
              "    }\n",
              "\n",
              "    .dataframe thead th {\n",
              "        text-align: right;\n",
              "    }\n",
              "</style>\n",
              "<table border=\"1\" class=\"dataframe\">\n",
              "  <thead>\n",
              "    <tr style=\"text-align: right;\">\n",
              "      <th></th>\n",
              "      <th>const</th>\n",
              "      <th>Date</th>\n",
              "      <th>Today</th>\n",
              "      <th>Lag 1</th>\n",
              "      <th>Lag 2</th>\n",
              "      <th>Lag 3</th>\n",
              "      <th>Lag 4</th>\n",
              "      <th>Lag 5</th>\n",
              "      <th>Lag 6</th>\n",
              "      <th>Lag 7</th>\n",
              "      <th>Volume</th>\n",
              "      <th>Target</th>\n",
              "    </tr>\n",
              "  </thead>\n",
              "  <tbody>\n",
              "    <tr>\n",
              "      <th>8</th>\n",
              "      <td>1.0</td>\n",
              "      <td>2012-11-14</td>\n",
              "      <td>-0.922881</td>\n",
              "      <td>-3.215418</td>\n",
              "      <td>-2.115861</td>\n",
              "      <td>0.069430</td>\n",
              "      <td>-0.928471</td>\n",
              "      <td>-2.612213</td>\n",
              "      <td>0.776259</td>\n",
              "      <td>0.440657</td>\n",
              "      <td>0.131689</td>\n",
              "      <td>0</td>\n",
              "    </tr>\n",
              "    <tr>\n",
              "      <th>9</th>\n",
              "      <td>1.0</td>\n",
              "      <td>2012-11-15</td>\n",
              "      <td>-0.670620</td>\n",
              "      <td>-0.922881</td>\n",
              "      <td>-3.215418</td>\n",
              "      <td>-2.115861</td>\n",
              "      <td>0.069430</td>\n",
              "      <td>-0.928471</td>\n",
              "      <td>-2.612213</td>\n",
              "      <td>0.776259</td>\n",
              "      <td>0.076086</td>\n",
              "      <td>0</td>\n",
              "    </tr>\n",
              "    <tr>\n",
              "      <th>10</th>\n",
              "      <td>1.0</td>\n",
              "      <td>2012-11-16</td>\n",
              "      <td>-0.525132</td>\n",
              "      <td>-0.670620</td>\n",
              "      <td>-0.922881</td>\n",
              "      <td>-3.215418</td>\n",
              "      <td>-2.115861</td>\n",
              "      <td>0.069430</td>\n",
              "      <td>-0.928471</td>\n",
              "      <td>-2.612213</td>\n",
              "      <td>0.050956</td>\n",
              "      <td>0</td>\n",
              "    </tr>\n",
              "    <tr>\n",
              "      <th>11</th>\n",
              "      <td>1.0</td>\n",
              "      <td>2012-11-19</td>\n",
              "      <td>0.791857</td>\n",
              "      <td>-0.525132</td>\n",
              "      <td>-0.670620</td>\n",
              "      <td>-0.922881</td>\n",
              "      <td>-3.215418</td>\n",
              "      <td>-2.115861</td>\n",
              "      <td>0.069430</td>\n",
              "      <td>-0.928471</td>\n",
              "      <td>0.064083</td>\n",
              "      <td>1</td>\n",
              "    </tr>\n",
              "    <tr>\n",
              "      <th>12</th>\n",
              "      <td>1.0</td>\n",
              "      <td>2012-11-20</td>\n",
              "      <td>-0.074820</td>\n",
              "      <td>0.791857</td>\n",
              "      <td>-0.525132</td>\n",
              "      <td>-0.670620</td>\n",
              "      <td>-0.922881</td>\n",
              "      <td>-3.215418</td>\n",
              "      <td>-2.115861</td>\n",
              "      <td>0.069430</td>\n",
              "      <td>0.057179</td>\n",
              "      <td>0</td>\n",
              "    </tr>\n",
              "    <tr>\n",
              "      <th>...</th>\n",
              "      <td>...</td>\n",
              "      <td>...</td>\n",
              "      <td>...</td>\n",
              "      <td>...</td>\n",
              "      <td>...</td>\n",
              "      <td>...</td>\n",
              "      <td>...</td>\n",
              "      <td>...</td>\n",
              "      <td>...</td>\n",
              "      <td>...</td>\n",
              "      <td>...</td>\n",
              "      <td>...</td>\n",
              "    </tr>\n",
              "    <tr>\n",
              "      <th>2512</th>\n",
              "      <td>1.0</td>\n",
              "      <td>2022-10-26</td>\n",
              "      <td>-7.715629</td>\n",
              "      <td>1.379166</td>\n",
              "      <td>2.118791</td>\n",
              "      <td>2.528052</td>\n",
              "      <td>-0.139546</td>\n",
              "      <td>-0.846962</td>\n",
              "      <td>0.408368</td>\n",
              "      <td>3.924572</td>\n",
              "      <td>0.034776</td>\n",
              "      <td>0</td>\n",
              "    </tr>\n",
              "    <tr>\n",
              "      <th>2513</th>\n",
              "      <td>1.0</td>\n",
              "      <td>2022-10-27</td>\n",
              "      <td>-1.975619</td>\n",
              "      <td>-7.715629</td>\n",
              "      <td>1.379166</td>\n",
              "      <td>2.118791</td>\n",
              "      <td>2.528052</td>\n",
              "      <td>-0.139546</td>\n",
              "      <td>-0.846962</td>\n",
              "      <td>0.408368</td>\n",
              "      <td>0.082543</td>\n",
              "      <td>0</td>\n",
              "    </tr>\n",
              "    <tr>\n",
              "      <th>2514</th>\n",
              "      <td>1.0</td>\n",
              "      <td>2022-10-28</td>\n",
              "      <td>4.022046</td>\n",
              "      <td>-1.975619</td>\n",
              "      <td>-7.715629</td>\n",
              "      <td>1.379166</td>\n",
              "      <td>2.118791</td>\n",
              "      <td>2.528052</td>\n",
              "      <td>-0.139546</td>\n",
              "      <td>-0.846962</td>\n",
              "      <td>0.040425</td>\n",
              "      <td>1</td>\n",
              "    </tr>\n",
              "    <tr>\n",
              "      <th>2515</th>\n",
              "      <td>1.0</td>\n",
              "      <td>2022-10-31</td>\n",
              "      <td>-1.585614</td>\n",
              "      <td>4.022046</td>\n",
              "      <td>-1.975619</td>\n",
              "      <td>-7.715629</td>\n",
              "      <td>1.379166</td>\n",
              "      <td>2.118791</td>\n",
              "      <td>2.528052</td>\n",
              "      <td>-0.139546</td>\n",
              "      <td>0.040648</td>\n",
              "      <td>0</td>\n",
              "    </tr>\n",
              "    <tr>\n",
              "      <th>2516</th>\n",
              "      <td>1.0</td>\n",
              "      <td>2022-11-01</td>\n",
              "      <td>-1.705939</td>\n",
              "      <td>-1.585614</td>\n",
              "      <td>4.022046</td>\n",
              "      <td>-1.975619</td>\n",
              "      <td>-7.715629</td>\n",
              "      <td>1.379166</td>\n",
              "      <td>2.118791</td>\n",
              "      <td>2.528052</td>\n",
              "      <td>0.028357</td>\n",
              "      <td>0</td>\n",
              "    </tr>\n",
              "  </tbody>\n",
              "</table>\n",
              "<p>2509 rows × 12 columns</p>\n",
              "</div>\n",
              "      <button class=\"colab-df-convert\" onclick=\"convertToInteractive('df-885b92d7-74cf-4f41-b7b7-d6655d88cc98')\"\n",
              "              title=\"Convert this dataframe to an interactive table.\"\n",
              "              style=\"display:none;\">\n",
              "        \n",
              "  <svg xmlns=\"http://www.w3.org/2000/svg\" height=\"24px\"viewBox=\"0 0 24 24\"\n",
              "       width=\"24px\">\n",
              "    <path d=\"M0 0h24v24H0V0z\" fill=\"none\"/>\n",
              "    <path d=\"M18.56 5.44l.94 2.06.94-2.06 2.06-.94-2.06-.94-.94-2.06-.94 2.06-2.06.94zm-11 1L8.5 8.5l.94-2.06 2.06-.94-2.06-.94L8.5 2.5l-.94 2.06-2.06.94zm10 10l.94 2.06.94-2.06 2.06-.94-2.06-.94-.94-2.06-.94 2.06-2.06.94z\"/><path d=\"M17.41 7.96l-1.37-1.37c-.4-.4-.92-.59-1.43-.59-.52 0-1.04.2-1.43.59L10.3 9.45l-7.72 7.72c-.78.78-.78 2.05 0 2.83L4 21.41c.39.39.9.59 1.41.59.51 0 1.02-.2 1.41-.59l7.78-7.78 2.81-2.81c.8-.78.8-2.07 0-2.86zM5.41 20L4 18.59l7.72-7.72 1.47 1.35L5.41 20z\"/>\n",
              "  </svg>\n",
              "      </button>\n",
              "      \n",
              "  <style>\n",
              "    .colab-df-container {\n",
              "      display:flex;\n",
              "      flex-wrap:wrap;\n",
              "      gap: 12px;\n",
              "    }\n",
              "\n",
              "    .colab-df-convert {\n",
              "      background-color: #E8F0FE;\n",
              "      border: none;\n",
              "      border-radius: 50%;\n",
              "      cursor: pointer;\n",
              "      display: none;\n",
              "      fill: #1967D2;\n",
              "      height: 32px;\n",
              "      padding: 0 0 0 0;\n",
              "      width: 32px;\n",
              "    }\n",
              "\n",
              "    .colab-df-convert:hover {\n",
              "      background-color: #E2EBFA;\n",
              "      box-shadow: 0px 1px 2px rgba(60, 64, 67, 0.3), 0px 1px 3px 1px rgba(60, 64, 67, 0.15);\n",
              "      fill: #174EA6;\n",
              "    }\n",
              "\n",
              "    [theme=dark] .colab-df-convert {\n",
              "      background-color: #3B4455;\n",
              "      fill: #D2E3FC;\n",
              "    }\n",
              "\n",
              "    [theme=dark] .colab-df-convert:hover {\n",
              "      background-color: #434B5C;\n",
              "      box-shadow: 0px 1px 3px 1px rgba(0, 0, 0, 0.15);\n",
              "      filter: drop-shadow(0px 1px 2px rgba(0, 0, 0, 0.3));\n",
              "      fill: #FFFFFF;\n",
              "    }\n",
              "  </style>\n",
              "\n",
              "      <script>\n",
              "        const buttonEl =\n",
              "          document.querySelector('#df-885b92d7-74cf-4f41-b7b7-d6655d88cc98 button.colab-df-convert');\n",
              "        buttonEl.style.display =\n",
              "          google.colab.kernel.accessAllowed ? 'block' : 'none';\n",
              "\n",
              "        async function convertToInteractive(key) {\n",
              "          const element = document.querySelector('#df-885b92d7-74cf-4f41-b7b7-d6655d88cc98');\n",
              "          const dataTable =\n",
              "            await google.colab.kernel.invokeFunction('convertToInteractive',\n",
              "                                                     [key], {});\n",
              "          if (!dataTable) return;\n",
              "\n",
              "          const docLinkHtml = 'Like what you see? Visit the ' +\n",
              "            '<a target=\"_blank\" href=https://colab.research.google.com/notebooks/data_table.ipynb>data table notebook</a>'\n",
              "            + ' to learn more about interactive tables.';\n",
              "          element.innerHTML = '';\n",
              "          dataTable['output_type'] = 'display_data';\n",
              "          await google.colab.output.renderOutput(dataTable, element);\n",
              "          const docLink = document.createElement('div');\n",
              "          docLink.innerHTML = docLinkHtml;\n",
              "          element.appendChild(docLink);\n",
              "        }\n",
              "      </script>\n",
              "    </div>\n",
              "  </div>\n",
              "  "
            ]
          },
          "metadata": {},
          "execution_count": 21
        }
      ]
    },
    {
      "cell_type": "markdown",
      "source": [
        "##Train mô hình"
      ],
      "metadata": {
        "id": "WZixAcol-6xC"
      }
    },
    {
      "cell_type": "markdown",
      "source": [
        "xác định các biến độc lập và các biến phụ thuộc của mô hình này\n",
        "\n"
      ],
      "metadata": {
        "id": "lf6YJEYe3xwz"
      }
    },
    {
      "cell_type": "markdown",
      "source": [
        "Tác giả của cuốn sách dùng Lag và Volume để dự đoán Target, vì vậy trong Logistic Regression này:\n",
        "- biến độc lập là Lag và Volume\n",
        "- biến phụ thuộc là Target"
      ],
      "metadata": {
        "id": "Vx3DQN284IfO"
      }
    },
    {
      "cell_type": "code",
      "source": [
        "# X là các biến độc lập\n",
        "X = MSFT[['const', 'Lag 1', 'Lag 2', 'Lag 3', 'Lag 4', 'Lag 5', 'Lag 6', 'Lag 7','Volume']]"
      ],
      "metadata": {
        "id": "fcHhjQ7MFkqO"
      },
      "execution_count": null,
      "outputs": []
    },
    {
      "cell_type": "code",
      "source": [
        "# y là biến phụ thuộc\n",
        "y = MSFT.Target"
      ],
      "metadata": {
        "id": "mO_eIDDvHq-e"
      },
      "execution_count": null,
      "outputs": []
    },
    {
      "cell_type": "markdown",
      "source": [
        "chia tập train và test"
      ],
      "metadata": {
        "id": "vRBO74PaSF6i"
      }
    },
    {
      "cell_type": "code",
      "source": [
        "# Sử dụng dữ liệu trước năm 2022, kiểm tra mô hình dự đoán gì trong năm 2022 và so sanh với các giá trị thực tế ở năm 2022\n",
        "X_train = MSFT[MSFT.Date.dt.year < 2022][['const', 'Lag 1', 'Lag 2','Lag 3','Lag 4', 'Lag 5', 'Lag 6', 'Lag 7','Volume']]\n",
        "y_train = MSFT[MSFT.Date.dt.year < 2022]['Target']\n",
        "X_test = MSFT[MSFT.Date.dt.year == 2022][['const', 'Lag 1', 'Lag 2', 'Lag 3','Lag 4', 'Lag 5', 'Lag 6', 'Lag 7','Volume']]\n",
        "y_test = MSFT[MSFT.Date.dt.year == 2022]['Target']"
      ],
      "metadata": {
        "id": "OoTNgujtSHJP"
      },
      "execution_count": null,
      "outputs": []
    },
    {
      "cell_type": "code",
      "source": [
        "# xác định mô hình bằng dữ liệu huấn luyện\n",
        "model = sm.Logit(y_train,X_train)"
      ],
      "metadata": {
        "id": "LYCg_d5wT6Mk"
      },
      "execution_count": null,
      "outputs": []
    },
    {
      "cell_type": "code",
      "source": [
        "# cho kết quả, từ đó điều chỉnh mô hình cho phù hợp với các biến\n",
        "result = model.fit()"
      ],
      "metadata": {
        "id": "onSuodjnXAzk",
        "colab": {
          "base_uri": "https://localhost:8080/"
        },
        "outputId": "aff527cf-e60a-4916-ee9d-c4c7610fe8a1"
      },
      "execution_count": null,
      "outputs": [
        {
          "output_type": "stream",
          "name": "stdout",
          "text": [
            "Optimization terminated successfully.\n",
            "         Current function value: 0.685570\n",
            "         Iterations 5\n"
          ]
        }
      ]
    },
    {
      "cell_type": "code",
      "source": [
        "# Dự đoán, so sánh với y_test\n",
        "prediction = result.predict(X_test)"
      ],
      "metadata": {
        "id": "0Vn7wXqHaMro"
      },
      "execution_count": null,
      "outputs": []
    },
    {
      "cell_type": "code",
      "source": [
        "# Ma trận nhầm lẫn, So Sánh các giá trị thực với các giá trị dự đoán\n",
        "# Trong chức năng này đang thực hiện phép biến đổi của những dự đoán này(prediction)\n",
        "def confusion_matrix(act,pred):# thêm đối số\n",
        "  predtrans = ['Up' if i > 0.5 else \"Down\" for i in pred]#chuyển đổi các giá trị prediction(dự đoán)\n",
        "  actuals = ['Up' if i > 0 else \"Dowm\" for i in act]#chuyển đổi các giá trị thực\n",
        "  confusion_matrix = pd.crosstab(pd.Series(actuals), pd.Series(predtrans), #chức năng crosstab\n",
        "                                 rownames=['Actual'],\n",
        "                                 colnames=['Predict'])\n",
        "  return confusion_matrix"
      ],
      "metadata": {
        "id": "Jew6Pxg8cZZN"
      },
      "execution_count": null,
      "outputs": []
    },
    {
      "cell_type": "markdown",
      "source": [
        "##Độ chính xác của mô hình"
      ],
      "metadata": {
        "id": "4aB0qAji_JPJ"
      }
    },
    {
      "cell_type": "code",
      "source": [
        "confusion_matrix(y_test,prediction) # cho phép hình dung hiệu suất của một thuật toán."
      ],
      "metadata": {
        "id": "EvulL52vit5Q",
        "colab": {
          "base_uri": "https://localhost:8080/",
          "height": 143
        },
        "outputId": "1e4b3e90-52df-4536-8c1b-dae434ef6e61"
      },
      "execution_count": null,
      "outputs": [
        {
          "output_type": "execute_result",
          "data": {
            "text/plain": [
              "Predict  Down  Up\n",
              "Actual           \n",
              "Dowm       23  91\n",
              "Up         18  78"
            ],
            "text/html": [
              "\n",
              "  <div id=\"df-b5d88c5c-c94c-47ff-8a92-0ec097852396\">\n",
              "    <div class=\"colab-df-container\">\n",
              "      <div>\n",
              "<style scoped>\n",
              "    .dataframe tbody tr th:only-of-type {\n",
              "        vertical-align: middle;\n",
              "    }\n",
              "\n",
              "    .dataframe tbody tr th {\n",
              "        vertical-align: top;\n",
              "    }\n",
              "\n",
              "    .dataframe thead th {\n",
              "        text-align: right;\n",
              "    }\n",
              "</style>\n",
              "<table border=\"1\" class=\"dataframe\">\n",
              "  <thead>\n",
              "    <tr style=\"text-align: right;\">\n",
              "      <th>Predict</th>\n",
              "      <th>Down</th>\n",
              "      <th>Up</th>\n",
              "    </tr>\n",
              "    <tr>\n",
              "      <th>Actual</th>\n",
              "      <th></th>\n",
              "      <th></th>\n",
              "    </tr>\n",
              "  </thead>\n",
              "  <tbody>\n",
              "    <tr>\n",
              "      <th>Dowm</th>\n",
              "      <td>23</td>\n",
              "      <td>91</td>\n",
              "    </tr>\n",
              "    <tr>\n",
              "      <th>Up</th>\n",
              "      <td>18</td>\n",
              "      <td>78</td>\n",
              "    </tr>\n",
              "  </tbody>\n",
              "</table>\n",
              "</div>\n",
              "      <button class=\"colab-df-convert\" onclick=\"convertToInteractive('df-b5d88c5c-c94c-47ff-8a92-0ec097852396')\"\n",
              "              title=\"Convert this dataframe to an interactive table.\"\n",
              "              style=\"display:none;\">\n",
              "        \n",
              "  <svg xmlns=\"http://www.w3.org/2000/svg\" height=\"24px\"viewBox=\"0 0 24 24\"\n",
              "       width=\"24px\">\n",
              "    <path d=\"M0 0h24v24H0V0z\" fill=\"none\"/>\n",
              "    <path d=\"M18.56 5.44l.94 2.06.94-2.06 2.06-.94-2.06-.94-.94-2.06-.94 2.06-2.06.94zm-11 1L8.5 8.5l.94-2.06 2.06-.94-2.06-.94L8.5 2.5l-.94 2.06-2.06.94zm10 10l.94 2.06.94-2.06 2.06-.94-2.06-.94-.94-2.06-.94 2.06-2.06.94z\"/><path d=\"M17.41 7.96l-1.37-1.37c-.4-.4-.92-.59-1.43-.59-.52 0-1.04.2-1.43.59L10.3 9.45l-7.72 7.72c-.78.78-.78 2.05 0 2.83L4 21.41c.39.39.9.59 1.41.59.51 0 1.02-.2 1.41-.59l7.78-7.78 2.81-2.81c.8-.78.8-2.07 0-2.86zM5.41 20L4 18.59l7.72-7.72 1.47 1.35L5.41 20z\"/>\n",
              "  </svg>\n",
              "      </button>\n",
              "      \n",
              "  <style>\n",
              "    .colab-df-container {\n",
              "      display:flex;\n",
              "      flex-wrap:wrap;\n",
              "      gap: 12px;\n",
              "    }\n",
              "\n",
              "    .colab-df-convert {\n",
              "      background-color: #E8F0FE;\n",
              "      border: none;\n",
              "      border-radius: 50%;\n",
              "      cursor: pointer;\n",
              "      display: none;\n",
              "      fill: #1967D2;\n",
              "      height: 32px;\n",
              "      padding: 0 0 0 0;\n",
              "      width: 32px;\n",
              "    }\n",
              "\n",
              "    .colab-df-convert:hover {\n",
              "      background-color: #E2EBFA;\n",
              "      box-shadow: 0px 1px 2px rgba(60, 64, 67, 0.3), 0px 1px 3px 1px rgba(60, 64, 67, 0.15);\n",
              "      fill: #174EA6;\n",
              "    }\n",
              "\n",
              "    [theme=dark] .colab-df-convert {\n",
              "      background-color: #3B4455;\n",
              "      fill: #D2E3FC;\n",
              "    }\n",
              "\n",
              "    [theme=dark] .colab-df-convert:hover {\n",
              "      background-color: #434B5C;\n",
              "      box-shadow: 0px 1px 3px 1px rgba(0, 0, 0, 0.15);\n",
              "      filter: drop-shadow(0px 1px 2px rgba(0, 0, 0, 0.3));\n",
              "      fill: #FFFFFF;\n",
              "    }\n",
              "  </style>\n",
              "\n",
              "      <script>\n",
              "        const buttonEl =\n",
              "          document.querySelector('#df-b5d88c5c-c94c-47ff-8a92-0ec097852396 button.colab-df-convert');\n",
              "        buttonEl.style.display =\n",
              "          google.colab.kernel.accessAllowed ? 'block' : 'none';\n",
              "\n",
              "        async function convertToInteractive(key) {\n",
              "          const element = document.querySelector('#df-b5d88c5c-c94c-47ff-8a92-0ec097852396');\n",
              "          const dataTable =\n",
              "            await google.colab.kernel.invokeFunction('convertToInteractive',\n",
              "                                                     [key], {});\n",
              "          if (!dataTable) return;\n",
              "\n",
              "          const docLinkHtml = 'Like what you see? Visit the ' +\n",
              "            '<a target=\"_blank\" href=https://colab.research.google.com/notebooks/data_table.ipynb>data table notebook</a>'\n",
              "            + ' to learn more about interactive tables.';\n",
              "          element.innerHTML = '';\n",
              "          dataTable['output_type'] = 'display_data';\n",
              "          await google.colab.output.renderOutput(dataTable, element);\n",
              "          const docLink = document.createElement('div');\n",
              "          docLink.innerHTML = docLinkHtml;\n",
              "          element.appendChild(docLink);\n",
              "        }\n",
              "      </script>\n",
              "    </div>\n",
              "  </div>\n",
              "  "
            ]
          },
          "metadata": {},
          "execution_count": 29
        }
      ]
    },
    {
      "cell_type": "code",
      "source": [
        "78/(18+78)"
      ],
      "metadata": {
        "id": "vIx6Sr9Ui_Ny",
        "colab": {
          "base_uri": "https://localhost:8080/"
        },
        "outputId": "09af06c0-1524-4082-a418-a314bf4d9767"
      },
      "execution_count": null,
      "outputs": [
        {
          "output_type": "execute_result",
          "data": {
            "text/plain": [
              "0.8125"
            ]
          },
          "metadata": {},
          "execution_count": 30
        }
      ]
    },
    {
      "cell_type": "markdown",
      "metadata": {
        "id": "K9lUw9uwcn5W"
      },
      "source": [
        "# Netflix"
      ]
    },
    {
      "cell_type": "markdown",
      "source": [
        "## Chuẩn bị dữ liệu"
      ],
      "metadata": {
        "id": "7xMavvLc_SqX"
      }
    },
    {
      "cell_type": "code",
      "execution_count": null,
      "metadata": {
        "colab": {
          "base_uri": "https://localhost:8080/",
          "height": 472
        },
        "id": "QiPwzFl4cfGh",
        "outputId": "43c51133-5e03-4615-cc59-f166e0d9522c"
      },
      "outputs": [
        {
          "output_type": "stream",
          "name": "stdout",
          "text": [
            "\r[*********************100%***********************]  1 of 1 completed\n"
          ]
        },
        {
          "output_type": "execute_result",
          "data": {
            "text/plain": [
              "                  Open        High         Low       Close   Adj Close  \\\n",
              "Date                                                                     \n",
              "2012-11-02   11.035714   11.407143   10.852857   10.985714   10.985714   \n",
              "2012-11-05   10.652857   11.277143   10.642857   11.177143   11.177143   \n",
              "2012-11-06   11.008571   11.421429   10.815714   10.910000   10.910000   \n",
              "2012-11-07   10.918571   11.321429   10.918571   11.097143   11.097143   \n",
              "2012-11-08   11.164286   11.475714   10.827143   10.852857   10.852857   \n",
              "...                ...         ...         ...         ...         ...   \n",
              "2022-10-26  290.040009  305.630005  288.040009  298.619995  298.619995   \n",
              "2022-10-27  298.329987  305.209991  294.779999  296.940002  296.940002   \n",
              "2022-10-28  297.700012  301.190002  292.290009  295.720001  295.720001   \n",
              "2022-10-31  295.130005  297.619995  289.500000  291.880005  291.880005   \n",
              "2022-11-01  296.170013  299.700012  286.420013  286.750000  286.750000   \n",
              "\n",
              "              Volume  \n",
              "Date                  \n",
              "2012-11-02  29650600  \n",
              "2012-11-05  29016400  \n",
              "2012-11-06  39102700  \n",
              "2012-11-07  31099600  \n",
              "2012-11-08  33381600  \n",
              "...              ...  \n",
              "2022-10-26  15714100  \n",
              "2022-10-27  14612600  \n",
              "2022-10-28   9960500  \n",
              "2022-10-31   7505100  \n",
              "2022-11-01   6916400  \n",
              "\n",
              "[2517 rows x 6 columns]"
            ],
            "text/html": [
              "\n",
              "  <div id=\"df-f651206e-acfc-4311-a783-398aad33848d\">\n",
              "    <div class=\"colab-df-container\">\n",
              "      <div>\n",
              "<style scoped>\n",
              "    .dataframe tbody tr th:only-of-type {\n",
              "        vertical-align: middle;\n",
              "    }\n",
              "\n",
              "    .dataframe tbody tr th {\n",
              "        vertical-align: top;\n",
              "    }\n",
              "\n",
              "    .dataframe thead th {\n",
              "        text-align: right;\n",
              "    }\n",
              "</style>\n",
              "<table border=\"1\" class=\"dataframe\">\n",
              "  <thead>\n",
              "    <tr style=\"text-align: right;\">\n",
              "      <th></th>\n",
              "      <th>Open</th>\n",
              "      <th>High</th>\n",
              "      <th>Low</th>\n",
              "      <th>Close</th>\n",
              "      <th>Adj Close</th>\n",
              "      <th>Volume</th>\n",
              "    </tr>\n",
              "    <tr>\n",
              "      <th>Date</th>\n",
              "      <th></th>\n",
              "      <th></th>\n",
              "      <th></th>\n",
              "      <th></th>\n",
              "      <th></th>\n",
              "      <th></th>\n",
              "    </tr>\n",
              "  </thead>\n",
              "  <tbody>\n",
              "    <tr>\n",
              "      <th>2012-11-02</th>\n",
              "      <td>11.035714</td>\n",
              "      <td>11.407143</td>\n",
              "      <td>10.852857</td>\n",
              "      <td>10.985714</td>\n",
              "      <td>10.985714</td>\n",
              "      <td>29650600</td>\n",
              "    </tr>\n",
              "    <tr>\n",
              "      <th>2012-11-05</th>\n",
              "      <td>10.652857</td>\n",
              "      <td>11.277143</td>\n",
              "      <td>10.642857</td>\n",
              "      <td>11.177143</td>\n",
              "      <td>11.177143</td>\n",
              "      <td>29016400</td>\n",
              "    </tr>\n",
              "    <tr>\n",
              "      <th>2012-11-06</th>\n",
              "      <td>11.008571</td>\n",
              "      <td>11.421429</td>\n",
              "      <td>10.815714</td>\n",
              "      <td>10.910000</td>\n",
              "      <td>10.910000</td>\n",
              "      <td>39102700</td>\n",
              "    </tr>\n",
              "    <tr>\n",
              "      <th>2012-11-07</th>\n",
              "      <td>10.918571</td>\n",
              "      <td>11.321429</td>\n",
              "      <td>10.918571</td>\n",
              "      <td>11.097143</td>\n",
              "      <td>11.097143</td>\n",
              "      <td>31099600</td>\n",
              "    </tr>\n",
              "    <tr>\n",
              "      <th>2012-11-08</th>\n",
              "      <td>11.164286</td>\n",
              "      <td>11.475714</td>\n",
              "      <td>10.827143</td>\n",
              "      <td>10.852857</td>\n",
              "      <td>10.852857</td>\n",
              "      <td>33381600</td>\n",
              "    </tr>\n",
              "    <tr>\n",
              "      <th>...</th>\n",
              "      <td>...</td>\n",
              "      <td>...</td>\n",
              "      <td>...</td>\n",
              "      <td>...</td>\n",
              "      <td>...</td>\n",
              "      <td>...</td>\n",
              "    </tr>\n",
              "    <tr>\n",
              "      <th>2022-10-26</th>\n",
              "      <td>290.040009</td>\n",
              "      <td>305.630005</td>\n",
              "      <td>288.040009</td>\n",
              "      <td>298.619995</td>\n",
              "      <td>298.619995</td>\n",
              "      <td>15714100</td>\n",
              "    </tr>\n",
              "    <tr>\n",
              "      <th>2022-10-27</th>\n",
              "      <td>298.329987</td>\n",
              "      <td>305.209991</td>\n",
              "      <td>294.779999</td>\n",
              "      <td>296.940002</td>\n",
              "      <td>296.940002</td>\n",
              "      <td>14612600</td>\n",
              "    </tr>\n",
              "    <tr>\n",
              "      <th>2022-10-28</th>\n",
              "      <td>297.700012</td>\n",
              "      <td>301.190002</td>\n",
              "      <td>292.290009</td>\n",
              "      <td>295.720001</td>\n",
              "      <td>295.720001</td>\n",
              "      <td>9960500</td>\n",
              "    </tr>\n",
              "    <tr>\n",
              "      <th>2022-10-31</th>\n",
              "      <td>295.130005</td>\n",
              "      <td>297.619995</td>\n",
              "      <td>289.500000</td>\n",
              "      <td>291.880005</td>\n",
              "      <td>291.880005</td>\n",
              "      <td>7505100</td>\n",
              "    </tr>\n",
              "    <tr>\n",
              "      <th>2022-11-01</th>\n",
              "      <td>296.170013</td>\n",
              "      <td>299.700012</td>\n",
              "      <td>286.420013</td>\n",
              "      <td>286.750000</td>\n",
              "      <td>286.750000</td>\n",
              "      <td>6916400</td>\n",
              "    </tr>\n",
              "  </tbody>\n",
              "</table>\n",
              "<p>2517 rows × 6 columns</p>\n",
              "</div>\n",
              "      <button class=\"colab-df-convert\" onclick=\"convertToInteractive('df-f651206e-acfc-4311-a783-398aad33848d')\"\n",
              "              title=\"Convert this dataframe to an interactive table.\"\n",
              "              style=\"display:none;\">\n",
              "        \n",
              "  <svg xmlns=\"http://www.w3.org/2000/svg\" height=\"24px\"viewBox=\"0 0 24 24\"\n",
              "       width=\"24px\">\n",
              "    <path d=\"M0 0h24v24H0V0z\" fill=\"none\"/>\n",
              "    <path d=\"M18.56 5.44l.94 2.06.94-2.06 2.06-.94-2.06-.94-.94-2.06-.94 2.06-2.06.94zm-11 1L8.5 8.5l.94-2.06 2.06-.94-2.06-.94L8.5 2.5l-.94 2.06-2.06.94zm10 10l.94 2.06.94-2.06 2.06-.94-2.06-.94-.94-2.06-.94 2.06-2.06.94z\"/><path d=\"M17.41 7.96l-1.37-1.37c-.4-.4-.92-.59-1.43-.59-.52 0-1.04.2-1.43.59L10.3 9.45l-7.72 7.72c-.78.78-.78 2.05 0 2.83L4 21.41c.39.39.9.59 1.41.59.51 0 1.02-.2 1.41-.59l7.78-7.78 2.81-2.81c.8-.78.8-2.07 0-2.86zM5.41 20L4 18.59l7.72-7.72 1.47 1.35L5.41 20z\"/>\n",
              "  </svg>\n",
              "      </button>\n",
              "      \n",
              "  <style>\n",
              "    .colab-df-container {\n",
              "      display:flex;\n",
              "      flex-wrap:wrap;\n",
              "      gap: 12px;\n",
              "    }\n",
              "\n",
              "    .colab-df-convert {\n",
              "      background-color: #E8F0FE;\n",
              "      border: none;\n",
              "      border-radius: 50%;\n",
              "      cursor: pointer;\n",
              "      display: none;\n",
              "      fill: #1967D2;\n",
              "      height: 32px;\n",
              "      padding: 0 0 0 0;\n",
              "      width: 32px;\n",
              "    }\n",
              "\n",
              "    .colab-df-convert:hover {\n",
              "      background-color: #E2EBFA;\n",
              "      box-shadow: 0px 1px 2px rgba(60, 64, 67, 0.3), 0px 1px 3px 1px rgba(60, 64, 67, 0.15);\n",
              "      fill: #174EA6;\n",
              "    }\n",
              "\n",
              "    [theme=dark] .colab-df-convert {\n",
              "      background-color: #3B4455;\n",
              "      fill: #D2E3FC;\n",
              "    }\n",
              "\n",
              "    [theme=dark] .colab-df-convert:hover {\n",
              "      background-color: #434B5C;\n",
              "      box-shadow: 0px 1px 3px 1px rgba(0, 0, 0, 0.15);\n",
              "      filter: drop-shadow(0px 1px 2px rgba(0, 0, 0, 0.3));\n",
              "      fill: #FFFFFF;\n",
              "    }\n",
              "  </style>\n",
              "\n",
              "      <script>\n",
              "        const buttonEl =\n",
              "          document.querySelector('#df-f651206e-acfc-4311-a783-398aad33848d button.colab-df-convert');\n",
              "        buttonEl.style.display =\n",
              "          google.colab.kernel.accessAllowed ? 'block' : 'none';\n",
              "\n",
              "        async function convertToInteractive(key) {\n",
              "          const element = document.querySelector('#df-f651206e-acfc-4311-a783-398aad33848d');\n",
              "          const dataTable =\n",
              "            await google.colab.kernel.invokeFunction('convertToInteractive',\n",
              "                                                     [key], {});\n",
              "          if (!dataTable) return;\n",
              "\n",
              "          const docLinkHtml = 'Like what you see? Visit the ' +\n",
              "            '<a target=\"_blank\" href=https://colab.research.google.com/notebooks/data_table.ipynb>data table notebook</a>'\n",
              "            + ' to learn more about interactive tables.';\n",
              "          element.innerHTML = '';\n",
              "          dataTable['output_type'] = 'display_data';\n",
              "          await google.colab.output.renderOutput(dataTable, element);\n",
              "          const docLink = document.createElement('div');\n",
              "          docLink.innerHTML = docLinkHtml;\n",
              "          element.appendChild(docLink);\n",
              "        }\n",
              "      </script>\n",
              "    </div>\n",
              "  </div>\n",
              "  "
            ]
          },
          "metadata": {},
          "execution_count": 31
        }
      ],
      "source": [
        "NFLX_data = pdr.get_data_yahoo('NFLX', start=start_date, end=end_date)\n",
        "NFLX_data"
      ]
    },
    {
      "cell_type": "code",
      "source": [
        "NFLX = NFLX_data[\"Adj Close\"].pct_change() * 100"
      ],
      "metadata": {
        "id": "7eLEY7BZmxYg"
      },
      "execution_count": null,
      "outputs": []
    },
    {
      "cell_type": "code",
      "source": [
        "NFLX"
      ],
      "metadata": {
        "id": "Bmvq_6ZUnHX4",
        "colab": {
          "base_uri": "https://localhost:8080/"
        },
        "outputId": "4fcfe67d-bc0e-43e4-bd22-cbb90a7c1c63"
      },
      "execution_count": null,
      "outputs": [
        {
          "output_type": "execute_result",
          "data": {
            "text/plain": [
              "Date\n",
              "2012-11-02         NaN\n",
              "2012-11-05    1.742528\n",
              "2012-11-06   -2.390085\n",
              "2012-11-07    1.715338\n",
              "2012-11-08   -2.201346\n",
              "                ...   \n",
              "2022-10-26    2.611507\n",
              "2022-10-27   -0.562585\n",
              "2022-10-28   -0.410858\n",
              "2022-10-31   -1.298524\n",
              "2022-11-01   -1.757573\n",
              "Name: Adj Close, Length: 2517, dtype: float64"
            ]
          },
          "metadata": {},
          "execution_count": 33
        }
      ]
    },
    {
      "cell_type": "code",
      "source": [
        "NFLX = NFLX.rename(\"Today\")"
      ],
      "metadata": {
        "id": "pB-OBr29n7R5"
      },
      "execution_count": null,
      "outputs": []
    },
    {
      "cell_type": "code",
      "source": [
        "NFLX"
      ],
      "metadata": {
        "id": "NaT2N3PJoIQe",
        "colab": {
          "base_uri": "https://localhost:8080/"
        },
        "outputId": "48a4f331-11ad-49cf-801b-a5d30b7dabcd"
      },
      "execution_count": null,
      "outputs": [
        {
          "output_type": "execute_result",
          "data": {
            "text/plain": [
              "Date\n",
              "2012-11-02         NaN\n",
              "2012-11-05    1.742528\n",
              "2012-11-06   -2.390085\n",
              "2012-11-07    1.715338\n",
              "2012-11-08   -2.201346\n",
              "                ...   \n",
              "2022-10-26    2.611507\n",
              "2022-10-27   -0.562585\n",
              "2022-10-28   -0.410858\n",
              "2022-10-31   -1.298524\n",
              "2022-11-01   -1.757573\n",
              "Name: Today, Length: 2517, dtype: float64"
            ]
          },
          "metadata": {},
          "execution_count": 35
        }
      ]
    },
    {
      "cell_type": "code",
      "source": [
        "NFLX = NFLX.reset_index()"
      ],
      "metadata": {
        "id": "RtHfSdEdoMA2"
      },
      "execution_count": null,
      "outputs": []
    },
    {
      "cell_type": "code",
      "source": [
        "NFLX"
      ],
      "metadata": {
        "id": "qrcjvnuEobjZ",
        "colab": {
          "base_uri": "https://localhost:8080/",
          "height": 424
        },
        "outputId": "43991813-cdf0-4472-e67b-d4a7e2b2a00b"
      },
      "execution_count": null,
      "outputs": [
        {
          "output_type": "execute_result",
          "data": {
            "text/plain": [
              "           Date     Today\n",
              "0    2012-11-02       NaN\n",
              "1    2012-11-05  1.742528\n",
              "2    2012-11-06 -2.390085\n",
              "3    2012-11-07  1.715338\n",
              "4    2012-11-08 -2.201346\n",
              "...         ...       ...\n",
              "2512 2022-10-26  2.611507\n",
              "2513 2022-10-27 -0.562585\n",
              "2514 2022-10-28 -0.410858\n",
              "2515 2022-10-31 -1.298524\n",
              "2516 2022-11-01 -1.757573\n",
              "\n",
              "[2517 rows x 2 columns]"
            ],
            "text/html": [
              "\n",
              "  <div id=\"df-8e1701eb-c111-487a-8303-93e724f41065\">\n",
              "    <div class=\"colab-df-container\">\n",
              "      <div>\n",
              "<style scoped>\n",
              "    .dataframe tbody tr th:only-of-type {\n",
              "        vertical-align: middle;\n",
              "    }\n",
              "\n",
              "    .dataframe tbody tr th {\n",
              "        vertical-align: top;\n",
              "    }\n",
              "\n",
              "    .dataframe thead th {\n",
              "        text-align: right;\n",
              "    }\n",
              "</style>\n",
              "<table border=\"1\" class=\"dataframe\">\n",
              "  <thead>\n",
              "    <tr style=\"text-align: right;\">\n",
              "      <th></th>\n",
              "      <th>Date</th>\n",
              "      <th>Today</th>\n",
              "    </tr>\n",
              "  </thead>\n",
              "  <tbody>\n",
              "    <tr>\n",
              "      <th>0</th>\n",
              "      <td>2012-11-02</td>\n",
              "      <td>NaN</td>\n",
              "    </tr>\n",
              "    <tr>\n",
              "      <th>1</th>\n",
              "      <td>2012-11-05</td>\n",
              "      <td>1.742528</td>\n",
              "    </tr>\n",
              "    <tr>\n",
              "      <th>2</th>\n",
              "      <td>2012-11-06</td>\n",
              "      <td>-2.390085</td>\n",
              "    </tr>\n",
              "    <tr>\n",
              "      <th>3</th>\n",
              "      <td>2012-11-07</td>\n",
              "      <td>1.715338</td>\n",
              "    </tr>\n",
              "    <tr>\n",
              "      <th>4</th>\n",
              "      <td>2012-11-08</td>\n",
              "      <td>-2.201346</td>\n",
              "    </tr>\n",
              "    <tr>\n",
              "      <th>...</th>\n",
              "      <td>...</td>\n",
              "      <td>...</td>\n",
              "    </tr>\n",
              "    <tr>\n",
              "      <th>2512</th>\n",
              "      <td>2022-10-26</td>\n",
              "      <td>2.611507</td>\n",
              "    </tr>\n",
              "    <tr>\n",
              "      <th>2513</th>\n",
              "      <td>2022-10-27</td>\n",
              "      <td>-0.562585</td>\n",
              "    </tr>\n",
              "    <tr>\n",
              "      <th>2514</th>\n",
              "      <td>2022-10-28</td>\n",
              "      <td>-0.410858</td>\n",
              "    </tr>\n",
              "    <tr>\n",
              "      <th>2515</th>\n",
              "      <td>2022-10-31</td>\n",
              "      <td>-1.298524</td>\n",
              "    </tr>\n",
              "    <tr>\n",
              "      <th>2516</th>\n",
              "      <td>2022-11-01</td>\n",
              "      <td>-1.757573</td>\n",
              "    </tr>\n",
              "  </tbody>\n",
              "</table>\n",
              "<p>2517 rows × 2 columns</p>\n",
              "</div>\n",
              "      <button class=\"colab-df-convert\" onclick=\"convertToInteractive('df-8e1701eb-c111-487a-8303-93e724f41065')\"\n",
              "              title=\"Convert this dataframe to an interactive table.\"\n",
              "              style=\"display:none;\">\n",
              "        \n",
              "  <svg xmlns=\"http://www.w3.org/2000/svg\" height=\"24px\"viewBox=\"0 0 24 24\"\n",
              "       width=\"24px\">\n",
              "    <path d=\"M0 0h24v24H0V0z\" fill=\"none\"/>\n",
              "    <path d=\"M18.56 5.44l.94 2.06.94-2.06 2.06-.94-2.06-.94-.94-2.06-.94 2.06-2.06.94zm-11 1L8.5 8.5l.94-2.06 2.06-.94-2.06-.94L8.5 2.5l-.94 2.06-2.06.94zm10 10l.94 2.06.94-2.06 2.06-.94-2.06-.94-.94-2.06-.94 2.06-2.06.94z\"/><path d=\"M17.41 7.96l-1.37-1.37c-.4-.4-.92-.59-1.43-.59-.52 0-1.04.2-1.43.59L10.3 9.45l-7.72 7.72c-.78.78-.78 2.05 0 2.83L4 21.41c.39.39.9.59 1.41.59.51 0 1.02-.2 1.41-.59l7.78-7.78 2.81-2.81c.8-.78.8-2.07 0-2.86zM5.41 20L4 18.59l7.72-7.72 1.47 1.35L5.41 20z\"/>\n",
              "  </svg>\n",
              "      </button>\n",
              "      \n",
              "  <style>\n",
              "    .colab-df-container {\n",
              "      display:flex;\n",
              "      flex-wrap:wrap;\n",
              "      gap: 12px;\n",
              "    }\n",
              "\n",
              "    .colab-df-convert {\n",
              "      background-color: #E8F0FE;\n",
              "      border: none;\n",
              "      border-radius: 50%;\n",
              "      cursor: pointer;\n",
              "      display: none;\n",
              "      fill: #1967D2;\n",
              "      height: 32px;\n",
              "      padding: 0 0 0 0;\n",
              "      width: 32px;\n",
              "    }\n",
              "\n",
              "    .colab-df-convert:hover {\n",
              "      background-color: #E2EBFA;\n",
              "      box-shadow: 0px 1px 2px rgba(60, 64, 67, 0.3), 0px 1px 3px 1px rgba(60, 64, 67, 0.15);\n",
              "      fill: #174EA6;\n",
              "    }\n",
              "\n",
              "    [theme=dark] .colab-df-convert {\n",
              "      background-color: #3B4455;\n",
              "      fill: #D2E3FC;\n",
              "    }\n",
              "\n",
              "    [theme=dark] .colab-df-convert:hover {\n",
              "      background-color: #434B5C;\n",
              "      box-shadow: 0px 1px 3px 1px rgba(0, 0, 0, 0.15);\n",
              "      filter: drop-shadow(0px 1px 2px rgba(0, 0, 0, 0.3));\n",
              "      fill: #FFFFFF;\n",
              "    }\n",
              "  </style>\n",
              "\n",
              "      <script>\n",
              "        const buttonEl =\n",
              "          document.querySelector('#df-8e1701eb-c111-487a-8303-93e724f41065 button.colab-df-convert');\n",
              "        buttonEl.style.display =\n",
              "          google.colab.kernel.accessAllowed ? 'block' : 'none';\n",
              "\n",
              "        async function convertToInteractive(key) {\n",
              "          const element = document.querySelector('#df-8e1701eb-c111-487a-8303-93e724f41065');\n",
              "          const dataTable =\n",
              "            await google.colab.kernel.invokeFunction('convertToInteractive',\n",
              "                                                     [key], {});\n",
              "          if (!dataTable) return;\n",
              "\n",
              "          const docLinkHtml = 'Like what you see? Visit the ' +\n",
              "            '<a target=\"_blank\" href=https://colab.research.google.com/notebooks/data_table.ipynb>data table notebook</a>'\n",
              "            + ' to learn more about interactive tables.';\n",
              "          element.innerHTML = '';\n",
              "          dataTable['output_type'] = 'display_data';\n",
              "          await google.colab.output.renderOutput(dataTable, element);\n",
              "          const docLink = document.createElement('div');\n",
              "          docLink.innerHTML = docLinkHtml;\n",
              "          element.appendChild(docLink);\n",
              "        }\n",
              "      </script>\n",
              "    </div>\n",
              "  </div>\n",
              "  "
            ]
          },
          "metadata": {},
          "execution_count": 37
        }
      ]
    },
    {
      "cell_type": "code",
      "source": [
        "for i in range(1,8):\n",
        "  NFLX['Lag '+str(i)] = NFLX['Today'].shift(i)"
      ],
      "metadata": {
        "id": "YcQ5IIysoey_"
      },
      "execution_count": null,
      "outputs": []
    },
    {
      "cell_type": "code",
      "source": [
        "NFLX"
      ],
      "metadata": {
        "id": "UCKIny9VpJjS",
        "colab": {
          "base_uri": "https://localhost:8080/",
          "height": 424
        },
        "outputId": "0813f8b1-e5f8-4c96-adfd-8664d42f7d06"
      },
      "execution_count": null,
      "outputs": [
        {
          "output_type": "execute_result",
          "data": {
            "text/plain": [
              "           Date     Today     Lag 1     Lag 2     Lag 3     Lag 4      Lag 5  \\\n",
              "0    2012-11-02       NaN       NaN       NaN       NaN       NaN        NaN   \n",
              "1    2012-11-05  1.742528       NaN       NaN       NaN       NaN        NaN   \n",
              "2    2012-11-06 -2.390085  1.742528       NaN       NaN       NaN        NaN   \n",
              "3    2012-11-07  1.715338 -2.390085  1.742528       NaN       NaN        NaN   \n",
              "4    2012-11-08 -2.201346  1.715338 -2.390085  1.742528       NaN        NaN   \n",
              "...         ...       ...       ...       ...       ...       ...        ...   \n",
              "2512 2022-10-26  2.611507  3.034157 -2.458816  7.984041 -1.549307  13.086442   \n",
              "2513 2022-10-27 -0.562585  2.611507  3.034157 -2.458816  7.984041  -1.549307   \n",
              "2514 2022-10-28 -0.410858 -0.562585  2.611507  3.034157 -2.458816   7.984041   \n",
              "2515 2022-10-31 -1.298524 -0.410858 -0.562585  2.611507  3.034157  -2.458816   \n",
              "2516 2022-11-01 -1.757573 -1.298524 -0.410858 -0.562585  2.611507   3.034157   \n",
              "\n",
              "          Lag 6      Lag 7  \n",
              "0           NaN        NaN  \n",
              "1           NaN        NaN  \n",
              "2           NaN        NaN  \n",
              "3           NaN        NaN  \n",
              "4           NaN        NaN  \n",
              "...         ...        ...  \n",
              "2512  -1.729908   6.565220  \n",
              "2513  13.086442  -1.729908  \n",
              "2514  -1.549307  13.086442  \n",
              "2515   7.984041  -1.549307  \n",
              "2516  -2.458816   7.984041  \n",
              "\n",
              "[2517 rows x 9 columns]"
            ],
            "text/html": [
              "\n",
              "  <div id=\"df-b4e907ee-ee31-4f7f-a08a-6efbaa70250a\">\n",
              "    <div class=\"colab-df-container\">\n",
              "      <div>\n",
              "<style scoped>\n",
              "    .dataframe tbody tr th:only-of-type {\n",
              "        vertical-align: middle;\n",
              "    }\n",
              "\n",
              "    .dataframe tbody tr th {\n",
              "        vertical-align: top;\n",
              "    }\n",
              "\n",
              "    .dataframe thead th {\n",
              "        text-align: right;\n",
              "    }\n",
              "</style>\n",
              "<table border=\"1\" class=\"dataframe\">\n",
              "  <thead>\n",
              "    <tr style=\"text-align: right;\">\n",
              "      <th></th>\n",
              "      <th>Date</th>\n",
              "      <th>Today</th>\n",
              "      <th>Lag 1</th>\n",
              "      <th>Lag 2</th>\n",
              "      <th>Lag 3</th>\n",
              "      <th>Lag 4</th>\n",
              "      <th>Lag 5</th>\n",
              "      <th>Lag 6</th>\n",
              "      <th>Lag 7</th>\n",
              "    </tr>\n",
              "  </thead>\n",
              "  <tbody>\n",
              "    <tr>\n",
              "      <th>0</th>\n",
              "      <td>2012-11-02</td>\n",
              "      <td>NaN</td>\n",
              "      <td>NaN</td>\n",
              "      <td>NaN</td>\n",
              "      <td>NaN</td>\n",
              "      <td>NaN</td>\n",
              "      <td>NaN</td>\n",
              "      <td>NaN</td>\n",
              "      <td>NaN</td>\n",
              "    </tr>\n",
              "    <tr>\n",
              "      <th>1</th>\n",
              "      <td>2012-11-05</td>\n",
              "      <td>1.742528</td>\n",
              "      <td>NaN</td>\n",
              "      <td>NaN</td>\n",
              "      <td>NaN</td>\n",
              "      <td>NaN</td>\n",
              "      <td>NaN</td>\n",
              "      <td>NaN</td>\n",
              "      <td>NaN</td>\n",
              "    </tr>\n",
              "    <tr>\n",
              "      <th>2</th>\n",
              "      <td>2012-11-06</td>\n",
              "      <td>-2.390085</td>\n",
              "      <td>1.742528</td>\n",
              "      <td>NaN</td>\n",
              "      <td>NaN</td>\n",
              "      <td>NaN</td>\n",
              "      <td>NaN</td>\n",
              "      <td>NaN</td>\n",
              "      <td>NaN</td>\n",
              "    </tr>\n",
              "    <tr>\n",
              "      <th>3</th>\n",
              "      <td>2012-11-07</td>\n",
              "      <td>1.715338</td>\n",
              "      <td>-2.390085</td>\n",
              "      <td>1.742528</td>\n",
              "      <td>NaN</td>\n",
              "      <td>NaN</td>\n",
              "      <td>NaN</td>\n",
              "      <td>NaN</td>\n",
              "      <td>NaN</td>\n",
              "    </tr>\n",
              "    <tr>\n",
              "      <th>4</th>\n",
              "      <td>2012-11-08</td>\n",
              "      <td>-2.201346</td>\n",
              "      <td>1.715338</td>\n",
              "      <td>-2.390085</td>\n",
              "      <td>1.742528</td>\n",
              "      <td>NaN</td>\n",
              "      <td>NaN</td>\n",
              "      <td>NaN</td>\n",
              "      <td>NaN</td>\n",
              "    </tr>\n",
              "    <tr>\n",
              "      <th>...</th>\n",
              "      <td>...</td>\n",
              "      <td>...</td>\n",
              "      <td>...</td>\n",
              "      <td>...</td>\n",
              "      <td>...</td>\n",
              "      <td>...</td>\n",
              "      <td>...</td>\n",
              "      <td>...</td>\n",
              "      <td>...</td>\n",
              "    </tr>\n",
              "    <tr>\n",
              "      <th>2512</th>\n",
              "      <td>2022-10-26</td>\n",
              "      <td>2.611507</td>\n",
              "      <td>3.034157</td>\n",
              "      <td>-2.458816</td>\n",
              "      <td>7.984041</td>\n",
              "      <td>-1.549307</td>\n",
              "      <td>13.086442</td>\n",
              "      <td>-1.729908</td>\n",
              "      <td>6.565220</td>\n",
              "    </tr>\n",
              "    <tr>\n",
              "      <th>2513</th>\n",
              "      <td>2022-10-27</td>\n",
              "      <td>-0.562585</td>\n",
              "      <td>2.611507</td>\n",
              "      <td>3.034157</td>\n",
              "      <td>-2.458816</td>\n",
              "      <td>7.984041</td>\n",
              "      <td>-1.549307</td>\n",
              "      <td>13.086442</td>\n",
              "      <td>-1.729908</td>\n",
              "    </tr>\n",
              "    <tr>\n",
              "      <th>2514</th>\n",
              "      <td>2022-10-28</td>\n",
              "      <td>-0.410858</td>\n",
              "      <td>-0.562585</td>\n",
              "      <td>2.611507</td>\n",
              "      <td>3.034157</td>\n",
              "      <td>-2.458816</td>\n",
              "      <td>7.984041</td>\n",
              "      <td>-1.549307</td>\n",
              "      <td>13.086442</td>\n",
              "    </tr>\n",
              "    <tr>\n",
              "      <th>2515</th>\n",
              "      <td>2022-10-31</td>\n",
              "      <td>-1.298524</td>\n",
              "      <td>-0.410858</td>\n",
              "      <td>-0.562585</td>\n",
              "      <td>2.611507</td>\n",
              "      <td>3.034157</td>\n",
              "      <td>-2.458816</td>\n",
              "      <td>7.984041</td>\n",
              "      <td>-1.549307</td>\n",
              "    </tr>\n",
              "    <tr>\n",
              "      <th>2516</th>\n",
              "      <td>2022-11-01</td>\n",
              "      <td>-1.757573</td>\n",
              "      <td>-1.298524</td>\n",
              "      <td>-0.410858</td>\n",
              "      <td>-0.562585</td>\n",
              "      <td>2.611507</td>\n",
              "      <td>3.034157</td>\n",
              "      <td>-2.458816</td>\n",
              "      <td>7.984041</td>\n",
              "    </tr>\n",
              "  </tbody>\n",
              "</table>\n",
              "<p>2517 rows × 9 columns</p>\n",
              "</div>\n",
              "      <button class=\"colab-df-convert\" onclick=\"convertToInteractive('df-b4e907ee-ee31-4f7f-a08a-6efbaa70250a')\"\n",
              "              title=\"Convert this dataframe to an interactive table.\"\n",
              "              style=\"display:none;\">\n",
              "        \n",
              "  <svg xmlns=\"http://www.w3.org/2000/svg\" height=\"24px\"viewBox=\"0 0 24 24\"\n",
              "       width=\"24px\">\n",
              "    <path d=\"M0 0h24v24H0V0z\" fill=\"none\"/>\n",
              "    <path d=\"M18.56 5.44l.94 2.06.94-2.06 2.06-.94-2.06-.94-.94-2.06-.94 2.06-2.06.94zm-11 1L8.5 8.5l.94-2.06 2.06-.94-2.06-.94L8.5 2.5l-.94 2.06-2.06.94zm10 10l.94 2.06.94-2.06 2.06-.94-2.06-.94-.94-2.06-.94 2.06-2.06.94z\"/><path d=\"M17.41 7.96l-1.37-1.37c-.4-.4-.92-.59-1.43-.59-.52 0-1.04.2-1.43.59L10.3 9.45l-7.72 7.72c-.78.78-.78 2.05 0 2.83L4 21.41c.39.39.9.59 1.41.59.51 0 1.02-.2 1.41-.59l7.78-7.78 2.81-2.81c.8-.78.8-2.07 0-2.86zM5.41 20L4 18.59l7.72-7.72 1.47 1.35L5.41 20z\"/>\n",
              "  </svg>\n",
              "      </button>\n",
              "      \n",
              "  <style>\n",
              "    .colab-df-container {\n",
              "      display:flex;\n",
              "      flex-wrap:wrap;\n",
              "      gap: 12px;\n",
              "    }\n",
              "\n",
              "    .colab-df-convert {\n",
              "      background-color: #E8F0FE;\n",
              "      border: none;\n",
              "      border-radius: 50%;\n",
              "      cursor: pointer;\n",
              "      display: none;\n",
              "      fill: #1967D2;\n",
              "      height: 32px;\n",
              "      padding: 0 0 0 0;\n",
              "      width: 32px;\n",
              "    }\n",
              "\n",
              "    .colab-df-convert:hover {\n",
              "      background-color: #E2EBFA;\n",
              "      box-shadow: 0px 1px 2px rgba(60, 64, 67, 0.3), 0px 1px 3px 1px rgba(60, 64, 67, 0.15);\n",
              "      fill: #174EA6;\n",
              "    }\n",
              "\n",
              "    [theme=dark] .colab-df-convert {\n",
              "      background-color: #3B4455;\n",
              "      fill: #D2E3FC;\n",
              "    }\n",
              "\n",
              "    [theme=dark] .colab-df-convert:hover {\n",
              "      background-color: #434B5C;\n",
              "      box-shadow: 0px 1px 3px 1px rgba(0, 0, 0, 0.15);\n",
              "      filter: drop-shadow(0px 1px 2px rgba(0, 0, 0, 0.3));\n",
              "      fill: #FFFFFF;\n",
              "    }\n",
              "  </style>\n",
              "\n",
              "      <script>\n",
              "        const buttonEl =\n",
              "          document.querySelector('#df-b4e907ee-ee31-4f7f-a08a-6efbaa70250a button.colab-df-convert');\n",
              "        buttonEl.style.display =\n",
              "          google.colab.kernel.accessAllowed ? 'block' : 'none';\n",
              "\n",
              "        async function convertToInteractive(key) {\n",
              "          const element = document.querySelector('#df-b4e907ee-ee31-4f7f-a08a-6efbaa70250a');\n",
              "          const dataTable =\n",
              "            await google.colab.kernel.invokeFunction('convertToInteractive',\n",
              "                                                     [key], {});\n",
              "          if (!dataTable) return;\n",
              "\n",
              "          const docLinkHtml = 'Like what you see? Visit the ' +\n",
              "            '<a target=\"_blank\" href=https://colab.research.google.com/notebooks/data_table.ipynb>data table notebook</a>'\n",
              "            + ' to learn more about interactive tables.';\n",
              "          element.innerHTML = '';\n",
              "          dataTable['output_type'] = 'display_data';\n",
              "          await google.colab.output.renderOutput(dataTable, element);\n",
              "          const docLink = document.createElement('div');\n",
              "          docLink.innerHTML = docLinkHtml;\n",
              "          element.appendChild(docLink);\n",
              "        }\n",
              "      </script>\n",
              "    </div>\n",
              "  </div>\n",
              "  "
            ]
          },
          "metadata": {},
          "execution_count": 39
        }
      ]
    },
    {
      "cell_type": "code",
      "source": [
        "NFLX['Volume'] = NFLX_data.Volume.shift(1).values/1000_000_000"
      ],
      "metadata": {
        "id": "I1WvPo85pL2l"
      },
      "execution_count": null,
      "outputs": []
    },
    {
      "cell_type": "code",
      "source": [
        "NFLX = NFLX.dropna()"
      ],
      "metadata": {
        "id": "EUjiOqt_pswg"
      },
      "execution_count": null,
      "outputs": []
    },
    {
      "cell_type": "code",
      "source": [
        "NFLX"
      ],
      "metadata": {
        "id": "rSXmfmx7p3fh",
        "colab": {
          "base_uri": "https://localhost:8080/",
          "height": 424
        },
        "outputId": "ee9c9e4f-6ab4-4d88-ee07-398577104de6"
      },
      "execution_count": null,
      "outputs": [
        {
          "output_type": "execute_result",
          "data": {
            "text/plain": [
              "           Date     Today     Lag 1     Lag 2     Lag 3     Lag 4      Lag 5  \\\n",
              "8    2012-11-14  0.213546  1.816088  0.372281  2.540473 -2.201346   1.715338   \n",
              "9    2012-11-15  2.130858  0.213546  1.816088  0.372281  2.540473  -2.201346   \n",
              "10   2012-11-16 -0.711831  2.130858  0.213546  1.816088  0.372281   2.540473   \n",
              "11   2012-11-19  0.568600 -0.711831  2.130858  0.213546  1.816088   0.372281   \n",
              "12   2012-11-20  1.278274  0.568600 -0.711831  2.130858  0.213546   1.816088   \n",
              "...         ...       ...       ...       ...       ...       ...        ...   \n",
              "2512 2022-10-26  2.611507  3.034157 -2.458816  7.984041 -1.549307  13.086442   \n",
              "2513 2022-10-27 -0.562585  2.611507  3.034157 -2.458816  7.984041  -1.549307   \n",
              "2514 2022-10-28 -0.410858 -0.562585  2.611507  3.034157 -2.458816   7.984041   \n",
              "2515 2022-10-31 -1.298524 -0.410858 -0.562585  2.611507  3.034157  -2.458816   \n",
              "2516 2022-11-01 -1.757573 -1.298524 -0.410858 -0.562585  2.611507   3.034157   \n",
              "\n",
              "          Lag 6      Lag 7    Volume  \n",
              "8     -2.390085   1.742528  0.027171  \n",
              "9      1.715338  -2.390085  0.026911  \n",
              "10    -2.201346   1.715338  0.017401  \n",
              "11     2.540473  -2.201346  0.032164  \n",
              "12     0.372281   2.540473  0.023267  \n",
              "...         ...        ...       ...  \n",
              "2512  -1.729908   6.565220  0.015101  \n",
              "2513  13.086442  -1.729908  0.015714  \n",
              "2514  -1.549307  13.086442  0.014613  \n",
              "2515   7.984041  -1.549307  0.009961  \n",
              "2516  -2.458816   7.984041  0.007505  \n",
              "\n",
              "[2509 rows x 10 columns]"
            ],
            "text/html": [
              "\n",
              "  <div id=\"df-e44131b0-36ec-4a3c-8428-586c2997de77\">\n",
              "    <div class=\"colab-df-container\">\n",
              "      <div>\n",
              "<style scoped>\n",
              "    .dataframe tbody tr th:only-of-type {\n",
              "        vertical-align: middle;\n",
              "    }\n",
              "\n",
              "    .dataframe tbody tr th {\n",
              "        vertical-align: top;\n",
              "    }\n",
              "\n",
              "    .dataframe thead th {\n",
              "        text-align: right;\n",
              "    }\n",
              "</style>\n",
              "<table border=\"1\" class=\"dataframe\">\n",
              "  <thead>\n",
              "    <tr style=\"text-align: right;\">\n",
              "      <th></th>\n",
              "      <th>Date</th>\n",
              "      <th>Today</th>\n",
              "      <th>Lag 1</th>\n",
              "      <th>Lag 2</th>\n",
              "      <th>Lag 3</th>\n",
              "      <th>Lag 4</th>\n",
              "      <th>Lag 5</th>\n",
              "      <th>Lag 6</th>\n",
              "      <th>Lag 7</th>\n",
              "      <th>Volume</th>\n",
              "    </tr>\n",
              "  </thead>\n",
              "  <tbody>\n",
              "    <tr>\n",
              "      <th>8</th>\n",
              "      <td>2012-11-14</td>\n",
              "      <td>0.213546</td>\n",
              "      <td>1.816088</td>\n",
              "      <td>0.372281</td>\n",
              "      <td>2.540473</td>\n",
              "      <td>-2.201346</td>\n",
              "      <td>1.715338</td>\n",
              "      <td>-2.390085</td>\n",
              "      <td>1.742528</td>\n",
              "      <td>0.027171</td>\n",
              "    </tr>\n",
              "    <tr>\n",
              "      <th>9</th>\n",
              "      <td>2012-11-15</td>\n",
              "      <td>2.130858</td>\n",
              "      <td>0.213546</td>\n",
              "      <td>1.816088</td>\n",
              "      <td>0.372281</td>\n",
              "      <td>2.540473</td>\n",
              "      <td>-2.201346</td>\n",
              "      <td>1.715338</td>\n",
              "      <td>-2.390085</td>\n",
              "      <td>0.026911</td>\n",
              "    </tr>\n",
              "    <tr>\n",
              "      <th>10</th>\n",
              "      <td>2012-11-16</td>\n",
              "      <td>-0.711831</td>\n",
              "      <td>2.130858</td>\n",
              "      <td>0.213546</td>\n",
              "      <td>1.816088</td>\n",
              "      <td>0.372281</td>\n",
              "      <td>2.540473</td>\n",
              "      <td>-2.201346</td>\n",
              "      <td>1.715338</td>\n",
              "      <td>0.017401</td>\n",
              "    </tr>\n",
              "    <tr>\n",
              "      <th>11</th>\n",
              "      <td>2012-11-19</td>\n",
              "      <td>0.568600</td>\n",
              "      <td>-0.711831</td>\n",
              "      <td>2.130858</td>\n",
              "      <td>0.213546</td>\n",
              "      <td>1.816088</td>\n",
              "      <td>0.372281</td>\n",
              "      <td>2.540473</td>\n",
              "      <td>-2.201346</td>\n",
              "      <td>0.032164</td>\n",
              "    </tr>\n",
              "    <tr>\n",
              "      <th>12</th>\n",
              "      <td>2012-11-20</td>\n",
              "      <td>1.278274</td>\n",
              "      <td>0.568600</td>\n",
              "      <td>-0.711831</td>\n",
              "      <td>2.130858</td>\n",
              "      <td>0.213546</td>\n",
              "      <td>1.816088</td>\n",
              "      <td>0.372281</td>\n",
              "      <td>2.540473</td>\n",
              "      <td>0.023267</td>\n",
              "    </tr>\n",
              "    <tr>\n",
              "      <th>...</th>\n",
              "      <td>...</td>\n",
              "      <td>...</td>\n",
              "      <td>...</td>\n",
              "      <td>...</td>\n",
              "      <td>...</td>\n",
              "      <td>...</td>\n",
              "      <td>...</td>\n",
              "      <td>...</td>\n",
              "      <td>...</td>\n",
              "      <td>...</td>\n",
              "    </tr>\n",
              "    <tr>\n",
              "      <th>2512</th>\n",
              "      <td>2022-10-26</td>\n",
              "      <td>2.611507</td>\n",
              "      <td>3.034157</td>\n",
              "      <td>-2.458816</td>\n",
              "      <td>7.984041</td>\n",
              "      <td>-1.549307</td>\n",
              "      <td>13.086442</td>\n",
              "      <td>-1.729908</td>\n",
              "      <td>6.565220</td>\n",
              "      <td>0.015101</td>\n",
              "    </tr>\n",
              "    <tr>\n",
              "      <th>2513</th>\n",
              "      <td>2022-10-27</td>\n",
              "      <td>-0.562585</td>\n",
              "      <td>2.611507</td>\n",
              "      <td>3.034157</td>\n",
              "      <td>-2.458816</td>\n",
              "      <td>7.984041</td>\n",
              "      <td>-1.549307</td>\n",
              "      <td>13.086442</td>\n",
              "      <td>-1.729908</td>\n",
              "      <td>0.015714</td>\n",
              "    </tr>\n",
              "    <tr>\n",
              "      <th>2514</th>\n",
              "      <td>2022-10-28</td>\n",
              "      <td>-0.410858</td>\n",
              "      <td>-0.562585</td>\n",
              "      <td>2.611507</td>\n",
              "      <td>3.034157</td>\n",
              "      <td>-2.458816</td>\n",
              "      <td>7.984041</td>\n",
              "      <td>-1.549307</td>\n",
              "      <td>13.086442</td>\n",
              "      <td>0.014613</td>\n",
              "    </tr>\n",
              "    <tr>\n",
              "      <th>2515</th>\n",
              "      <td>2022-10-31</td>\n",
              "      <td>-1.298524</td>\n",
              "      <td>-0.410858</td>\n",
              "      <td>-0.562585</td>\n",
              "      <td>2.611507</td>\n",
              "      <td>3.034157</td>\n",
              "      <td>-2.458816</td>\n",
              "      <td>7.984041</td>\n",
              "      <td>-1.549307</td>\n",
              "      <td>0.009961</td>\n",
              "    </tr>\n",
              "    <tr>\n",
              "      <th>2516</th>\n",
              "      <td>2022-11-01</td>\n",
              "      <td>-1.757573</td>\n",
              "      <td>-1.298524</td>\n",
              "      <td>-0.410858</td>\n",
              "      <td>-0.562585</td>\n",
              "      <td>2.611507</td>\n",
              "      <td>3.034157</td>\n",
              "      <td>-2.458816</td>\n",
              "      <td>7.984041</td>\n",
              "      <td>0.007505</td>\n",
              "    </tr>\n",
              "  </tbody>\n",
              "</table>\n",
              "<p>2509 rows × 10 columns</p>\n",
              "</div>\n",
              "      <button class=\"colab-df-convert\" onclick=\"convertToInteractive('df-e44131b0-36ec-4a3c-8428-586c2997de77')\"\n",
              "              title=\"Convert this dataframe to an interactive table.\"\n",
              "              style=\"display:none;\">\n",
              "        \n",
              "  <svg xmlns=\"http://www.w3.org/2000/svg\" height=\"24px\"viewBox=\"0 0 24 24\"\n",
              "       width=\"24px\">\n",
              "    <path d=\"M0 0h24v24H0V0z\" fill=\"none\"/>\n",
              "    <path d=\"M18.56 5.44l.94 2.06.94-2.06 2.06-.94-2.06-.94-.94-2.06-.94 2.06-2.06.94zm-11 1L8.5 8.5l.94-2.06 2.06-.94-2.06-.94L8.5 2.5l-.94 2.06-2.06.94zm10 10l.94 2.06.94-2.06 2.06-.94-2.06-.94-.94-2.06-.94 2.06-2.06.94z\"/><path d=\"M17.41 7.96l-1.37-1.37c-.4-.4-.92-.59-1.43-.59-.52 0-1.04.2-1.43.59L10.3 9.45l-7.72 7.72c-.78.78-.78 2.05 0 2.83L4 21.41c.39.39.9.59 1.41.59.51 0 1.02-.2 1.41-.59l7.78-7.78 2.81-2.81c.8-.78.8-2.07 0-2.86zM5.41 20L4 18.59l7.72-7.72 1.47 1.35L5.41 20z\"/>\n",
              "  </svg>\n",
              "      </button>\n",
              "      \n",
              "  <style>\n",
              "    .colab-df-container {\n",
              "      display:flex;\n",
              "      flex-wrap:wrap;\n",
              "      gap: 12px;\n",
              "    }\n",
              "\n",
              "    .colab-df-convert {\n",
              "      background-color: #E8F0FE;\n",
              "      border: none;\n",
              "      border-radius: 50%;\n",
              "      cursor: pointer;\n",
              "      display: none;\n",
              "      fill: #1967D2;\n",
              "      height: 32px;\n",
              "      padding: 0 0 0 0;\n",
              "      width: 32px;\n",
              "    }\n",
              "\n",
              "    .colab-df-convert:hover {\n",
              "      background-color: #E2EBFA;\n",
              "      box-shadow: 0px 1px 2px rgba(60, 64, 67, 0.3), 0px 1px 3px 1px rgba(60, 64, 67, 0.15);\n",
              "      fill: #174EA6;\n",
              "    }\n",
              "\n",
              "    [theme=dark] .colab-df-convert {\n",
              "      background-color: #3B4455;\n",
              "      fill: #D2E3FC;\n",
              "    }\n",
              "\n",
              "    [theme=dark] .colab-df-convert:hover {\n",
              "      background-color: #434B5C;\n",
              "      box-shadow: 0px 1px 3px 1px rgba(0, 0, 0, 0.15);\n",
              "      filter: drop-shadow(0px 1px 2px rgba(0, 0, 0, 0.3));\n",
              "      fill: #FFFFFF;\n",
              "    }\n",
              "  </style>\n",
              "\n",
              "      <script>\n",
              "        const buttonEl =\n",
              "          document.querySelector('#df-e44131b0-36ec-4a3c-8428-586c2997de77 button.colab-df-convert');\n",
              "        buttonEl.style.display =\n",
              "          google.colab.kernel.accessAllowed ? 'block' : 'none';\n",
              "\n",
              "        async function convertToInteractive(key) {\n",
              "          const element = document.querySelector('#df-e44131b0-36ec-4a3c-8428-586c2997de77');\n",
              "          const dataTable =\n",
              "            await google.colab.kernel.invokeFunction('convertToInteractive',\n",
              "                                                     [key], {});\n",
              "          if (!dataTable) return;\n",
              "\n",
              "          const docLinkHtml = 'Like what you see? Visit the ' +\n",
              "            '<a target=\"_blank\" href=https://colab.research.google.com/notebooks/data_table.ipynb>data table notebook</a>'\n",
              "            + ' to learn more about interactive tables.';\n",
              "          element.innerHTML = '';\n",
              "          dataTable['output_type'] = 'display_data';\n",
              "          await google.colab.output.renderOutput(dataTable, element);\n",
              "          const docLink = document.createElement('div');\n",
              "          docLink.innerHTML = docLinkHtml;\n",
              "          element.appendChild(docLink);\n",
              "        }\n",
              "      </script>\n",
              "    </div>\n",
              "  </div>\n",
              "  "
            ]
          },
          "metadata": {},
          "execution_count": 42
        }
      ]
    },
    {
      "cell_type": "code",
      "source": [
        "NFLX['Target'] = [1 if i > 0 else 0 for i in NFLX['Today']]"
      ],
      "metadata": {
        "id": "j5rtsPI6p74h",
        "colab": {
          "base_uri": "https://localhost:8080/"
        },
        "outputId": "80ab3bf3-70a6-4a8c-9275-aa9468c7a4d2"
      },
      "execution_count": null,
      "outputs": [
        {
          "output_type": "stream",
          "name": "stderr",
          "text": [
            "<ipython-input-43-468ec9bfaca0>:1: SettingWithCopyWarning: \n",
            "A value is trying to be set on a copy of a slice from a DataFrame.\n",
            "Try using .loc[row_indexer,col_indexer] = value instead\n",
            "\n",
            "See the caveats in the documentation: https://pandas.pydata.org/pandas-docs/stable/user_guide/indexing.html#returning-a-view-versus-a-copy\n",
            "  NFLX['Target'] = [1 if i > 0 else 0 for i in NFLX['Today']]\n"
          ]
        }
      ]
    },
    {
      "cell_type": "code",
      "source": [
        "NFLX"
      ],
      "metadata": {
        "id": "1f2R8gobqRD_",
        "colab": {
          "base_uri": "https://localhost:8080/",
          "height": 424
        },
        "outputId": "ac0f61f1-7c47-481b-a9e3-3ea68681e4c9"
      },
      "execution_count": null,
      "outputs": [
        {
          "output_type": "execute_result",
          "data": {
            "text/plain": [
              "           Date     Today     Lag 1     Lag 2     Lag 3     Lag 4      Lag 5  \\\n",
              "8    2012-11-14  0.213546  1.816088  0.372281  2.540473 -2.201346   1.715338   \n",
              "9    2012-11-15  2.130858  0.213546  1.816088  0.372281  2.540473  -2.201346   \n",
              "10   2012-11-16 -0.711831  2.130858  0.213546  1.816088  0.372281   2.540473   \n",
              "11   2012-11-19  0.568600 -0.711831  2.130858  0.213546  1.816088   0.372281   \n",
              "12   2012-11-20  1.278274  0.568600 -0.711831  2.130858  0.213546   1.816088   \n",
              "...         ...       ...       ...       ...       ...       ...        ...   \n",
              "2512 2022-10-26  2.611507  3.034157 -2.458816  7.984041 -1.549307  13.086442   \n",
              "2513 2022-10-27 -0.562585  2.611507  3.034157 -2.458816  7.984041  -1.549307   \n",
              "2514 2022-10-28 -0.410858 -0.562585  2.611507  3.034157 -2.458816   7.984041   \n",
              "2515 2022-10-31 -1.298524 -0.410858 -0.562585  2.611507  3.034157  -2.458816   \n",
              "2516 2022-11-01 -1.757573 -1.298524 -0.410858 -0.562585  2.611507   3.034157   \n",
              "\n",
              "          Lag 6      Lag 7    Volume  Target  \n",
              "8     -2.390085   1.742528  0.027171       1  \n",
              "9      1.715338  -2.390085  0.026911       1  \n",
              "10    -2.201346   1.715338  0.017401       0  \n",
              "11     2.540473  -2.201346  0.032164       1  \n",
              "12     0.372281   2.540473  0.023267       1  \n",
              "...         ...        ...       ...     ...  \n",
              "2512  -1.729908   6.565220  0.015101       1  \n",
              "2513  13.086442  -1.729908  0.015714       0  \n",
              "2514  -1.549307  13.086442  0.014613       0  \n",
              "2515   7.984041  -1.549307  0.009961       0  \n",
              "2516  -2.458816   7.984041  0.007505       0  \n",
              "\n",
              "[2509 rows x 11 columns]"
            ],
            "text/html": [
              "\n",
              "  <div id=\"df-577b49fa-3933-4cfb-ad0d-994ff2705a43\">\n",
              "    <div class=\"colab-df-container\">\n",
              "      <div>\n",
              "<style scoped>\n",
              "    .dataframe tbody tr th:only-of-type {\n",
              "        vertical-align: middle;\n",
              "    }\n",
              "\n",
              "    .dataframe tbody tr th {\n",
              "        vertical-align: top;\n",
              "    }\n",
              "\n",
              "    .dataframe thead th {\n",
              "        text-align: right;\n",
              "    }\n",
              "</style>\n",
              "<table border=\"1\" class=\"dataframe\">\n",
              "  <thead>\n",
              "    <tr style=\"text-align: right;\">\n",
              "      <th></th>\n",
              "      <th>Date</th>\n",
              "      <th>Today</th>\n",
              "      <th>Lag 1</th>\n",
              "      <th>Lag 2</th>\n",
              "      <th>Lag 3</th>\n",
              "      <th>Lag 4</th>\n",
              "      <th>Lag 5</th>\n",
              "      <th>Lag 6</th>\n",
              "      <th>Lag 7</th>\n",
              "      <th>Volume</th>\n",
              "      <th>Target</th>\n",
              "    </tr>\n",
              "  </thead>\n",
              "  <tbody>\n",
              "    <tr>\n",
              "      <th>8</th>\n",
              "      <td>2012-11-14</td>\n",
              "      <td>0.213546</td>\n",
              "      <td>1.816088</td>\n",
              "      <td>0.372281</td>\n",
              "      <td>2.540473</td>\n",
              "      <td>-2.201346</td>\n",
              "      <td>1.715338</td>\n",
              "      <td>-2.390085</td>\n",
              "      <td>1.742528</td>\n",
              "      <td>0.027171</td>\n",
              "      <td>1</td>\n",
              "    </tr>\n",
              "    <tr>\n",
              "      <th>9</th>\n",
              "      <td>2012-11-15</td>\n",
              "      <td>2.130858</td>\n",
              "      <td>0.213546</td>\n",
              "      <td>1.816088</td>\n",
              "      <td>0.372281</td>\n",
              "      <td>2.540473</td>\n",
              "      <td>-2.201346</td>\n",
              "      <td>1.715338</td>\n",
              "      <td>-2.390085</td>\n",
              "      <td>0.026911</td>\n",
              "      <td>1</td>\n",
              "    </tr>\n",
              "    <tr>\n",
              "      <th>10</th>\n",
              "      <td>2012-11-16</td>\n",
              "      <td>-0.711831</td>\n",
              "      <td>2.130858</td>\n",
              "      <td>0.213546</td>\n",
              "      <td>1.816088</td>\n",
              "      <td>0.372281</td>\n",
              "      <td>2.540473</td>\n",
              "      <td>-2.201346</td>\n",
              "      <td>1.715338</td>\n",
              "      <td>0.017401</td>\n",
              "      <td>0</td>\n",
              "    </tr>\n",
              "    <tr>\n",
              "      <th>11</th>\n",
              "      <td>2012-11-19</td>\n",
              "      <td>0.568600</td>\n",
              "      <td>-0.711831</td>\n",
              "      <td>2.130858</td>\n",
              "      <td>0.213546</td>\n",
              "      <td>1.816088</td>\n",
              "      <td>0.372281</td>\n",
              "      <td>2.540473</td>\n",
              "      <td>-2.201346</td>\n",
              "      <td>0.032164</td>\n",
              "      <td>1</td>\n",
              "    </tr>\n",
              "    <tr>\n",
              "      <th>12</th>\n",
              "      <td>2012-11-20</td>\n",
              "      <td>1.278274</td>\n",
              "      <td>0.568600</td>\n",
              "      <td>-0.711831</td>\n",
              "      <td>2.130858</td>\n",
              "      <td>0.213546</td>\n",
              "      <td>1.816088</td>\n",
              "      <td>0.372281</td>\n",
              "      <td>2.540473</td>\n",
              "      <td>0.023267</td>\n",
              "      <td>1</td>\n",
              "    </tr>\n",
              "    <tr>\n",
              "      <th>...</th>\n",
              "      <td>...</td>\n",
              "      <td>...</td>\n",
              "      <td>...</td>\n",
              "      <td>...</td>\n",
              "      <td>...</td>\n",
              "      <td>...</td>\n",
              "      <td>...</td>\n",
              "      <td>...</td>\n",
              "      <td>...</td>\n",
              "      <td>...</td>\n",
              "      <td>...</td>\n",
              "    </tr>\n",
              "    <tr>\n",
              "      <th>2512</th>\n",
              "      <td>2022-10-26</td>\n",
              "      <td>2.611507</td>\n",
              "      <td>3.034157</td>\n",
              "      <td>-2.458816</td>\n",
              "      <td>7.984041</td>\n",
              "      <td>-1.549307</td>\n",
              "      <td>13.086442</td>\n",
              "      <td>-1.729908</td>\n",
              "      <td>6.565220</td>\n",
              "      <td>0.015101</td>\n",
              "      <td>1</td>\n",
              "    </tr>\n",
              "    <tr>\n",
              "      <th>2513</th>\n",
              "      <td>2022-10-27</td>\n",
              "      <td>-0.562585</td>\n",
              "      <td>2.611507</td>\n",
              "      <td>3.034157</td>\n",
              "      <td>-2.458816</td>\n",
              "      <td>7.984041</td>\n",
              "      <td>-1.549307</td>\n",
              "      <td>13.086442</td>\n",
              "      <td>-1.729908</td>\n",
              "      <td>0.015714</td>\n",
              "      <td>0</td>\n",
              "    </tr>\n",
              "    <tr>\n",
              "      <th>2514</th>\n",
              "      <td>2022-10-28</td>\n",
              "      <td>-0.410858</td>\n",
              "      <td>-0.562585</td>\n",
              "      <td>2.611507</td>\n",
              "      <td>3.034157</td>\n",
              "      <td>-2.458816</td>\n",
              "      <td>7.984041</td>\n",
              "      <td>-1.549307</td>\n",
              "      <td>13.086442</td>\n",
              "      <td>0.014613</td>\n",
              "      <td>0</td>\n",
              "    </tr>\n",
              "    <tr>\n",
              "      <th>2515</th>\n",
              "      <td>2022-10-31</td>\n",
              "      <td>-1.298524</td>\n",
              "      <td>-0.410858</td>\n",
              "      <td>-0.562585</td>\n",
              "      <td>2.611507</td>\n",
              "      <td>3.034157</td>\n",
              "      <td>-2.458816</td>\n",
              "      <td>7.984041</td>\n",
              "      <td>-1.549307</td>\n",
              "      <td>0.009961</td>\n",
              "      <td>0</td>\n",
              "    </tr>\n",
              "    <tr>\n",
              "      <th>2516</th>\n",
              "      <td>2022-11-01</td>\n",
              "      <td>-1.757573</td>\n",
              "      <td>-1.298524</td>\n",
              "      <td>-0.410858</td>\n",
              "      <td>-0.562585</td>\n",
              "      <td>2.611507</td>\n",
              "      <td>3.034157</td>\n",
              "      <td>-2.458816</td>\n",
              "      <td>7.984041</td>\n",
              "      <td>0.007505</td>\n",
              "      <td>0</td>\n",
              "    </tr>\n",
              "  </tbody>\n",
              "</table>\n",
              "<p>2509 rows × 11 columns</p>\n",
              "</div>\n",
              "      <button class=\"colab-df-convert\" onclick=\"convertToInteractive('df-577b49fa-3933-4cfb-ad0d-994ff2705a43')\"\n",
              "              title=\"Convert this dataframe to an interactive table.\"\n",
              "              style=\"display:none;\">\n",
              "        \n",
              "  <svg xmlns=\"http://www.w3.org/2000/svg\" height=\"24px\"viewBox=\"0 0 24 24\"\n",
              "       width=\"24px\">\n",
              "    <path d=\"M0 0h24v24H0V0z\" fill=\"none\"/>\n",
              "    <path d=\"M18.56 5.44l.94 2.06.94-2.06 2.06-.94-2.06-.94-.94-2.06-.94 2.06-2.06.94zm-11 1L8.5 8.5l.94-2.06 2.06-.94-2.06-.94L8.5 2.5l-.94 2.06-2.06.94zm10 10l.94 2.06.94-2.06 2.06-.94-2.06-.94-.94-2.06-.94 2.06-2.06.94z\"/><path d=\"M17.41 7.96l-1.37-1.37c-.4-.4-.92-.59-1.43-.59-.52 0-1.04.2-1.43.59L10.3 9.45l-7.72 7.72c-.78.78-.78 2.05 0 2.83L4 21.41c.39.39.9.59 1.41.59.51 0 1.02-.2 1.41-.59l7.78-7.78 2.81-2.81c.8-.78.8-2.07 0-2.86zM5.41 20L4 18.59l7.72-7.72 1.47 1.35L5.41 20z\"/>\n",
              "  </svg>\n",
              "      </button>\n",
              "      \n",
              "  <style>\n",
              "    .colab-df-container {\n",
              "      display:flex;\n",
              "      flex-wrap:wrap;\n",
              "      gap: 12px;\n",
              "    }\n",
              "\n",
              "    .colab-df-convert {\n",
              "      background-color: #E8F0FE;\n",
              "      border: none;\n",
              "      border-radius: 50%;\n",
              "      cursor: pointer;\n",
              "      display: none;\n",
              "      fill: #1967D2;\n",
              "      height: 32px;\n",
              "      padding: 0 0 0 0;\n",
              "      width: 32px;\n",
              "    }\n",
              "\n",
              "    .colab-df-convert:hover {\n",
              "      background-color: #E2EBFA;\n",
              "      box-shadow: 0px 1px 2px rgba(60, 64, 67, 0.3), 0px 1px 3px 1px rgba(60, 64, 67, 0.15);\n",
              "      fill: #174EA6;\n",
              "    }\n",
              "\n",
              "    [theme=dark] .colab-df-convert {\n",
              "      background-color: #3B4455;\n",
              "      fill: #D2E3FC;\n",
              "    }\n",
              "\n",
              "    [theme=dark] .colab-df-convert:hover {\n",
              "      background-color: #434B5C;\n",
              "      box-shadow: 0px 1px 3px 1px rgba(0, 0, 0, 0.15);\n",
              "      filter: drop-shadow(0px 1px 2px rgba(0, 0, 0, 0.3));\n",
              "      fill: #FFFFFF;\n",
              "    }\n",
              "  </style>\n",
              "\n",
              "      <script>\n",
              "        const buttonEl =\n",
              "          document.querySelector('#df-577b49fa-3933-4cfb-ad0d-994ff2705a43 button.colab-df-convert');\n",
              "        buttonEl.style.display =\n",
              "          google.colab.kernel.accessAllowed ? 'block' : 'none';\n",
              "\n",
              "        async function convertToInteractive(key) {\n",
              "          const element = document.querySelector('#df-577b49fa-3933-4cfb-ad0d-994ff2705a43');\n",
              "          const dataTable =\n",
              "            await google.colab.kernel.invokeFunction('convertToInteractive',\n",
              "                                                     [key], {});\n",
              "          if (!dataTable) return;\n",
              "\n",
              "          const docLinkHtml = 'Like what you see? Visit the ' +\n",
              "            '<a target=\"_blank\" href=https://colab.research.google.com/notebooks/data_table.ipynb>data table notebook</a>'\n",
              "            + ' to learn more about interactive tables.';\n",
              "          element.innerHTML = '';\n",
              "          dataTable['output_type'] = 'display_data';\n",
              "          await google.colab.output.renderOutput(dataTable, element);\n",
              "          const docLink = document.createElement('div');\n",
              "          docLink.innerHTML = docLinkHtml;\n",
              "          element.appendChild(docLink);\n",
              "        }\n",
              "      </script>\n",
              "    </div>\n",
              "  </div>\n",
              "  "
            ]
          },
          "metadata": {},
          "execution_count": 44
        }
      ]
    },
    {
      "cell_type": "code",
      "source": [
        "NFLX = sm.add_constant(NFLX)"
      ],
      "metadata": {
        "id": "3CdGkjbUqXmf",
        "colab": {
          "base_uri": "https://localhost:8080/"
        },
        "outputId": "2f9e5036-4be6-4e81-f793-badd8ac4177b"
      },
      "execution_count": null,
      "outputs": [
        {
          "output_type": "stream",
          "name": "stderr",
          "text": [
            "/usr/local/lib/python3.8/dist-packages/statsmodels/tsa/tsatools.py:142: FutureWarning: In a future version of pandas all arguments of concat except for the argument 'objs' will be keyword-only\n",
            "  x = pd.concat(x[::order], 1)\n"
          ]
        }
      ]
    },
    {
      "cell_type": "code",
      "source": [
        "NFLX"
      ],
      "metadata": {
        "id": "oRbFDV_qqn0x",
        "colab": {
          "base_uri": "https://localhost:8080/",
          "height": 468
        },
        "outputId": "cd70e97d-e75e-4ef0-ead3-6f7963ce319b"
      },
      "execution_count": null,
      "outputs": [
        {
          "output_type": "execute_result",
          "data": {
            "text/plain": [
              "      const       Date     Today     Lag 1     Lag 2     Lag 3     Lag 4  \\\n",
              "8       1.0 2012-11-14  0.213546  1.816088  0.372281  2.540473 -2.201346   \n",
              "9       1.0 2012-11-15  2.130858  0.213546  1.816088  0.372281  2.540473   \n",
              "10      1.0 2012-11-16 -0.711831  2.130858  0.213546  1.816088  0.372281   \n",
              "11      1.0 2012-11-19  0.568600 -0.711831  2.130858  0.213546  1.816088   \n",
              "12      1.0 2012-11-20  1.278274  0.568600 -0.711831  2.130858  0.213546   \n",
              "...     ...        ...       ...       ...       ...       ...       ...   \n",
              "2512    1.0 2022-10-26  2.611507  3.034157 -2.458816  7.984041 -1.549307   \n",
              "2513    1.0 2022-10-27 -0.562585  2.611507  3.034157 -2.458816  7.984041   \n",
              "2514    1.0 2022-10-28 -0.410858 -0.562585  2.611507  3.034157 -2.458816   \n",
              "2515    1.0 2022-10-31 -1.298524 -0.410858 -0.562585  2.611507  3.034157   \n",
              "2516    1.0 2022-11-01 -1.757573 -1.298524 -0.410858 -0.562585  2.611507   \n",
              "\n",
              "          Lag 5      Lag 6      Lag 7    Volume  Target  \n",
              "8      1.715338  -2.390085   1.742528  0.027171       1  \n",
              "9     -2.201346   1.715338  -2.390085  0.026911       1  \n",
              "10     2.540473  -2.201346   1.715338  0.017401       0  \n",
              "11     0.372281   2.540473  -2.201346  0.032164       1  \n",
              "12     1.816088   0.372281   2.540473  0.023267       1  \n",
              "...         ...        ...        ...       ...     ...  \n",
              "2512  13.086442  -1.729908   6.565220  0.015101       1  \n",
              "2513  -1.549307  13.086442  -1.729908  0.015714       0  \n",
              "2514   7.984041  -1.549307  13.086442  0.014613       0  \n",
              "2515  -2.458816   7.984041  -1.549307  0.009961       0  \n",
              "2516   3.034157  -2.458816   7.984041  0.007505       0  \n",
              "\n",
              "[2509 rows x 12 columns]"
            ],
            "text/html": [
              "\n",
              "  <div id=\"df-1175f479-1ee2-4e31-bc32-5f503aea30aa\">\n",
              "    <div class=\"colab-df-container\">\n",
              "      <div>\n",
              "<style scoped>\n",
              "    .dataframe tbody tr th:only-of-type {\n",
              "        vertical-align: middle;\n",
              "    }\n",
              "\n",
              "    .dataframe tbody tr th {\n",
              "        vertical-align: top;\n",
              "    }\n",
              "\n",
              "    .dataframe thead th {\n",
              "        text-align: right;\n",
              "    }\n",
              "</style>\n",
              "<table border=\"1\" class=\"dataframe\">\n",
              "  <thead>\n",
              "    <tr style=\"text-align: right;\">\n",
              "      <th></th>\n",
              "      <th>const</th>\n",
              "      <th>Date</th>\n",
              "      <th>Today</th>\n",
              "      <th>Lag 1</th>\n",
              "      <th>Lag 2</th>\n",
              "      <th>Lag 3</th>\n",
              "      <th>Lag 4</th>\n",
              "      <th>Lag 5</th>\n",
              "      <th>Lag 6</th>\n",
              "      <th>Lag 7</th>\n",
              "      <th>Volume</th>\n",
              "      <th>Target</th>\n",
              "    </tr>\n",
              "  </thead>\n",
              "  <tbody>\n",
              "    <tr>\n",
              "      <th>8</th>\n",
              "      <td>1.0</td>\n",
              "      <td>2012-11-14</td>\n",
              "      <td>0.213546</td>\n",
              "      <td>1.816088</td>\n",
              "      <td>0.372281</td>\n",
              "      <td>2.540473</td>\n",
              "      <td>-2.201346</td>\n",
              "      <td>1.715338</td>\n",
              "      <td>-2.390085</td>\n",
              "      <td>1.742528</td>\n",
              "      <td>0.027171</td>\n",
              "      <td>1</td>\n",
              "    </tr>\n",
              "    <tr>\n",
              "      <th>9</th>\n",
              "      <td>1.0</td>\n",
              "      <td>2012-11-15</td>\n",
              "      <td>2.130858</td>\n",
              "      <td>0.213546</td>\n",
              "      <td>1.816088</td>\n",
              "      <td>0.372281</td>\n",
              "      <td>2.540473</td>\n",
              "      <td>-2.201346</td>\n",
              "      <td>1.715338</td>\n",
              "      <td>-2.390085</td>\n",
              "      <td>0.026911</td>\n",
              "      <td>1</td>\n",
              "    </tr>\n",
              "    <tr>\n",
              "      <th>10</th>\n",
              "      <td>1.0</td>\n",
              "      <td>2012-11-16</td>\n",
              "      <td>-0.711831</td>\n",
              "      <td>2.130858</td>\n",
              "      <td>0.213546</td>\n",
              "      <td>1.816088</td>\n",
              "      <td>0.372281</td>\n",
              "      <td>2.540473</td>\n",
              "      <td>-2.201346</td>\n",
              "      <td>1.715338</td>\n",
              "      <td>0.017401</td>\n",
              "      <td>0</td>\n",
              "    </tr>\n",
              "    <tr>\n",
              "      <th>11</th>\n",
              "      <td>1.0</td>\n",
              "      <td>2012-11-19</td>\n",
              "      <td>0.568600</td>\n",
              "      <td>-0.711831</td>\n",
              "      <td>2.130858</td>\n",
              "      <td>0.213546</td>\n",
              "      <td>1.816088</td>\n",
              "      <td>0.372281</td>\n",
              "      <td>2.540473</td>\n",
              "      <td>-2.201346</td>\n",
              "      <td>0.032164</td>\n",
              "      <td>1</td>\n",
              "    </tr>\n",
              "    <tr>\n",
              "      <th>12</th>\n",
              "      <td>1.0</td>\n",
              "      <td>2012-11-20</td>\n",
              "      <td>1.278274</td>\n",
              "      <td>0.568600</td>\n",
              "      <td>-0.711831</td>\n",
              "      <td>2.130858</td>\n",
              "      <td>0.213546</td>\n",
              "      <td>1.816088</td>\n",
              "      <td>0.372281</td>\n",
              "      <td>2.540473</td>\n",
              "      <td>0.023267</td>\n",
              "      <td>1</td>\n",
              "    </tr>\n",
              "    <tr>\n",
              "      <th>...</th>\n",
              "      <td>...</td>\n",
              "      <td>...</td>\n",
              "      <td>...</td>\n",
              "      <td>...</td>\n",
              "      <td>...</td>\n",
              "      <td>...</td>\n",
              "      <td>...</td>\n",
              "      <td>...</td>\n",
              "      <td>...</td>\n",
              "      <td>...</td>\n",
              "      <td>...</td>\n",
              "      <td>...</td>\n",
              "    </tr>\n",
              "    <tr>\n",
              "      <th>2512</th>\n",
              "      <td>1.0</td>\n",
              "      <td>2022-10-26</td>\n",
              "      <td>2.611507</td>\n",
              "      <td>3.034157</td>\n",
              "      <td>-2.458816</td>\n",
              "      <td>7.984041</td>\n",
              "      <td>-1.549307</td>\n",
              "      <td>13.086442</td>\n",
              "      <td>-1.729908</td>\n",
              "      <td>6.565220</td>\n",
              "      <td>0.015101</td>\n",
              "      <td>1</td>\n",
              "    </tr>\n",
              "    <tr>\n",
              "      <th>2513</th>\n",
              "      <td>1.0</td>\n",
              "      <td>2022-10-27</td>\n",
              "      <td>-0.562585</td>\n",
              "      <td>2.611507</td>\n",
              "      <td>3.034157</td>\n",
              "      <td>-2.458816</td>\n",
              "      <td>7.984041</td>\n",
              "      <td>-1.549307</td>\n",
              "      <td>13.086442</td>\n",
              "      <td>-1.729908</td>\n",
              "      <td>0.015714</td>\n",
              "      <td>0</td>\n",
              "    </tr>\n",
              "    <tr>\n",
              "      <th>2514</th>\n",
              "      <td>1.0</td>\n",
              "      <td>2022-10-28</td>\n",
              "      <td>-0.410858</td>\n",
              "      <td>-0.562585</td>\n",
              "      <td>2.611507</td>\n",
              "      <td>3.034157</td>\n",
              "      <td>-2.458816</td>\n",
              "      <td>7.984041</td>\n",
              "      <td>-1.549307</td>\n",
              "      <td>13.086442</td>\n",
              "      <td>0.014613</td>\n",
              "      <td>0</td>\n",
              "    </tr>\n",
              "    <tr>\n",
              "      <th>2515</th>\n",
              "      <td>1.0</td>\n",
              "      <td>2022-10-31</td>\n",
              "      <td>-1.298524</td>\n",
              "      <td>-0.410858</td>\n",
              "      <td>-0.562585</td>\n",
              "      <td>2.611507</td>\n",
              "      <td>3.034157</td>\n",
              "      <td>-2.458816</td>\n",
              "      <td>7.984041</td>\n",
              "      <td>-1.549307</td>\n",
              "      <td>0.009961</td>\n",
              "      <td>0</td>\n",
              "    </tr>\n",
              "    <tr>\n",
              "      <th>2516</th>\n",
              "      <td>1.0</td>\n",
              "      <td>2022-11-01</td>\n",
              "      <td>-1.757573</td>\n",
              "      <td>-1.298524</td>\n",
              "      <td>-0.410858</td>\n",
              "      <td>-0.562585</td>\n",
              "      <td>2.611507</td>\n",
              "      <td>3.034157</td>\n",
              "      <td>-2.458816</td>\n",
              "      <td>7.984041</td>\n",
              "      <td>0.007505</td>\n",
              "      <td>0</td>\n",
              "    </tr>\n",
              "  </tbody>\n",
              "</table>\n",
              "<p>2509 rows × 12 columns</p>\n",
              "</div>\n",
              "      <button class=\"colab-df-convert\" onclick=\"convertToInteractive('df-1175f479-1ee2-4e31-bc32-5f503aea30aa')\"\n",
              "              title=\"Convert this dataframe to an interactive table.\"\n",
              "              style=\"display:none;\">\n",
              "        \n",
              "  <svg xmlns=\"http://www.w3.org/2000/svg\" height=\"24px\"viewBox=\"0 0 24 24\"\n",
              "       width=\"24px\">\n",
              "    <path d=\"M0 0h24v24H0V0z\" fill=\"none\"/>\n",
              "    <path d=\"M18.56 5.44l.94 2.06.94-2.06 2.06-.94-2.06-.94-.94-2.06-.94 2.06-2.06.94zm-11 1L8.5 8.5l.94-2.06 2.06-.94-2.06-.94L8.5 2.5l-.94 2.06-2.06.94zm10 10l.94 2.06.94-2.06 2.06-.94-2.06-.94-.94-2.06-.94 2.06-2.06.94z\"/><path d=\"M17.41 7.96l-1.37-1.37c-.4-.4-.92-.59-1.43-.59-.52 0-1.04.2-1.43.59L10.3 9.45l-7.72 7.72c-.78.78-.78 2.05 0 2.83L4 21.41c.39.39.9.59 1.41.59.51 0 1.02-.2 1.41-.59l7.78-7.78 2.81-2.81c.8-.78.8-2.07 0-2.86zM5.41 20L4 18.59l7.72-7.72 1.47 1.35L5.41 20z\"/>\n",
              "  </svg>\n",
              "      </button>\n",
              "      \n",
              "  <style>\n",
              "    .colab-df-container {\n",
              "      display:flex;\n",
              "      flex-wrap:wrap;\n",
              "      gap: 12px;\n",
              "    }\n",
              "\n",
              "    .colab-df-convert {\n",
              "      background-color: #E8F0FE;\n",
              "      border: none;\n",
              "      border-radius: 50%;\n",
              "      cursor: pointer;\n",
              "      display: none;\n",
              "      fill: #1967D2;\n",
              "      height: 32px;\n",
              "      padding: 0 0 0 0;\n",
              "      width: 32px;\n",
              "    }\n",
              "\n",
              "    .colab-df-convert:hover {\n",
              "      background-color: #E2EBFA;\n",
              "      box-shadow: 0px 1px 2px rgba(60, 64, 67, 0.3), 0px 1px 3px 1px rgba(60, 64, 67, 0.15);\n",
              "      fill: #174EA6;\n",
              "    }\n",
              "\n",
              "    [theme=dark] .colab-df-convert {\n",
              "      background-color: #3B4455;\n",
              "      fill: #D2E3FC;\n",
              "    }\n",
              "\n",
              "    [theme=dark] .colab-df-convert:hover {\n",
              "      background-color: #434B5C;\n",
              "      box-shadow: 0px 1px 3px 1px rgba(0, 0, 0, 0.15);\n",
              "      filter: drop-shadow(0px 1px 2px rgba(0, 0, 0, 0.3));\n",
              "      fill: #FFFFFF;\n",
              "    }\n",
              "  </style>\n",
              "\n",
              "      <script>\n",
              "        const buttonEl =\n",
              "          document.querySelector('#df-1175f479-1ee2-4e31-bc32-5f503aea30aa button.colab-df-convert');\n",
              "        buttonEl.style.display =\n",
              "          google.colab.kernel.accessAllowed ? 'block' : 'none';\n",
              "\n",
              "        async function convertToInteractive(key) {\n",
              "          const element = document.querySelector('#df-1175f479-1ee2-4e31-bc32-5f503aea30aa');\n",
              "          const dataTable =\n",
              "            await google.colab.kernel.invokeFunction('convertToInteractive',\n",
              "                                                     [key], {});\n",
              "          if (!dataTable) return;\n",
              "\n",
              "          const docLinkHtml = 'Like what you see? Visit the ' +\n",
              "            '<a target=\"_blank\" href=https://colab.research.google.com/notebooks/data_table.ipynb>data table notebook</a>'\n",
              "            + ' to learn more about interactive tables.';\n",
              "          element.innerHTML = '';\n",
              "          dataTable['output_type'] = 'display_data';\n",
              "          await google.colab.output.renderOutput(dataTable, element);\n",
              "          const docLink = document.createElement('div');\n",
              "          docLink.innerHTML = docLinkHtml;\n",
              "          element.appendChild(docLink);\n",
              "        }\n",
              "      </script>\n",
              "    </div>\n",
              "  </div>\n",
              "  "
            ]
          },
          "metadata": {},
          "execution_count": 46
        }
      ]
    },
    {
      "cell_type": "markdown",
      "source": [
        "##Train mô hình"
      ],
      "metadata": {
        "id": "a9gadlfM_b0A"
      }
    },
    {
      "cell_type": "code",
      "source": [
        "X1 = NFLX[['const', 'Lag 1', 'Lag 2', 'Lag 3', 'Lag 4', 'Lag 5', 'Lag 6', 'Lag 7', 'Volume']]"
      ],
      "metadata": {
        "id": "wwOIxrGxqwCy"
      },
      "execution_count": null,
      "outputs": []
    },
    {
      "cell_type": "code",
      "source": [
        "y1 = NFLX.Target"
      ],
      "metadata": {
        "id": "H2QjFOUfq2iY"
      },
      "execution_count": null,
      "outputs": []
    },
    {
      "cell_type": "code",
      "source": [
        "def confusion_matrix(act,pred):\n",
        "  predtrans = ['Up' if i > 0.5 else \"Down\" for i in pred]\n",
        "  actuals = ['Up' if i > 0 else \"Dowm\" for i in act]\n",
        "  confusion_matrix = pd.crosstab(pd.Series(actuals),\n",
        "                                 pd.Series(predtrans),\n",
        "                                 rownames=['Actual'],\n",
        "                                 colnames=['Predict'])\n",
        "  return confusion_matrix"
      ],
      "metadata": {
        "id": "3_aPey9nrwfV"
      },
      "execution_count": null,
      "outputs": []
    },
    {
      "cell_type": "markdown",
      "source": [
        "chia tập dữ liệu train và test"
      ],
      "metadata": {
        "id": "89ZBJhT0tLQj"
      }
    },
    {
      "cell_type": "code",
      "source": [
        "X1_train = NFLX[NFLX.Date.dt.year < 2022][['const', 'Lag 1', 'Lag 2', 'Lag 3', 'Lag 4', 'Lag 5', 'Lag 6', 'Lag 7', 'Volume']] #nếu lấy 4 lag thì độ chính xác cao nhất\n",
        "y1_train = NFLX[NFLX.Date.dt.year < 2022]['Target']\n",
        "X1_test = NFLX[NFLX.Date.dt.year == 2022][['const', 'Lag 1', 'Lag 2', 'Lag 7', 'Lag 4', 'Lag 5', 'Lag 6', 'Lag 7', 'Volume']]\n",
        "y1_test = NFLX[NFLX.Date.dt.year == 2022]['Target']"
      ],
      "metadata": {
        "id": "IeqKVolstOTg"
      },
      "execution_count": null,
      "outputs": []
    },
    {
      "cell_type": "code",
      "source": [
        "model1 = sm.Logit(y1_train,X1_train)"
      ],
      "metadata": {
        "id": "q_Qu69EKt5C8"
      },
      "execution_count": null,
      "outputs": []
    },
    {
      "cell_type": "code",
      "source": [
        "result1 = model1.fit()"
      ],
      "metadata": {
        "id": "WPFAflWuvGPS",
        "colab": {
          "base_uri": "https://localhost:8080/"
        },
        "outputId": "987606de-b34d-4d03-9a12-67a1a6679c54"
      },
      "execution_count": null,
      "outputs": [
        {
          "output_type": "stream",
          "name": "stdout",
          "text": [
            "Optimization terminated successfully.\n",
            "         Current function value: 0.689321\n",
            "         Iterations 4\n"
          ]
        }
      ]
    },
    {
      "cell_type": "code",
      "source": [
        "prediction1 = result1.predict(X1_test)"
      ],
      "metadata": {
        "id": "KQGb2W5DvJeU"
      },
      "execution_count": null,
      "outputs": []
    },
    {
      "cell_type": "markdown",
      "source": [
        "##Độ chính xác của mô hình"
      ],
      "metadata": {
        "id": "TRe3XksK_mmY"
      }
    },
    {
      "cell_type": "code",
      "source": [
        "confusion_matrix(y1_test,prediction1)"
      ],
      "metadata": {
        "id": "y4BSPp2AvSFh",
        "colab": {
          "base_uri": "https://localhost:8080/",
          "height": 143
        },
        "outputId": "753d357a-59e8-42e7-f425-73d0c3e7410b"
      },
      "execution_count": null,
      "outputs": [
        {
          "output_type": "execute_result",
          "data": {
            "text/plain": [
              "Predict  Down  Up\n",
              "Actual           \n",
              "Dowm       32  85\n",
              "Up         26  67"
            ],
            "text/html": [
              "\n",
              "  <div id=\"df-edd4554c-d432-4cbb-bb7b-5d84e7eb2f3f\">\n",
              "    <div class=\"colab-df-container\">\n",
              "      <div>\n",
              "<style scoped>\n",
              "    .dataframe tbody tr th:only-of-type {\n",
              "        vertical-align: middle;\n",
              "    }\n",
              "\n",
              "    .dataframe tbody tr th {\n",
              "        vertical-align: top;\n",
              "    }\n",
              "\n",
              "    .dataframe thead th {\n",
              "        text-align: right;\n",
              "    }\n",
              "</style>\n",
              "<table border=\"1\" class=\"dataframe\">\n",
              "  <thead>\n",
              "    <tr style=\"text-align: right;\">\n",
              "      <th>Predict</th>\n",
              "      <th>Down</th>\n",
              "      <th>Up</th>\n",
              "    </tr>\n",
              "    <tr>\n",
              "      <th>Actual</th>\n",
              "      <th></th>\n",
              "      <th></th>\n",
              "    </tr>\n",
              "  </thead>\n",
              "  <tbody>\n",
              "    <tr>\n",
              "      <th>Dowm</th>\n",
              "      <td>32</td>\n",
              "      <td>85</td>\n",
              "    </tr>\n",
              "    <tr>\n",
              "      <th>Up</th>\n",
              "      <td>26</td>\n",
              "      <td>67</td>\n",
              "    </tr>\n",
              "  </tbody>\n",
              "</table>\n",
              "</div>\n",
              "      <button class=\"colab-df-convert\" onclick=\"convertToInteractive('df-edd4554c-d432-4cbb-bb7b-5d84e7eb2f3f')\"\n",
              "              title=\"Convert this dataframe to an interactive table.\"\n",
              "              style=\"display:none;\">\n",
              "        \n",
              "  <svg xmlns=\"http://www.w3.org/2000/svg\" height=\"24px\"viewBox=\"0 0 24 24\"\n",
              "       width=\"24px\">\n",
              "    <path d=\"M0 0h24v24H0V0z\" fill=\"none\"/>\n",
              "    <path d=\"M18.56 5.44l.94 2.06.94-2.06 2.06-.94-2.06-.94-.94-2.06-.94 2.06-2.06.94zm-11 1L8.5 8.5l.94-2.06 2.06-.94-2.06-.94L8.5 2.5l-.94 2.06-2.06.94zm10 10l.94 2.06.94-2.06 2.06-.94-2.06-.94-.94-2.06-.94 2.06-2.06.94z\"/><path d=\"M17.41 7.96l-1.37-1.37c-.4-.4-.92-.59-1.43-.59-.52 0-1.04.2-1.43.59L10.3 9.45l-7.72 7.72c-.78.78-.78 2.05 0 2.83L4 21.41c.39.39.9.59 1.41.59.51 0 1.02-.2 1.41-.59l7.78-7.78 2.81-2.81c.8-.78.8-2.07 0-2.86zM5.41 20L4 18.59l7.72-7.72 1.47 1.35L5.41 20z\"/>\n",
              "  </svg>\n",
              "      </button>\n",
              "      \n",
              "  <style>\n",
              "    .colab-df-container {\n",
              "      display:flex;\n",
              "      flex-wrap:wrap;\n",
              "      gap: 12px;\n",
              "    }\n",
              "\n",
              "    .colab-df-convert {\n",
              "      background-color: #E8F0FE;\n",
              "      border: none;\n",
              "      border-radius: 50%;\n",
              "      cursor: pointer;\n",
              "      display: none;\n",
              "      fill: #1967D2;\n",
              "      height: 32px;\n",
              "      padding: 0 0 0 0;\n",
              "      width: 32px;\n",
              "    }\n",
              "\n",
              "    .colab-df-convert:hover {\n",
              "      background-color: #E2EBFA;\n",
              "      box-shadow: 0px 1px 2px rgba(60, 64, 67, 0.3), 0px 1px 3px 1px rgba(60, 64, 67, 0.15);\n",
              "      fill: #174EA6;\n",
              "    }\n",
              "\n",
              "    [theme=dark] .colab-df-convert {\n",
              "      background-color: #3B4455;\n",
              "      fill: #D2E3FC;\n",
              "    }\n",
              "\n",
              "    [theme=dark] .colab-df-convert:hover {\n",
              "      background-color: #434B5C;\n",
              "      box-shadow: 0px 1px 3px 1px rgba(0, 0, 0, 0.15);\n",
              "      filter: drop-shadow(0px 1px 2px rgba(0, 0, 0, 0.3));\n",
              "      fill: #FFFFFF;\n",
              "    }\n",
              "  </style>\n",
              "\n",
              "      <script>\n",
              "        const buttonEl =\n",
              "          document.querySelector('#df-edd4554c-d432-4cbb-bb7b-5d84e7eb2f3f button.colab-df-convert');\n",
              "        buttonEl.style.display =\n",
              "          google.colab.kernel.accessAllowed ? 'block' : 'none';\n",
              "\n",
              "        async function convertToInteractive(key) {\n",
              "          const element = document.querySelector('#df-edd4554c-d432-4cbb-bb7b-5d84e7eb2f3f');\n",
              "          const dataTable =\n",
              "            await google.colab.kernel.invokeFunction('convertToInteractive',\n",
              "                                                     [key], {});\n",
              "          if (!dataTable) return;\n",
              "\n",
              "          const docLinkHtml = 'Like what you see? Visit the ' +\n",
              "            '<a target=\"_blank\" href=https://colab.research.google.com/notebooks/data_table.ipynb>data table notebook</a>'\n",
              "            + ' to learn more about interactive tables.';\n",
              "          element.innerHTML = '';\n",
              "          dataTable['output_type'] = 'display_data';\n",
              "          await google.colab.output.renderOutput(dataTable, element);\n",
              "          const docLink = document.createElement('div');\n",
              "          docLink.innerHTML = docLinkHtml;\n",
              "          element.appendChild(docLink);\n",
              "        }\n",
              "      </script>\n",
              "    </div>\n",
              "  </div>\n",
              "  "
            ]
          },
          "metadata": {},
          "execution_count": 54
        }
      ]
    },
    {
      "cell_type": "code",
      "source": [
        "67/(67+26)"
      ],
      "metadata": {
        "id": "WvTwfX2LvVpW",
        "colab": {
          "base_uri": "https://localhost:8080/"
        },
        "outputId": "a99ef4ef-7eb8-40f6-a14f-cd57c6e9e1fa"
      },
      "execution_count": null,
      "outputs": [
        {
          "output_type": "execute_result",
          "data": {
            "text/plain": [
              "0.7204301075268817"
            ]
          },
          "metadata": {},
          "execution_count": 55
        }
      ]
    },
    {
      "cell_type": "markdown",
      "metadata": {
        "id": "NDoIR0atd66I"
      },
      "source": [
        "#Apple"
      ]
    },
    {
      "cell_type": "markdown",
      "source": [
        "##Chuẩn bị dữ liệu"
      ],
      "metadata": {
        "id": "YCQFvpGK_zAi"
      }
    },
    {
      "cell_type": "code",
      "execution_count": null,
      "metadata": {
        "colab": {
          "base_uri": "https://localhost:8080/",
          "height": 472
        },
        "id": "2LdACG3rcmJ1",
        "outputId": "2139800c-96e5-45d3-e706-c4d6e1997969"
      },
      "outputs": [
        {
          "output_type": "stream",
          "name": "stdout",
          "text": [
            "\r[*********************100%***********************]  1 of 1 completed\n"
          ]
        },
        {
          "output_type": "execute_result",
          "data": {
            "text/plain": [
              "                  Open        High         Low       Close   Adj Close  \\\n",
              "Date                                                                     \n",
              "2012-11-02   21.281786   21.319643   20.526787   20.600000   17.635199   \n",
              "2012-11-05   20.840000   20.991785   20.628571   20.879286   17.874290   \n",
              "2012-11-06   21.079643   21.097857   20.717501   20.816071   17.820171   \n",
              "2012-11-07   20.494286   20.519285   19.848213   19.928572   17.138327   \n",
              "2012-11-08   20.022499   20.079643   19.117500   19.205357   16.516373   \n",
              "...                ...         ...         ...         ...         ...   \n",
              "2022-10-26  150.960007  151.990005  148.039993  149.350006  149.102661   \n",
              "2022-10-27  148.070007  149.050003  144.130005  144.800003  144.560196   \n",
              "2022-10-28  148.199997  157.500000  147.820007  155.740005  155.482086   \n",
              "2022-10-31  153.160004  154.240005  151.919998  153.339996  153.086044   \n",
              "2022-11-01  155.080002  155.449997  149.130005  150.649994  150.400497   \n",
              "\n",
              "                Volume  \n",
              "Date                    \n",
              "2012-11-02   599373600  \n",
              "2012-11-05   529135600  \n",
              "2012-11-06   374917200  \n",
              "2012-11-07   793648800  \n",
              "2012-11-08  1056146000  \n",
              "...                ...  \n",
              "2022-10-26    88194300  \n",
              "2022-10-27   109180200  \n",
              "2022-10-28   164762400  \n",
              "2022-10-31    97943200  \n",
              "2022-11-01    80379300  \n",
              "\n",
              "[2517 rows x 6 columns]"
            ],
            "text/html": [
              "\n",
              "  <div id=\"df-82421732-baea-44cc-9724-451851fdc5ae\">\n",
              "    <div class=\"colab-df-container\">\n",
              "      <div>\n",
              "<style scoped>\n",
              "    .dataframe tbody tr th:only-of-type {\n",
              "        vertical-align: middle;\n",
              "    }\n",
              "\n",
              "    .dataframe tbody tr th {\n",
              "        vertical-align: top;\n",
              "    }\n",
              "\n",
              "    .dataframe thead th {\n",
              "        text-align: right;\n",
              "    }\n",
              "</style>\n",
              "<table border=\"1\" class=\"dataframe\">\n",
              "  <thead>\n",
              "    <tr style=\"text-align: right;\">\n",
              "      <th></th>\n",
              "      <th>Open</th>\n",
              "      <th>High</th>\n",
              "      <th>Low</th>\n",
              "      <th>Close</th>\n",
              "      <th>Adj Close</th>\n",
              "      <th>Volume</th>\n",
              "    </tr>\n",
              "    <tr>\n",
              "      <th>Date</th>\n",
              "      <th></th>\n",
              "      <th></th>\n",
              "      <th></th>\n",
              "      <th></th>\n",
              "      <th></th>\n",
              "      <th></th>\n",
              "    </tr>\n",
              "  </thead>\n",
              "  <tbody>\n",
              "    <tr>\n",
              "      <th>2012-11-02</th>\n",
              "      <td>21.281786</td>\n",
              "      <td>21.319643</td>\n",
              "      <td>20.526787</td>\n",
              "      <td>20.600000</td>\n",
              "      <td>17.635199</td>\n",
              "      <td>599373600</td>\n",
              "    </tr>\n",
              "    <tr>\n",
              "      <th>2012-11-05</th>\n",
              "      <td>20.840000</td>\n",
              "      <td>20.991785</td>\n",
              "      <td>20.628571</td>\n",
              "      <td>20.879286</td>\n",
              "      <td>17.874290</td>\n",
              "      <td>529135600</td>\n",
              "    </tr>\n",
              "    <tr>\n",
              "      <th>2012-11-06</th>\n",
              "      <td>21.079643</td>\n",
              "      <td>21.097857</td>\n",
              "      <td>20.717501</td>\n",
              "      <td>20.816071</td>\n",
              "      <td>17.820171</td>\n",
              "      <td>374917200</td>\n",
              "    </tr>\n",
              "    <tr>\n",
              "      <th>2012-11-07</th>\n",
              "      <td>20.494286</td>\n",
              "      <td>20.519285</td>\n",
              "      <td>19.848213</td>\n",
              "      <td>19.928572</td>\n",
              "      <td>17.138327</td>\n",
              "      <td>793648800</td>\n",
              "    </tr>\n",
              "    <tr>\n",
              "      <th>2012-11-08</th>\n",
              "      <td>20.022499</td>\n",
              "      <td>20.079643</td>\n",
              "      <td>19.117500</td>\n",
              "      <td>19.205357</td>\n",
              "      <td>16.516373</td>\n",
              "      <td>1056146000</td>\n",
              "    </tr>\n",
              "    <tr>\n",
              "      <th>...</th>\n",
              "      <td>...</td>\n",
              "      <td>...</td>\n",
              "      <td>...</td>\n",
              "      <td>...</td>\n",
              "      <td>...</td>\n",
              "      <td>...</td>\n",
              "    </tr>\n",
              "    <tr>\n",
              "      <th>2022-10-26</th>\n",
              "      <td>150.960007</td>\n",
              "      <td>151.990005</td>\n",
              "      <td>148.039993</td>\n",
              "      <td>149.350006</td>\n",
              "      <td>149.102661</td>\n",
              "      <td>88194300</td>\n",
              "    </tr>\n",
              "    <tr>\n",
              "      <th>2022-10-27</th>\n",
              "      <td>148.070007</td>\n",
              "      <td>149.050003</td>\n",
              "      <td>144.130005</td>\n",
              "      <td>144.800003</td>\n",
              "      <td>144.560196</td>\n",
              "      <td>109180200</td>\n",
              "    </tr>\n",
              "    <tr>\n",
              "      <th>2022-10-28</th>\n",
              "      <td>148.199997</td>\n",
              "      <td>157.500000</td>\n",
              "      <td>147.820007</td>\n",
              "      <td>155.740005</td>\n",
              "      <td>155.482086</td>\n",
              "      <td>164762400</td>\n",
              "    </tr>\n",
              "    <tr>\n",
              "      <th>2022-10-31</th>\n",
              "      <td>153.160004</td>\n",
              "      <td>154.240005</td>\n",
              "      <td>151.919998</td>\n",
              "      <td>153.339996</td>\n",
              "      <td>153.086044</td>\n",
              "      <td>97943200</td>\n",
              "    </tr>\n",
              "    <tr>\n",
              "      <th>2022-11-01</th>\n",
              "      <td>155.080002</td>\n",
              "      <td>155.449997</td>\n",
              "      <td>149.130005</td>\n",
              "      <td>150.649994</td>\n",
              "      <td>150.400497</td>\n",
              "      <td>80379300</td>\n",
              "    </tr>\n",
              "  </tbody>\n",
              "</table>\n",
              "<p>2517 rows × 6 columns</p>\n",
              "</div>\n",
              "      <button class=\"colab-df-convert\" onclick=\"convertToInteractive('df-82421732-baea-44cc-9724-451851fdc5ae')\"\n",
              "              title=\"Convert this dataframe to an interactive table.\"\n",
              "              style=\"display:none;\">\n",
              "        \n",
              "  <svg xmlns=\"http://www.w3.org/2000/svg\" height=\"24px\"viewBox=\"0 0 24 24\"\n",
              "       width=\"24px\">\n",
              "    <path d=\"M0 0h24v24H0V0z\" fill=\"none\"/>\n",
              "    <path d=\"M18.56 5.44l.94 2.06.94-2.06 2.06-.94-2.06-.94-.94-2.06-.94 2.06-2.06.94zm-11 1L8.5 8.5l.94-2.06 2.06-.94-2.06-.94L8.5 2.5l-.94 2.06-2.06.94zm10 10l.94 2.06.94-2.06 2.06-.94-2.06-.94-.94-2.06-.94 2.06-2.06.94z\"/><path d=\"M17.41 7.96l-1.37-1.37c-.4-.4-.92-.59-1.43-.59-.52 0-1.04.2-1.43.59L10.3 9.45l-7.72 7.72c-.78.78-.78 2.05 0 2.83L4 21.41c.39.39.9.59 1.41.59.51 0 1.02-.2 1.41-.59l7.78-7.78 2.81-2.81c.8-.78.8-2.07 0-2.86zM5.41 20L4 18.59l7.72-7.72 1.47 1.35L5.41 20z\"/>\n",
              "  </svg>\n",
              "      </button>\n",
              "      \n",
              "  <style>\n",
              "    .colab-df-container {\n",
              "      display:flex;\n",
              "      flex-wrap:wrap;\n",
              "      gap: 12px;\n",
              "    }\n",
              "\n",
              "    .colab-df-convert {\n",
              "      background-color: #E8F0FE;\n",
              "      border: none;\n",
              "      border-radius: 50%;\n",
              "      cursor: pointer;\n",
              "      display: none;\n",
              "      fill: #1967D2;\n",
              "      height: 32px;\n",
              "      padding: 0 0 0 0;\n",
              "      width: 32px;\n",
              "    }\n",
              "\n",
              "    .colab-df-convert:hover {\n",
              "      background-color: #E2EBFA;\n",
              "      box-shadow: 0px 1px 2px rgba(60, 64, 67, 0.3), 0px 1px 3px 1px rgba(60, 64, 67, 0.15);\n",
              "      fill: #174EA6;\n",
              "    }\n",
              "\n",
              "    [theme=dark] .colab-df-convert {\n",
              "      background-color: #3B4455;\n",
              "      fill: #D2E3FC;\n",
              "    }\n",
              "\n",
              "    [theme=dark] .colab-df-convert:hover {\n",
              "      background-color: #434B5C;\n",
              "      box-shadow: 0px 1px 3px 1px rgba(0, 0, 0, 0.15);\n",
              "      filter: drop-shadow(0px 1px 2px rgba(0, 0, 0, 0.3));\n",
              "      fill: #FFFFFF;\n",
              "    }\n",
              "  </style>\n",
              "\n",
              "      <script>\n",
              "        const buttonEl =\n",
              "          document.querySelector('#df-82421732-baea-44cc-9724-451851fdc5ae button.colab-df-convert');\n",
              "        buttonEl.style.display =\n",
              "          google.colab.kernel.accessAllowed ? 'block' : 'none';\n",
              "\n",
              "        async function convertToInteractive(key) {\n",
              "          const element = document.querySelector('#df-82421732-baea-44cc-9724-451851fdc5ae');\n",
              "          const dataTable =\n",
              "            await google.colab.kernel.invokeFunction('convertToInteractive',\n",
              "                                                     [key], {});\n",
              "          if (!dataTable) return;\n",
              "\n",
              "          const docLinkHtml = 'Like what you see? Visit the ' +\n",
              "            '<a target=\"_blank\" href=https://colab.research.google.com/notebooks/data_table.ipynb>data table notebook</a>'\n",
              "            + ' to learn more about interactive tables.';\n",
              "          element.innerHTML = '';\n",
              "          dataTable['output_type'] = 'display_data';\n",
              "          await google.colab.output.renderOutput(dataTable, element);\n",
              "          const docLink = document.createElement('div');\n",
              "          docLink.innerHTML = docLinkHtml;\n",
              "          element.appendChild(docLink);\n",
              "        }\n",
              "      </script>\n",
              "    </div>\n",
              "  </div>\n",
              "  "
            ]
          },
          "metadata": {},
          "execution_count": 56
        }
      ],
      "source": [
        "AAPL_Data = pdr.get_data_yahoo('AAPL', start=start_date, end=end_date)\n",
        "AAPL_Data"
      ]
    },
    {
      "cell_type": "code",
      "source": [
        "AAPL = AAPL_Data[\"Adj Close\"].pct_change() * 100"
      ],
      "metadata": {
        "id": "Ke7fgm-Uj0GN"
      },
      "execution_count": null,
      "outputs": []
    },
    {
      "cell_type": "code",
      "source": [
        "AAPL"
      ],
      "metadata": {
        "colab": {
          "base_uri": "https://localhost:8080/"
        },
        "id": "mcIM2UqekERM",
        "outputId": "63db904b-bd71-4293-c78b-74473c1ade37"
      },
      "execution_count": null,
      "outputs": [
        {
          "output_type": "execute_result",
          "data": {
            "text/plain": [
              "Date\n",
              "2012-11-02         NaN\n",
              "2012-11-05    1.355765\n",
              "2012-11-06   -0.302776\n",
              "2012-11-07   -3.826252\n",
              "2012-11-08   -3.629024\n",
              "                ...   \n",
              "2022-10-26   -1.962714\n",
              "2022-10-27   -3.046535\n",
              "2022-10-28    7.555254\n",
              "2022-10-31   -1.541040\n",
              "2022-11-01   -1.754273\n",
              "Name: Adj Close, Length: 2517, dtype: float64"
            ]
          },
          "metadata": {},
          "execution_count": 58
        }
      ]
    },
    {
      "cell_type": "code",
      "source": [
        "AAPL = AAPL.rename(\"Today\")"
      ],
      "metadata": {
        "id": "roX0gHodkHqa"
      },
      "execution_count": null,
      "outputs": []
    },
    {
      "cell_type": "code",
      "source": [
        "AAPL"
      ],
      "metadata": {
        "id": "q2sWN669kU2q",
        "colab": {
          "base_uri": "https://localhost:8080/"
        },
        "outputId": "9502f3be-5c00-4462-b514-0611d045a538"
      },
      "execution_count": null,
      "outputs": [
        {
          "output_type": "execute_result",
          "data": {
            "text/plain": [
              "Date\n",
              "2012-11-02         NaN\n",
              "2012-11-05    1.355765\n",
              "2012-11-06   -0.302776\n",
              "2012-11-07   -3.826252\n",
              "2012-11-08   -3.629024\n",
              "                ...   \n",
              "2022-10-26   -1.962714\n",
              "2022-10-27   -3.046535\n",
              "2022-10-28    7.555254\n",
              "2022-10-31   -1.541040\n",
              "2022-11-01   -1.754273\n",
              "Name: Today, Length: 2517, dtype: float64"
            ]
          },
          "metadata": {},
          "execution_count": 60
        }
      ]
    },
    {
      "cell_type": "code",
      "source": [
        "AAPL = AAPL.reset_index()"
      ],
      "metadata": {
        "id": "4PUZg5JBkYOH"
      },
      "execution_count": null,
      "outputs": []
    },
    {
      "cell_type": "code",
      "source": [
        "AAPL"
      ],
      "metadata": {
        "colab": {
          "base_uri": "https://localhost:8080/",
          "height": 424
        },
        "id": "eHGdnOdLkcCn",
        "outputId": "f8ba0034-4b47-49c4-a258-215e8dac6847"
      },
      "execution_count": null,
      "outputs": [
        {
          "output_type": "execute_result",
          "data": {
            "text/plain": [
              "           Date     Today\n",
              "0    2012-11-02       NaN\n",
              "1    2012-11-05  1.355765\n",
              "2    2012-11-06 -0.302776\n",
              "3    2012-11-07 -3.826252\n",
              "4    2012-11-08 -3.629024\n",
              "...         ...       ...\n",
              "2512 2022-10-26 -1.962714\n",
              "2513 2022-10-27 -3.046535\n",
              "2514 2022-10-28  7.555254\n",
              "2515 2022-10-31 -1.541040\n",
              "2516 2022-11-01 -1.754273\n",
              "\n",
              "[2517 rows x 2 columns]"
            ],
            "text/html": [
              "\n",
              "  <div id=\"df-e5016e1b-c7e2-4133-a25d-349a80af505c\">\n",
              "    <div class=\"colab-df-container\">\n",
              "      <div>\n",
              "<style scoped>\n",
              "    .dataframe tbody tr th:only-of-type {\n",
              "        vertical-align: middle;\n",
              "    }\n",
              "\n",
              "    .dataframe tbody tr th {\n",
              "        vertical-align: top;\n",
              "    }\n",
              "\n",
              "    .dataframe thead th {\n",
              "        text-align: right;\n",
              "    }\n",
              "</style>\n",
              "<table border=\"1\" class=\"dataframe\">\n",
              "  <thead>\n",
              "    <tr style=\"text-align: right;\">\n",
              "      <th></th>\n",
              "      <th>Date</th>\n",
              "      <th>Today</th>\n",
              "    </tr>\n",
              "  </thead>\n",
              "  <tbody>\n",
              "    <tr>\n",
              "      <th>0</th>\n",
              "      <td>2012-11-02</td>\n",
              "      <td>NaN</td>\n",
              "    </tr>\n",
              "    <tr>\n",
              "      <th>1</th>\n",
              "      <td>2012-11-05</td>\n",
              "      <td>1.355765</td>\n",
              "    </tr>\n",
              "    <tr>\n",
              "      <th>2</th>\n",
              "      <td>2012-11-06</td>\n",
              "      <td>-0.302776</td>\n",
              "    </tr>\n",
              "    <tr>\n",
              "      <th>3</th>\n",
              "      <td>2012-11-07</td>\n",
              "      <td>-3.826252</td>\n",
              "    </tr>\n",
              "    <tr>\n",
              "      <th>4</th>\n",
              "      <td>2012-11-08</td>\n",
              "      <td>-3.629024</td>\n",
              "    </tr>\n",
              "    <tr>\n",
              "      <th>...</th>\n",
              "      <td>...</td>\n",
              "      <td>...</td>\n",
              "    </tr>\n",
              "    <tr>\n",
              "      <th>2512</th>\n",
              "      <td>2022-10-26</td>\n",
              "      <td>-1.962714</td>\n",
              "    </tr>\n",
              "    <tr>\n",
              "      <th>2513</th>\n",
              "      <td>2022-10-27</td>\n",
              "      <td>-3.046535</td>\n",
              "    </tr>\n",
              "    <tr>\n",
              "      <th>2514</th>\n",
              "      <td>2022-10-28</td>\n",
              "      <td>7.555254</td>\n",
              "    </tr>\n",
              "    <tr>\n",
              "      <th>2515</th>\n",
              "      <td>2022-10-31</td>\n",
              "      <td>-1.541040</td>\n",
              "    </tr>\n",
              "    <tr>\n",
              "      <th>2516</th>\n",
              "      <td>2022-11-01</td>\n",
              "      <td>-1.754273</td>\n",
              "    </tr>\n",
              "  </tbody>\n",
              "</table>\n",
              "<p>2517 rows × 2 columns</p>\n",
              "</div>\n",
              "      <button class=\"colab-df-convert\" onclick=\"convertToInteractive('df-e5016e1b-c7e2-4133-a25d-349a80af505c')\"\n",
              "              title=\"Convert this dataframe to an interactive table.\"\n",
              "              style=\"display:none;\">\n",
              "        \n",
              "  <svg xmlns=\"http://www.w3.org/2000/svg\" height=\"24px\"viewBox=\"0 0 24 24\"\n",
              "       width=\"24px\">\n",
              "    <path d=\"M0 0h24v24H0V0z\" fill=\"none\"/>\n",
              "    <path d=\"M18.56 5.44l.94 2.06.94-2.06 2.06-.94-2.06-.94-.94-2.06-.94 2.06-2.06.94zm-11 1L8.5 8.5l.94-2.06 2.06-.94-2.06-.94L8.5 2.5l-.94 2.06-2.06.94zm10 10l.94 2.06.94-2.06 2.06-.94-2.06-.94-.94-2.06-.94 2.06-2.06.94z\"/><path d=\"M17.41 7.96l-1.37-1.37c-.4-.4-.92-.59-1.43-.59-.52 0-1.04.2-1.43.59L10.3 9.45l-7.72 7.72c-.78.78-.78 2.05 0 2.83L4 21.41c.39.39.9.59 1.41.59.51 0 1.02-.2 1.41-.59l7.78-7.78 2.81-2.81c.8-.78.8-2.07 0-2.86zM5.41 20L4 18.59l7.72-7.72 1.47 1.35L5.41 20z\"/>\n",
              "  </svg>\n",
              "      </button>\n",
              "      \n",
              "  <style>\n",
              "    .colab-df-container {\n",
              "      display:flex;\n",
              "      flex-wrap:wrap;\n",
              "      gap: 12px;\n",
              "    }\n",
              "\n",
              "    .colab-df-convert {\n",
              "      background-color: #E8F0FE;\n",
              "      border: none;\n",
              "      border-radius: 50%;\n",
              "      cursor: pointer;\n",
              "      display: none;\n",
              "      fill: #1967D2;\n",
              "      height: 32px;\n",
              "      padding: 0 0 0 0;\n",
              "      width: 32px;\n",
              "    }\n",
              "\n",
              "    .colab-df-convert:hover {\n",
              "      background-color: #E2EBFA;\n",
              "      box-shadow: 0px 1px 2px rgba(60, 64, 67, 0.3), 0px 1px 3px 1px rgba(60, 64, 67, 0.15);\n",
              "      fill: #174EA6;\n",
              "    }\n",
              "\n",
              "    [theme=dark] .colab-df-convert {\n",
              "      background-color: #3B4455;\n",
              "      fill: #D2E3FC;\n",
              "    }\n",
              "\n",
              "    [theme=dark] .colab-df-convert:hover {\n",
              "      background-color: #434B5C;\n",
              "      box-shadow: 0px 1px 3px 1px rgba(0, 0, 0, 0.15);\n",
              "      filter: drop-shadow(0px 1px 2px rgba(0, 0, 0, 0.3));\n",
              "      fill: #FFFFFF;\n",
              "    }\n",
              "  </style>\n",
              "\n",
              "      <script>\n",
              "        const buttonEl =\n",
              "          document.querySelector('#df-e5016e1b-c7e2-4133-a25d-349a80af505c button.colab-df-convert');\n",
              "        buttonEl.style.display =\n",
              "          google.colab.kernel.accessAllowed ? 'block' : 'none';\n",
              "\n",
              "        async function convertToInteractive(key) {\n",
              "          const element = document.querySelector('#df-e5016e1b-c7e2-4133-a25d-349a80af505c');\n",
              "          const dataTable =\n",
              "            await google.colab.kernel.invokeFunction('convertToInteractive',\n",
              "                                                     [key], {});\n",
              "          if (!dataTable) return;\n",
              "\n",
              "          const docLinkHtml = 'Like what you see? Visit the ' +\n",
              "            '<a target=\"_blank\" href=https://colab.research.google.com/notebooks/data_table.ipynb>data table notebook</a>'\n",
              "            + ' to learn more about interactive tables.';\n",
              "          element.innerHTML = '';\n",
              "          dataTable['output_type'] = 'display_data';\n",
              "          await google.colab.output.renderOutput(dataTable, element);\n",
              "          const docLink = document.createElement('div');\n",
              "          docLink.innerHTML = docLinkHtml;\n",
              "          element.appendChild(docLink);\n",
              "        }\n",
              "      </script>\n",
              "    </div>\n",
              "  </div>\n",
              "  "
            ]
          },
          "metadata": {},
          "execution_count": 62
        }
      ]
    },
    {
      "cell_type": "code",
      "source": [
        "for i in range(1,8):\n",
        "  AAPL['Lag '+str(i)] = AAPL['Today'].shift(i)"
      ],
      "metadata": {
        "id": "4bC-YUnAkfO0"
      },
      "execution_count": null,
      "outputs": []
    },
    {
      "cell_type": "code",
      "source": [
        "AAPL"
      ],
      "metadata": {
        "colab": {
          "base_uri": "https://localhost:8080/",
          "height": 424
        },
        "id": "TSEmAwMAkr1G",
        "outputId": "e290e1df-6d5c-4de7-aea1-30fffbd790bb"
      },
      "execution_count": null,
      "outputs": [
        {
          "output_type": "execute_result",
          "data": {
            "text/plain": [
              "           Date     Today     Lag 1     Lag 2     Lag 3     Lag 4     Lag 5  \\\n",
              "0    2012-11-02       NaN       NaN       NaN       NaN       NaN       NaN   \n",
              "1    2012-11-05  1.355765       NaN       NaN       NaN       NaN       NaN   \n",
              "2    2012-11-06 -0.302776  1.355765       NaN       NaN       NaN       NaN   \n",
              "3    2012-11-07 -3.826252 -0.302776  1.355765       NaN       NaN       NaN   \n",
              "4    2012-11-08 -3.629024 -3.826252 -0.302776  1.355765       NaN       NaN   \n",
              "...         ...       ...       ...       ...       ...       ...       ...   \n",
              "2512 2022-10-26 -1.962714  1.933764  1.480265  2.705912 -0.326707  0.076522   \n",
              "2513 2022-10-27 -3.046535 -1.962714  1.933764  1.480265  2.705912 -0.326707   \n",
              "2514 2022-10-28  7.555254 -3.046535 -1.962714  1.933764  1.480265  2.705912   \n",
              "2515 2022-10-31 -1.541040  7.555254 -3.046535 -1.962714  1.933764  1.480265   \n",
              "2516 2022-11-01 -1.754273 -1.541040  7.555254 -3.046535 -1.962714  1.933764   \n",
              "\n",
              "         Lag 6     Lag 7  \n",
              "0          NaN       NaN  \n",
              "1          NaN       NaN  \n",
              "2          NaN       NaN  \n",
              "3          NaN       NaN  \n",
              "4          NaN       NaN  \n",
              "...        ...       ...  \n",
              "2512  0.940936  2.912274  \n",
              "2513  0.076522  0.940936  \n",
              "2514 -0.326707  0.076522  \n",
              "2515  2.705912 -0.326707  \n",
              "2516  1.480265  2.705912  \n",
              "\n",
              "[2517 rows x 9 columns]"
            ],
            "text/html": [
              "\n",
              "  <div id=\"df-5f04abab-d378-4c4f-a67f-292bd618c753\">\n",
              "    <div class=\"colab-df-container\">\n",
              "      <div>\n",
              "<style scoped>\n",
              "    .dataframe tbody tr th:only-of-type {\n",
              "        vertical-align: middle;\n",
              "    }\n",
              "\n",
              "    .dataframe tbody tr th {\n",
              "        vertical-align: top;\n",
              "    }\n",
              "\n",
              "    .dataframe thead th {\n",
              "        text-align: right;\n",
              "    }\n",
              "</style>\n",
              "<table border=\"1\" class=\"dataframe\">\n",
              "  <thead>\n",
              "    <tr style=\"text-align: right;\">\n",
              "      <th></th>\n",
              "      <th>Date</th>\n",
              "      <th>Today</th>\n",
              "      <th>Lag 1</th>\n",
              "      <th>Lag 2</th>\n",
              "      <th>Lag 3</th>\n",
              "      <th>Lag 4</th>\n",
              "      <th>Lag 5</th>\n",
              "      <th>Lag 6</th>\n",
              "      <th>Lag 7</th>\n",
              "    </tr>\n",
              "  </thead>\n",
              "  <tbody>\n",
              "    <tr>\n",
              "      <th>0</th>\n",
              "      <td>2012-11-02</td>\n",
              "      <td>NaN</td>\n",
              "      <td>NaN</td>\n",
              "      <td>NaN</td>\n",
              "      <td>NaN</td>\n",
              "      <td>NaN</td>\n",
              "      <td>NaN</td>\n",
              "      <td>NaN</td>\n",
              "      <td>NaN</td>\n",
              "    </tr>\n",
              "    <tr>\n",
              "      <th>1</th>\n",
              "      <td>2012-11-05</td>\n",
              "      <td>1.355765</td>\n",
              "      <td>NaN</td>\n",
              "      <td>NaN</td>\n",
              "      <td>NaN</td>\n",
              "      <td>NaN</td>\n",
              "      <td>NaN</td>\n",
              "      <td>NaN</td>\n",
              "      <td>NaN</td>\n",
              "    </tr>\n",
              "    <tr>\n",
              "      <th>2</th>\n",
              "      <td>2012-11-06</td>\n",
              "      <td>-0.302776</td>\n",
              "      <td>1.355765</td>\n",
              "      <td>NaN</td>\n",
              "      <td>NaN</td>\n",
              "      <td>NaN</td>\n",
              "      <td>NaN</td>\n",
              "      <td>NaN</td>\n",
              "      <td>NaN</td>\n",
              "    </tr>\n",
              "    <tr>\n",
              "      <th>3</th>\n",
              "      <td>2012-11-07</td>\n",
              "      <td>-3.826252</td>\n",
              "      <td>-0.302776</td>\n",
              "      <td>1.355765</td>\n",
              "      <td>NaN</td>\n",
              "      <td>NaN</td>\n",
              "      <td>NaN</td>\n",
              "      <td>NaN</td>\n",
              "      <td>NaN</td>\n",
              "    </tr>\n",
              "    <tr>\n",
              "      <th>4</th>\n",
              "      <td>2012-11-08</td>\n",
              "      <td>-3.629024</td>\n",
              "      <td>-3.826252</td>\n",
              "      <td>-0.302776</td>\n",
              "      <td>1.355765</td>\n",
              "      <td>NaN</td>\n",
              "      <td>NaN</td>\n",
              "      <td>NaN</td>\n",
              "      <td>NaN</td>\n",
              "    </tr>\n",
              "    <tr>\n",
              "      <th>...</th>\n",
              "      <td>...</td>\n",
              "      <td>...</td>\n",
              "      <td>...</td>\n",
              "      <td>...</td>\n",
              "      <td>...</td>\n",
              "      <td>...</td>\n",
              "      <td>...</td>\n",
              "      <td>...</td>\n",
              "      <td>...</td>\n",
              "    </tr>\n",
              "    <tr>\n",
              "      <th>2512</th>\n",
              "      <td>2022-10-26</td>\n",
              "      <td>-1.962714</td>\n",
              "      <td>1.933764</td>\n",
              "      <td>1.480265</td>\n",
              "      <td>2.705912</td>\n",
              "      <td>-0.326707</td>\n",
              "      <td>0.076522</td>\n",
              "      <td>0.940936</td>\n",
              "      <td>2.912274</td>\n",
              "    </tr>\n",
              "    <tr>\n",
              "      <th>2513</th>\n",
              "      <td>2022-10-27</td>\n",
              "      <td>-3.046535</td>\n",
              "      <td>-1.962714</td>\n",
              "      <td>1.933764</td>\n",
              "      <td>1.480265</td>\n",
              "      <td>2.705912</td>\n",
              "      <td>-0.326707</td>\n",
              "      <td>0.076522</td>\n",
              "      <td>0.940936</td>\n",
              "    </tr>\n",
              "    <tr>\n",
              "      <th>2514</th>\n",
              "      <td>2022-10-28</td>\n",
              "      <td>7.555254</td>\n",
              "      <td>-3.046535</td>\n",
              "      <td>-1.962714</td>\n",
              "      <td>1.933764</td>\n",
              "      <td>1.480265</td>\n",
              "      <td>2.705912</td>\n",
              "      <td>-0.326707</td>\n",
              "      <td>0.076522</td>\n",
              "    </tr>\n",
              "    <tr>\n",
              "      <th>2515</th>\n",
              "      <td>2022-10-31</td>\n",
              "      <td>-1.541040</td>\n",
              "      <td>7.555254</td>\n",
              "      <td>-3.046535</td>\n",
              "      <td>-1.962714</td>\n",
              "      <td>1.933764</td>\n",
              "      <td>1.480265</td>\n",
              "      <td>2.705912</td>\n",
              "      <td>-0.326707</td>\n",
              "    </tr>\n",
              "    <tr>\n",
              "      <th>2516</th>\n",
              "      <td>2022-11-01</td>\n",
              "      <td>-1.754273</td>\n",
              "      <td>-1.541040</td>\n",
              "      <td>7.555254</td>\n",
              "      <td>-3.046535</td>\n",
              "      <td>-1.962714</td>\n",
              "      <td>1.933764</td>\n",
              "      <td>1.480265</td>\n",
              "      <td>2.705912</td>\n",
              "    </tr>\n",
              "  </tbody>\n",
              "</table>\n",
              "<p>2517 rows × 9 columns</p>\n",
              "</div>\n",
              "      <button class=\"colab-df-convert\" onclick=\"convertToInteractive('df-5f04abab-d378-4c4f-a67f-292bd618c753')\"\n",
              "              title=\"Convert this dataframe to an interactive table.\"\n",
              "              style=\"display:none;\">\n",
              "        \n",
              "  <svg xmlns=\"http://www.w3.org/2000/svg\" height=\"24px\"viewBox=\"0 0 24 24\"\n",
              "       width=\"24px\">\n",
              "    <path d=\"M0 0h24v24H0V0z\" fill=\"none\"/>\n",
              "    <path d=\"M18.56 5.44l.94 2.06.94-2.06 2.06-.94-2.06-.94-.94-2.06-.94 2.06-2.06.94zm-11 1L8.5 8.5l.94-2.06 2.06-.94-2.06-.94L8.5 2.5l-.94 2.06-2.06.94zm10 10l.94 2.06.94-2.06 2.06-.94-2.06-.94-.94-2.06-.94 2.06-2.06.94z\"/><path d=\"M17.41 7.96l-1.37-1.37c-.4-.4-.92-.59-1.43-.59-.52 0-1.04.2-1.43.59L10.3 9.45l-7.72 7.72c-.78.78-.78 2.05 0 2.83L4 21.41c.39.39.9.59 1.41.59.51 0 1.02-.2 1.41-.59l7.78-7.78 2.81-2.81c.8-.78.8-2.07 0-2.86zM5.41 20L4 18.59l7.72-7.72 1.47 1.35L5.41 20z\"/>\n",
              "  </svg>\n",
              "      </button>\n",
              "      \n",
              "  <style>\n",
              "    .colab-df-container {\n",
              "      display:flex;\n",
              "      flex-wrap:wrap;\n",
              "      gap: 12px;\n",
              "    }\n",
              "\n",
              "    .colab-df-convert {\n",
              "      background-color: #E8F0FE;\n",
              "      border: none;\n",
              "      border-radius: 50%;\n",
              "      cursor: pointer;\n",
              "      display: none;\n",
              "      fill: #1967D2;\n",
              "      height: 32px;\n",
              "      padding: 0 0 0 0;\n",
              "      width: 32px;\n",
              "    }\n",
              "\n",
              "    .colab-df-convert:hover {\n",
              "      background-color: #E2EBFA;\n",
              "      box-shadow: 0px 1px 2px rgba(60, 64, 67, 0.3), 0px 1px 3px 1px rgba(60, 64, 67, 0.15);\n",
              "      fill: #174EA6;\n",
              "    }\n",
              "\n",
              "    [theme=dark] .colab-df-convert {\n",
              "      background-color: #3B4455;\n",
              "      fill: #D2E3FC;\n",
              "    }\n",
              "\n",
              "    [theme=dark] .colab-df-convert:hover {\n",
              "      background-color: #434B5C;\n",
              "      box-shadow: 0px 1px 3px 1px rgba(0, 0, 0, 0.15);\n",
              "      filter: drop-shadow(0px 1px 2px rgba(0, 0, 0, 0.3));\n",
              "      fill: #FFFFFF;\n",
              "    }\n",
              "  </style>\n",
              "\n",
              "      <script>\n",
              "        const buttonEl =\n",
              "          document.querySelector('#df-5f04abab-d378-4c4f-a67f-292bd618c753 button.colab-df-convert');\n",
              "        buttonEl.style.display =\n",
              "          google.colab.kernel.accessAllowed ? 'block' : 'none';\n",
              "\n",
              "        async function convertToInteractive(key) {\n",
              "          const element = document.querySelector('#df-5f04abab-d378-4c4f-a67f-292bd618c753');\n",
              "          const dataTable =\n",
              "            await google.colab.kernel.invokeFunction('convertToInteractive',\n",
              "                                                     [key], {});\n",
              "          if (!dataTable) return;\n",
              "\n",
              "          const docLinkHtml = 'Like what you see? Visit the ' +\n",
              "            '<a target=\"_blank\" href=https://colab.research.google.com/notebooks/data_table.ipynb>data table notebook</a>'\n",
              "            + ' to learn more about interactive tables.';\n",
              "          element.innerHTML = '';\n",
              "          dataTable['output_type'] = 'display_data';\n",
              "          await google.colab.output.renderOutput(dataTable, element);\n",
              "          const docLink = document.createElement('div');\n",
              "          docLink.innerHTML = docLinkHtml;\n",
              "          element.appendChild(docLink);\n",
              "        }\n",
              "      </script>\n",
              "    </div>\n",
              "  </div>\n",
              "  "
            ]
          },
          "metadata": {},
          "execution_count": 64
        }
      ]
    },
    {
      "cell_type": "code",
      "source": [
        "AAPL['Volume'] = AAPL_Data.Volume.shift(1).values/1000_000_000"
      ],
      "metadata": {
        "id": "VG07f1TnkvgF"
      },
      "execution_count": null,
      "outputs": []
    },
    {
      "cell_type": "code",
      "source": [
        "AAPL = AAPL.dropna()"
      ],
      "metadata": {
        "id": "azymZGcpk0ks"
      },
      "execution_count": null,
      "outputs": []
    },
    {
      "cell_type": "code",
      "source": [
        "AAPL"
      ],
      "metadata": {
        "colab": {
          "base_uri": "https://localhost:8080/",
          "height": 424
        },
        "id": "ZduS1rXvk3DI",
        "outputId": "e94d15f3-456e-4d6d-cc8b-e719afe724f4"
      },
      "execution_count": null,
      "outputs": [
        {
          "output_type": "execute_result",
          "data": {
            "text/plain": [
              "           Date     Today     Lag 1     Lag 2     Lag 3     Lag 4     Lag 5  \\\n",
              "8    2012-11-14 -1.108911  0.012927 -0.773289  1.731334 -3.629024 -3.826252   \n",
              "9    2012-11-15 -2.097284 -1.108911  0.012927 -0.773289  1.731334 -3.629024   \n",
              "10   2012-11-16  0.391918 -2.097284 -1.108911  0.012927 -0.773289  1.731334   \n",
              "11   2012-11-19  7.210853  0.391918 -2.097284 -1.108911  0.012927 -0.773289   \n",
              "12   2012-11-20 -0.852062  7.210853  0.391918 -2.097284 -1.108911  0.012927   \n",
              "...         ...       ...       ...       ...       ...       ...       ...   \n",
              "2512 2022-10-26 -1.962714  1.933764  1.480265  2.705912 -0.326707  0.076522   \n",
              "2513 2022-10-27 -3.046535 -1.962714  1.933764  1.480265  2.705912 -0.326707   \n",
              "2514 2022-10-28  7.555254 -3.046535 -1.962714  1.933764  1.480265  2.705912   \n",
              "2515 2022-10-31 -1.541040  7.555254 -3.046535 -1.962714  1.933764  1.480265   \n",
              "2516 2022-11-01 -1.754273 -1.541040  7.555254 -3.046535 -1.962714  1.933764   \n",
              "\n",
              "         Lag 6     Lag 7    Volume  \n",
              "8    -0.302776  1.355765  0.532949  \n",
              "9    -3.826252 -0.302776  0.477170  \n",
              "10   -3.629024 -3.826252  0.789911  \n",
              "11    1.731334 -3.629024  1.266894  \n",
              "12   -0.773289  1.731334  0.823318  \n",
              "...        ...       ...       ...  \n",
              "2512  0.940936  2.912274  0.074732  \n",
              "2513  0.076522  0.940936  0.088194  \n",
              "2514 -0.326707  0.076522  0.109180  \n",
              "2515  2.705912 -0.326707  0.164762  \n",
              "2516  1.480265  2.705912  0.097943  \n",
              "\n",
              "[2509 rows x 10 columns]"
            ],
            "text/html": [
              "\n",
              "  <div id=\"df-df6dc7cf-3a1a-4bde-b981-03302b15776a\">\n",
              "    <div class=\"colab-df-container\">\n",
              "      <div>\n",
              "<style scoped>\n",
              "    .dataframe tbody tr th:only-of-type {\n",
              "        vertical-align: middle;\n",
              "    }\n",
              "\n",
              "    .dataframe tbody tr th {\n",
              "        vertical-align: top;\n",
              "    }\n",
              "\n",
              "    .dataframe thead th {\n",
              "        text-align: right;\n",
              "    }\n",
              "</style>\n",
              "<table border=\"1\" class=\"dataframe\">\n",
              "  <thead>\n",
              "    <tr style=\"text-align: right;\">\n",
              "      <th></th>\n",
              "      <th>Date</th>\n",
              "      <th>Today</th>\n",
              "      <th>Lag 1</th>\n",
              "      <th>Lag 2</th>\n",
              "      <th>Lag 3</th>\n",
              "      <th>Lag 4</th>\n",
              "      <th>Lag 5</th>\n",
              "      <th>Lag 6</th>\n",
              "      <th>Lag 7</th>\n",
              "      <th>Volume</th>\n",
              "    </tr>\n",
              "  </thead>\n",
              "  <tbody>\n",
              "    <tr>\n",
              "      <th>8</th>\n",
              "      <td>2012-11-14</td>\n",
              "      <td>-1.108911</td>\n",
              "      <td>0.012927</td>\n",
              "      <td>-0.773289</td>\n",
              "      <td>1.731334</td>\n",
              "      <td>-3.629024</td>\n",
              "      <td>-3.826252</td>\n",
              "      <td>-0.302776</td>\n",
              "      <td>1.355765</td>\n",
              "      <td>0.532949</td>\n",
              "    </tr>\n",
              "    <tr>\n",
              "      <th>9</th>\n",
              "      <td>2012-11-15</td>\n",
              "      <td>-2.097284</td>\n",
              "      <td>-1.108911</td>\n",
              "      <td>0.012927</td>\n",
              "      <td>-0.773289</td>\n",
              "      <td>1.731334</td>\n",
              "      <td>-3.629024</td>\n",
              "      <td>-3.826252</td>\n",
              "      <td>-0.302776</td>\n",
              "      <td>0.477170</td>\n",
              "    </tr>\n",
              "    <tr>\n",
              "      <th>10</th>\n",
              "      <td>2012-11-16</td>\n",
              "      <td>0.391918</td>\n",
              "      <td>-2.097284</td>\n",
              "      <td>-1.108911</td>\n",
              "      <td>0.012927</td>\n",
              "      <td>-0.773289</td>\n",
              "      <td>1.731334</td>\n",
              "      <td>-3.629024</td>\n",
              "      <td>-3.826252</td>\n",
              "      <td>0.789911</td>\n",
              "    </tr>\n",
              "    <tr>\n",
              "      <th>11</th>\n",
              "      <td>2012-11-19</td>\n",
              "      <td>7.210853</td>\n",
              "      <td>0.391918</td>\n",
              "      <td>-2.097284</td>\n",
              "      <td>-1.108911</td>\n",
              "      <td>0.012927</td>\n",
              "      <td>-0.773289</td>\n",
              "      <td>1.731334</td>\n",
              "      <td>-3.629024</td>\n",
              "      <td>1.266894</td>\n",
              "    </tr>\n",
              "    <tr>\n",
              "      <th>12</th>\n",
              "      <td>2012-11-20</td>\n",
              "      <td>-0.852062</td>\n",
              "      <td>7.210853</td>\n",
              "      <td>0.391918</td>\n",
              "      <td>-2.097284</td>\n",
              "      <td>-1.108911</td>\n",
              "      <td>0.012927</td>\n",
              "      <td>-0.773289</td>\n",
              "      <td>1.731334</td>\n",
              "      <td>0.823318</td>\n",
              "    </tr>\n",
              "    <tr>\n",
              "      <th>...</th>\n",
              "      <td>...</td>\n",
              "      <td>...</td>\n",
              "      <td>...</td>\n",
              "      <td>...</td>\n",
              "      <td>...</td>\n",
              "      <td>...</td>\n",
              "      <td>...</td>\n",
              "      <td>...</td>\n",
              "      <td>...</td>\n",
              "      <td>...</td>\n",
              "    </tr>\n",
              "    <tr>\n",
              "      <th>2512</th>\n",
              "      <td>2022-10-26</td>\n",
              "      <td>-1.962714</td>\n",
              "      <td>1.933764</td>\n",
              "      <td>1.480265</td>\n",
              "      <td>2.705912</td>\n",
              "      <td>-0.326707</td>\n",
              "      <td>0.076522</td>\n",
              "      <td>0.940936</td>\n",
              "      <td>2.912274</td>\n",
              "      <td>0.074732</td>\n",
              "    </tr>\n",
              "    <tr>\n",
              "      <th>2513</th>\n",
              "      <td>2022-10-27</td>\n",
              "      <td>-3.046535</td>\n",
              "      <td>-1.962714</td>\n",
              "      <td>1.933764</td>\n",
              "      <td>1.480265</td>\n",
              "      <td>2.705912</td>\n",
              "      <td>-0.326707</td>\n",
              "      <td>0.076522</td>\n",
              "      <td>0.940936</td>\n",
              "      <td>0.088194</td>\n",
              "    </tr>\n",
              "    <tr>\n",
              "      <th>2514</th>\n",
              "      <td>2022-10-28</td>\n",
              "      <td>7.555254</td>\n",
              "      <td>-3.046535</td>\n",
              "      <td>-1.962714</td>\n",
              "      <td>1.933764</td>\n",
              "      <td>1.480265</td>\n",
              "      <td>2.705912</td>\n",
              "      <td>-0.326707</td>\n",
              "      <td>0.076522</td>\n",
              "      <td>0.109180</td>\n",
              "    </tr>\n",
              "    <tr>\n",
              "      <th>2515</th>\n",
              "      <td>2022-10-31</td>\n",
              "      <td>-1.541040</td>\n",
              "      <td>7.555254</td>\n",
              "      <td>-3.046535</td>\n",
              "      <td>-1.962714</td>\n",
              "      <td>1.933764</td>\n",
              "      <td>1.480265</td>\n",
              "      <td>2.705912</td>\n",
              "      <td>-0.326707</td>\n",
              "      <td>0.164762</td>\n",
              "    </tr>\n",
              "    <tr>\n",
              "      <th>2516</th>\n",
              "      <td>2022-11-01</td>\n",
              "      <td>-1.754273</td>\n",
              "      <td>-1.541040</td>\n",
              "      <td>7.555254</td>\n",
              "      <td>-3.046535</td>\n",
              "      <td>-1.962714</td>\n",
              "      <td>1.933764</td>\n",
              "      <td>1.480265</td>\n",
              "      <td>2.705912</td>\n",
              "      <td>0.097943</td>\n",
              "    </tr>\n",
              "  </tbody>\n",
              "</table>\n",
              "<p>2509 rows × 10 columns</p>\n",
              "</div>\n",
              "      <button class=\"colab-df-convert\" onclick=\"convertToInteractive('df-df6dc7cf-3a1a-4bde-b981-03302b15776a')\"\n",
              "              title=\"Convert this dataframe to an interactive table.\"\n",
              "              style=\"display:none;\">\n",
              "        \n",
              "  <svg xmlns=\"http://www.w3.org/2000/svg\" height=\"24px\"viewBox=\"0 0 24 24\"\n",
              "       width=\"24px\">\n",
              "    <path d=\"M0 0h24v24H0V0z\" fill=\"none\"/>\n",
              "    <path d=\"M18.56 5.44l.94 2.06.94-2.06 2.06-.94-2.06-.94-.94-2.06-.94 2.06-2.06.94zm-11 1L8.5 8.5l.94-2.06 2.06-.94-2.06-.94L8.5 2.5l-.94 2.06-2.06.94zm10 10l.94 2.06.94-2.06 2.06-.94-2.06-.94-.94-2.06-.94 2.06-2.06.94z\"/><path d=\"M17.41 7.96l-1.37-1.37c-.4-.4-.92-.59-1.43-.59-.52 0-1.04.2-1.43.59L10.3 9.45l-7.72 7.72c-.78.78-.78 2.05 0 2.83L4 21.41c.39.39.9.59 1.41.59.51 0 1.02-.2 1.41-.59l7.78-7.78 2.81-2.81c.8-.78.8-2.07 0-2.86zM5.41 20L4 18.59l7.72-7.72 1.47 1.35L5.41 20z\"/>\n",
              "  </svg>\n",
              "      </button>\n",
              "      \n",
              "  <style>\n",
              "    .colab-df-container {\n",
              "      display:flex;\n",
              "      flex-wrap:wrap;\n",
              "      gap: 12px;\n",
              "    }\n",
              "\n",
              "    .colab-df-convert {\n",
              "      background-color: #E8F0FE;\n",
              "      border: none;\n",
              "      border-radius: 50%;\n",
              "      cursor: pointer;\n",
              "      display: none;\n",
              "      fill: #1967D2;\n",
              "      height: 32px;\n",
              "      padding: 0 0 0 0;\n",
              "      width: 32px;\n",
              "    }\n",
              "\n",
              "    .colab-df-convert:hover {\n",
              "      background-color: #E2EBFA;\n",
              "      box-shadow: 0px 1px 2px rgba(60, 64, 67, 0.3), 0px 1px 3px 1px rgba(60, 64, 67, 0.15);\n",
              "      fill: #174EA6;\n",
              "    }\n",
              "\n",
              "    [theme=dark] .colab-df-convert {\n",
              "      background-color: #3B4455;\n",
              "      fill: #D2E3FC;\n",
              "    }\n",
              "\n",
              "    [theme=dark] .colab-df-convert:hover {\n",
              "      background-color: #434B5C;\n",
              "      box-shadow: 0px 1px 3px 1px rgba(0, 0, 0, 0.15);\n",
              "      filter: drop-shadow(0px 1px 2px rgba(0, 0, 0, 0.3));\n",
              "      fill: #FFFFFF;\n",
              "    }\n",
              "  </style>\n",
              "\n",
              "      <script>\n",
              "        const buttonEl =\n",
              "          document.querySelector('#df-df6dc7cf-3a1a-4bde-b981-03302b15776a button.colab-df-convert');\n",
              "        buttonEl.style.display =\n",
              "          google.colab.kernel.accessAllowed ? 'block' : 'none';\n",
              "\n",
              "        async function convertToInteractive(key) {\n",
              "          const element = document.querySelector('#df-df6dc7cf-3a1a-4bde-b981-03302b15776a');\n",
              "          const dataTable =\n",
              "            await google.colab.kernel.invokeFunction('convertToInteractive',\n",
              "                                                     [key], {});\n",
              "          if (!dataTable) return;\n",
              "\n",
              "          const docLinkHtml = 'Like what you see? Visit the ' +\n",
              "            '<a target=\"_blank\" href=https://colab.research.google.com/notebooks/data_table.ipynb>data table notebook</a>'\n",
              "            + ' to learn more about interactive tables.';\n",
              "          element.innerHTML = '';\n",
              "          dataTable['output_type'] = 'display_data';\n",
              "          await google.colab.output.renderOutput(dataTable, element);\n",
              "          const docLink = document.createElement('div');\n",
              "          docLink.innerHTML = docLinkHtml;\n",
              "          element.appendChild(docLink);\n",
              "        }\n",
              "      </script>\n",
              "    </div>\n",
              "  </div>\n",
              "  "
            ]
          },
          "metadata": {},
          "execution_count": 67
        }
      ]
    },
    {
      "cell_type": "code",
      "source": [
        "AAPL['Target'] = [1 if i > 0 else 0 for i in AAPL['Today']]"
      ],
      "metadata": {
        "colab": {
          "base_uri": "https://localhost:8080/"
        },
        "id": "81QgAvXEk-Sd",
        "outputId": "18854c81-2fc5-4f18-f0a4-4a98490242fb"
      },
      "execution_count": null,
      "outputs": [
        {
          "output_type": "stream",
          "name": "stderr",
          "text": [
            "<ipython-input-68-3d0be12e19ec>:1: SettingWithCopyWarning: \n",
            "A value is trying to be set on a copy of a slice from a DataFrame.\n",
            "Try using .loc[row_indexer,col_indexer] = value instead\n",
            "\n",
            "See the caveats in the documentation: https://pandas.pydata.org/pandas-docs/stable/user_guide/indexing.html#returning-a-view-versus-a-copy\n",
            "  AAPL['Target'] = [1 if i > 0 else 0 for i in AAPL['Today']]\n"
          ]
        }
      ]
    },
    {
      "cell_type": "code",
      "source": [
        "AAPL"
      ],
      "metadata": {
        "colab": {
          "base_uri": "https://localhost:8080/",
          "height": 424
        },
        "id": "v7yH-5G0lIbg",
        "outputId": "5f00588e-7c87-41b4-c3bf-ecd901962d24"
      },
      "execution_count": null,
      "outputs": [
        {
          "output_type": "execute_result",
          "data": {
            "text/plain": [
              "           Date     Today     Lag 1     Lag 2     Lag 3     Lag 4     Lag 5  \\\n",
              "8    2012-11-14 -1.108911  0.012927 -0.773289  1.731334 -3.629024 -3.826252   \n",
              "9    2012-11-15 -2.097284 -1.108911  0.012927 -0.773289  1.731334 -3.629024   \n",
              "10   2012-11-16  0.391918 -2.097284 -1.108911  0.012927 -0.773289  1.731334   \n",
              "11   2012-11-19  7.210853  0.391918 -2.097284 -1.108911  0.012927 -0.773289   \n",
              "12   2012-11-20 -0.852062  7.210853  0.391918 -2.097284 -1.108911  0.012927   \n",
              "...         ...       ...       ...       ...       ...       ...       ...   \n",
              "2512 2022-10-26 -1.962714  1.933764  1.480265  2.705912 -0.326707  0.076522   \n",
              "2513 2022-10-27 -3.046535 -1.962714  1.933764  1.480265  2.705912 -0.326707   \n",
              "2514 2022-10-28  7.555254 -3.046535 -1.962714  1.933764  1.480265  2.705912   \n",
              "2515 2022-10-31 -1.541040  7.555254 -3.046535 -1.962714  1.933764  1.480265   \n",
              "2516 2022-11-01 -1.754273 -1.541040  7.555254 -3.046535 -1.962714  1.933764   \n",
              "\n",
              "         Lag 6     Lag 7    Volume  Target  \n",
              "8    -0.302776  1.355765  0.532949       0  \n",
              "9    -3.826252 -0.302776  0.477170       0  \n",
              "10   -3.629024 -3.826252  0.789911       1  \n",
              "11    1.731334 -3.629024  1.266894       1  \n",
              "12   -0.773289  1.731334  0.823318       0  \n",
              "...        ...       ...       ...     ...  \n",
              "2512  0.940936  2.912274  0.074732       0  \n",
              "2513  0.076522  0.940936  0.088194       0  \n",
              "2514 -0.326707  0.076522  0.109180       1  \n",
              "2515  2.705912 -0.326707  0.164762       0  \n",
              "2516  1.480265  2.705912  0.097943       0  \n",
              "\n",
              "[2509 rows x 11 columns]"
            ],
            "text/html": [
              "\n",
              "  <div id=\"df-9b7c828a-f4ef-4e6a-b716-fa7838548f92\">\n",
              "    <div class=\"colab-df-container\">\n",
              "      <div>\n",
              "<style scoped>\n",
              "    .dataframe tbody tr th:only-of-type {\n",
              "        vertical-align: middle;\n",
              "    }\n",
              "\n",
              "    .dataframe tbody tr th {\n",
              "        vertical-align: top;\n",
              "    }\n",
              "\n",
              "    .dataframe thead th {\n",
              "        text-align: right;\n",
              "    }\n",
              "</style>\n",
              "<table border=\"1\" class=\"dataframe\">\n",
              "  <thead>\n",
              "    <tr style=\"text-align: right;\">\n",
              "      <th></th>\n",
              "      <th>Date</th>\n",
              "      <th>Today</th>\n",
              "      <th>Lag 1</th>\n",
              "      <th>Lag 2</th>\n",
              "      <th>Lag 3</th>\n",
              "      <th>Lag 4</th>\n",
              "      <th>Lag 5</th>\n",
              "      <th>Lag 6</th>\n",
              "      <th>Lag 7</th>\n",
              "      <th>Volume</th>\n",
              "      <th>Target</th>\n",
              "    </tr>\n",
              "  </thead>\n",
              "  <tbody>\n",
              "    <tr>\n",
              "      <th>8</th>\n",
              "      <td>2012-11-14</td>\n",
              "      <td>-1.108911</td>\n",
              "      <td>0.012927</td>\n",
              "      <td>-0.773289</td>\n",
              "      <td>1.731334</td>\n",
              "      <td>-3.629024</td>\n",
              "      <td>-3.826252</td>\n",
              "      <td>-0.302776</td>\n",
              "      <td>1.355765</td>\n",
              "      <td>0.532949</td>\n",
              "      <td>0</td>\n",
              "    </tr>\n",
              "    <tr>\n",
              "      <th>9</th>\n",
              "      <td>2012-11-15</td>\n",
              "      <td>-2.097284</td>\n",
              "      <td>-1.108911</td>\n",
              "      <td>0.012927</td>\n",
              "      <td>-0.773289</td>\n",
              "      <td>1.731334</td>\n",
              "      <td>-3.629024</td>\n",
              "      <td>-3.826252</td>\n",
              "      <td>-0.302776</td>\n",
              "      <td>0.477170</td>\n",
              "      <td>0</td>\n",
              "    </tr>\n",
              "    <tr>\n",
              "      <th>10</th>\n",
              "      <td>2012-11-16</td>\n",
              "      <td>0.391918</td>\n",
              "      <td>-2.097284</td>\n",
              "      <td>-1.108911</td>\n",
              "      <td>0.012927</td>\n",
              "      <td>-0.773289</td>\n",
              "      <td>1.731334</td>\n",
              "      <td>-3.629024</td>\n",
              "      <td>-3.826252</td>\n",
              "      <td>0.789911</td>\n",
              "      <td>1</td>\n",
              "    </tr>\n",
              "    <tr>\n",
              "      <th>11</th>\n",
              "      <td>2012-11-19</td>\n",
              "      <td>7.210853</td>\n",
              "      <td>0.391918</td>\n",
              "      <td>-2.097284</td>\n",
              "      <td>-1.108911</td>\n",
              "      <td>0.012927</td>\n",
              "      <td>-0.773289</td>\n",
              "      <td>1.731334</td>\n",
              "      <td>-3.629024</td>\n",
              "      <td>1.266894</td>\n",
              "      <td>1</td>\n",
              "    </tr>\n",
              "    <tr>\n",
              "      <th>12</th>\n",
              "      <td>2012-11-20</td>\n",
              "      <td>-0.852062</td>\n",
              "      <td>7.210853</td>\n",
              "      <td>0.391918</td>\n",
              "      <td>-2.097284</td>\n",
              "      <td>-1.108911</td>\n",
              "      <td>0.012927</td>\n",
              "      <td>-0.773289</td>\n",
              "      <td>1.731334</td>\n",
              "      <td>0.823318</td>\n",
              "      <td>0</td>\n",
              "    </tr>\n",
              "    <tr>\n",
              "      <th>...</th>\n",
              "      <td>...</td>\n",
              "      <td>...</td>\n",
              "      <td>...</td>\n",
              "      <td>...</td>\n",
              "      <td>...</td>\n",
              "      <td>...</td>\n",
              "      <td>...</td>\n",
              "      <td>...</td>\n",
              "      <td>...</td>\n",
              "      <td>...</td>\n",
              "      <td>...</td>\n",
              "    </tr>\n",
              "    <tr>\n",
              "      <th>2512</th>\n",
              "      <td>2022-10-26</td>\n",
              "      <td>-1.962714</td>\n",
              "      <td>1.933764</td>\n",
              "      <td>1.480265</td>\n",
              "      <td>2.705912</td>\n",
              "      <td>-0.326707</td>\n",
              "      <td>0.076522</td>\n",
              "      <td>0.940936</td>\n",
              "      <td>2.912274</td>\n",
              "      <td>0.074732</td>\n",
              "      <td>0</td>\n",
              "    </tr>\n",
              "    <tr>\n",
              "      <th>2513</th>\n",
              "      <td>2022-10-27</td>\n",
              "      <td>-3.046535</td>\n",
              "      <td>-1.962714</td>\n",
              "      <td>1.933764</td>\n",
              "      <td>1.480265</td>\n",
              "      <td>2.705912</td>\n",
              "      <td>-0.326707</td>\n",
              "      <td>0.076522</td>\n",
              "      <td>0.940936</td>\n",
              "      <td>0.088194</td>\n",
              "      <td>0</td>\n",
              "    </tr>\n",
              "    <tr>\n",
              "      <th>2514</th>\n",
              "      <td>2022-10-28</td>\n",
              "      <td>7.555254</td>\n",
              "      <td>-3.046535</td>\n",
              "      <td>-1.962714</td>\n",
              "      <td>1.933764</td>\n",
              "      <td>1.480265</td>\n",
              "      <td>2.705912</td>\n",
              "      <td>-0.326707</td>\n",
              "      <td>0.076522</td>\n",
              "      <td>0.109180</td>\n",
              "      <td>1</td>\n",
              "    </tr>\n",
              "    <tr>\n",
              "      <th>2515</th>\n",
              "      <td>2022-10-31</td>\n",
              "      <td>-1.541040</td>\n",
              "      <td>7.555254</td>\n",
              "      <td>-3.046535</td>\n",
              "      <td>-1.962714</td>\n",
              "      <td>1.933764</td>\n",
              "      <td>1.480265</td>\n",
              "      <td>2.705912</td>\n",
              "      <td>-0.326707</td>\n",
              "      <td>0.164762</td>\n",
              "      <td>0</td>\n",
              "    </tr>\n",
              "    <tr>\n",
              "      <th>2516</th>\n",
              "      <td>2022-11-01</td>\n",
              "      <td>-1.754273</td>\n",
              "      <td>-1.541040</td>\n",
              "      <td>7.555254</td>\n",
              "      <td>-3.046535</td>\n",
              "      <td>-1.962714</td>\n",
              "      <td>1.933764</td>\n",
              "      <td>1.480265</td>\n",
              "      <td>2.705912</td>\n",
              "      <td>0.097943</td>\n",
              "      <td>0</td>\n",
              "    </tr>\n",
              "  </tbody>\n",
              "</table>\n",
              "<p>2509 rows × 11 columns</p>\n",
              "</div>\n",
              "      <button class=\"colab-df-convert\" onclick=\"convertToInteractive('df-9b7c828a-f4ef-4e6a-b716-fa7838548f92')\"\n",
              "              title=\"Convert this dataframe to an interactive table.\"\n",
              "              style=\"display:none;\">\n",
              "        \n",
              "  <svg xmlns=\"http://www.w3.org/2000/svg\" height=\"24px\"viewBox=\"0 0 24 24\"\n",
              "       width=\"24px\">\n",
              "    <path d=\"M0 0h24v24H0V0z\" fill=\"none\"/>\n",
              "    <path d=\"M18.56 5.44l.94 2.06.94-2.06 2.06-.94-2.06-.94-.94-2.06-.94 2.06-2.06.94zm-11 1L8.5 8.5l.94-2.06 2.06-.94-2.06-.94L8.5 2.5l-.94 2.06-2.06.94zm10 10l.94 2.06.94-2.06 2.06-.94-2.06-.94-.94-2.06-.94 2.06-2.06.94z\"/><path d=\"M17.41 7.96l-1.37-1.37c-.4-.4-.92-.59-1.43-.59-.52 0-1.04.2-1.43.59L10.3 9.45l-7.72 7.72c-.78.78-.78 2.05 0 2.83L4 21.41c.39.39.9.59 1.41.59.51 0 1.02-.2 1.41-.59l7.78-7.78 2.81-2.81c.8-.78.8-2.07 0-2.86zM5.41 20L4 18.59l7.72-7.72 1.47 1.35L5.41 20z\"/>\n",
              "  </svg>\n",
              "      </button>\n",
              "      \n",
              "  <style>\n",
              "    .colab-df-container {\n",
              "      display:flex;\n",
              "      flex-wrap:wrap;\n",
              "      gap: 12px;\n",
              "    }\n",
              "\n",
              "    .colab-df-convert {\n",
              "      background-color: #E8F0FE;\n",
              "      border: none;\n",
              "      border-radius: 50%;\n",
              "      cursor: pointer;\n",
              "      display: none;\n",
              "      fill: #1967D2;\n",
              "      height: 32px;\n",
              "      padding: 0 0 0 0;\n",
              "      width: 32px;\n",
              "    }\n",
              "\n",
              "    .colab-df-convert:hover {\n",
              "      background-color: #E2EBFA;\n",
              "      box-shadow: 0px 1px 2px rgba(60, 64, 67, 0.3), 0px 1px 3px 1px rgba(60, 64, 67, 0.15);\n",
              "      fill: #174EA6;\n",
              "    }\n",
              "\n",
              "    [theme=dark] .colab-df-convert {\n",
              "      background-color: #3B4455;\n",
              "      fill: #D2E3FC;\n",
              "    }\n",
              "\n",
              "    [theme=dark] .colab-df-convert:hover {\n",
              "      background-color: #434B5C;\n",
              "      box-shadow: 0px 1px 3px 1px rgba(0, 0, 0, 0.15);\n",
              "      filter: drop-shadow(0px 1px 2px rgba(0, 0, 0, 0.3));\n",
              "      fill: #FFFFFF;\n",
              "    }\n",
              "  </style>\n",
              "\n",
              "      <script>\n",
              "        const buttonEl =\n",
              "          document.querySelector('#df-9b7c828a-f4ef-4e6a-b716-fa7838548f92 button.colab-df-convert');\n",
              "        buttonEl.style.display =\n",
              "          google.colab.kernel.accessAllowed ? 'block' : 'none';\n",
              "\n",
              "        async function convertToInteractive(key) {\n",
              "          const element = document.querySelector('#df-9b7c828a-f4ef-4e6a-b716-fa7838548f92');\n",
              "          const dataTable =\n",
              "            await google.colab.kernel.invokeFunction('convertToInteractive',\n",
              "                                                     [key], {});\n",
              "          if (!dataTable) return;\n",
              "\n",
              "          const docLinkHtml = 'Like what you see? Visit the ' +\n",
              "            '<a target=\"_blank\" href=https://colab.research.google.com/notebooks/data_table.ipynb>data table notebook</a>'\n",
              "            + ' to learn more about interactive tables.';\n",
              "          element.innerHTML = '';\n",
              "          dataTable['output_type'] = 'display_data';\n",
              "          await google.colab.output.renderOutput(dataTable, element);\n",
              "          const docLink = document.createElement('div');\n",
              "          docLink.innerHTML = docLinkHtml;\n",
              "          element.appendChild(docLink);\n",
              "        }\n",
              "      </script>\n",
              "    </div>\n",
              "  </div>\n",
              "  "
            ]
          },
          "metadata": {},
          "execution_count": 69
        }
      ]
    },
    {
      "cell_type": "code",
      "source": [
        "AAPL = sm.add_constant(AAPL)"
      ],
      "metadata": {
        "colab": {
          "base_uri": "https://localhost:8080/"
        },
        "id": "CRnqGObxlP6O",
        "outputId": "084cd792-600c-4271-a849-ba3142e65d18"
      },
      "execution_count": null,
      "outputs": [
        {
          "output_type": "stream",
          "name": "stderr",
          "text": [
            "/usr/local/lib/python3.8/dist-packages/statsmodels/tsa/tsatools.py:142: FutureWarning: In a future version of pandas all arguments of concat except for the argument 'objs' will be keyword-only\n",
            "  x = pd.concat(x[::order], 1)\n"
          ]
        }
      ]
    },
    {
      "cell_type": "code",
      "source": [
        "AAPL"
      ],
      "metadata": {
        "colab": {
          "base_uri": "https://localhost:8080/",
          "height": 468
        },
        "id": "ZMkad5b5lUnS",
        "outputId": "4aceb7dd-cc93-417a-b617-02573ccab5ce"
      },
      "execution_count": null,
      "outputs": [
        {
          "output_type": "execute_result",
          "data": {
            "text/plain": [
              "      const       Date     Today     Lag 1     Lag 2     Lag 3     Lag 4  \\\n",
              "8       1.0 2012-11-14 -1.108911  0.012927 -0.773289  1.731334 -3.629024   \n",
              "9       1.0 2012-11-15 -2.097284 -1.108911  0.012927 -0.773289  1.731334   \n",
              "10      1.0 2012-11-16  0.391918 -2.097284 -1.108911  0.012927 -0.773289   \n",
              "11      1.0 2012-11-19  7.210853  0.391918 -2.097284 -1.108911  0.012927   \n",
              "12      1.0 2012-11-20 -0.852062  7.210853  0.391918 -2.097284 -1.108911   \n",
              "...     ...        ...       ...       ...       ...       ...       ...   \n",
              "2512    1.0 2022-10-26 -1.962714  1.933764  1.480265  2.705912 -0.326707   \n",
              "2513    1.0 2022-10-27 -3.046535 -1.962714  1.933764  1.480265  2.705912   \n",
              "2514    1.0 2022-10-28  7.555254 -3.046535 -1.962714  1.933764  1.480265   \n",
              "2515    1.0 2022-10-31 -1.541040  7.555254 -3.046535 -1.962714  1.933764   \n",
              "2516    1.0 2022-11-01 -1.754273 -1.541040  7.555254 -3.046535 -1.962714   \n",
              "\n",
              "         Lag 5     Lag 6     Lag 7    Volume  Target  \n",
              "8    -3.826252 -0.302776  1.355765  0.532949       0  \n",
              "9    -3.629024 -3.826252 -0.302776  0.477170       0  \n",
              "10    1.731334 -3.629024 -3.826252  0.789911       1  \n",
              "11   -0.773289  1.731334 -3.629024  1.266894       1  \n",
              "12    0.012927 -0.773289  1.731334  0.823318       0  \n",
              "...        ...       ...       ...       ...     ...  \n",
              "2512  0.076522  0.940936  2.912274  0.074732       0  \n",
              "2513 -0.326707  0.076522  0.940936  0.088194       0  \n",
              "2514  2.705912 -0.326707  0.076522  0.109180       1  \n",
              "2515  1.480265  2.705912 -0.326707  0.164762       0  \n",
              "2516  1.933764  1.480265  2.705912  0.097943       0  \n",
              "\n",
              "[2509 rows x 12 columns]"
            ],
            "text/html": [
              "\n",
              "  <div id=\"df-5a345941-6dba-46fb-a041-1e8c06aef399\">\n",
              "    <div class=\"colab-df-container\">\n",
              "      <div>\n",
              "<style scoped>\n",
              "    .dataframe tbody tr th:only-of-type {\n",
              "        vertical-align: middle;\n",
              "    }\n",
              "\n",
              "    .dataframe tbody tr th {\n",
              "        vertical-align: top;\n",
              "    }\n",
              "\n",
              "    .dataframe thead th {\n",
              "        text-align: right;\n",
              "    }\n",
              "</style>\n",
              "<table border=\"1\" class=\"dataframe\">\n",
              "  <thead>\n",
              "    <tr style=\"text-align: right;\">\n",
              "      <th></th>\n",
              "      <th>const</th>\n",
              "      <th>Date</th>\n",
              "      <th>Today</th>\n",
              "      <th>Lag 1</th>\n",
              "      <th>Lag 2</th>\n",
              "      <th>Lag 3</th>\n",
              "      <th>Lag 4</th>\n",
              "      <th>Lag 5</th>\n",
              "      <th>Lag 6</th>\n",
              "      <th>Lag 7</th>\n",
              "      <th>Volume</th>\n",
              "      <th>Target</th>\n",
              "    </tr>\n",
              "  </thead>\n",
              "  <tbody>\n",
              "    <tr>\n",
              "      <th>8</th>\n",
              "      <td>1.0</td>\n",
              "      <td>2012-11-14</td>\n",
              "      <td>-1.108911</td>\n",
              "      <td>0.012927</td>\n",
              "      <td>-0.773289</td>\n",
              "      <td>1.731334</td>\n",
              "      <td>-3.629024</td>\n",
              "      <td>-3.826252</td>\n",
              "      <td>-0.302776</td>\n",
              "      <td>1.355765</td>\n",
              "      <td>0.532949</td>\n",
              "      <td>0</td>\n",
              "    </tr>\n",
              "    <tr>\n",
              "      <th>9</th>\n",
              "      <td>1.0</td>\n",
              "      <td>2012-11-15</td>\n",
              "      <td>-2.097284</td>\n",
              "      <td>-1.108911</td>\n",
              "      <td>0.012927</td>\n",
              "      <td>-0.773289</td>\n",
              "      <td>1.731334</td>\n",
              "      <td>-3.629024</td>\n",
              "      <td>-3.826252</td>\n",
              "      <td>-0.302776</td>\n",
              "      <td>0.477170</td>\n",
              "      <td>0</td>\n",
              "    </tr>\n",
              "    <tr>\n",
              "      <th>10</th>\n",
              "      <td>1.0</td>\n",
              "      <td>2012-11-16</td>\n",
              "      <td>0.391918</td>\n",
              "      <td>-2.097284</td>\n",
              "      <td>-1.108911</td>\n",
              "      <td>0.012927</td>\n",
              "      <td>-0.773289</td>\n",
              "      <td>1.731334</td>\n",
              "      <td>-3.629024</td>\n",
              "      <td>-3.826252</td>\n",
              "      <td>0.789911</td>\n",
              "      <td>1</td>\n",
              "    </tr>\n",
              "    <tr>\n",
              "      <th>11</th>\n",
              "      <td>1.0</td>\n",
              "      <td>2012-11-19</td>\n",
              "      <td>7.210853</td>\n",
              "      <td>0.391918</td>\n",
              "      <td>-2.097284</td>\n",
              "      <td>-1.108911</td>\n",
              "      <td>0.012927</td>\n",
              "      <td>-0.773289</td>\n",
              "      <td>1.731334</td>\n",
              "      <td>-3.629024</td>\n",
              "      <td>1.266894</td>\n",
              "      <td>1</td>\n",
              "    </tr>\n",
              "    <tr>\n",
              "      <th>12</th>\n",
              "      <td>1.0</td>\n",
              "      <td>2012-11-20</td>\n",
              "      <td>-0.852062</td>\n",
              "      <td>7.210853</td>\n",
              "      <td>0.391918</td>\n",
              "      <td>-2.097284</td>\n",
              "      <td>-1.108911</td>\n",
              "      <td>0.012927</td>\n",
              "      <td>-0.773289</td>\n",
              "      <td>1.731334</td>\n",
              "      <td>0.823318</td>\n",
              "      <td>0</td>\n",
              "    </tr>\n",
              "    <tr>\n",
              "      <th>...</th>\n",
              "      <td>...</td>\n",
              "      <td>...</td>\n",
              "      <td>...</td>\n",
              "      <td>...</td>\n",
              "      <td>...</td>\n",
              "      <td>...</td>\n",
              "      <td>...</td>\n",
              "      <td>...</td>\n",
              "      <td>...</td>\n",
              "      <td>...</td>\n",
              "      <td>...</td>\n",
              "      <td>...</td>\n",
              "    </tr>\n",
              "    <tr>\n",
              "      <th>2512</th>\n",
              "      <td>1.0</td>\n",
              "      <td>2022-10-26</td>\n",
              "      <td>-1.962714</td>\n",
              "      <td>1.933764</td>\n",
              "      <td>1.480265</td>\n",
              "      <td>2.705912</td>\n",
              "      <td>-0.326707</td>\n",
              "      <td>0.076522</td>\n",
              "      <td>0.940936</td>\n",
              "      <td>2.912274</td>\n",
              "      <td>0.074732</td>\n",
              "      <td>0</td>\n",
              "    </tr>\n",
              "    <tr>\n",
              "      <th>2513</th>\n",
              "      <td>1.0</td>\n",
              "      <td>2022-10-27</td>\n",
              "      <td>-3.046535</td>\n",
              "      <td>-1.962714</td>\n",
              "      <td>1.933764</td>\n",
              "      <td>1.480265</td>\n",
              "      <td>2.705912</td>\n",
              "      <td>-0.326707</td>\n",
              "      <td>0.076522</td>\n",
              "      <td>0.940936</td>\n",
              "      <td>0.088194</td>\n",
              "      <td>0</td>\n",
              "    </tr>\n",
              "    <tr>\n",
              "      <th>2514</th>\n",
              "      <td>1.0</td>\n",
              "      <td>2022-10-28</td>\n",
              "      <td>7.555254</td>\n",
              "      <td>-3.046535</td>\n",
              "      <td>-1.962714</td>\n",
              "      <td>1.933764</td>\n",
              "      <td>1.480265</td>\n",
              "      <td>2.705912</td>\n",
              "      <td>-0.326707</td>\n",
              "      <td>0.076522</td>\n",
              "      <td>0.109180</td>\n",
              "      <td>1</td>\n",
              "    </tr>\n",
              "    <tr>\n",
              "      <th>2515</th>\n",
              "      <td>1.0</td>\n",
              "      <td>2022-10-31</td>\n",
              "      <td>-1.541040</td>\n",
              "      <td>7.555254</td>\n",
              "      <td>-3.046535</td>\n",
              "      <td>-1.962714</td>\n",
              "      <td>1.933764</td>\n",
              "      <td>1.480265</td>\n",
              "      <td>2.705912</td>\n",
              "      <td>-0.326707</td>\n",
              "      <td>0.164762</td>\n",
              "      <td>0</td>\n",
              "    </tr>\n",
              "    <tr>\n",
              "      <th>2516</th>\n",
              "      <td>1.0</td>\n",
              "      <td>2022-11-01</td>\n",
              "      <td>-1.754273</td>\n",
              "      <td>-1.541040</td>\n",
              "      <td>7.555254</td>\n",
              "      <td>-3.046535</td>\n",
              "      <td>-1.962714</td>\n",
              "      <td>1.933764</td>\n",
              "      <td>1.480265</td>\n",
              "      <td>2.705912</td>\n",
              "      <td>0.097943</td>\n",
              "      <td>0</td>\n",
              "    </tr>\n",
              "  </tbody>\n",
              "</table>\n",
              "<p>2509 rows × 12 columns</p>\n",
              "</div>\n",
              "      <button class=\"colab-df-convert\" onclick=\"convertToInteractive('df-5a345941-6dba-46fb-a041-1e8c06aef399')\"\n",
              "              title=\"Convert this dataframe to an interactive table.\"\n",
              "              style=\"display:none;\">\n",
              "        \n",
              "  <svg xmlns=\"http://www.w3.org/2000/svg\" height=\"24px\"viewBox=\"0 0 24 24\"\n",
              "       width=\"24px\">\n",
              "    <path d=\"M0 0h24v24H0V0z\" fill=\"none\"/>\n",
              "    <path d=\"M18.56 5.44l.94 2.06.94-2.06 2.06-.94-2.06-.94-.94-2.06-.94 2.06-2.06.94zm-11 1L8.5 8.5l.94-2.06 2.06-.94-2.06-.94L8.5 2.5l-.94 2.06-2.06.94zm10 10l.94 2.06.94-2.06 2.06-.94-2.06-.94-.94-2.06-.94 2.06-2.06.94z\"/><path d=\"M17.41 7.96l-1.37-1.37c-.4-.4-.92-.59-1.43-.59-.52 0-1.04.2-1.43.59L10.3 9.45l-7.72 7.72c-.78.78-.78 2.05 0 2.83L4 21.41c.39.39.9.59 1.41.59.51 0 1.02-.2 1.41-.59l7.78-7.78 2.81-2.81c.8-.78.8-2.07 0-2.86zM5.41 20L4 18.59l7.72-7.72 1.47 1.35L5.41 20z\"/>\n",
              "  </svg>\n",
              "      </button>\n",
              "      \n",
              "  <style>\n",
              "    .colab-df-container {\n",
              "      display:flex;\n",
              "      flex-wrap:wrap;\n",
              "      gap: 12px;\n",
              "    }\n",
              "\n",
              "    .colab-df-convert {\n",
              "      background-color: #E8F0FE;\n",
              "      border: none;\n",
              "      border-radius: 50%;\n",
              "      cursor: pointer;\n",
              "      display: none;\n",
              "      fill: #1967D2;\n",
              "      height: 32px;\n",
              "      padding: 0 0 0 0;\n",
              "      width: 32px;\n",
              "    }\n",
              "\n",
              "    .colab-df-convert:hover {\n",
              "      background-color: #E2EBFA;\n",
              "      box-shadow: 0px 1px 2px rgba(60, 64, 67, 0.3), 0px 1px 3px 1px rgba(60, 64, 67, 0.15);\n",
              "      fill: #174EA6;\n",
              "    }\n",
              "\n",
              "    [theme=dark] .colab-df-convert {\n",
              "      background-color: #3B4455;\n",
              "      fill: #D2E3FC;\n",
              "    }\n",
              "\n",
              "    [theme=dark] .colab-df-convert:hover {\n",
              "      background-color: #434B5C;\n",
              "      box-shadow: 0px 1px 3px 1px rgba(0, 0, 0, 0.15);\n",
              "      filter: drop-shadow(0px 1px 2px rgba(0, 0, 0, 0.3));\n",
              "      fill: #FFFFFF;\n",
              "    }\n",
              "  </style>\n",
              "\n",
              "      <script>\n",
              "        const buttonEl =\n",
              "          document.querySelector('#df-5a345941-6dba-46fb-a041-1e8c06aef399 button.colab-df-convert');\n",
              "        buttonEl.style.display =\n",
              "          google.colab.kernel.accessAllowed ? 'block' : 'none';\n",
              "\n",
              "        async function convertToInteractive(key) {\n",
              "          const element = document.querySelector('#df-5a345941-6dba-46fb-a041-1e8c06aef399');\n",
              "          const dataTable =\n",
              "            await google.colab.kernel.invokeFunction('convertToInteractive',\n",
              "                                                     [key], {});\n",
              "          if (!dataTable) return;\n",
              "\n",
              "          const docLinkHtml = 'Like what you see? Visit the ' +\n",
              "            '<a target=\"_blank\" href=https://colab.research.google.com/notebooks/data_table.ipynb>data table notebook</a>'\n",
              "            + ' to learn more about interactive tables.';\n",
              "          element.innerHTML = '';\n",
              "          dataTable['output_type'] = 'display_data';\n",
              "          await google.colab.output.renderOutput(dataTable, element);\n",
              "          const docLink = document.createElement('div');\n",
              "          docLink.innerHTML = docLinkHtml;\n",
              "          element.appendChild(docLink);\n",
              "        }\n",
              "      </script>\n",
              "    </div>\n",
              "  </div>\n",
              "  "
            ]
          },
          "metadata": {},
          "execution_count": 71
        }
      ]
    },
    {
      "cell_type": "markdown",
      "source": [
        "##Train mô hình"
      ],
      "metadata": {
        "id": "9-IdLdh9_6CG"
      }
    },
    {
      "cell_type": "code",
      "source": [
        "X2 = AAPL[['const', 'Lag 1', 'Lag 2', 'Lag 3', 'Lag 4', 'Lag 5', 'Lag 6', 'Lag 7', 'Volume']]"
      ],
      "metadata": {
        "id": "m0yVU2FflYz4"
      },
      "execution_count": null,
      "outputs": []
    },
    {
      "cell_type": "code",
      "source": [
        "y2 = AAPL.Target"
      ],
      "metadata": {
        "id": "f7735aw6ljow"
      },
      "execution_count": null,
      "outputs": []
    },
    {
      "cell_type": "code",
      "source": [
        "def confusion_matrix(act,pred):\n",
        "  predtrans = ['Up' if i > 0.5 else \"Down\" for i in pred]\n",
        "  actuals = ['Up' if i > 0 else \"Dowm\" for i in act]\n",
        "  confusion_matrix = pd.crosstab(pd.Series(actuals),\n",
        "                                 pd.Series(predtrans),\n",
        "                                 rownames=['Actual'],\n",
        "                                 colnames=['Predict'])\n",
        "  return  "
      ],
      "metadata": {
        "id": "-aVdys5olmsA"
      },
      "execution_count": null,
      "outputs": []
    },
    {
      "cell_type": "markdown",
      "source": [
        "chia tap du lieu"
      ],
      "metadata": {
        "id": "udfT9-4alw27"
      }
    },
    {
      "cell_type": "code",
      "source": [
        "X2_train = AAPL[AAPL.Date.dt.year < 2022][['const', 'Lag 1', 'Lag 2', 'Lag 3', 'Lag 4', 'Lag 5', 'Lag 6', 'Lag 7', 'Volume']] #nếu lấy 4 lag thì độ chính xác cao nhất\n",
        "y2_train = AAPL[AAPL.Date.dt.year < 2022]['Target']\n",
        "X2_test = AAPL[AAPL.Date.dt.year == 2022][['const', 'Lag 1', 'Lag 2', 'Lag 7', 'Lag 4', 'Lag 5', 'Lag 6', 'Lag 7', 'Volume']]\n",
        "y2_test = AAPL[AAPL.Date.dt.year == 2022]['Target']"
      ],
      "metadata": {
        "id": "oGRDjNe8l0Pp"
      },
      "execution_count": null,
      "outputs": []
    },
    {
      "cell_type": "code",
      "source": [
        "model2 = sm.Logit(y2_train, X2_train)"
      ],
      "metadata": {
        "id": "ECwyOAsDmCT8"
      },
      "execution_count": null,
      "outputs": []
    },
    {
      "cell_type": "code",
      "source": [
        "result2 = model2.fit()"
      ],
      "metadata": {
        "colab": {
          "base_uri": "https://localhost:8080/"
        },
        "id": "gByoKKbImU8p",
        "outputId": "daf729b7-43d3-4e82-a0d5-8706d33c6fc6"
      },
      "execution_count": null,
      "outputs": [
        {
          "output_type": "stream",
          "name": "stdout",
          "text": [
            "Optimization terminated successfully.\n",
            "         Current function value: 0.687797\n",
            "         Iterations 4\n"
          ]
        }
      ]
    },
    {
      "cell_type": "code",
      "source": [
        "prediction2 = result2.predict(X2_test)"
      ],
      "metadata": {
        "id": "FawwjQ_GmZlF"
      },
      "execution_count": null,
      "outputs": []
    },
    {
      "cell_type": "markdown",
      "source": [
        "##Độ chính xác của mô hình"
      ],
      "metadata": {
        "id": "OHuCt7LE_-Kd"
      }
    },
    {
      "cell_type": "code",
      "source": [
        "confusion_matrix(y2_test,prediction2)"
      ],
      "metadata": {
        "id": "zFXbPxLCmeAD"
      },
      "execution_count": null,
      "outputs": []
    },
    {
      "cell_type": "code",
      "source": [
        "71/(71+30)"
      ],
      "metadata": {
        "colab": {
          "base_uri": "https://localhost:8080/"
        },
        "id": "BeoiNQ0FmjSI",
        "outputId": "08eceb4e-0777-4567-f1a2-b371d6e4b4e7"
      },
      "execution_count": null,
      "outputs": [
        {
          "output_type": "execute_result",
          "data": {
            "text/plain": [
              "0.7029702970297029"
            ]
          },
          "metadata": {},
          "execution_count": 80
        }
      ]
    },
    {
      "cell_type": "markdown",
      "source": [
        "#KNN"
      ],
      "metadata": {
        "id": "K1hoTWA3mYFo"
      }
    },
    {
      "cell_type": "markdown",
      "source": [
        "#Microsoft"
      ],
      "metadata": {
        "id": "a2xEIVgamrlb"
      }
    },
    {
      "cell_type": "code",
      "source": [
        "from sklearn.neighbors import KNeighborsClassifier\n",
        "knn_model = KNeighborsClassifier(n_neighbors = 5, metric = 'minkowski', p = 2)\n",
        "knn_model.fit(X_train, y_train)"
      ],
      "metadata": {
        "colab": {
          "base_uri": "https://localhost:8080/"
        },
        "id": "zyxN7T9whUU1",
        "outputId": "2ce43f1a-68dd-4a2d-f64f-1349e16fced6"
      },
      "execution_count": null,
      "outputs": [
        {
          "output_type": "execute_result",
          "data": {
            "text/plain": [
              "KNeighborsClassifier()"
            ]
          },
          "metadata": {},
          "execution_count": 81
        }
      ]
    },
    {
      "cell_type": "code",
      "source": [
        "y_pred = knn_model.predict(X_test)"
      ],
      "metadata": {
        "id": "DQWmPN42i-m4"
      },
      "execution_count": null,
      "outputs": []
    },
    {
      "cell_type": "code",
      "source": [
        "from sklearn.metrics import confusion_matrix,accuracy_score\n",
        "cm = confusion_matrix(y_test, y_pred)\n",
        "ac = accuracy_score(y_test,y_pred)"
      ],
      "metadata": {
        "id": "G7bCvc3ijQY2"
      },
      "execution_count": null,
      "outputs": []
    },
    {
      "cell_type": "code",
      "source": [
        "confusion_matrix(y_test,y_pred)"
      ],
      "metadata": {
        "colab": {
          "base_uri": "https://localhost:8080/"
        },
        "id": "Peh5w3z3jqq7",
        "outputId": "87610373-9823-473a-94cc-501e4930ed98"
      },
      "execution_count": null,
      "outputs": [
        {
          "output_type": "execute_result",
          "data": {
            "text/plain": [
              "array([[48, 66],\n",
              "       [45, 51]])"
            ]
          },
          "metadata": {},
          "execution_count": 84
        }
      ]
    },
    {
      "cell_type": "code",
      "source": [
        "m = precision_score(y_test, y_pred)"
      ],
      "metadata": {
        "id": "OAYwhWgtlokb"
      },
      "execution_count": null,
      "outputs": []
    },
    {
      "cell_type": "code",
      "source": [
        "precision_score(y_test, y_pred)"
      ],
      "metadata": {
        "id": "05xrliPz-V6K",
        "colab": {
          "base_uri": "https://localhost:8080/"
        },
        "outputId": "e906ca42-c2a9-4fe9-dc44-57103bae6c78"
      },
      "execution_count": null,
      "outputs": [
        {
          "output_type": "execute_result",
          "data": {
            "text/plain": [
              "0.4358974358974359"
            ]
          },
          "metadata": {},
          "execution_count": 86
        }
      ]
    },
    {
      "cell_type": "markdown",
      "source": [
        "#Netflix"
      ],
      "metadata": {
        "id": "GxL7c1yEnBPs"
      }
    },
    {
      "cell_type": "code",
      "source": [
        "knn_model.fit(X1_train, y1_train)"
      ],
      "metadata": {
        "colab": {
          "base_uri": "https://localhost:8080/"
        },
        "id": "-H1LRaiznGo2",
        "outputId": "d3226d47-b7c1-4dc1-d682-2b369313c13f"
      },
      "execution_count": null,
      "outputs": [
        {
          "output_type": "execute_result",
          "data": {
            "text/plain": [
              "KNeighborsClassifier()"
            ]
          },
          "metadata": {},
          "execution_count": 87
        }
      ]
    },
    {
      "cell_type": "code",
      "source": [
        "y1_pred = knn_model.predict(X1_test)"
      ],
      "metadata": {
        "colab": {
          "base_uri": "https://localhost:8080/"
        },
        "id": "30ZA4srynPCK",
        "outputId": "d3373927-c4de-4be9-ca7d-be9c149781a8"
      },
      "execution_count": null,
      "outputs": [
        {
          "output_type": "stream",
          "name": "stderr",
          "text": [
            "/usr/local/lib/python3.8/dist-packages/sklearn/base.py:493: FutureWarning: The feature names should match those that were passed during fit. Starting version 1.2, an error will be raised.\n",
            "Feature names seen at fit time, yet now missing:\n",
            "- Lag 3\n",
            "\n",
            "  warnings.warn(message, FutureWarning)\n"
          ]
        }
      ]
    },
    {
      "cell_type": "code",
      "source": [
        "from sklearn.metrics import confusion_matrix,accuracy_score\n",
        "cm = confusion_matrix(y1_test, y1_pred)\n",
        "ac = accuracy_score(y1_test,y1_pred)"
      ],
      "metadata": {
        "id": "8nyG5tmEnSk1"
      },
      "execution_count": null,
      "outputs": []
    },
    {
      "cell_type": "code",
      "source": [
        "confusion_matrix(y_test,y_pred)"
      ],
      "metadata": {
        "colab": {
          "base_uri": "https://localhost:8080/"
        },
        "id": "GCe_2IbonuOB",
        "outputId": "d3b17806-2b4e-416b-a31f-c087f4febdd5"
      },
      "execution_count": null,
      "outputs": [
        {
          "output_type": "execute_result",
          "data": {
            "text/plain": [
              "array([[48, 66],\n",
              "       [45, 51]])"
            ]
          },
          "metadata": {},
          "execution_count": 90
        }
      ]
    },
    {
      "cell_type": "code",
      "source": [
        "n = precision_score(y1_test, y1_pred)"
      ],
      "metadata": {
        "id": "v5RJ5OK2n1D4"
      },
      "execution_count": null,
      "outputs": []
    },
    {
      "cell_type": "code",
      "source": [
        "precision_score(y1_test, y1_pred)"
      ],
      "metadata": {
        "id": "Uk8cvqdd-a-B",
        "colab": {
          "base_uri": "https://localhost:8080/"
        },
        "outputId": "c079a719-9b11-4352-f7e9-fdb421e841e4"
      },
      "execution_count": null,
      "outputs": [
        {
          "output_type": "execute_result",
          "data": {
            "text/plain": [
              "0.423728813559322"
            ]
          },
          "metadata": {},
          "execution_count": 92
        }
      ]
    },
    {
      "cell_type": "markdown",
      "source": [
        "#Apple"
      ],
      "metadata": {
        "id": "y9v6QSgsn9xG"
      }
    },
    {
      "cell_type": "code",
      "source": [
        "from sklearn.neighbors import KNeighborsClassifier\n",
        "knn_model = KNeighborsClassifier(n_neighbors = 5, metric = 'minkowski', p = 2)\n",
        "knn_model.fit(X2_train, y2_train)"
      ],
      "metadata": {
        "colab": {
          "base_uri": "https://localhost:8080/"
        },
        "id": "uizIcWlUn8Wz",
        "outputId": "d84f267d-8222-4512-c2cd-17ec55ba7de9"
      },
      "execution_count": null,
      "outputs": [
        {
          "output_type": "execute_result",
          "data": {
            "text/plain": [
              "KNeighborsClassifier()"
            ]
          },
          "metadata": {},
          "execution_count": 93
        }
      ]
    },
    {
      "cell_type": "code",
      "source": [
        "y2_pred = knn_model.predict(X2_test)"
      ],
      "metadata": {
        "id": "z8sOdAzEoJCk",
        "colab": {
          "base_uri": "https://localhost:8080/"
        },
        "outputId": "fc4927aa-ed27-4557-8a87-8d9744970c88"
      },
      "execution_count": null,
      "outputs": [
        {
          "output_type": "stream",
          "name": "stderr",
          "text": [
            "/usr/local/lib/python3.8/dist-packages/sklearn/base.py:493: FutureWarning: The feature names should match those that were passed during fit. Starting version 1.2, an error will be raised.\n",
            "Feature names seen at fit time, yet now missing:\n",
            "- Lag 3\n",
            "\n",
            "  warnings.warn(message, FutureWarning)\n"
          ]
        }
      ]
    },
    {
      "cell_type": "code",
      "source": [
        "from sklearn.metrics import confusion_matrix,accuracy_score\n",
        "cm = confusion_matrix(y2_test, y2_pred)\n",
        "ac = accuracy_score(y2_test,y2_pred)"
      ],
      "metadata": {
        "id": "NsSHjmw_oMsJ"
      },
      "execution_count": null,
      "outputs": []
    },
    {
      "cell_type": "code",
      "source": [
        "confusion_matrix(y2_test,y2_pred)"
      ],
      "metadata": {
        "colab": {
          "base_uri": "https://localhost:8080/"
        },
        "id": "yhDUJSfioUH2",
        "outputId": "cd6edfd1-a1a4-408e-f63f-8886470833ca"
      },
      "execution_count": null,
      "outputs": [
        {
          "output_type": "execute_result",
          "data": {
            "text/plain": [
              "array([[49, 60],\n",
              "       [46, 55]])"
            ]
          },
          "metadata": {},
          "execution_count": 96
        }
      ]
    },
    {
      "cell_type": "code",
      "source": [
        "a = precision_score(y2_test, y2_pred)"
      ],
      "metadata": {
        "id": "tX6U_xRGoVef"
      },
      "execution_count": null,
      "outputs": []
    },
    {
      "cell_type": "code",
      "source": [
        "precision_score(y2_test, y2_pred)"
      ],
      "metadata": {
        "id": "3YeV1Fp_-ct6",
        "colab": {
          "base_uri": "https://localhost:8080/"
        },
        "outputId": "ba17ae57-f7e4-46c9-d857-ebad78dcc89d"
      },
      "execution_count": null,
      "outputs": [
        {
          "output_type": "execute_result",
          "data": {
            "text/plain": [
              "0.4782608695652174"
            ]
          },
          "metadata": {},
          "execution_count": 98
        }
      ]
    },
    {
      "cell_type": "markdown",
      "source": [
        "#Tinh chỉnh mô hình KNN"
      ],
      "metadata": {
        "id": "4Waf9KrOokYh"
      }
    },
    {
      "cell_type": "markdown",
      "source": [
        "#Microsoft"
      ],
      "metadata": {
        "id": "Yl5dyg0QUR_M"
      }
    },
    {
      "cell_type": "markdown",
      "source": [
        "## GridSearchCV"
      ],
      "metadata": {
        "id": "nv6hvJKdIlaU"
      }
    },
    {
      "cell_type": "code",
      "source": [
        "from sklearn.model_selection import GridSearchCV\n",
        "parameters = {\"n_neighbors\": range(1, 50)}\n",
        "gridsearch = GridSearchCV(knn_model, parameters)\n",
        "gridsearch.fit(X_train, y_train)"
      ],
      "metadata": {
        "id": "k0MAXK1Soq54",
        "colab": {
          "base_uri": "https://localhost:8080/"
        },
        "outputId": "b62f667b-bc80-4b19-9fb7-03b59b2d9cb5"
      },
      "execution_count": null,
      "outputs": [
        {
          "output_type": "execute_result",
          "data": {
            "text/plain": [
              "GridSearchCV(estimator=KNeighborsClassifier(),\n",
              "             param_grid={'n_neighbors': range(1, 50)})"
            ]
          },
          "metadata": {},
          "execution_count": 99
        }
      ]
    },
    {
      "cell_type": "code",
      "source": [
        "gridsearch.best_params_"
      ],
      "metadata": {
        "colab": {
          "base_uri": "https://localhost:8080/"
        },
        "id": "_NRMK1UxJjIe",
        "outputId": "33dbbdb6-36e6-4eef-9133-0385a6083c3f"
      },
      "execution_count": null,
      "outputs": [
        {
          "output_type": "execute_result",
          "data": {
            "text/plain": [
              "{'n_neighbors': 21}"
            ]
          },
          "metadata": {},
          "execution_count": 100
        }
      ]
    },
    {
      "cell_type": "code",
      "source": [
        "knn_model1 = KNeighborsClassifier(n_neighbors = 21, metric = 'minkowski', p = 2)\n",
        "knn_model1.fit(X_train, y_train)"
      ],
      "metadata": {
        "colab": {
          "base_uri": "https://localhost:8080/"
        },
        "id": "ODd3J6wnLKCx",
        "outputId": "920cc19c-efe0-4ae7-d25a-2eae706da143"
      },
      "execution_count": null,
      "outputs": [
        {
          "output_type": "execute_result",
          "data": {
            "text/plain": [
              "KNeighborsClassifier(n_neighbors=21)"
            ]
          },
          "metadata": {},
          "execution_count": 101
        }
      ]
    },
    {
      "cell_type": "code",
      "source": [
        "y_pred = knn_model1.predict(X_test)"
      ],
      "metadata": {
        "id": "_iIy3nnPRidH"
      },
      "execution_count": null,
      "outputs": []
    },
    {
      "cell_type": "code",
      "source": [
        "m_tc = precision_score(y_test, y_pred)"
      ],
      "metadata": {
        "id": "8A8FOaMx-LnA"
      },
      "execution_count": null,
      "outputs": []
    },
    {
      "cell_type": "code",
      "source": [
        "precision_score(y_test, y_pred)"
      ],
      "metadata": {
        "id": "hwOp-RRt-edg",
        "colab": {
          "base_uri": "https://localhost:8080/"
        },
        "outputId": "f3aa94a0-c5a8-42ae-8a2b-44d9912307fa"
      },
      "execution_count": null,
      "outputs": [
        {
          "output_type": "execute_result",
          "data": {
            "text/plain": [
              "0.45864661654135336"
            ]
          },
          "metadata": {},
          "execution_count": 104
        }
      ]
    },
    {
      "cell_type": "markdown",
      "source": [
        "## Thêm trọng số"
      ],
      "metadata": {
        "id": "K8YabmvLR1pI"
      }
    },
    {
      "cell_type": "code",
      "source": [
        "parameters = {\"n_neighbors\": range(1, 50), \"weights\": [\"uniform\", \"distance\"],}\n",
        "gridsearch = GridSearchCV(knn_model, parameters)\n",
        "gridsearch.fit(X_train, y_train)"
      ],
      "metadata": {
        "colab": {
          "base_uri": "https://localhost:8080/"
        },
        "id": "FgZ98r0JR0Se",
        "outputId": "012c1de9-ba92-46ca-c413-8bf31243cb66"
      },
      "execution_count": null,
      "outputs": [
        {
          "output_type": "execute_result",
          "data": {
            "text/plain": [
              "GridSearchCV(estimator=KNeighborsClassifier(),\n",
              "             param_grid={'n_neighbors': range(1, 50),\n",
              "                         'weights': ['uniform', 'distance']})"
            ]
          },
          "metadata": {},
          "execution_count": 105
        }
      ]
    },
    {
      "cell_type": "code",
      "source": [
        "gridsearch.best_params_"
      ],
      "metadata": {
        "colab": {
          "base_uri": "https://localhost:8080/"
        },
        "id": "NnDbH0jfTCDE",
        "outputId": "f8c5e0e4-f0ff-4c73-cdd7-605d39032dcc"
      },
      "execution_count": null,
      "outputs": [
        {
          "output_type": "execute_result",
          "data": {
            "text/plain": [
              "{'n_neighbors': 21, 'weights': 'distance'}"
            ]
          },
          "metadata": {},
          "execution_count": 106
        }
      ]
    },
    {
      "cell_type": "code",
      "source": [
        "knn_model2 = knn_model1 = KNeighborsClassifier(n_neighbors = 21, metric = 'minkowski', p = 2, weights = 'distance')"
      ],
      "metadata": {
        "id": "BoeJDE-kTF05"
      },
      "execution_count": null,
      "outputs": []
    },
    {
      "cell_type": "code",
      "source": [
        "knn_model2.fit(X_train, y_train)\n",
        "y_pred = knn_model2.predict(X_test)"
      ],
      "metadata": {
        "id": "2JWcIdfFTeEQ"
      },
      "execution_count": null,
      "outputs": []
    },
    {
      "cell_type": "code",
      "source": [
        "m_tc1 = precision_score(y_test, y_pred)"
      ],
      "metadata": {
        "id": "4trnTt4MAVG7"
      },
      "execution_count": null,
      "outputs": []
    },
    {
      "cell_type": "code",
      "source": [
        "precision_score(y_test, y_pred)"
      ],
      "metadata": {
        "id": "uINl7Gv6_Al2",
        "colab": {
          "base_uri": "https://localhost:8080/"
        },
        "outputId": "8d7d2db8-8e23-4654-f074-644e2a1f0341"
      },
      "execution_count": null,
      "outputs": [
        {
          "output_type": "execute_result",
          "data": {
            "text/plain": [
              "0.46923076923076923"
            ]
          },
          "metadata": {},
          "execution_count": 110
        }
      ]
    },
    {
      "cell_type": "markdown",
      "source": [
        "0.43->0.45->0.47"
      ],
      "metadata": {
        "id": "gBpcUk5EUZJd"
      }
    },
    {
      "cell_type": "markdown",
      "source": [
        "#Netflix"
      ],
      "metadata": {
        "id": "6H-xxDfkWl9A"
      }
    },
    {
      "cell_type": "code",
      "source": [
        "knn_model.fit(X1_train, y1_train)"
      ],
      "metadata": {
        "colab": {
          "base_uri": "https://localhost:8080/"
        },
        "id": "iceLcVpIhcp3",
        "outputId": "6d369057-409d-420a-aaed-4679d5bce6b8"
      },
      "execution_count": null,
      "outputs": [
        {
          "output_type": "execute_result",
          "data": {
            "text/plain": [
              "KNeighborsClassifier()"
            ]
          },
          "metadata": {},
          "execution_count": 111
        }
      ]
    },
    {
      "cell_type": "code",
      "source": [
        "y1_pred = knn_model.predict(X1_test)"
      ],
      "metadata": {
        "colab": {
          "base_uri": "https://localhost:8080/"
        },
        "id": "qJ4MKcJahgAK",
        "outputId": "e9e8af24-0112-4c3b-cfc9-5343b48d64e5"
      },
      "execution_count": null,
      "outputs": [
        {
          "output_type": "stream",
          "name": "stderr",
          "text": [
            "/usr/local/lib/python3.8/dist-packages/sklearn/base.py:493: FutureWarning: The feature names should match those that were passed during fit. Starting version 1.2, an error will be raised.\n",
            "Feature names seen at fit time, yet now missing:\n",
            "- Lag 3\n",
            "\n",
            "  warnings.warn(message, FutureWarning)\n"
          ]
        }
      ]
    },
    {
      "cell_type": "code",
      "source": [
        "precision_score(y1_test, y1_pred)"
      ],
      "metadata": {
        "colab": {
          "base_uri": "https://localhost:8080/"
        },
        "id": "T7UAloeUhjRp",
        "outputId": "fcd5db53-3ae9-4535-caf4-f77b14897b59"
      },
      "execution_count": null,
      "outputs": [
        {
          "output_type": "execute_result",
          "data": {
            "text/plain": [
              "0.423728813559322"
            ]
          },
          "metadata": {},
          "execution_count": 113
        }
      ]
    },
    {
      "cell_type": "code",
      "source": [
        "knn_model1.fit(X1_train, y1_train)"
      ],
      "metadata": {
        "colab": {
          "base_uri": "https://localhost:8080/"
        },
        "id": "CEqrBUxONuCx",
        "outputId": "bec1e755-017d-467f-c223-e04f27a8c928"
      },
      "execution_count": null,
      "outputs": [
        {
          "output_type": "execute_result",
          "data": {
            "text/plain": [
              "KNeighborsClassifier(n_neighbors=21, weights='distance')"
            ]
          },
          "metadata": {},
          "execution_count": 114
        }
      ]
    },
    {
      "cell_type": "code",
      "source": [
        "y1_pred = knn_model1.predict(X1_test)"
      ],
      "metadata": {
        "colab": {
          "base_uri": "https://localhost:8080/"
        },
        "id": "2lDNwv-rOqmH",
        "outputId": "264458a6-7850-4262-b308-c2d9c2f7c2c7"
      },
      "execution_count": null,
      "outputs": [
        {
          "output_type": "stream",
          "name": "stderr",
          "text": [
            "/usr/local/lib/python3.8/dist-packages/sklearn/base.py:493: FutureWarning: The feature names should match those that were passed during fit. Starting version 1.2, an error will be raised.\n",
            "Feature names seen at fit time, yet now missing:\n",
            "- Lag 3\n",
            "\n",
            "  warnings.warn(message, FutureWarning)\n"
          ]
        }
      ]
    },
    {
      "cell_type": "code",
      "source": [
        "precision_score(y1_test, y1_pred)"
      ],
      "metadata": {
        "colab": {
          "base_uri": "https://localhost:8080/"
        },
        "id": "GJORoc6JOtT2",
        "outputId": "ef73174b-b969-4ef9-b16b-ffd92e05815a"
      },
      "execution_count": null,
      "outputs": [
        {
          "output_type": "execute_result",
          "data": {
            "text/plain": [
              "0.4806201550387597"
            ]
          },
          "metadata": {},
          "execution_count": 116
        }
      ]
    },
    {
      "cell_type": "code",
      "source": [
        "knn_model2.fit(X1_train, y1_train)"
      ],
      "metadata": {
        "colab": {
          "base_uri": "https://localhost:8080/"
        },
        "id": "z1ZQEvjbWkZh",
        "outputId": "d08c8124-fe97-46f3-9e1a-e2f00688226c"
      },
      "execution_count": null,
      "outputs": [
        {
          "output_type": "execute_result",
          "data": {
            "text/plain": [
              "KNeighborsClassifier(n_neighbors=21, weights='distance')"
            ]
          },
          "metadata": {},
          "execution_count": 117
        }
      ]
    },
    {
      "cell_type": "code",
      "source": [
        "y1_pred = knn_model2.predict(X1_test)\n",
        "n_tc = precision_score(y1_test, y1_pred)"
      ],
      "metadata": {
        "colab": {
          "base_uri": "https://localhost:8080/"
        },
        "id": "htuDG_wqXizp",
        "outputId": "03754527-227b-4281-ecc5-ffa310906635"
      },
      "execution_count": null,
      "outputs": [
        {
          "output_type": "stream",
          "name": "stderr",
          "text": [
            "/usr/local/lib/python3.8/dist-packages/sklearn/base.py:493: FutureWarning: The feature names should match those that were passed during fit. Starting version 1.2, an error will be raised.\n",
            "Feature names seen at fit time, yet now missing:\n",
            "- Lag 3\n",
            "\n",
            "  warnings.warn(message, FutureWarning)\n"
          ]
        }
      ]
    },
    {
      "cell_type": "code",
      "source": [
        "precision_score(y1_test, y1_pred)"
      ],
      "metadata": {
        "id": "hBIq0Wj__QKC",
        "colab": {
          "base_uri": "https://localhost:8080/"
        },
        "outputId": "6d3b8650-437d-43f2-bde6-70e18d750c84"
      },
      "execution_count": null,
      "outputs": [
        {
          "output_type": "execute_result",
          "data": {
            "text/plain": [
              "0.4806201550387597"
            ]
          },
          "metadata": {},
          "execution_count": 119
        }
      ]
    },
    {
      "cell_type": "markdown",
      "source": [
        "#Apple"
      ],
      "metadata": {
        "id": "Pt89FyCnZ9nt"
      }
    },
    {
      "cell_type": "code",
      "source": [
        "knn_model.fit(X2_train, y2_train)\n",
        "y2_pred = knn_model.predict(X2_test)\n",
        "precision_score(y2_test, y2_pred)"
      ],
      "metadata": {
        "colab": {
          "base_uri": "https://localhost:8080/"
        },
        "id": "pSw7rX02h9SM",
        "outputId": "fd2a37c1-446b-4369-d91f-ba4f5ae1f624"
      },
      "execution_count": null,
      "outputs": [
        {
          "output_type": "stream",
          "name": "stderr",
          "text": [
            "/usr/local/lib/python3.8/dist-packages/sklearn/base.py:493: FutureWarning: The feature names should match those that were passed during fit. Starting version 1.2, an error will be raised.\n",
            "Feature names seen at fit time, yet now missing:\n",
            "- Lag 3\n",
            "\n",
            "  warnings.warn(message, FutureWarning)\n"
          ]
        },
        {
          "output_type": "execute_result",
          "data": {
            "text/plain": [
              "0.4782608695652174"
            ]
          },
          "metadata": {},
          "execution_count": 123
        }
      ]
    },
    {
      "cell_type": "code",
      "source": [
        "knn_model1.fit(X2_train, y2_train)\n",
        "y2_pred = knn_model1.predict(X2_test)\n",
        "precision_score(y2_test, y2_pred)"
      ],
      "metadata": {
        "colab": {
          "base_uri": "https://localhost:8080/"
        },
        "id": "s95INQEWiErp",
        "outputId": "34df2f34-454e-437d-a3aa-724d7fc08525"
      },
      "execution_count": null,
      "outputs": [
        {
          "output_type": "stream",
          "name": "stderr",
          "text": [
            "/usr/local/lib/python3.8/dist-packages/sklearn/base.py:493: FutureWarning: The feature names should match those that were passed during fit. Starting version 1.2, an error will be raised.\n",
            "Feature names seen at fit time, yet now missing:\n",
            "- Lag 3\n",
            "\n",
            "  warnings.warn(message, FutureWarning)\n"
          ]
        },
        {
          "output_type": "execute_result",
          "data": {
            "text/plain": [
              "0.5040650406504065"
            ]
          },
          "metadata": {},
          "execution_count": 124
        }
      ]
    },
    {
      "cell_type": "code",
      "source": [
        "knn_model2.fit(X2_train, y2_train)"
      ],
      "metadata": {
        "colab": {
          "base_uri": "https://localhost:8080/"
        },
        "id": "PuE3yKqYaBq2",
        "outputId": "6ea53a99-7e7f-4a5b-819d-61513fd2fc0e"
      },
      "execution_count": null,
      "outputs": [
        {
          "output_type": "execute_result",
          "data": {
            "text/plain": [
              "KNeighborsClassifier(n_neighbors=21, weights='distance')"
            ]
          },
          "metadata": {},
          "execution_count": 125
        }
      ]
    },
    {
      "cell_type": "code",
      "source": [
        "y2_pred = knn_model2.predict(X2_test)\n",
        "a_tc = precision_score(y2_test, y2_pred)"
      ],
      "metadata": {
        "id": "0Muku501aOOw",
        "colab": {
          "base_uri": "https://localhost:8080/"
        },
        "outputId": "b17303a4-5342-47dd-bc73-dacf94e66fd2"
      },
      "execution_count": null,
      "outputs": [
        {
          "output_type": "stream",
          "name": "stderr",
          "text": [
            "/usr/local/lib/python3.8/dist-packages/sklearn/base.py:493: FutureWarning: The feature names should match those that were passed during fit. Starting version 1.2, an error will be raised.\n",
            "Feature names seen at fit time, yet now missing:\n",
            "- Lag 3\n",
            "\n",
            "  warnings.warn(message, FutureWarning)\n"
          ]
        }
      ]
    },
    {
      "cell_type": "code",
      "source": [
        "precision_score(y2_test, y2_pred)"
      ],
      "metadata": {
        "id": "oJy9Ca0A_W5b",
        "colab": {
          "base_uri": "https://localhost:8080/"
        },
        "outputId": "59ae380a-52db-4dea-b76f-9bcfc8a83b1a"
      },
      "execution_count": null,
      "outputs": [
        {
          "output_type": "execute_result",
          "data": {
            "text/plain": [
              "0.5040650406504065"
            ]
          },
          "metadata": {},
          "execution_count": 127
        }
      ]
    }
  ],
  "metadata": {
    "colab": {
      "provenance": [],
      "toc_visible": true,
      "include_colab_link": true
    },
    "kernelspec": {
      "display_name": "Python 3",
      "name": "python3"
    },
    "language_info": {
      "name": "python"
    }
  },
  "nbformat": 4,
  "nbformat_minor": 0
}